{
 "cells": [
  {
   "cell_type": "code",
   "execution_count": 8,
   "metadata": {},
   "outputs": [],
   "source": [
    "import pandas as pd\n",
    "import csv"
   ]
  },
  {
   "cell_type": "markdown",
   "metadata": {},
   "source": [
    "#### Detail Day wise data"
   ]
  },
  {
   "cell_type": "code",
   "execution_count": 2,
   "metadata": {},
   "outputs": [],
   "source": [
    "detail4=pd.read_csv('detail_4.csv',error_bad_lines=False)\n",
    "detail10=pd.read_csv('Detail_10.csv',error_bad_lines=False)\n",
    "detail3=pd.read_csv('Detail_3.csv',error_bad_lines=False)\n",
    "detail6=pd.read_csv('Detail_6.csv',error_bad_lines=False)\n",
    "detail7=pd.read_csv('Detail_7.csv',error_bad_lines=False)\n",
    "detail8=pd.read_csv('Detail_8.csv',error_bad_lines=False)\n",
    "detail2=pd.read_csv('Detail2.csv',error_bad_lines=False)\n",
    "detail5=pd.read_csv('Detail5.csv',error_bad_lines=False)\n"
   ]
  },
  {
   "cell_type": "code",
   "execution_count": 3,
   "metadata": {},
   "outputs": [
    {
     "data": {
      "text/plain": [
       "131072"
      ]
     },
     "execution_count": 3,
     "metadata": {},
     "output_type": "execute_result"
    }
   ],
   "source": [
    "import sys\n",
    "import csv\n",
    "\n",
    "csv.field_size_limit(sys.maxsize)"
   ]
  },
  {
   "cell_type": "code",
   "execution_count": 14,
   "metadata": {},
   "outputs": [
    {
     "data": {
      "text/plain": [
       "(2148720, 9)"
      ]
     },
     "execution_count": 14,
     "metadata": {},
     "output_type": "execute_result"
    }
   ],
   "source": [
    "detail5.shape"
   ]
  },
  {
   "cell_type": "code",
   "execution_count": 4,
   "metadata": {},
   "outputs": [],
   "source": [
    "import csv\n",
    "reader = csv.reader(open(\"detail_4.csv\"))\n",
    "reader1 = csv.reader(open(\"Detail_10.csv\"))\n",
    "reader2 = csv.reader(open(\"Detail_3.csv\"))\n",
    "reader3 = csv.reader(open(\"Detail_6.csv\"))\n",
    "reader4 = csv.reader(open(\"Detail_7.csv\"))\n",
    "reader5 = csv.reader(open(\"Detail_8.csv\"))\n",
    "reader6 = csv.reader(open(\"Detail2.csv\"))\n",
    "reader7 = csv.reader(open(\"Detail5.csv\"))\n",
    "f = open(\"combined4.csv\", \"w+\")\n",
    "writer = csv.writer(f)\n",
    "\n",
    "for row in reader:\n",
    "    writer.writerow(row)\n",
    "for row in reader1:\n",
    "    writer.writerow(row)\n",
    "for row in reader2:\n",
    "    writer.writerow(row)\n",
    "for row in reader3:\n",
    "    writer.writerow(row)\n",
    "for row in reader4:\n",
    "    writer.writerow(row)\n",
    "for row in reader5:\n",
    "    writer.writerow(row)\n",
    "for row in reader6:\n",
    "    writer.writerow(row)\n",
    "for row in reader7:\n",
    "    writer.writerow(row)  \n",
    "    \n",
    "f.close()"
   ]
  },
  {
   "cell_type": "code",
   "execution_count": 5,
   "metadata": {},
   "outputs": [
    {
     "name": "stderr",
     "output_type": "stream",
     "text": [
      "/anaconda3/lib/python3.7/site-packages/IPython/core/interactiveshell.py:3020: DtypeWarning: Columns (0,4,5) have mixed types. Specify dtype option on import or set low_memory=False.\n",
      "  interactivity=interactivity, compiler=compiler, result=result)\n"
     ]
    }
   ],
   "source": [
    "df=pd.read_csv('combined4.csv',error_bad_lines=False)"
   ]
  },
  {
   "cell_type": "code",
   "execution_count": 6,
   "metadata": {},
   "outputs": [
    {
     "data": {
      "text/plain": [
       "(11587878, 9)"
      ]
     },
     "execution_count": 6,
     "metadata": {},
     "output_type": "execute_result"
    }
   ],
   "source": [
    "df.shape"
   ]
  },
  {
   "cell_type": "code",
   "execution_count": 17,
   "metadata": {},
   "outputs": [],
   "source": [
    "import csv\n",
    "reader = csv.reader(open(\"detail_4.csv\"))\n",
    "reader1 = csv.reader(open(\"Detail_10.csv\"))\n",
    "f = open(\"combined.csv\", \"w\")\n",
    "writer = csv.writer(f)\n",
    "\n",
    "for row in reader:\n",
    "    writer.writerow(row)\n",
    "for row in reader1:\n",
    "    writer.writerow(row)\n",
    "f.close()"
   ]
  },
  {
   "cell_type": "code",
   "execution_count": 16,
   "metadata": {},
   "outputs": [
    {
     "data": {
      "text/plain": [
       "131072"
      ]
     },
     "execution_count": 16,
     "metadata": {},
     "output_type": "execute_result"
    }
   ],
   "source": [
    "import sys\n",
    "import csv\n",
    "\n",
    "csv.field_size_limit(sys.maxsize)"
   ]
  },
  {
   "cell_type": "code",
   "execution_count": 14,
   "metadata": {},
   "outputs": [],
   "source": [
    "reader = csv.reader(open(\"detail_4.csv\"))\n"
   ]
  },
  {
   "cell_type": "code",
   "execution_count": 3,
   "metadata": {},
   "outputs": [
    {
     "data": {
      "text/plain": [
       "(2042778, 9)"
      ]
     },
     "execution_count": 3,
     "metadata": {},
     "output_type": "execute_result"
    }
   ],
   "source": [
    "data.shape"
   ]
  },
  {
   "cell_type": "code",
   "execution_count": 4,
   "metadata": {},
   "outputs": [
    {
     "data": {
      "text/plain": [
       "(95051, 9)"
      ]
     },
     "execution_count": 4,
     "metadata": {},
     "output_type": "execute_result"
    }
   ],
   "source": [
    "data1.shape"
   ]
  },
  {
   "cell_type": "code",
   "execution_count": 5,
   "metadata": {},
   "outputs": [
    {
     "data": {
      "text/plain": [
       "(869318, 9)"
      ]
     },
     "execution_count": 5,
     "metadata": {},
     "output_type": "execute_result"
    }
   ],
   "source": [
    "data2.shape"
   ]
  },
  {
   "cell_type": "code",
   "execution_count": 6,
   "metadata": {},
   "outputs": [
    {
     "data": {
      "text/plain": [
       "(2148720, 9)"
      ]
     },
     "execution_count": 6,
     "metadata": {},
     "output_type": "execute_result"
    }
   ],
   "source": [
    "data3.shape"
   ]
  },
  {
   "cell_type": "code",
   "execution_count": 7,
   "metadata": {},
   "outputs": [
    {
     "data": {
      "text/plain": [
       "(166184, 18)"
      ]
     },
     "execution_count": 7,
     "metadata": {},
     "output_type": "execute_result"
    }
   ],
   "source": [
    "data4.shape"
   ]
  },
  {
   "cell_type": "code",
   "execution_count": 8,
   "metadata": {},
   "outputs": [
    {
     "data": {
      "text/plain": [
       "(1613063, 18)"
      ]
     },
     "execution_count": 8,
     "metadata": {},
     "output_type": "execute_result"
    }
   ],
   "source": [
    "data5.shape"
   ]
  },
  {
   "cell_type": "code",
   "execution_count": 9,
   "metadata": {},
   "outputs": [
    {
     "data": {
      "text/plain": [
       "(1480121, 18)"
      ]
     },
     "execution_count": 9,
     "metadata": {},
     "output_type": "execute_result"
    }
   ],
   "source": [
    "data6.shape"
   ]
  },
  {
   "cell_type": "code",
   "execution_count": null,
   "metadata": {},
   "outputs": [],
   "source": [
    "data7.shape"
   ]
  },
  {
   "cell_type": "code",
   "execution_count": 14,
   "metadata": {},
   "outputs": [
    {
     "data": {
      "text/html": [
       "<div>\n",
       "<style scoped>\n",
       "    .dataframe tbody tr th:only-of-type {\n",
       "        vertical-align: middle;\n",
       "    }\n",
       "\n",
       "    .dataframe tbody tr th {\n",
       "        vertical-align: top;\n",
       "    }\n",
       "\n",
       "    .dataframe thead th {\n",
       "        text-align: right;\n",
       "    }\n",
       "</style>\n",
       "<table border=\"1\" class=\"dataframe\">\n",
       "  <thead>\n",
       "    <tr style=\"text-align: right;\">\n",
       "      <th></th>\n",
       "      <th>ctry_name</th>\n",
       "      <th>intgrtd_mngmt_name</th>\n",
       "      <th>intgrtd_operating_team_name</th>\n",
       "      <th>city</th>\n",
       "      <th>st</th>\n",
       "      <th>sec_lvl_domn</th>\n",
       "      <th>device_type</th>\n",
       "      <th>operating_sys</th>\n",
       "      <th>ip_addr</th>\n",
       "      <th>user_agent</th>\n",
       "      <th>VISIT</th>\n",
       "      <th>ENGD_VISIT</th>\n",
       "      <th>VIEWS</th>\n",
       "      <th>page_url</th>\n",
       "      <th>crm_dt</th>\n",
       "      <th>wk</th>\n",
       "      <th>mth</th>\n",
       "      <th>yr</th>\n",
       "    </tr>\n",
       "  </thead>\n",
       "  <tbody>\n",
       "    <tr>\n",
       "      <th>0</th>\n",
       "      <td>United States</td>\n",
       "      <td>United States</td>\n",
       "      <td>North America</td>\n",
       "      <td>CHICAGO</td>\n",
       "      <td>ILLINOIS</td>\n",
       "      <td>SPCSDNS.NET</td>\n",
       "      <td>MOBILEPHONE</td>\n",
       "      <td>IOS_12.3.1</td>\n",
       "      <td>96c6db1243a515f65eac9ca536d23c7ce1ef96beee730a...</td>\n",
       "      <td>MOZILLA/5.0 (IPHONE; CPU IPHONE OS 12_3_1 LIKE...</td>\n",
       "      <td>1</td>\n",
       "      <td>1</td>\n",
       "      <td>1</td>\n",
       "      <td>www.ibm.com/account/reg/us-en/subscribe?formid...</td>\n",
       "      <td>2019-06-04</td>\n",
       "      <td>23</td>\n",
       "      <td>6</td>\n",
       "      <td>2019</td>\n",
       "    </tr>\n",
       "    <tr>\n",
       "      <th>1</th>\n",
       "      <td>United States</td>\n",
       "      <td>United States</td>\n",
       "      <td>North America</td>\n",
       "      <td>TALLAHASSEE</td>\n",
       "      <td>FLORIDA</td>\n",
       "      <td>COMCAST.NET</td>\n",
       "      <td>MOBILEPHONE</td>\n",
       "      <td>ANDROID_9</td>\n",
       "      <td>73418d44fa356a8991a67b3a8ac8913f630fbd107658f5...</td>\n",
       "      <td>MOZILLA/5.0 (LINUX; ANDROID 9; SM-G960U1) APPL...</td>\n",
       "      <td>1</td>\n",
       "      <td>0</td>\n",
       "      <td>1</td>\n",
       "      <td>www.ibm.com/cloud/yourcloud</td>\n",
       "      <td>2019-06-04</td>\n",
       "      <td>23</td>\n",
       "      <td>6</td>\n",
       "      <td>2019</td>\n",
       "    </tr>\n",
       "  </tbody>\n",
       "</table>\n",
       "</div>"
      ],
      "text/plain": [
       "       ctry_name intgrtd_mngmt_name intgrtd_operating_team_name         city  \\\n",
       "0  United States      United States               North America      CHICAGO   \n",
       "1  United States      United States               North America  TALLAHASSEE   \n",
       "\n",
       "         st sec_lvl_domn  device_type operating_sys  \\\n",
       "0  ILLINOIS  SPCSDNS.NET  MOBILEPHONE    IOS_12.3.1   \n",
       "1   FLORIDA  COMCAST.NET  MOBILEPHONE     ANDROID_9   \n",
       "\n",
       "                                             ip_addr  \\\n",
       "0  96c6db1243a515f65eac9ca536d23c7ce1ef96beee730a...   \n",
       "1  73418d44fa356a8991a67b3a8ac8913f630fbd107658f5...   \n",
       "\n",
       "                                          user_agent  VISIT  ENGD_VISIT  \\\n",
       "0  MOZILLA/5.0 (IPHONE; CPU IPHONE OS 12_3_1 LIKE...      1           1   \n",
       "1  MOZILLA/5.0 (LINUX; ANDROID 9; SM-G960U1) APPL...      1           0   \n",
       "\n",
       "   VIEWS                                           page_url      crm_dt  wk  \\\n",
       "0      1  www.ibm.com/account/reg/us-en/subscribe?formid...  2019-06-04  23   \n",
       "1      1                        www.ibm.com/cloud/yourcloud  2019-06-04  23   \n",
       "\n",
       "   mth    yr  \n",
       "0    6  2019  \n",
       "1    6  2019  "
      ]
     },
     "execution_count": 14,
     "metadata": {},
     "output_type": "execute_result"
    }
   ],
   "source": [
    "summary1.head(2)"
   ]
  },
  {
   "cell_type": "markdown",
   "metadata": {},
   "source": [
    "### Aggregated Day wise"
   ]
  },
  {
   "cell_type": "code",
   "execution_count": 31,
   "metadata": {},
   "outputs": [
    {
     "name": "stdout",
     "output_type": "stream",
     "text": [
      "323\n",
      "166184\n"
     ]
    }
   ],
   "source": [
    "sum=0\n",
    "i=0\n",
    "arr=[None]*len(summary2)\n",
    "while i<len(summary2)-1:\n",
    "    i=i+1\n",
    "    if summary2['ip_addr'][i] not in arr:\n",
    "        arr[i]=summary2['ip_addr'][i]\n",
    "    if (summary2['page_url'][i])=='video.ibm.com':\n",
    "        sum+=summary2['VISIT'][i]\n",
    "print(sum)\n",
    "print(len(arr))"
   ]
  },
  {
   "cell_type": "code",
   "execution_count": 5,
   "metadata": {},
   "outputs": [],
   "source": [
    "if data7['sec_lvl_domn'].equals('ENABLER.NE.JP'):\n",
    "    print(data7['VISIT'])"
   ]
  },
  {
   "cell_type": "code",
   "execution_count": 17,
   "metadata": {},
   "outputs": [
    {
     "data": {
      "text/plain": [
       "<pandas.core.groupby.groupby.DataFrameGroupBy object at 0x11cfe4e48>"
      ]
     },
     "execution_count": 17,
     "metadata": {},
     "output_type": "execute_result"
    }
   ],
   "source": [
    "grouped_single = data6.groupby('ip_addr')\n",
    "grouped_single"
   ]
  },
  {
   "cell_type": "code",
   "execution_count": 20,
   "metadata": {},
   "outputs": [
    {
     "data": {
      "text/plain": [
       "461382"
      ]
     },
     "execution_count": 20,
     "metadata": {},
     "output_type": "execute_result"
    }
   ],
   "source": [
    "len(grouped_single)"
   ]
  },
  {
   "cell_type": "code",
   "execution_count": 30,
   "metadata": {},
   "outputs": [],
   "source": [
    "arr=[None]*len(data6)"
   ]
  },
  {
   "cell_type": "code",
   "execution_count": 31,
   "metadata": {},
   "outputs": [
    {
     "data": {
      "text/plain": [
       "1480121"
      ]
     },
     "execution_count": 31,
     "metadata": {},
     "output_type": "execute_result"
    }
   ],
   "source": [
    "len(arr)"
   ]
  },
  {
   "cell_type": "code",
   "execution_count": 4,
   "metadata": {},
   "outputs": [
    {
     "name": "stderr",
     "output_type": "stream",
     "text": [
      "b'Skipping line 603334: expected 18 fields, saw 32\\n'\n",
      "b'Skipping line 1574172: expected 18 fields, saw 32\\n'\n"
     ]
    }
   ],
   "source": [
    "data1 = pd.read_csv('Day_4.csv', error_bad_lines=False)"
   ]
  },
  {
   "cell_type": "code",
   "execution_count": 5,
   "metadata": {},
   "outputs": [
    {
     "data": {
      "text/plain": [
       "(1613063, 18)"
      ]
     },
     "execution_count": 5,
     "metadata": {},
     "output_type": "execute_result"
    }
   ],
   "source": [
    "data1.shape"
   ]
  },
  {
   "cell_type": "code",
   "execution_count": 6,
   "metadata": {},
   "outputs": [
    {
     "data": {
      "text/html": [
       "<div>\n",
       "<style scoped>\n",
       "    .dataframe tbody tr th:only-of-type {\n",
       "        vertical-align: middle;\n",
       "    }\n",
       "\n",
       "    .dataframe tbody tr th {\n",
       "        vertical-align: top;\n",
       "    }\n",
       "\n",
       "    .dataframe thead th {\n",
       "        text-align: right;\n",
       "    }\n",
       "</style>\n",
       "<table border=\"1\" class=\"dataframe\">\n",
       "  <thead>\n",
       "    <tr style=\"text-align: right;\">\n",
       "      <th></th>\n",
       "      <th>urn_daw_visit</th>\n",
       "      <th>page_url</th>\n",
       "      <th>page_vw_ts</th>\n",
       "      <th>page_vw_coremetrics_ts</th>\n",
       "      <th>page_engagemt_type</th>\n",
       "      <th>page_nxt_click_type</th>\n",
       "      <th>ip_addr</th>\n",
       "      <th>sec_lvl_domn</th>\n",
       "      <th>user_agent</th>\n",
       "    </tr>\n",
       "  </thead>\n",
       "  <tbody>\n",
       "    <tr>\n",
       "      <th>0</th>\n",
       "      <td>2019060400000028</td>\n",
       "      <td>www.ibm.com/thought-leadership/smart</td>\n",
       "      <td>2019-06-04 05:05:18.0231</td>\n",
       "      <td>2019-06-04 05:05:22.0000</td>\n",
       "      <td>0.0</td>\n",
       "      <td>0.0</td>\n",
       "      <td>d50d78dba637062a57412d530c64a942ff948e614619a6...</td>\n",
       "      <td>SBCGLOBAL.NET</td>\n",
       "      <td>MOZILLA/5.0 (IPHONE; CPU IPHONE OS 12_3_1 LIKE...</td>\n",
       "    </tr>\n",
       "    <tr>\n",
       "      <th>1</th>\n",
       "      <td>2019060400000036</td>\n",
       "      <td>www-01.ibm.com/procurement/csa/protect/gateway...</td>\n",
       "      <td>2019-06-04 05:07:11.0143</td>\n",
       "      <td>2019-06-04 05:07:14.0000</td>\n",
       "      <td>0.0</td>\n",
       "      <td>0.0</td>\n",
       "      <td>a6aa615ba871ff6c1ed973a5003c7e176070571c72490f...</td>\n",
       "      <td>111-TATAIDC.CO.IN</td>\n",
       "      <td>MOZILLA/5.0 (WINDOWS NT 6.1; RV:67.0) GECKO/20...</td>\n",
       "    </tr>\n",
       "  </tbody>\n",
       "</table>\n",
       "</div>"
      ],
      "text/plain": [
       "      urn_daw_visit                                           page_url  \\\n",
       "0  2019060400000028               www.ibm.com/thought-leadership/smart   \n",
       "1  2019060400000036  www-01.ibm.com/procurement/csa/protect/gateway...   \n",
       "\n",
       "                 page_vw_ts    page_vw_coremetrics_ts  page_engagemt_type  \\\n",
       "0  2019-06-04 05:05:18.0231  2019-06-04 05:05:22.0000                 0.0   \n",
       "1  2019-06-04 05:07:11.0143  2019-06-04 05:07:14.0000                 0.0   \n",
       "\n",
       "   page_nxt_click_type                                            ip_addr  \\\n",
       "0                  0.0  d50d78dba637062a57412d530c64a942ff948e614619a6...   \n",
       "1                  0.0  a6aa615ba871ff6c1ed973a5003c7e176070571c72490f...   \n",
       "\n",
       "        sec_lvl_domn                                         user_agent  \n",
       "0      SBCGLOBAL.NET  MOZILLA/5.0 (IPHONE; CPU IPHONE OS 12_3_1 LIKE...  \n",
       "1  111-TATAIDC.CO.IN  MOZILLA/5.0 (WINDOWS NT 6.1; RV:67.0) GECKO/20...  "
      ]
     },
     "execution_count": 6,
     "metadata": {},
     "output_type": "execute_result"
    }
   ],
   "source": [
    "data.head(2)"
   ]
  },
  {
   "cell_type": "code",
   "execution_count": 21,
   "metadata": {},
   "outputs": [
    {
     "data": {
      "text/html": [
       "<div>\n",
       "<style scoped>\n",
       "    .dataframe tbody tr th:only-of-type {\n",
       "        vertical-align: middle;\n",
       "    }\n",
       "\n",
       "    .dataframe tbody tr th {\n",
       "        vertical-align: top;\n",
       "    }\n",
       "\n",
       "    .dataframe thead th {\n",
       "        text-align: right;\n",
       "    }\n",
       "</style>\n",
       "<table border=\"1\" class=\"dataframe\">\n",
       "  <thead>\n",
       "    <tr style=\"text-align: right;\">\n",
       "      <th></th>\n",
       "      <th>ctry_name</th>\n",
       "      <th>intgrtd_mngmt_name</th>\n",
       "      <th>intgrtd_operating_team_name</th>\n",
       "      <th>city</th>\n",
       "      <th>st</th>\n",
       "      <th>sec_lvl_domn</th>\n",
       "      <th>device_type</th>\n",
       "      <th>operating_sys</th>\n",
       "      <th>ip_addr</th>\n",
       "      <th>user_agent</th>\n",
       "      <th>VISIT</th>\n",
       "      <th>ENGD_VISIT</th>\n",
       "      <th>VIEWS</th>\n",
       "      <th>page_url</th>\n",
       "      <th>crm_dt</th>\n",
       "      <th>wk</th>\n",
       "      <th>mth</th>\n",
       "      <th>yr</th>\n",
       "    </tr>\n",
       "  </thead>\n",
       "  <tbody>\n",
       "    <tr>\n",
       "      <th>0</th>\n",
       "      <td>United States</td>\n",
       "      <td>United States</td>\n",
       "      <td>North America</td>\n",
       "      <td>SACRAMENTO</td>\n",
       "      <td>CALIFORNIA</td>\n",
       "      <td>COMCASTBUSINESS.NET</td>\n",
       "      <td>MOBILEPHONE</td>\n",
       "      <td>IOS_12.2</td>\n",
       "      <td>5c54a0b8d9f6540274f88535dba23803a09520ba6aa836...</td>\n",
       "      <td>MOZILLA/5.0 (IPHONE; CPU IPHONE OS 12_2 LIKE M...</td>\n",
       "      <td>1</td>\n",
       "      <td>0</td>\n",
       "      <td>1</td>\n",
       "      <td>www.ibm.com/thought-leadership/smart</td>\n",
       "      <td>2019-06-10</td>\n",
       "      <td>24.0</td>\n",
       "      <td>6.0</td>\n",
       "      <td>2019.0</td>\n",
       "    </tr>\n",
       "    <tr>\n",
       "      <th>1</th>\n",
       "      <td>Egypt</td>\n",
       "      <td>Middle East &amp; Africa</td>\n",
       "      <td>Middle East &amp; Africa</td>\n",
       "      <td>AL JIZAH</td>\n",
       "      <td>AL JIZAH</td>\n",
       "      <td>TEDATA.NET</td>\n",
       "      <td>MOBILEPHONE</td>\n",
       "      <td>ANDROID_5.1</td>\n",
       "      <td>d213d4a4a24e1159b7d697661c3f43fe7c22b944234bb4...</td>\n",
       "      <td>MOZILLA/5.0 (LINUX; ANDROID 5.1; HUAWEI CUN-L2...</td>\n",
       "      <td>1</td>\n",
       "      <td>1</td>\n",
       "      <td>2</td>\n",
       "      <td>developer.ibm.com/africa</td>\n",
       "      <td>2019-06-10</td>\n",
       "      <td>24.0</td>\n",
       "      <td>6.0</td>\n",
       "      <td>2019.0</td>\n",
       "    </tr>\n",
       "  </tbody>\n",
       "</table>\n",
       "</div>"
      ],
      "text/plain": [
       "       ctry_name    intgrtd_mngmt_name intgrtd_operating_team_name  \\\n",
       "0  United States         United States               North America   \n",
       "1          Egypt  Middle East & Africa        Middle East & Africa   \n",
       "\n",
       "         city          st         sec_lvl_domn  device_type operating_sys  \\\n",
       "0  SACRAMENTO  CALIFORNIA  COMCASTBUSINESS.NET  MOBILEPHONE      IOS_12.2   \n",
       "1    AL JIZAH    AL JIZAH           TEDATA.NET  MOBILEPHONE   ANDROID_5.1   \n",
       "\n",
       "                                             ip_addr  \\\n",
       "0  5c54a0b8d9f6540274f88535dba23803a09520ba6aa836...   \n",
       "1  d213d4a4a24e1159b7d697661c3f43fe7c22b944234bb4...   \n",
       "\n",
       "                                          user_agent  VISIT  ENGD_VISIT  \\\n",
       "0  MOZILLA/5.0 (IPHONE; CPU IPHONE OS 12_2 LIKE M...      1           0   \n",
       "1  MOZILLA/5.0 (LINUX; ANDROID 5.1; HUAWEI CUN-L2...      1           1   \n",
       "\n",
       "   VIEWS                              page_url      crm_dt    wk  mth      yr  \n",
       "0      1  www.ibm.com/thought-leadership/smart  2019-06-10  24.0  6.0  2019.0  \n",
       "1      2              developer.ibm.com/africa  2019-06-10  24.0  6.0  2019.0  "
      ]
     },
     "execution_count": 21,
     "metadata": {},
     "output_type": "execute_result"
    }
   ],
   "source": [
    "summary2.head(2)"
   ]
  },
  {
   "cell_type": "code",
   "execution_count": 8,
   "metadata": {},
   "outputs": [
    {
     "ename": "NameError",
     "evalue": "name 'df2' is not defined",
     "output_type": "error",
     "traceback": [
      "\u001b[0;31m---------------------------------------------------------------------------\u001b[0m",
      "\u001b[0;31mNameError\u001b[0m                                 Traceback (most recent call last)",
      "\u001b[0;32m<ipython-input-8-9bbb31a205af>\u001b[0m in \u001b[0;36m<module>\u001b[0;34m\u001b[0m\n\u001b[0;32m----> 1\u001b[0;31m \u001b[0mprint\u001b[0m \u001b[0;34m(\u001b[0m\u001b[0mpd\u001b[0m\u001b[0;34m.\u001b[0m\u001b[0mmerge\u001b[0m\u001b[0;34m(\u001b[0m\u001b[0mdata\u001b[0m\u001b[0;34m,\u001b[0m \u001b[0mdf2\u001b[0m\u001b[0;34m.\u001b[0m\u001b[0mrename\u001b[0m\u001b[0;34m(\u001b[0m\u001b[0mcolumns\u001b[0m\u001b[0;34m=\u001b[0m\u001b[0;34m{\u001b[0m\u001b[0;34m'id1'\u001b[0m\u001b[0;34m:\u001b[0m\u001b[0;34m'id'\u001b[0m\u001b[0;34m}\u001b[0m\u001b[0;34m)\u001b[0m\u001b[0;34m,\u001b[0m \u001b[0mon\u001b[0m\u001b[0;34m=\u001b[0m\u001b[0;34m'id'\u001b[0m\u001b[0;34m,\u001b[0m  \u001b[0mhow\u001b[0m\u001b[0;34m=\u001b[0m\u001b[0;34m'left'\u001b[0m\u001b[0;34m)\u001b[0m\u001b[0;34m)\u001b[0m\u001b[0;34m\u001b[0m\u001b[0;34m\u001b[0m\u001b[0m\n\u001b[0m",
      "\u001b[0;31mNameError\u001b[0m: name 'df2' is not defined"
     ]
    }
   ],
   "source": [
    "#print (pd.merge(data, df2.rename(columns={'id1':'id'}), on='id',  how='left'))"
   ]
  },
  {
   "cell_type": "code",
   "execution_count": null,
   "metadata": {},
   "outputs": [],
   "source": [
    "data.merge(data1, on='ip_addr',  how='outer')"
   ]
  },
  {
   "cell_type": "code",
   "execution_count": 8,
   "metadata": {},
   "outputs": [],
   "source": [
    "n= ''"
   ]
  },
  {
   "cell_type": "code",
   "execution_count": 9,
   "metadata": {},
   "outputs": [],
   "source": [
    "if n is :\n",
    "    print(\"e\")"
   ]
  },
  {
   "cell_type": "code",
   "execution_count": 29,
   "metadata": {},
   "outputs": [
    {
     "data": {
      "text/plain": [
       "141       6276f4fd1f337a4753254da630b60820a7788062d866be...\n",
       "639       9e15851cd4caa7a3f8fd47a8452f100fa07f73bab1e4d7...\n",
       "950       b8b6ea116ba4f0e315f29fe0bf3d6f94840c663452eb6d...\n",
       "1151      bbfcd3888be7c2d881b2532948aad53c87c9dd37366094...\n",
       "1289      34f124fbc9b9515c3a2c933373cb289c23b4e1ae9cbdcb...\n",
       "1834      75bf8dc5bef68c613fdf29927d2dd3c84fef4764c95cdb...\n",
       "2539      5719e0efd44218c684152fd2e5aa339091609769d922ad...\n",
       "4145      4e4b1b9924ba80b694e1efba15aeb5db8d11eaa7c36ce2...\n",
       "4309      055a9e755c2c0dbc708ed9cc7f32cda0ef4a07313d00a4...\n",
       "5631      b894a934ff5ff935144c8fca02e37e2a2249da37e4a996...\n",
       "6348      0163a563c09ef31b1ffe6244b5661c0b302a9caa4af0b5...\n",
       "6978      11ccb720d879715d34676a60bd02df6e09cb32ffe49d1b...\n",
       "7169      13e402bfe01e3dfda87549870b4e7bca6519dccb7f9467...\n",
       "7640      c9fb1ab1ce7ad8574fffa730c50809dda7b03fd8f20c02...\n",
       "7971      56106832ad4a5bc7d51bd13aa346daf78127994acca49a...\n",
       "9407      18739484ac39c3f83af77cacfba6b10ac80361473c937c...\n",
       "10749     ede4ad599ba3bcb7efbf558f2f8c7cd878a8bc157bfbab...\n",
       "11863     ef8b70dd72054a8eda798d576dd6444e7cb54bd3dd8987...\n",
       "12050     c13c5f454a0d9b4a2177e010ac09a651ffe7b6af030cb3...\n",
       "14394     f946551adfad57bb7bae95e8102f2fa1923192fdd4539e...\n",
       "16007     fddeffc2a4c923ca831e4fdb3ca9163fa358545b2ef021...\n",
       "16596     debfbe14125f28a40d30284b7d1725e8f2b2d966c8918e...\n",
       "17066     48aa8c1660b8b8c7b40534c668d1265b61be5d1ae56ee0...\n",
       "17461     95e06685caf7a9c3e02d22d3341357d5e9908e518fa0e8...\n",
       "17484     c97b6442c9ec03aef353cca38f118411a93b8452a8a214...\n",
       "17915     29d698dba9646bbd8ac76813dd6484042c3dd0c7a60e20...\n",
       "19788     77cb156d6e7eac146f24c8049c212e9521ec4959588e1f...\n",
       "20246     f761215796d3a71f7d190abccd3787825238cf13aec70a...\n",
       "20889     6f4fcd09c895d22f3b2cbd1b87bd2c196f273430d78468...\n",
       "22289     224d6224a18ef9c10bad26881cac3b4b8f058a54919474...\n",
       "                                ...                        \n",
       "142480    21218c8deb7b913e2dcb64b542e62fa950ae4309044812...\n",
       "142715    dc9f3304c541cc6659ec3b9d4bc9d5a89f53543598267f...\n",
       "143623    cfa1c7f08a51a2815c15d06c69907d3a2a3ff1a0999476...\n",
       "144075    f64b57a3730ffe9ae448b0cbc8050ce5f22f63b33e2771...\n",
       "146005    f64b57a3730ffe9ae448b0cbc8050ce5f22f63b33e2771...\n",
       "146112    568e8b31e71495f3a9dc83023d394d6c70ef7922d09732...\n",
       "146992    e66dedd1d20027e61455db6126a2445e586e5f88ae55af...\n",
       "148269    b02e179734b58e02acd3ff930e7caa932c19d0c1eab242...\n",
       "148278    f2e94bcb69e04d8a499fdecd5e486909cfd21b84d9b09d...\n",
       "148756    7b2840a83d4c146747bb27d0cf13ec17664e2ee8b86f8c...\n",
       "149567    41d45b4b31436a519b27d4cfc3d2aea36926c164687aba...\n",
       "150204    c69068900bcceb54a75808f8883e2bfe27b6ab23b6d78e...\n",
       "150886    f3304bcdb3c526dc3b32630f02e52020515968487f737e...\n",
       "151231    3d14eeb51003ce50f2148e006f731d9850ae96ebc22a9a...\n",
       "151881    f19eff730b064bbd5730ddad38174cfb08e7354f05c51b...\n",
       "152211    7e4ad533f53d1d05631970b5747bc6afc53c27cf2fc704...\n",
       "152746    ed05c92804dd52511fdd04ddc6adbfdd0121547218f63a...\n",
       "152820    e9d3cf3755e63b30ce4c7b9f30229508a5d03e711a40aa...\n",
       "155058    0d057099c07b5572d524e22afc400b34233b858b1bcc07...\n",
       "155744    535bdd612a236ce45e4981397289d85bf5f835af11f5b8...\n",
       "155926    bac9c94706195e4725cef733e01d71198b75e37905ca1e...\n",
       "156769    419984a72ea9a619aac3676ab0d7d2b2d0a617c7f7b0d0...\n",
       "157264    880d9d3548de2cfcc7ab269e957208edb00d118138d678...\n",
       "158857    a6f54e53c1f6c2b654b76ecfee80af05320899808db4a2...\n",
       "160122    6aba948adc36f73fffc765e9fcf58ba23fca22dd288443...\n",
       "161763    588230648e9633d89b44684fa72ee47bbbe89c8e0636e4...\n",
       "162757    4accdde1c1afcabb6cc0c2f03c2ad0bd79a28ff0ce4e88...\n",
       "164244    9655a6ae27222b05d37b7e8ae120f2fe81c784ee10e252...\n",
       "165806    c304db1b70a2901299dca6623301e40bfc2f73d0053f88...\n",
       "165978    37d25ce6fd7b9d87fd6350865dff299357ca095e6940ba...\n",
       "Name: ip_addr, Length: 242, dtype: object"
      ]
     },
     "execution_count": 29,
     "metadata": {},
     "output_type": "execute_result"
    }
   ],
   "source": [
    "a=summary2[summary2.page_url == 'video.ibm.com'].ip_addr\n",
    "a"
   ]
  },
  {
   "cell_type": "code",
   "execution_count": 30,
   "metadata": {},
   "outputs": [
    {
     "data": {
      "text/plain": [
       "141              CABLECOLOR.HN\n",
       "639         DEDICATEDPANEL.COM\n",
       "950                        NaN\n",
       "1151                       NaN\n",
       "1289              GIGATRANS.UA\n",
       "1834            WINDSTREAM.NET\n",
       "2539               BRESNAN.NET\n",
       "4145                       NaN\n",
       "4309                       NaN\n",
       "5631                       NaN\n",
       "6348                       NaN\n",
       "6978          INSARARAS.COM.BR\n",
       "7169                TELEKOM.RS\n",
       "7640                    RR.COM\n",
       "7971                  2IIJ.NET\n",
       "9407              SO-NET.NE.JP\n",
       "10749            ONLINE.COM.KH\n",
       "11863        NOVACHARTERING.IT\n",
       "12050                  ONLY.FR\n",
       "14394             SPECTRUM.COM\n",
       "16007                      NaN\n",
       "16596                      NaN\n",
       "17066                ICPNET.PL\n",
       "17461                OCN.NE.JP\n",
       "17484                      NaN\n",
       "17915                      NaN\n",
       "19788                UCT.AC.ZA\n",
       "20246              NTTPC.NE.JP\n",
       "20889          BIT-DRIVE.NE.JP\n",
       "22289                   NET.GT\n",
       "                  ...         \n",
       "142480    PALOALTONETWORKS.COM\n",
       "142715        CENTROESTERO.ORG\n",
       "143623            COGENTCO.COM\n",
       "144075      DEDICATEDPANEL.COM\n",
       "146005      DEDICATEDPANEL.COM\n",
       "146112                     NaN\n",
       "146992     COMCASTBUSINESS.NET\n",
       "148269               CAM.AC.UK\n",
       "148278               OCN.NE.JP\n",
       "148756           SHAWCABLE.NET\n",
       "149567            CABLE.NET.CO\n",
       "150204         ELISA-MOBILE.FI\n",
       "150886                     NaN\n",
       "151231                     NaN\n",
       "151881             COMCAST.NET\n",
       "152211               AXTEL.NET\n",
       "152746         MULTIDATAHN.NET\n",
       "152820                     NaN\n",
       "155058                     NaN\n",
       "155744             EONET.NE.JP\n",
       "155926                     NaN\n",
       "156769     COMCASTBUSINESS.NET\n",
       "157264                 ATT.NET\n",
       "158857                     NaN\n",
       "160122              UCOM.NE.JP\n",
       "161763            SO-NET.NE.JP\n",
       "162757                     NaN\n",
       "164244                     NaN\n",
       "165806               M-ZONE.JP\n",
       "165978          TRANSTELCO.NET\n",
       "Name: sec_lvl_domn, Length: 242, dtype: object"
      ]
     },
     "execution_count": 30,
     "metadata": {},
     "output_type": "execute_result"
    }
   ],
   "source": [
    "b= summary2[summary2.page_url == 'video.ibm.com'].sec_lvl_domn\n",
    "b"
   ]
  },
  {
   "cell_type": "code",
   "execution_count": 28,
   "metadata": {},
   "outputs": [
    {
     "ename": "KeyError",
     "evalue": "'b'",
     "output_type": "error",
     "traceback": [
      "\u001b[0;31m---------------------------------------------------------------------------\u001b[0m",
      "\u001b[0;31mKeyError\u001b[0m                                  Traceback (most recent call last)",
      "\u001b[0;32m<ipython-input-28-486ac1d4a661>\u001b[0m in \u001b[0;36m<module>\u001b[0;34m\u001b[0m\n\u001b[0;32m----> 1\u001b[0;31m \u001b[0mgrouped_single\u001b[0m \u001b[0;34m=\u001b[0m \u001b[0ma\u001b[0m\u001b[0;34m.\u001b[0m\u001b[0mgroupby\u001b[0m\u001b[0;34m(\u001b[0m\u001b[0;34m'b'\u001b[0m\u001b[0;34m)\u001b[0m\u001b[0;34m\u001b[0m\u001b[0;34m\u001b[0m\u001b[0m\n\u001b[0m",
      "\u001b[0;32m/anaconda3/lib/python3.7/site-packages/pandas/core/generic.py\u001b[0m in \u001b[0;36mgroupby\u001b[0;34m(self, by, axis, level, as_index, sort, group_keys, squeeze, observed, **kwargs)\u001b[0m\n\u001b[1;32m   6663\u001b[0m         return groupby(self, by=by, axis=axis, level=level, as_index=as_index,\n\u001b[1;32m   6664\u001b[0m                        \u001b[0msort\u001b[0m\u001b[0;34m=\u001b[0m\u001b[0msort\u001b[0m\u001b[0;34m,\u001b[0m \u001b[0mgroup_keys\u001b[0m\u001b[0;34m=\u001b[0m\u001b[0mgroup_keys\u001b[0m\u001b[0;34m,\u001b[0m \u001b[0msqueeze\u001b[0m\u001b[0;34m=\u001b[0m\u001b[0msqueeze\u001b[0m\u001b[0;34m,\u001b[0m\u001b[0;34m\u001b[0m\u001b[0;34m\u001b[0m\u001b[0m\n\u001b[0;32m-> 6665\u001b[0;31m                        observed=observed, **kwargs)\n\u001b[0m\u001b[1;32m   6666\u001b[0m \u001b[0;34m\u001b[0m\u001b[0m\n\u001b[1;32m   6667\u001b[0m     def asfreq(self, freq, method=None, how=None, normalize=False,\n",
      "\u001b[0;32m/anaconda3/lib/python3.7/site-packages/pandas/core/groupby/groupby.py\u001b[0m in \u001b[0;36mgroupby\u001b[0;34m(obj, by, **kwds)\u001b[0m\n\u001b[1;32m   2150\u001b[0m         \u001b[0;32mraise\u001b[0m \u001b[0mTypeError\u001b[0m\u001b[0;34m(\u001b[0m\u001b[0;34m'invalid type: %s'\u001b[0m \u001b[0;34m%\u001b[0m \u001b[0mtype\u001b[0m\u001b[0;34m(\u001b[0m\u001b[0mobj\u001b[0m\u001b[0;34m)\u001b[0m\u001b[0;34m)\u001b[0m\u001b[0;34m\u001b[0m\u001b[0;34m\u001b[0m\u001b[0m\n\u001b[1;32m   2151\u001b[0m \u001b[0;34m\u001b[0m\u001b[0m\n\u001b[0;32m-> 2152\u001b[0;31m     \u001b[0;32mreturn\u001b[0m \u001b[0mklass\u001b[0m\u001b[0;34m(\u001b[0m\u001b[0mobj\u001b[0m\u001b[0;34m,\u001b[0m \u001b[0mby\u001b[0m\u001b[0;34m,\u001b[0m \u001b[0;34m**\u001b[0m\u001b[0mkwds\u001b[0m\u001b[0;34m)\u001b[0m\u001b[0;34m\u001b[0m\u001b[0;34m\u001b[0m\u001b[0m\n\u001b[0m\u001b[1;32m   2153\u001b[0m \u001b[0;34m\u001b[0m\u001b[0m\n\u001b[1;32m   2154\u001b[0m \u001b[0;34m\u001b[0m\u001b[0m\n",
      "\u001b[0;32m/anaconda3/lib/python3.7/site-packages/pandas/core/groupby/groupby.py\u001b[0m in \u001b[0;36m__init__\u001b[0;34m(self, obj, keys, axis, level, grouper, exclusions, selection, as_index, sort, group_keys, squeeze, observed, **kwargs)\u001b[0m\n\u001b[1;32m    597\u001b[0m                                                     \u001b[0msort\u001b[0m\u001b[0;34m=\u001b[0m\u001b[0msort\u001b[0m\u001b[0;34m,\u001b[0m\u001b[0;34m\u001b[0m\u001b[0;34m\u001b[0m\u001b[0m\n\u001b[1;32m    598\u001b[0m                                                     \u001b[0mobserved\u001b[0m\u001b[0;34m=\u001b[0m\u001b[0mobserved\u001b[0m\u001b[0;34m,\u001b[0m\u001b[0;34m\u001b[0m\u001b[0;34m\u001b[0m\u001b[0m\n\u001b[0;32m--> 599\u001b[0;31m                                                     mutated=self.mutated)\n\u001b[0m\u001b[1;32m    600\u001b[0m \u001b[0;34m\u001b[0m\u001b[0m\n\u001b[1;32m    601\u001b[0m         \u001b[0mself\u001b[0m\u001b[0;34m.\u001b[0m\u001b[0mobj\u001b[0m \u001b[0;34m=\u001b[0m \u001b[0mobj\u001b[0m\u001b[0;34m\u001b[0m\u001b[0;34m\u001b[0m\u001b[0m\n",
      "\u001b[0;32m/anaconda3/lib/python3.7/site-packages/pandas/core/groupby/groupby.py\u001b[0m in \u001b[0;36m_get_grouper\u001b[0;34m(obj, key, axis, level, sort, observed, mutated, validate)\u001b[0m\n\u001b[1;32m   3289\u001b[0m                 \u001b[0min_axis\u001b[0m\u001b[0;34m,\u001b[0m \u001b[0mname\u001b[0m\u001b[0;34m,\u001b[0m \u001b[0mlevel\u001b[0m\u001b[0;34m,\u001b[0m \u001b[0mgpr\u001b[0m \u001b[0;34m=\u001b[0m \u001b[0;32mFalse\u001b[0m\u001b[0;34m,\u001b[0m \u001b[0;32mNone\u001b[0m\u001b[0;34m,\u001b[0m \u001b[0mgpr\u001b[0m\u001b[0;34m,\u001b[0m \u001b[0;32mNone\u001b[0m\u001b[0;34m\u001b[0m\u001b[0;34m\u001b[0m\u001b[0m\n\u001b[1;32m   3290\u001b[0m             \u001b[0;32melse\u001b[0m\u001b[0;34m:\u001b[0m\u001b[0;34m\u001b[0m\u001b[0;34m\u001b[0m\u001b[0m\n\u001b[0;32m-> 3291\u001b[0;31m                 \u001b[0;32mraise\u001b[0m \u001b[0mKeyError\u001b[0m\u001b[0;34m(\u001b[0m\u001b[0mgpr\u001b[0m\u001b[0;34m)\u001b[0m\u001b[0;34m\u001b[0m\u001b[0;34m\u001b[0m\u001b[0m\n\u001b[0m\u001b[1;32m   3292\u001b[0m         \u001b[0;32melif\u001b[0m \u001b[0misinstance\u001b[0m\u001b[0;34m(\u001b[0m\u001b[0mgpr\u001b[0m\u001b[0;34m,\u001b[0m \u001b[0mGrouper\u001b[0m\u001b[0;34m)\u001b[0m \u001b[0;32mand\u001b[0m \u001b[0mgpr\u001b[0m\u001b[0;34m.\u001b[0m\u001b[0mkey\u001b[0m \u001b[0;32mis\u001b[0m \u001b[0;32mnot\u001b[0m \u001b[0;32mNone\u001b[0m\u001b[0;34m:\u001b[0m\u001b[0;34m\u001b[0m\u001b[0;34m\u001b[0m\u001b[0m\n\u001b[1;32m   3293\u001b[0m             \u001b[0;31m# Add key to exclusions\u001b[0m\u001b[0;34m\u001b[0m\u001b[0;34m\u001b[0m\u001b[0;34m\u001b[0m\u001b[0m\n",
      "\u001b[0;31mKeyError\u001b[0m: 'b'"
     ]
    }
   ],
   "source": []
  },
  {
   "cell_type": "code",
   "execution_count": 9,
   "metadata": {},
   "outputs": [],
   "source": [
    "\n",
    "bot_ip=pd.read_csv('bot_ip.csv',error_bad_lines=False)\n",
    "\n"
   ]
  },
  {
   "cell_type": "code",
   "execution_count": 10,
   "metadata": {},
   "outputs": [
    {
     "data": {
      "text/html": [
       "<div>\n",
       "<style scoped>\n",
       "    .dataframe tbody tr th:only-of-type {\n",
       "        vertical-align: middle;\n",
       "    }\n",
       "\n",
       "    .dataframe tbody tr th {\n",
       "        vertical-align: top;\n",
       "    }\n",
       "\n",
       "    .dataframe thead th {\n",
       "        text-align: right;\n",
       "    }\n",
       "</style>\n",
       "<table border=\"1\" class=\"dataframe\">\n",
       "  <thead>\n",
       "    <tr style=\"text-align: right;\">\n",
       "      <th></th>\n",
       "      <th>ctry_name</th>\n",
       "      <th>intgrtd_mngmt_name</th>\n",
       "      <th>intgrtd_operating_team_name</th>\n",
       "      <th>city</th>\n",
       "      <th>st</th>\n",
       "      <th>sec_lvl_domn</th>\n",
       "      <th>device_type</th>\n",
       "      <th>operating_sys</th>\n",
       "      <th>ip_addr</th>\n",
       "      <th>0_hour</th>\n",
       "      <th>...</th>\n",
       "      <th>19_hour</th>\n",
       "      <th>20_hour</th>\n",
       "      <th>21_hour</th>\n",
       "      <th>22_hour</th>\n",
       "      <th>23_hour</th>\n",
       "      <th>hour_avg</th>\n",
       "      <th>daily_avg</th>\n",
       "      <th>avg_bounce_rate</th>\n",
       "      <th>date</th>\n",
       "      <th>bot_prob</th>\n",
       "    </tr>\n",
       "  </thead>\n",
       "  <tbody>\n",
       "    <tr>\n",
       "      <th>0</th>\n",
       "      <td>United States</td>\n",
       "      <td>United States</td>\n",
       "      <td>North America</td>\n",
       "      <td>DENVER</td>\n",
       "      <td>COLORADO</td>\n",
       "      <td>unkown_domain</td>\n",
       "      <td>unkown_device</td>\n",
       "      <td>LINUX</td>\n",
       "      <td>dc7d70b03fbafb8f30c5f1b30b8bb03a94d341716e7c2e...</td>\n",
       "      <td>6</td>\n",
       "      <td>...</td>\n",
       "      <td>6</td>\n",
       "      <td>6</td>\n",
       "      <td>6</td>\n",
       "      <td>6</td>\n",
       "      <td>6</td>\n",
       "      <td>6.0</td>\n",
       "      <td>144</td>\n",
       "      <td>100.0</td>\n",
       "      <td>2019-06-10</td>\n",
       "      <td>0.35</td>\n",
       "    </tr>\n",
       "    <tr>\n",
       "      <th>1</th>\n",
       "      <td>United States</td>\n",
       "      <td>United States</td>\n",
       "      <td>North America</td>\n",
       "      <td>ATLANTA</td>\n",
       "      <td>GEORGIA</td>\n",
       "      <td>BILLBLOG23.COM</td>\n",
       "      <td>unkown_device</td>\n",
       "      <td>LINUX</td>\n",
       "      <td>caa26cacb9db0c493fdcd09c03e970079e561f26e4e6d7...</td>\n",
       "      <td>12</td>\n",
       "      <td>...</td>\n",
       "      <td>12</td>\n",
       "      <td>12</td>\n",
       "      <td>12</td>\n",
       "      <td>12</td>\n",
       "      <td>12</td>\n",
       "      <td>12.0</td>\n",
       "      <td>288</td>\n",
       "      <td>100.0</td>\n",
       "      <td>2019-06-10</td>\n",
       "      <td>0.50</td>\n",
       "    </tr>\n",
       "    <tr>\n",
       "      <th>2</th>\n",
       "      <td>United States</td>\n",
       "      <td>United States</td>\n",
       "      <td>North America</td>\n",
       "      <td>ASHBURN</td>\n",
       "      <td>VIRGINIA</td>\n",
       "      <td>DOULIKE.COM</td>\n",
       "      <td>unkown_device</td>\n",
       "      <td>LINUX</td>\n",
       "      <td>6133fa88eeeca4bb28e3be7b416793228fcdb3638d4aff...</td>\n",
       "      <td>12</td>\n",
       "      <td>...</td>\n",
       "      <td>12</td>\n",
       "      <td>12</td>\n",
       "      <td>12</td>\n",
       "      <td>12</td>\n",
       "      <td>12</td>\n",
       "      <td>12.0</td>\n",
       "      <td>288</td>\n",
       "      <td>100.0</td>\n",
       "      <td>2019-06-10</td>\n",
       "      <td>0.35</td>\n",
       "    </tr>\n",
       "    <tr>\n",
       "      <th>3</th>\n",
       "      <td>United States</td>\n",
       "      <td>United States</td>\n",
       "      <td>North America</td>\n",
       "      <td>SPRING</td>\n",
       "      <td>TEXAS</td>\n",
       "      <td>QC.COM</td>\n",
       "      <td>unkown_device</td>\n",
       "      <td>LINUX</td>\n",
       "      <td>4025d4a2231867ce28f09ea04e2139656fcc3fa65388d8...</td>\n",
       "      <td>6</td>\n",
       "      <td>...</td>\n",
       "      <td>6</td>\n",
       "      <td>6</td>\n",
       "      <td>6</td>\n",
       "      <td>6</td>\n",
       "      <td>6</td>\n",
       "      <td>6.0</td>\n",
       "      <td>144</td>\n",
       "      <td>100.0</td>\n",
       "      <td>2019-06-10</td>\n",
       "      <td>0.50</td>\n",
       "    </tr>\n",
       "    <tr>\n",
       "      <th>4</th>\n",
       "      <td>United States</td>\n",
       "      <td>United States</td>\n",
       "      <td>North America</td>\n",
       "      <td>CHICAGO</td>\n",
       "      <td>ILLINOIS</td>\n",
       "      <td>SINGLEHOP.NET</td>\n",
       "      <td>unkown_device</td>\n",
       "      <td>LINUX</td>\n",
       "      <td>b049fa7bd0b308f8bdcd9aed7141ac182f61869c1ba6d6...</td>\n",
       "      <td>12</td>\n",
       "      <td>...</td>\n",
       "      <td>12</td>\n",
       "      <td>12</td>\n",
       "      <td>12</td>\n",
       "      <td>12</td>\n",
       "      <td>12</td>\n",
       "      <td>12.0</td>\n",
       "      <td>288</td>\n",
       "      <td>100.0</td>\n",
       "      <td>2019-06-10</td>\n",
       "      <td>0.35</td>\n",
       "    </tr>\n",
       "  </tbody>\n",
       "</table>\n",
       "<p>5 rows × 38 columns</p>\n",
       "</div>"
      ],
      "text/plain": [
       "       ctry_name intgrtd_mngmt_name intgrtd_operating_team_name     city  \\\n",
       "0  United States      United States               North America   DENVER   \n",
       "1  United States      United States               North America  ATLANTA   \n",
       "2  United States      United States               North America  ASHBURN   \n",
       "3  United States      United States               North America   SPRING   \n",
       "4  United States      United States               North America  CHICAGO   \n",
       "\n",
       "         st    sec_lvl_domn    device_type operating_sys  \\\n",
       "0  COLORADO   unkown_domain  unkown_device         LINUX   \n",
       "1   GEORGIA  BILLBLOG23.COM  unkown_device         LINUX   \n",
       "2  VIRGINIA     DOULIKE.COM  unkown_device         LINUX   \n",
       "3     TEXAS          QC.COM  unkown_device         LINUX   \n",
       "4  ILLINOIS   SINGLEHOP.NET  unkown_device         LINUX   \n",
       "\n",
       "                                             ip_addr  0_hour    ...     \\\n",
       "0  dc7d70b03fbafb8f30c5f1b30b8bb03a94d341716e7c2e...       6    ...      \n",
       "1  caa26cacb9db0c493fdcd09c03e970079e561f26e4e6d7...      12    ...      \n",
       "2  6133fa88eeeca4bb28e3be7b416793228fcdb3638d4aff...      12    ...      \n",
       "3  4025d4a2231867ce28f09ea04e2139656fcc3fa65388d8...       6    ...      \n",
       "4  b049fa7bd0b308f8bdcd9aed7141ac182f61869c1ba6d6...      12    ...      \n",
       "\n",
       "   19_hour  20_hour  21_hour  22_hour  23_hour  hour_avg  daily_avg  \\\n",
       "0        6        6        6        6        6       6.0        144   \n",
       "1       12       12       12       12       12      12.0        288   \n",
       "2       12       12       12       12       12      12.0        288   \n",
       "3        6        6        6        6        6       6.0        144   \n",
       "4       12       12       12       12       12      12.0        288   \n",
       "\n",
       "   avg_bounce_rate        date  bot_prob  \n",
       "0            100.0  2019-06-10      0.35  \n",
       "1            100.0  2019-06-10      0.50  \n",
       "2            100.0  2019-06-10      0.35  \n",
       "3            100.0  2019-06-10      0.50  \n",
       "4            100.0  2019-06-10      0.35  \n",
       "\n",
       "[5 rows x 38 columns]"
      ]
     },
     "execution_count": 10,
     "metadata": {},
     "output_type": "execute_result"
    }
   ],
   "source": [
    "bot_ip.head()"
   ]
  },
  {
   "cell_type": "code",
   "execution_count": 11,
   "metadata": {},
   "outputs": [
    {
     "data": {
      "text/html": [
       "<div>\n",
       "<style scoped>\n",
       "    .dataframe tbody tr th:only-of-type {\n",
       "        vertical-align: middle;\n",
       "    }\n",
       "\n",
       "    .dataframe tbody tr th {\n",
       "        vertical-align: top;\n",
       "    }\n",
       "\n",
       "    .dataframe thead th {\n",
       "        text-align: right;\n",
       "    }\n",
       "</style>\n",
       "<table border=\"1\" class=\"dataframe\">\n",
       "  <thead>\n",
       "    <tr style=\"text-align: right;\">\n",
       "      <th></th>\n",
       "      <th>ctry_name</th>\n",
       "      <th>intgrtd_mngmt_name</th>\n",
       "      <th>intgrtd_operating_team_name</th>\n",
       "      <th>city</th>\n",
       "      <th>st</th>\n",
       "      <th>sec_lvl_domn</th>\n",
       "      <th>device_type</th>\n",
       "      <th>operating_sys</th>\n",
       "      <th>ip_addr</th>\n",
       "      <th>0_hour</th>\n",
       "      <th>...</th>\n",
       "      <th>19_hour</th>\n",
       "      <th>20_hour</th>\n",
       "      <th>21_hour</th>\n",
       "      <th>22_hour</th>\n",
       "      <th>23_hour</th>\n",
       "      <th>hour_avg</th>\n",
       "      <th>daily_avg</th>\n",
       "      <th>avg_bounce_rate</th>\n",
       "      <th>date</th>\n",
       "      <th>bot_prob</th>\n",
       "    </tr>\n",
       "  </thead>\n",
       "  <tbody>\n",
       "    <tr>\n",
       "      <th>1</th>\n",
       "      <td>United States</td>\n",
       "      <td>United States</td>\n",
       "      <td>North America</td>\n",
       "      <td>ATLANTA</td>\n",
       "      <td>GEORGIA</td>\n",
       "      <td>BILLBLOG23.COM</td>\n",
       "      <td>unkown_device</td>\n",
       "      <td>LINUX</td>\n",
       "      <td>caa26cacb9db0c493fdcd09c03e970079e561f26e4e6d7...</td>\n",
       "      <td>12</td>\n",
       "      <td>...</td>\n",
       "      <td>12</td>\n",
       "      <td>12</td>\n",
       "      <td>12</td>\n",
       "      <td>12</td>\n",
       "      <td>12</td>\n",
       "      <td>12.000000</td>\n",
       "      <td>288</td>\n",
       "      <td>100.0</td>\n",
       "      <td>2019-06-10</td>\n",
       "      <td>0.5</td>\n",
       "    </tr>\n",
       "    <tr>\n",
       "      <th>3</th>\n",
       "      <td>United States</td>\n",
       "      <td>United States</td>\n",
       "      <td>North America</td>\n",
       "      <td>SPRING</td>\n",
       "      <td>TEXAS</td>\n",
       "      <td>QC.COM</td>\n",
       "      <td>unkown_device</td>\n",
       "      <td>LINUX</td>\n",
       "      <td>4025d4a2231867ce28f09ea04e2139656fcc3fa65388d8...</td>\n",
       "      <td>6</td>\n",
       "      <td>...</td>\n",
       "      <td>6</td>\n",
       "      <td>6</td>\n",
       "      <td>6</td>\n",
       "      <td>6</td>\n",
       "      <td>6</td>\n",
       "      <td>6.000000</td>\n",
       "      <td>144</td>\n",
       "      <td>100.0</td>\n",
       "      <td>2019-06-10</td>\n",
       "      <td>0.5</td>\n",
       "    </tr>\n",
       "    <tr>\n",
       "      <th>5</th>\n",
       "      <td>United States</td>\n",
       "      <td>United States</td>\n",
       "      <td>North America</td>\n",
       "      <td>SPRING</td>\n",
       "      <td>TEXAS</td>\n",
       "      <td>CLASSIC-CONSOLES.COM</td>\n",
       "      <td>unkown_device</td>\n",
       "      <td>LINUX</td>\n",
       "      <td>14c9a0929e439ddc720c79b3c923075b95c5aa3a930d2d...</td>\n",
       "      <td>6</td>\n",
       "      <td>...</td>\n",
       "      <td>6</td>\n",
       "      <td>6</td>\n",
       "      <td>6</td>\n",
       "      <td>6</td>\n",
       "      <td>6</td>\n",
       "      <td>6.000000</td>\n",
       "      <td>144</td>\n",
       "      <td>100.0</td>\n",
       "      <td>2019-06-10</td>\n",
       "      <td>0.5</td>\n",
       "    </tr>\n",
       "    <tr>\n",
       "      <th>8</th>\n",
       "      <td>United States</td>\n",
       "      <td>United States</td>\n",
       "      <td>North America</td>\n",
       "      <td>SPRING</td>\n",
       "      <td>TEXAS</td>\n",
       "      <td>TEKNAS.COM</td>\n",
       "      <td>unkown_device</td>\n",
       "      <td>LINUX</td>\n",
       "      <td>932274c9eb8495768dfab78dff494f9053491cce91370d...</td>\n",
       "      <td>6</td>\n",
       "      <td>...</td>\n",
       "      <td>6</td>\n",
       "      <td>6</td>\n",
       "      <td>6</td>\n",
       "      <td>6</td>\n",
       "      <td>6</td>\n",
       "      <td>6.000000</td>\n",
       "      <td>144</td>\n",
       "      <td>100.0</td>\n",
       "      <td>2019-06-10</td>\n",
       "      <td>0.5</td>\n",
       "    </tr>\n",
       "    <tr>\n",
       "      <th>14</th>\n",
       "      <td>United States</td>\n",
       "      <td>United States</td>\n",
       "      <td>North America</td>\n",
       "      <td>ATLANTA</td>\n",
       "      <td>GEORGIA</td>\n",
       "      <td>MSRVS.NET</td>\n",
       "      <td>unkown_device</td>\n",
       "      <td>LINUX</td>\n",
       "      <td>e4ac3572a712fa58d2fe8de134f6956bdc9344b3cf731e...</td>\n",
       "      <td>12</td>\n",
       "      <td>...</td>\n",
       "      <td>12</td>\n",
       "      <td>12</td>\n",
       "      <td>12</td>\n",
       "      <td>12</td>\n",
       "      <td>12</td>\n",
       "      <td>11.916667</td>\n",
       "      <td>286</td>\n",
       "      <td>100.0</td>\n",
       "      <td>2019-06-10</td>\n",
       "      <td>0.5</td>\n",
       "    </tr>\n",
       "    <tr>\n",
       "      <th>19</th>\n",
       "      <td>United States</td>\n",
       "      <td>United States</td>\n",
       "      <td>North America</td>\n",
       "      <td>SPRING</td>\n",
       "      <td>TEXAS</td>\n",
       "      <td>CLASSIC-CONSOLES.COM</td>\n",
       "      <td>unkown_device</td>\n",
       "      <td>LINUX</td>\n",
       "      <td>77124b098f23496dd7eb9735b0269a30cd99d72d347879...</td>\n",
       "      <td>6</td>\n",
       "      <td>...</td>\n",
       "      <td>6</td>\n",
       "      <td>6</td>\n",
       "      <td>6</td>\n",
       "      <td>6</td>\n",
       "      <td>6</td>\n",
       "      <td>6.000000</td>\n",
       "      <td>144</td>\n",
       "      <td>100.0</td>\n",
       "      <td>2019-06-10</td>\n",
       "      <td>0.5</td>\n",
       "    </tr>\n",
       "  </tbody>\n",
       "</table>\n",
       "<p>6 rows × 38 columns</p>\n",
       "</div>"
      ],
      "text/plain": [
       "        ctry_name intgrtd_mngmt_name intgrtd_operating_team_name     city  \\\n",
       "1   United States      United States               North America  ATLANTA   \n",
       "3   United States      United States               North America   SPRING   \n",
       "5   United States      United States               North America   SPRING   \n",
       "8   United States      United States               North America   SPRING   \n",
       "14  United States      United States               North America  ATLANTA   \n",
       "19  United States      United States               North America   SPRING   \n",
       "\n",
       "         st          sec_lvl_domn    device_type operating_sys  \\\n",
       "1   GEORGIA        BILLBLOG23.COM  unkown_device         LINUX   \n",
       "3     TEXAS                QC.COM  unkown_device         LINUX   \n",
       "5     TEXAS  CLASSIC-CONSOLES.COM  unkown_device         LINUX   \n",
       "8     TEXAS            TEKNAS.COM  unkown_device         LINUX   \n",
       "14  GEORGIA             MSRVS.NET  unkown_device         LINUX   \n",
       "19    TEXAS  CLASSIC-CONSOLES.COM  unkown_device         LINUX   \n",
       "\n",
       "                                              ip_addr  0_hour    ...     \\\n",
       "1   caa26cacb9db0c493fdcd09c03e970079e561f26e4e6d7...      12    ...      \n",
       "3   4025d4a2231867ce28f09ea04e2139656fcc3fa65388d8...       6    ...      \n",
       "5   14c9a0929e439ddc720c79b3c923075b95c5aa3a930d2d...       6    ...      \n",
       "8   932274c9eb8495768dfab78dff494f9053491cce91370d...       6    ...      \n",
       "14  e4ac3572a712fa58d2fe8de134f6956bdc9344b3cf731e...      12    ...      \n",
       "19  77124b098f23496dd7eb9735b0269a30cd99d72d347879...       6    ...      \n",
       "\n",
       "    19_hour  20_hour  21_hour  22_hour  23_hour   hour_avg  daily_avg  \\\n",
       "1        12       12       12       12       12  12.000000        288   \n",
       "3         6        6        6        6        6   6.000000        144   \n",
       "5         6        6        6        6        6   6.000000        144   \n",
       "8         6        6        6        6        6   6.000000        144   \n",
       "14       12       12       12       12       12  11.916667        286   \n",
       "19        6        6        6        6        6   6.000000        144   \n",
       "\n",
       "    avg_bounce_rate        date  bot_prob  \n",
       "1             100.0  2019-06-10       0.5  \n",
       "3             100.0  2019-06-10       0.5  \n",
       "5             100.0  2019-06-10       0.5  \n",
       "8             100.0  2019-06-10       0.5  \n",
       "14            100.0  2019-06-10       0.5  \n",
       "19            100.0  2019-06-10       0.5  \n",
       "\n",
       "[6 rows x 38 columns]"
      ]
     },
     "execution_count": 11,
     "metadata": {},
     "output_type": "execute_result"
    }
   ],
   "source": [
    "bot_ip[bot_ip.bot_prob>0.45]"
   ]
  },
  {
   "cell_type": "code",
   "execution_count": 12,
   "metadata": {},
   "outputs": [],
   "source": [
    "avg_hour_count= bot_ip[bot_ip.hour_avg>=12]"
   ]
  },
  {
   "cell_type": "code",
   "execution_count": 13,
   "metadata": {},
   "outputs": [
    {
     "data": {
      "text/plain": [
       "(18, 38)"
      ]
     },
     "execution_count": 13,
     "metadata": {},
     "output_type": "execute_result"
    }
   ],
   "source": [
    "avg_hour_count.shape"
   ]
  },
  {
   "cell_type": "code",
   "execution_count": 14,
   "metadata": {},
   "outputs": [
    {
     "data": {
      "text/html": [
       "<div>\n",
       "<style scoped>\n",
       "    .dataframe tbody tr th:only-of-type {\n",
       "        vertical-align: middle;\n",
       "    }\n",
       "\n",
       "    .dataframe tbody tr th {\n",
       "        vertical-align: top;\n",
       "    }\n",
       "\n",
       "    .dataframe thead th {\n",
       "        text-align: right;\n",
       "    }\n",
       "</style>\n",
       "<table border=\"1\" class=\"dataframe\">\n",
       "  <thead>\n",
       "    <tr style=\"text-align: right;\">\n",
       "      <th></th>\n",
       "      <th>ctry_name</th>\n",
       "      <th>intgrtd_mngmt_name</th>\n",
       "      <th>intgrtd_operating_team_name</th>\n",
       "      <th>city</th>\n",
       "      <th>st</th>\n",
       "      <th>sec_lvl_domn</th>\n",
       "      <th>device_type</th>\n",
       "      <th>operating_sys</th>\n",
       "      <th>ip_addr</th>\n",
       "      <th>0_hour</th>\n",
       "      <th>...</th>\n",
       "      <th>19_hour</th>\n",
       "      <th>20_hour</th>\n",
       "      <th>21_hour</th>\n",
       "      <th>22_hour</th>\n",
       "      <th>23_hour</th>\n",
       "      <th>hour_avg</th>\n",
       "      <th>daily_avg</th>\n",
       "      <th>avg_bounce_rate</th>\n",
       "      <th>date</th>\n",
       "      <th>bot_prob</th>\n",
       "    </tr>\n",
       "  </thead>\n",
       "  <tbody>\n",
       "    <tr>\n",
       "      <th>1</th>\n",
       "      <td>United States</td>\n",
       "      <td>United States</td>\n",
       "      <td>North America</td>\n",
       "      <td>ATLANTA</td>\n",
       "      <td>GEORGIA</td>\n",
       "      <td>BILLBLOG23.COM</td>\n",
       "      <td>unkown_device</td>\n",
       "      <td>LINUX</td>\n",
       "      <td>caa26cacb9db0c493fdcd09c03e970079e561f26e4e6d7...</td>\n",
       "      <td>12</td>\n",
       "      <td>...</td>\n",
       "      <td>12</td>\n",
       "      <td>12</td>\n",
       "      <td>12</td>\n",
       "      <td>12</td>\n",
       "      <td>12</td>\n",
       "      <td>12.0</td>\n",
       "      <td>288</td>\n",
       "      <td>100.0</td>\n",
       "      <td>2019-06-10</td>\n",
       "      <td>0.50</td>\n",
       "    </tr>\n",
       "    <tr>\n",
       "      <th>2</th>\n",
       "      <td>United States</td>\n",
       "      <td>United States</td>\n",
       "      <td>North America</td>\n",
       "      <td>ASHBURN</td>\n",
       "      <td>VIRGINIA</td>\n",
       "      <td>DOULIKE.COM</td>\n",
       "      <td>unkown_device</td>\n",
       "      <td>LINUX</td>\n",
       "      <td>6133fa88eeeca4bb28e3be7b416793228fcdb3638d4aff...</td>\n",
       "      <td>12</td>\n",
       "      <td>...</td>\n",
       "      <td>12</td>\n",
       "      <td>12</td>\n",
       "      <td>12</td>\n",
       "      <td>12</td>\n",
       "      <td>12</td>\n",
       "      <td>12.0</td>\n",
       "      <td>288</td>\n",
       "      <td>100.0</td>\n",
       "      <td>2019-06-10</td>\n",
       "      <td>0.35</td>\n",
       "    </tr>\n",
       "  </tbody>\n",
       "</table>\n",
       "<p>2 rows × 38 columns</p>\n",
       "</div>"
      ],
      "text/plain": [
       "       ctry_name intgrtd_mngmt_name intgrtd_operating_team_name     city  \\\n",
       "1  United States      United States               North America  ATLANTA   \n",
       "2  United States      United States               North America  ASHBURN   \n",
       "\n",
       "         st    sec_lvl_domn    device_type operating_sys  \\\n",
       "1   GEORGIA  BILLBLOG23.COM  unkown_device         LINUX   \n",
       "2  VIRGINIA     DOULIKE.COM  unkown_device         LINUX   \n",
       "\n",
       "                                             ip_addr  0_hour    ...     \\\n",
       "1  caa26cacb9db0c493fdcd09c03e970079e561f26e4e6d7...      12    ...      \n",
       "2  6133fa88eeeca4bb28e3be7b416793228fcdb3638d4aff...      12    ...      \n",
       "\n",
       "   19_hour  20_hour  21_hour  22_hour  23_hour  hour_avg  daily_avg  \\\n",
       "1       12       12       12       12       12      12.0        288   \n",
       "2       12       12       12       12       12      12.0        288   \n",
       "\n",
       "   avg_bounce_rate        date  bot_prob  \n",
       "1            100.0  2019-06-10      0.50  \n",
       "2            100.0  2019-06-10      0.35  \n",
       "\n",
       "[2 rows x 38 columns]"
      ]
     },
     "execution_count": 14,
     "metadata": {},
     "output_type": "execute_result"
    }
   ],
   "source": [
    "avg_hour_count.head(2)"
   ]
  },
  {
   "cell_type": "code",
   "execution_count": 21,
   "metadata": {},
   "outputs": [],
   "source": [
    "avg_bounce_rate= bot_ip[bot_ip.avg_bounce_rate>=15]"
   ]
  },
  {
   "cell_type": "code",
   "execution_count": 22,
   "metadata": {},
   "outputs": [
    {
     "data": {
      "text/plain": [
       "(429, 38)"
      ]
     },
     "execution_count": 22,
     "metadata": {},
     "output_type": "execute_result"
    }
   ],
   "source": [
    "avg_bounce_rate.shape"
   ]
  },
  {
   "cell_type": "code",
   "execution_count": 36,
   "metadata": {},
   "outputs": [],
   "source": [
    "os= bot_ip[(bot_ip.operating_sys =='LINUX')&(bot_ip.avg_bounce_rate>=85)&(bot_ip.hour_avg>=12)]"
   ]
  },
  {
   "cell_type": "code",
   "execution_count": 37,
   "metadata": {},
   "outputs": [
    {
     "data": {
      "text/plain": [
       "(18, 38)"
      ]
     },
     "execution_count": 37,
     "metadata": {},
     "output_type": "execute_result"
    }
   ],
   "source": [
    "os.shape"
   ]
  },
  {
   "cell_type": "code",
   "execution_count": 39,
   "metadata": {},
   "outputs": [
    {
     "data": {
      "text/html": [
       "<div>\n",
       "<style scoped>\n",
       "    .dataframe tbody tr th:only-of-type {\n",
       "        vertical-align: middle;\n",
       "    }\n",
       "\n",
       "    .dataframe tbody tr th {\n",
       "        vertical-align: top;\n",
       "    }\n",
       "\n",
       "    .dataframe thead th {\n",
       "        text-align: right;\n",
       "    }\n",
       "</style>\n",
       "<table border=\"1\" class=\"dataframe\">\n",
       "  <thead>\n",
       "    <tr style=\"text-align: right;\">\n",
       "      <th></th>\n",
       "      <th>ctry_name</th>\n",
       "      <th>intgrtd_mngmt_name</th>\n",
       "      <th>intgrtd_operating_team_name</th>\n",
       "      <th>city</th>\n",
       "      <th>st</th>\n",
       "      <th>sec_lvl_domn</th>\n",
       "      <th>device_type</th>\n",
       "      <th>operating_sys</th>\n",
       "      <th>ip_addr</th>\n",
       "      <th>0_hour</th>\n",
       "      <th>...</th>\n",
       "      <th>19_hour</th>\n",
       "      <th>20_hour</th>\n",
       "      <th>21_hour</th>\n",
       "      <th>22_hour</th>\n",
       "      <th>23_hour</th>\n",
       "      <th>hour_avg</th>\n",
       "      <th>daily_avg</th>\n",
       "      <th>avg_bounce_rate</th>\n",
       "      <th>date</th>\n",
       "      <th>bot_prob</th>\n",
       "    </tr>\n",
       "  </thead>\n",
       "  <tbody>\n",
       "    <tr>\n",
       "      <th>1</th>\n",
       "      <td>United States</td>\n",
       "      <td>United States</td>\n",
       "      <td>North America</td>\n",
       "      <td>ATLANTA</td>\n",
       "      <td>GEORGIA</td>\n",
       "      <td>BILLBLOG23.COM</td>\n",
       "      <td>unkown_device</td>\n",
       "      <td>LINUX</td>\n",
       "      <td>caa26cacb9db0c493fdcd09c03e970079e561f26e4e6d7...</td>\n",
       "      <td>12</td>\n",
       "      <td>...</td>\n",
       "      <td>12</td>\n",
       "      <td>12</td>\n",
       "      <td>12</td>\n",
       "      <td>12</td>\n",
       "      <td>12</td>\n",
       "      <td>12.0</td>\n",
       "      <td>288</td>\n",
       "      <td>100.0</td>\n",
       "      <td>2019-06-10</td>\n",
       "      <td>0.50</td>\n",
       "    </tr>\n",
       "    <tr>\n",
       "      <th>2</th>\n",
       "      <td>United States</td>\n",
       "      <td>United States</td>\n",
       "      <td>North America</td>\n",
       "      <td>ASHBURN</td>\n",
       "      <td>VIRGINIA</td>\n",
       "      <td>DOULIKE.COM</td>\n",
       "      <td>unkown_device</td>\n",
       "      <td>LINUX</td>\n",
       "      <td>6133fa88eeeca4bb28e3be7b416793228fcdb3638d4aff...</td>\n",
       "      <td>12</td>\n",
       "      <td>...</td>\n",
       "      <td>12</td>\n",
       "      <td>12</td>\n",
       "      <td>12</td>\n",
       "      <td>12</td>\n",
       "      <td>12</td>\n",
       "      <td>12.0</td>\n",
       "      <td>288</td>\n",
       "      <td>100.0</td>\n",
       "      <td>2019-06-10</td>\n",
       "      <td>0.35</td>\n",
       "    </tr>\n",
       "    <tr>\n",
       "      <th>4</th>\n",
       "      <td>United States</td>\n",
       "      <td>United States</td>\n",
       "      <td>North America</td>\n",
       "      <td>CHICAGO</td>\n",
       "      <td>ILLINOIS</td>\n",
       "      <td>SINGLEHOP.NET</td>\n",
       "      <td>unkown_device</td>\n",
       "      <td>LINUX</td>\n",
       "      <td>b049fa7bd0b308f8bdcd9aed7141ac182f61869c1ba6d6...</td>\n",
       "      <td>12</td>\n",
       "      <td>...</td>\n",
       "      <td>12</td>\n",
       "      <td>12</td>\n",
       "      <td>12</td>\n",
       "      <td>12</td>\n",
       "      <td>12</td>\n",
       "      <td>12.0</td>\n",
       "      <td>288</td>\n",
       "      <td>100.0</td>\n",
       "      <td>2019-06-10</td>\n",
       "      <td>0.35</td>\n",
       "    </tr>\n",
       "    <tr>\n",
       "      <th>7</th>\n",
       "      <td>United States</td>\n",
       "      <td>United States</td>\n",
       "      <td>North America</td>\n",
       "      <td>DENVER</td>\n",
       "      <td>COLORADO</td>\n",
       "      <td>unkown_domain</td>\n",
       "      <td>unkown_device</td>\n",
       "      <td>LINUX</td>\n",
       "      <td>9597508a8f61c1c72412a01dbce0b9de6a1a285802dfa3...</td>\n",
       "      <td>12</td>\n",
       "      <td>...</td>\n",
       "      <td>12</td>\n",
       "      <td>12</td>\n",
       "      <td>12</td>\n",
       "      <td>12</td>\n",
       "      <td>12</td>\n",
       "      <td>12.0</td>\n",
       "      <td>288</td>\n",
       "      <td>100.0</td>\n",
       "      <td>2019-06-10</td>\n",
       "      <td>0.35</td>\n",
       "    </tr>\n",
       "    <tr>\n",
       "      <th>11</th>\n",
       "      <td>United States</td>\n",
       "      <td>United States</td>\n",
       "      <td>North America</td>\n",
       "      <td>NEW YORK</td>\n",
       "      <td>NEW YORK</td>\n",
       "      <td>unkown_domain</td>\n",
       "      <td>unkown_device</td>\n",
       "      <td>LINUX</td>\n",
       "      <td>4e20587477820f38075f48c0c1b66a40d754af2281cab8...</td>\n",
       "      <td>12</td>\n",
       "      <td>...</td>\n",
       "      <td>12</td>\n",
       "      <td>12</td>\n",
       "      <td>12</td>\n",
       "      <td>12</td>\n",
       "      <td>12</td>\n",
       "      <td>12.0</td>\n",
       "      <td>288</td>\n",
       "      <td>100.0</td>\n",
       "      <td>2019-06-10</td>\n",
       "      <td>0.35</td>\n",
       "    </tr>\n",
       "  </tbody>\n",
       "</table>\n",
       "<p>5 rows × 38 columns</p>\n",
       "</div>"
      ],
      "text/plain": [
       "        ctry_name intgrtd_mngmt_name intgrtd_operating_team_name      city  \\\n",
       "1   United States      United States               North America   ATLANTA   \n",
       "2   United States      United States               North America   ASHBURN   \n",
       "4   United States      United States               North America   CHICAGO   \n",
       "7   United States      United States               North America    DENVER   \n",
       "11  United States      United States               North America  NEW YORK   \n",
       "\n",
       "          st    sec_lvl_domn    device_type operating_sys  \\\n",
       "1    GEORGIA  BILLBLOG23.COM  unkown_device         LINUX   \n",
       "2   VIRGINIA     DOULIKE.COM  unkown_device         LINUX   \n",
       "4   ILLINOIS   SINGLEHOP.NET  unkown_device         LINUX   \n",
       "7   COLORADO   unkown_domain  unkown_device         LINUX   \n",
       "11  NEW YORK   unkown_domain  unkown_device         LINUX   \n",
       "\n",
       "                                              ip_addr  0_hour    ...     \\\n",
       "1   caa26cacb9db0c493fdcd09c03e970079e561f26e4e6d7...      12    ...      \n",
       "2   6133fa88eeeca4bb28e3be7b416793228fcdb3638d4aff...      12    ...      \n",
       "4   b049fa7bd0b308f8bdcd9aed7141ac182f61869c1ba6d6...      12    ...      \n",
       "7   9597508a8f61c1c72412a01dbce0b9de6a1a285802dfa3...      12    ...      \n",
       "11  4e20587477820f38075f48c0c1b66a40d754af2281cab8...      12    ...      \n",
       "\n",
       "    19_hour  20_hour  21_hour  22_hour  23_hour  hour_avg  daily_avg  \\\n",
       "1        12       12       12       12       12      12.0        288   \n",
       "2        12       12       12       12       12      12.0        288   \n",
       "4        12       12       12       12       12      12.0        288   \n",
       "7        12       12       12       12       12      12.0        288   \n",
       "11       12       12       12       12       12      12.0        288   \n",
       "\n",
       "    avg_bounce_rate        date  bot_prob  \n",
       "1             100.0  2019-06-10      0.50  \n",
       "2             100.0  2019-06-10      0.35  \n",
       "4             100.0  2019-06-10      0.35  \n",
       "7             100.0  2019-06-10      0.35  \n",
       "11            100.0  2019-06-10      0.35  \n",
       "\n",
       "[5 rows x 38 columns]"
      ]
     },
     "execution_count": 39,
     "metadata": {},
     "output_type": "execute_result"
    }
   ],
   "source": [
    "os.head()"
   ]
  },
  {
   "cell_type": "code",
   "execution_count": 44,
   "metadata": {},
   "outputs": [
    {
     "data": {
      "text/plain": [
       "ctry_name                       object\n",
       "intgrtd_mngmt_name              object\n",
       "intgrtd_operating_team_name     object\n",
       "city                            object\n",
       "st                              object\n",
       "sec_lvl_domn                    object\n",
       "device_type                     object\n",
       "operating_sys                   object\n",
       "ip_addr                         object\n",
       "0_hour                           int64\n",
       "1_hour                           int64\n",
       "2_hour                           int64\n",
       "3_hour                           int64\n",
       "4_hour                           int64\n",
       "5_hour                           int64\n",
       "6_hour                           int64\n",
       "7_hour                           int64\n",
       "8_hour                           int64\n",
       "9_hour                           int64\n",
       "10_hour                          int64\n",
       "11_hour                          int64\n",
       "12_hour                          int64\n",
       "13_hour                          int64\n",
       "14_hour                          int64\n",
       "15_hour                          int64\n",
       "16_hour                          int64\n",
       "17_hour                          int64\n",
       "18_hour                          int64\n",
       "19_hour                          int64\n",
       "20_hour                          int64\n",
       "21_hour                          int64\n",
       "22_hour                          int64\n",
       "23_hour                          int64\n",
       "hour_avg                       float64\n",
       "daily_avg                        int64\n",
       "avg_bounce_rate                float64\n",
       "date                            object\n",
       "bot_prob                       float64\n",
       "dtype: object"
      ]
     },
     "execution_count": 44,
     "metadata": {},
     "output_type": "execute_result"
    }
   ],
   "source": [
    "os.dtypes"
   ]
  },
  {
   "cell_type": "code",
   "execution_count": 49,
   "metadata": {},
   "outputs": [],
   "source": [
    "import numpy as np"
   ]
  },
  {
   "cell_type": "code",
   "execution_count": 52,
   "metadata": {},
   "outputs": [
    {
     "data": {
      "text/plain": [
       "'684'"
      ]
     },
     "execution_count": 52,
     "metadata": {},
     "output_type": "execute_result"
    }
   ],
   "source": [
    "format(np.count_nonzero(os.notnull()))"
   ]
  },
  {
   "cell_type": "code",
   "execution_count": 53,
   "metadata": {},
   "outputs": [
    {
     "data": {
      "text/plain": [
       "(18, 38)"
      ]
     },
     "execution_count": 53,
     "metadata": {},
     "output_type": "execute_result"
    }
   ],
   "source": [
    "os.shape"
   ]
  },
  {
   "cell_type": "code",
   "execution_count": 59,
   "metadata": {},
   "outputs": [],
   "source": [
    "import matplotlib.pyplot as plt\n",
    "import matplotlib"
   ]
  },
  {
   "cell_type": "code",
   "execution_count": 69,
   "metadata": {},
   "outputs": [
    {
     "name": "stdout",
     "output_type": "stream",
     "text": [
      "Percentage of Countries visiting Our Website\n",
      " LINUX    100.0\n",
      "Name: operating_sys, dtype: float64\n"
     ]
    },
    {
     "data": {
      "text/plain": [
       "<matplotlib.axes._subplots.AxesSubplot at 0x1ffbcf5c0>"
      ]
     },
     "execution_count": 69,
     "metadata": {},
     "output_type": "execute_result"
    },
    {
     "data": {
      "image/png": "[encoded data removed]",
      "text/plain": [
       "<Figure size 720x360 with 1 Axes>"
      ]
     },
     "metadata": {
      "needs_background": "light"
     },
     "output_type": "display_data"
    }
   ],
   "source": [
    "y = os.operating_sys .value_counts(normalize=True).head(10)\n",
    "print('Percentage of Countries visiting Our Website\\n',y*100)\n",
    "#print(\"\\n\\nTotal Amount of Visitings we get from these Countries {} %  of Whole Vists.\\n\\n \".format(y.sum()*100),)\n",
    "matplotlib.rcParams['figure.figsize'] = 10,5\n",
    "y.plot(kind='bar')"
   ]
  },
  {
   "cell_type": "code",
   "execution_count": 78,
   "metadata": {},
   "outputs": [
    {
     "name": "stdout",
     "output_type": "stream",
     "text": [
      "Percentage of City visiting Our Website\n",
      " DENVER           22.222222\n",
      "ATLANTA          22.222222\n",
      "DALLAS           16.666667\n",
      "CHICAGO          16.666667\n",
      "ASHBURN          11.111111\n",
      "LYSTAGER TORP     5.555556\n",
      "NEW YORK          5.555556\n",
      "Name: city, dtype: float64\n"
     ]
    },
    {
     "data": {
      "text/plain": [
       "<matplotlib.axes._subplots.AxesSubplot at 0x20329d0f0>"
      ]
     },
     "execution_count": 78,
     "metadata": {},
     "output_type": "execute_result"
    },
    {
     "data": {
      "image/png": "[encoded data removed]",
      "text/plain": [
       "<Figure size 720x360 with 1 Axes>"
      ]
     },
     "metadata": {
      "needs_background": "light"
     },
     "output_type": "display_data"
    }
   ],
   "source": [
    "y = os.city.value_counts(normalize=True).head(10)\n",
    "print('Percentage of City visiting Our Website\\n',y*100)\n",
    "#print(\"\\n\\nTotal Amount of Visitings we get from these Countries {} %  of Whole Vists.\\n\\n \".format(y.sum()*100),)\n",
    "matplotlib.rcParams['figure.figsize'] = 10,5\n",
    "y.plot(kind='bar')"
   ]
  },
  {
   "cell_type": "code",
   "execution_count": 77,
   "metadata": {},
   "outputs": [
    {
     "name": "stdout",
     "output_type": "stream",
     "text": [
      "Percentage of States visiting Our Website\n",
      " GEORGIA      22.222222\n",
      "COLORADO     22.222222\n",
      "TEXAS        16.666667\n",
      "ILLINOIS     16.666667\n",
      "VIRGINIA     11.111111\n",
      "SJAELLAND     5.555556\n",
      "NEW YORK      5.555556\n",
      "Name: st, dtype: float64\n"
     ]
    },
    {
     "data": {
      "text/plain": [
       "<matplotlib.axes._subplots.AxesSubplot at 0x202ef25c0>"
      ]
     },
     "execution_count": 77,
     "metadata": {},
     "output_type": "execute_result"
    },
    {
     "data": {
      "image/png": "[encoded data removed]",
      "text/plain": [
       "<Figure size 720x360 with 1 Axes>"
      ]
     },
     "metadata": {
      "needs_background": "light"
     },
     "output_type": "display_data"
    }
   ],
   "source": [
    "y = os.st.value_counts(normalize=True).head(10)\n",
    "print('Percentage of States visiting Our Website\\n',y*100)\n",
    "#print(\"\\n\\nTotal Amount of Visitings we get from these Countries {} %  of Whole Vists.\\n\\n \".format(y.sum()*100),)\n",
    "matplotlib.rcParams['figure.figsize'] = 10,5\n",
    "y.plot(kind='bar')"
   ]
  },
  {
   "cell_type": "code",
   "execution_count": 76,
   "metadata": {},
   "outputs": [
    {
     "name": "stdout",
     "output_type": "stream",
     "text": [
      "Percentage of BOTS visiting Our Website\n",
      " 0.35    94.444444\n",
      "0.50     5.555556\n",
      "Name: bot_prob, dtype: float64\n"
     ]
    },
    {
     "data": {
      "text/plain": [
       "<matplotlib.axes._subplots.AxesSubplot at 0x202ac89e8>"
      ]
     },
     "execution_count": 76,
     "metadata": {},
     "output_type": "execute_result"
    },
    {
     "data": {
      "image/png": "[encoded data removed]",
      "text/plain": [
       "<Figure size 720x360 with 1 Axes>"
      ]
     },
     "metadata": {
      "needs_background": "light"
     },
     "output_type": "display_data"
    }
   ],
   "source": [
    "y = os.bot_prob.value_counts(normalize=True).head(10)\n",
    "print('Percentage of BOTS visiting Our Website\\n',y*100)\n",
    "#print(\"\\n\\nTotal Amount of Visitings we get from these Countries {} %  of Whole Vists.\\n\\n \".format(y.sum()*100),)\n",
    "matplotlib.rcParams['figure.figsize'] = 10,5\n",
    "y.plot(kind='bar')"
   ]
  },
  {
   "cell_type": "code",
   "execution_count": 72,
   "metadata": {},
   "outputs": [],
   "source": [
    "# y = os.avg_bounce_rate                .value_counts(normalize=True).head(10)\n",
    "# print('Percentage of Countries visiting Our Website\\n',y*100)\n",
    "# #print(\"\\n\\nTotal Amount of Visitings we get from these Countries {} %  of Whole Vists.\\n\\n \".format(y.sum()*100),)\n",
    "# matplotlib.rcParams['figure.figsize'] = 10,5\n",
    "# y.plot(kind='bar')"
   ]
  },
  {
   "cell_type": "code",
   "execution_count": null,
   "metadata": {},
   "outputs": [],
   "source": []
  }
 ],
 "metadata": {
  "kernelspec": {
   "display_name": "Python 3",
   "language": "python",
   "name": "python3"
  },
  "language_info": {
   "codemirror_mode": {
    "name": "ipython",
    "version": 3
   },
   "file_extension": ".py",
   "mimetype": "text/x-python",
   "name": "python",
   "nbconvert_exporter": "python",
   "pygments_lexer": "ipython3",
   "version": "3.7.1"
  }
 },
 "nbformat": 4,
 "nbformat_minor": 2
}
