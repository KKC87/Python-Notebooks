{
 "cells": [
  {
   "cell_type": "code",
   "execution_count": 2,
   "metadata": {},
   "outputs": [],
   "source": [
    "from PIL import Image\n",
    "image = Image.open(\"5.png\").convert('L')"
   ]
  },
  {
   "cell_type": "code",
   "execution_count": 16,
   "metadata": {},
   "outputs": [
    {
     "data": {
      "text/plain": [
       "PIL.Image.Image"
      ]
     },
     "execution_count": 16,
     "metadata": {},
     "output_type": "execute_result"
    }
   ],
   "source": [
    "type(image)"
   ]
  },
  {
   "cell_type": "code",
   "execution_count": 17,
   "metadata": {},
   "outputs": [],
   "source": [
    "import numpy as np"
   ]
  },
  {
   "cell_type": "code",
   "execution_count": 18,
   "metadata": {},
   "outputs": [],
   "source": [
    "imagearray = np.array(image)\n",
    "imagearray = imagearray/255"
   ]
  },
  {
   "cell_type": "code",
   "execution_count": 19,
   "metadata": {},
   "outputs": [
    {
     "name": "stdout",
     "output_type": "stream",
     "text": [
      "(1146, 2460)\n"
     ]
    }
   ],
   "source": [
    "print(imagearray.shape)\n",
    "imagearray = imagearray[0:1000,0:2000]"
   ]
  },
  {
   "cell_type": "code",
   "execution_count": 20,
   "metadata": {},
   "outputs": [
    {
     "data": {
      "text/plain": [
       "128101.52941308332"
      ]
     },
     "execution_count": 20,
     "metadata": {},
     "output_type": "execute_result"
    }
   ],
   "source": [
    "sum(imagearray.reshape(imagearray.shape[0] * imagearray.shape[1]))"
   ]
  },
  {
   "cell_type": "code",
   "execution_count": 21,
   "metadata": {},
   "outputs": [],
   "source": [
    "import os"
   ]
  },
  {
   "cell_type": "code",
   "execution_count": 22,
   "metadata": {},
   "outputs": [],
   "source": [
    "from os import listdir\n",
    "from os.path import isfile, join\n",
    "onlyfiles = [f for f in listdir() if isfile(join(f))]"
   ]
  },
  {
   "cell_type": "code",
   "execution_count": 23,
   "metadata": {},
   "outputs": [
    {
     "data": {
      "text/plain": [
       "['Compare.ipynb',\n",
       " 'PCA+assignment.ipynb',\n",
       " 'EDA.ipynb',\n",
       " 'Final_data.ipynb',\n",
       " 'WA.csv',\n",
       " 'Python101.ipynb',\n",
       " 'GoSales_Tx_LogisticRegression.csv',\n",
       " 'Different_Models_With_and_Without_Smote (2).ipynb',\n",
       " 'Test_svm3.ipynb',\n",
       " 'PoliticsExercise.ipynb',\n",
       " '.condarc',\n",
       " 'pollution.csv',\n",
       " '1spam.csv',\n",
       " 'Data1.ipynb',\n",
       " 'LeadsAnalysis.ipynb',\n",
       " 'Trials.csv',\n",
       " 'Untitled5.ipynb',\n",
       " 'Fraud.zip',\n",
       " '.anyconnect',\n",
       " 'Untitled1.ipynb',\n",
       " '.DS_Store',\n",
       " 'DB@.ipynb',\n",
       " 'Keras-CNN.ipynb',\n",
       " 'LSTM.ipynb',\n",
       " '.CFUserTextEncoding',\n",
       " 'Data1 (1).ipynb',\n",
       " 'Fraud.csv',\n",
       " 'SVM fraud detection.ipynb',\n",
       " 'delivery_related.csv',\n",
       " 'code_file.ipynb',\n",
       " 'leads_wins.csv',\n",
       " 'LSTMTrail2.ipynb',\n",
       " 'Untitled3.ipynb',\n",
       " 'asset-v1_AnalyticsVidhya+TS_101+TS_term1+type@asset+block@Time_Series.ipynb',\n",
       " 'Untitled.ipynb',\n",
       " '2spam.csv',\n",
       " 'Fbprophet.ipynb',\n",
       " 'LSTM - Sine wave predictor.ipynb',\n",
       " '14.png',\n",
       " '28.png',\n",
       " 'summary_10days.csv',\n",
       " 'Test_svm2.ipynb',\n",
       " 'result (1).csv',\n",
       " 'House1.xls',\n",
       " '29.png',\n",
       " 'generic_outliers_data.csv',\n",
       " '15.png',\n",
       " 'Untitled4.ipynb',\n",
       " 'DeepLearningProject.ipynb',\n",
       " '.psql_history',\n",
       " 'titanic3.xls',\n",
       " 'Untitled6.ipynb',\n",
       " 'Win_amt.ipynb',\n",
       " 'data_e_power.ipynb',\n",
       " 'Rest.py',\n",
       " 'PandasTutorial.ipynb',\n",
       " 'AirQualityUCI.csv',\n",
       " 'Data1.csv',\n",
       " 'fraud-detection-in-ecommerce.ipynb',\n",
       " '1ibm_simple_linear_regression.ipynb',\n",
       " 'TRIAL LSTM.ipynb',\n",
       " 'Untitled2.ipynb',\n",
       " 'TVEC.csv',\n",
       " '13.png',\n",
       " '11.png',\n",
       " 'NN for fraud.ipynb',\n",
       " 'Data.xlsx',\n",
       " 'household_power_consumption.txt',\n",
       " '10.png',\n",
       " 'Sample_Submission_QChS6c3.csv',\n",
       " 'test_svm.ipynb',\n",
       " '1ibm_linear_regression_using_shift_and_forecats.ipynb',\n",
       " 'Book1.csv',\n",
       " '.pgAdmin4.startup.log',\n",
       " 'SVM template.ipynb',\n",
       " 'mar.csv',\n",
       " 'win.csv',\n",
       " 'tvec.ipynb',\n",
       " 'Book2.csv',\n",
       " 'Trial.csv',\n",
       " 'Practice.ipynb',\n",
       " 'a.txt',\n",
       " 'package-lock.json',\n",
       " 'LSTM regression.ipynb',\n",
       " 'Leads_Model.ipynb',\n",
       " 'time-series.ipynb',\n",
       " 'secondapp.zip',\n",
       " '27.png',\n",
       " 'Lstm1.ipynb',\n",
       " 'Tensorflow.ipynb',\n",
       " '26.png',\n",
       " 'data_file.json',\n",
       " 'TestData.csv',\n",
       " 'international-airline-passengers.csv',\n",
       " 'recent_spam.csv',\n",
       " 'Leads with metrics.ipynb',\n",
       " '30.png',\n",
       " 'q.txt',\n",
       " 'Flask_basic.ipynb',\n",
       " 'F1.json',\n",
       " 'Regresssion.ipynb',\n",
       " 'Leads_Model (1).ipynb',\n",
       " '.%F733E9B0.png',\n",
       " 'Fraud (1).csv',\n",
       " '4.png',\n",
       " 'Train_SU63ISt.csv',\n",
       " 'activate',\n",
       " 'exp fraud.ipynb',\n",
       " '50_Startups.csv',\n",
       " 'session_related.csv',\n",
       " 'Natural_Disaster.ipynb',\n",
       " 'multivariate.ipynb',\n",
       " 'c.png',\n",
       " '5.png',\n",
       " 'stkeystore.p12',\n",
       " 'Spam.ipynb',\n",
       " 'xgboost.ipynb',\n",
       " 'RF fraud detection-3-Copy2.ipynb',\n",
       " 'Untitled',\n",
       " 'several_svm_models.ipynb',\n",
       " '.bash_profile',\n",
       " '6.png',\n",
       " '1st phase forecasting using sample data of ibm.ipynb',\n",
       " 'sample_data (2).xlsx',\n",
       " 'LSTMM',\n",
       " 'Test_0qrQsBZ.csv',\n",
       " '.gitconfig',\n",
       " 'Keras-RNN.ipynb',\n",
       " 'WIN_AMOUNT.csv',\n",
       " '3.png',\n",
       " 'Leads.ipynb',\n",
       " 'merged_mar.csv',\n",
       " 'Social_Network_Ads.csv',\n",
       " 'Win_amt.csv',\n",
       " 'Fraud_svm_1.ipynb',\n",
       " '.bash_history',\n",
       " '.viminfo',\n",
       " 'SampleData.csv',\n",
       " 'Fb2.ipynb',\n",
       " 'Kmeans.ipynb',\n",
       " 'DeepLearningProject-Solution.ipynb',\n",
       " 'XGGRAPH.ipynb',\n",
       " 'lstm (1).ipynb',\n",
       " 'SVM.ipynb',\n",
       " 'lstm']"
      ]
     },
     "execution_count": 23,
     "metadata": {},
     "output_type": "execute_result"
    }
   ],
   "source": [
    "onlyfiles"
   ]
  },
  {
   "cell_type": "code",
   "execution_count": 24,
   "metadata": {},
   "outputs": [],
   "source": [
    "onlyfiles.sort()"
   ]
  },
  {
   "cell_type": "code",
   "execution_count": 25,
   "metadata": {},
   "outputs": [
    {
     "data": {
      "text/plain": [
       "['.%F733E9B0.png',\n",
       " '.CFUserTextEncoding',\n",
       " '.DS_Store',\n",
       " '.anyconnect',\n",
       " '.bash_history',\n",
       " '.bash_profile',\n",
       " '.condarc',\n",
       " '.gitconfig',\n",
       " '.pgAdmin4.startup.log',\n",
       " '.psql_history',\n",
       " '.viminfo',\n",
       " '10.png',\n",
       " '11.png',\n",
       " '13.png',\n",
       " '14.png',\n",
       " '15.png',\n",
       " '1ibm_linear_regression_using_shift_and_forecats.ipynb',\n",
       " '1ibm_simple_linear_regression.ipynb',\n",
       " '1spam.csv',\n",
       " '1st phase forecasting using sample data of ibm.ipynb',\n",
       " '26.png',\n",
       " '27.png',\n",
       " '28.png',\n",
       " '29.png',\n",
       " '2spam.csv',\n",
       " '3.png',\n",
       " '30.png',\n",
       " '4.png',\n",
       " '5.png',\n",
       " '50_Startups.csv',\n",
       " '6.png',\n",
       " 'AirQualityUCI.csv',\n",
       " 'Book1.csv',\n",
       " 'Book2.csv',\n",
       " 'Compare.ipynb',\n",
       " 'DB@.ipynb',\n",
       " 'Data.xlsx',\n",
       " 'Data1 (1).ipynb',\n",
       " 'Data1.csv',\n",
       " 'Data1.ipynb',\n",
       " 'DeepLearningProject-Solution.ipynb',\n",
       " 'DeepLearningProject.ipynb',\n",
       " 'Different_Models_With_and_Without_Smote (2).ipynb',\n",
       " 'EDA.ipynb',\n",
       " 'F1.json',\n",
       " 'Fb2.ipynb',\n",
       " 'Fbprophet.ipynb',\n",
       " 'Final_data.ipynb',\n",
       " 'Flask_basic.ipynb',\n",
       " 'Fraud (1).csv',\n",
       " 'Fraud.csv',\n",
       " 'Fraud.zip',\n",
       " 'Fraud_svm_1.ipynb',\n",
       " 'GoSales_Tx_LogisticRegression.csv',\n",
       " 'House1.xls',\n",
       " 'Keras-CNN.ipynb',\n",
       " 'Keras-RNN.ipynb',\n",
       " 'Kmeans.ipynb',\n",
       " 'LSTM - Sine wave predictor.ipynb',\n",
       " 'LSTM regression.ipynb',\n",
       " 'LSTM.ipynb',\n",
       " 'LSTMM',\n",
       " 'LSTMTrail2.ipynb',\n",
       " 'Leads with metrics.ipynb',\n",
       " 'Leads.ipynb',\n",
       " 'LeadsAnalysis.ipynb',\n",
       " 'Leads_Model (1).ipynb',\n",
       " 'Leads_Model.ipynb',\n",
       " 'Lstm1.ipynb',\n",
       " 'NN for fraud.ipynb',\n",
       " 'Natural_Disaster.ipynb',\n",
       " 'PCA+assignment.ipynb',\n",
       " 'PandasTutorial.ipynb',\n",
       " 'PoliticsExercise.ipynb',\n",
       " 'Practice.ipynb',\n",
       " 'Python101.ipynb',\n",
       " 'RF fraud detection-3-Copy2.ipynb',\n",
       " 'Regresssion.ipynb',\n",
       " 'Rest.py',\n",
       " 'SVM fraud detection.ipynb',\n",
       " 'SVM template.ipynb',\n",
       " 'SVM.ipynb',\n",
       " 'SampleData.csv',\n",
       " 'Sample_Submission_QChS6c3.csv',\n",
       " 'Social_Network_Ads.csv',\n",
       " 'Spam.ipynb',\n",
       " 'TRIAL LSTM.ipynb',\n",
       " 'TVEC.csv',\n",
       " 'Tensorflow.ipynb',\n",
       " 'TestData.csv',\n",
       " 'Test_0qrQsBZ.csv',\n",
       " 'Test_svm2.ipynb',\n",
       " 'Test_svm3.ipynb',\n",
       " 'Train_SU63ISt.csv',\n",
       " 'Trial.csv',\n",
       " 'Trials.csv',\n",
       " 'Untitled',\n",
       " 'Untitled.ipynb',\n",
       " 'Untitled1.ipynb',\n",
       " 'Untitled2.ipynb',\n",
       " 'Untitled3.ipynb',\n",
       " 'Untitled4.ipynb',\n",
       " 'Untitled5.ipynb',\n",
       " 'Untitled6.ipynb',\n",
       " 'WA.csv',\n",
       " 'WIN_AMOUNT.csv',\n",
       " 'Win_amt.csv',\n",
       " 'Win_amt.ipynb',\n",
       " 'XGGRAPH.ipynb',\n",
       " 'a.txt',\n",
       " 'activate',\n",
       " 'asset-v1_AnalyticsVidhya+TS_101+TS_term1+type@asset+block@Time_Series.ipynb',\n",
       " 'c.png',\n",
       " 'code_file.ipynb',\n",
       " 'data_e_power.ipynb',\n",
       " 'data_file.json',\n",
       " 'delivery_related.csv',\n",
       " 'exp fraud.ipynb',\n",
       " 'fraud-detection-in-ecommerce.ipynb',\n",
       " 'generic_outliers_data.csv',\n",
       " 'household_power_consumption.txt',\n",
       " 'international-airline-passengers.csv',\n",
       " 'leads_wins.csv',\n",
       " 'lstm',\n",
       " 'lstm (1).ipynb',\n",
       " 'mar.csv',\n",
       " 'merged_mar.csv',\n",
       " 'multivariate.ipynb',\n",
       " 'package-lock.json',\n",
       " 'pollution.csv',\n",
       " 'q.txt',\n",
       " 'recent_spam.csv',\n",
       " 'result (1).csv',\n",
       " 'sample_data (2).xlsx',\n",
       " 'secondapp.zip',\n",
       " 'session_related.csv',\n",
       " 'several_svm_models.ipynb',\n",
       " 'stkeystore.p12',\n",
       " 'summary_10days.csv',\n",
       " 'test_svm.ipynb',\n",
       " 'time-series.ipynb',\n",
       " 'titanic3.xls',\n",
       " 'tvec.ipynb',\n",
       " 'win.csv',\n",
       " 'xgboost.ipynb']"
      ]
     },
     "execution_count": 25,
     "metadata": {},
     "output_type": "execute_result"
    }
   ],
   "source": [
    "onlyfiles"
   ]
  },
  {
   "cell_type": "code",
   "execution_count": 26,
   "metadata": {},
   "outputs": [],
   "source": [
    "onlyfiles = onlyfiles[0:len(onlyfiles)-1]"
   ]
  },
  {
   "cell_type": "code",
   "execution_count": 27,
   "metadata": {},
   "outputs": [
    {
     "data": {
      "text/plain": [
       "['.%F733E9B0.png',\n",
       " '.CFUserTextEncoding',\n",
       " '.DS_Store',\n",
       " '.anyconnect',\n",
       " '.bash_history',\n",
       " '.bash_profile',\n",
       " '.condarc',\n",
       " '.gitconfig',\n",
       " '.pgAdmin4.startup.log',\n",
       " '.psql_history',\n",
       " '.viminfo',\n",
       " '10.png',\n",
       " '11.png',\n",
       " '13.png',\n",
       " '14.png',\n",
       " '15.png',\n",
       " '1ibm_linear_regression_using_shift_and_forecats.ipynb',\n",
       " '1ibm_simple_linear_regression.ipynb',\n",
       " '1spam.csv',\n",
       " '1st phase forecasting using sample data of ibm.ipynb',\n",
       " '26.png',\n",
       " '27.png',\n",
       " '28.png',\n",
       " '29.png',\n",
       " '2spam.csv',\n",
       " '3.png',\n",
       " '30.png',\n",
       " '4.png',\n",
       " '5.png',\n",
       " '50_Startups.csv',\n",
       " '6.png',\n",
       " 'AirQualityUCI.csv',\n",
       " 'Book1.csv',\n",
       " 'Book2.csv',\n",
       " 'Compare.ipynb',\n",
       " 'DB@.ipynb',\n",
       " 'Data.xlsx',\n",
       " 'Data1 (1).ipynb',\n",
       " 'Data1.csv',\n",
       " 'Data1.ipynb',\n",
       " 'DeepLearningProject-Solution.ipynb',\n",
       " 'DeepLearningProject.ipynb',\n",
       " 'Different_Models_With_and_Without_Smote (2).ipynb',\n",
       " 'EDA.ipynb',\n",
       " 'F1.json',\n",
       " 'Fb2.ipynb',\n",
       " 'Fbprophet.ipynb',\n",
       " 'Final_data.ipynb',\n",
       " 'Flask_basic.ipynb',\n",
       " 'Fraud (1).csv',\n",
       " 'Fraud.csv',\n",
       " 'Fraud.zip',\n",
       " 'Fraud_svm_1.ipynb',\n",
       " 'GoSales_Tx_LogisticRegression.csv',\n",
       " 'House1.xls',\n",
       " 'Keras-CNN.ipynb',\n",
       " 'Keras-RNN.ipynb',\n",
       " 'Kmeans.ipynb',\n",
       " 'LSTM - Sine wave predictor.ipynb',\n",
       " 'LSTM regression.ipynb',\n",
       " 'LSTM.ipynb',\n",
       " 'LSTMM',\n",
       " 'LSTMTrail2.ipynb',\n",
       " 'Leads with metrics.ipynb',\n",
       " 'Leads.ipynb',\n",
       " 'LeadsAnalysis.ipynb',\n",
       " 'Leads_Model (1).ipynb',\n",
       " 'Leads_Model.ipynb',\n",
       " 'Lstm1.ipynb',\n",
       " 'NN for fraud.ipynb',\n",
       " 'Natural_Disaster.ipynb',\n",
       " 'PCA+assignment.ipynb',\n",
       " 'PandasTutorial.ipynb',\n",
       " 'PoliticsExercise.ipynb',\n",
       " 'Practice.ipynb',\n",
       " 'Python101.ipynb',\n",
       " 'RF fraud detection-3-Copy2.ipynb',\n",
       " 'Regresssion.ipynb',\n",
       " 'Rest.py',\n",
       " 'SVM fraud detection.ipynb',\n",
       " 'SVM template.ipynb',\n",
       " 'SVM.ipynb',\n",
       " 'SampleData.csv',\n",
       " 'Sample_Submission_QChS6c3.csv',\n",
       " 'Social_Network_Ads.csv',\n",
       " 'Spam.ipynb',\n",
       " 'TRIAL LSTM.ipynb',\n",
       " 'TVEC.csv',\n",
       " 'Tensorflow.ipynb',\n",
       " 'TestData.csv',\n",
       " 'Test_0qrQsBZ.csv',\n",
       " 'Test_svm2.ipynb',\n",
       " 'Test_svm3.ipynb',\n",
       " 'Train_SU63ISt.csv',\n",
       " 'Trial.csv',\n",
       " 'Trials.csv',\n",
       " 'Untitled',\n",
       " 'Untitled.ipynb',\n",
       " 'Untitled1.ipynb',\n",
       " 'Untitled2.ipynb',\n",
       " 'Untitled3.ipynb',\n",
       " 'Untitled4.ipynb',\n",
       " 'Untitled5.ipynb',\n",
       " 'Untitled6.ipynb',\n",
       " 'WA.csv',\n",
       " 'WIN_AMOUNT.csv',\n",
       " 'Win_amt.csv',\n",
       " 'Win_amt.ipynb',\n",
       " 'XGGRAPH.ipynb',\n",
       " 'a.txt',\n",
       " 'activate',\n",
       " 'asset-v1_AnalyticsVidhya+TS_101+TS_term1+type@asset+block@Time_Series.ipynb',\n",
       " 'c.png',\n",
       " 'code_file.ipynb',\n",
       " 'data_e_power.ipynb',\n",
       " 'data_file.json',\n",
       " 'delivery_related.csv',\n",
       " 'exp fraud.ipynb',\n",
       " 'fraud-detection-in-ecommerce.ipynb',\n",
       " 'generic_outliers_data.csv',\n",
       " 'household_power_consumption.txt',\n",
       " 'international-airline-passengers.csv',\n",
       " 'leads_wins.csv',\n",
       " 'lstm',\n",
       " 'lstm (1).ipynb',\n",
       " 'mar.csv',\n",
       " 'merged_mar.csv',\n",
       " 'multivariate.ipynb',\n",
       " 'package-lock.json',\n",
       " 'pollution.csv',\n",
       " 'q.txt',\n",
       " 'recent_spam.csv',\n",
       " 'result (1).csv',\n",
       " 'sample_data (2).xlsx',\n",
       " 'secondapp.zip',\n",
       " 'session_related.csv',\n",
       " 'several_svm_models.ipynb',\n",
       " 'stkeystore.p12',\n",
       " 'summary_10days.csv',\n",
       " 'test_svm.ipynb',\n",
       " 'time-series.ipynb',\n",
       " 'titanic3.xls',\n",
       " 'tvec.ipynb',\n",
       " 'win.csv']"
      ]
     },
     "execution_count": 27,
     "metadata": {},
     "output_type": "execute_result"
    }
   ],
   "source": [
    "onlyfiles"
   ]
  },
  {
   "cell_type": "code",
   "execution_count": 28,
   "metadata": {},
   "outputs": [
    {
     "ename": "OSError",
     "evalue": "cannot identify image file '.%F733E9B0.png'",
     "output_type": "error",
     "traceback": [
      "\u001b[0;31m---------------------------------------------------------------------------\u001b[0m",
      "\u001b[0;31mOSError\u001b[0m                                   Traceback (most recent call last)",
      "\u001b[0;32m<ipython-input-28-87cd89b7a76e>\u001b[0m in \u001b[0;36m<module>\u001b[0;34m\u001b[0m\n\u001b[1;32m      2\u001b[0m \u001b[0mmean\u001b[0m \u001b[0;34m=\u001b[0m \u001b[0;34m[\u001b[0m\u001b[0;34m]\u001b[0m\u001b[0;34m\u001b[0m\u001b[0;34m\u001b[0m\u001b[0m\n\u001b[1;32m      3\u001b[0m \u001b[0;32mfor\u001b[0m \u001b[0mi\u001b[0m \u001b[0;32min\u001b[0m \u001b[0monlyfiles\u001b[0m\u001b[0;34m:\u001b[0m\u001b[0;34m\u001b[0m\u001b[0;34m\u001b[0m\u001b[0m\n\u001b[0;32m----> 4\u001b[0;31m     \u001b[0mimage\u001b[0m \u001b[0;34m=\u001b[0m \u001b[0mImage\u001b[0m\u001b[0;34m.\u001b[0m\u001b[0mopen\u001b[0m\u001b[0;34m(\u001b[0m\u001b[0mi\u001b[0m\u001b[0;34m)\u001b[0m\u001b[0;34m.\u001b[0m\u001b[0mconvert\u001b[0m\u001b[0;34m(\u001b[0m\u001b[0;34m'L'\u001b[0m\u001b[0;34m)\u001b[0m\u001b[0;34m\u001b[0m\u001b[0;34m\u001b[0m\u001b[0m\n\u001b[0m\u001b[1;32m      5\u001b[0m     \u001b[0mimagearray\u001b[0m \u001b[0;34m=\u001b[0m \u001b[0mnp\u001b[0m\u001b[0;34m.\u001b[0m\u001b[0marray\u001b[0m\u001b[0;34m(\u001b[0m\u001b[0mimage\u001b[0m\u001b[0;34m)\u001b[0m\u001b[0;34m\u001b[0m\u001b[0;34m\u001b[0m\u001b[0m\n\u001b[1;32m      6\u001b[0m     \u001b[0mimagearray\u001b[0m \u001b[0;34m=\u001b[0m \u001b[0mimagearray\u001b[0m\u001b[0;34m[\u001b[0m\u001b[0;36m0\u001b[0m\u001b[0;34m:\u001b[0m\u001b[0;36m700\u001b[0m\u001b[0;34m,\u001b[0m\u001b[0;36m0\u001b[0m\u001b[0;34m:\u001b[0m\u001b[0;36m700\u001b[0m\u001b[0;34m]\u001b[0m\u001b[0;34m\u001b[0m\u001b[0;34m\u001b[0m\u001b[0m\n",
      "\u001b[0;32m/anaconda3/lib/python3.7/site-packages/PIL/Image.py\u001b[0m in \u001b[0;36mopen\u001b[0;34m(fp, mode)\u001b[0m\n\u001b[1;32m   2655\u001b[0m         \u001b[0mwarnings\u001b[0m\u001b[0;34m.\u001b[0m\u001b[0mwarn\u001b[0m\u001b[0;34m(\u001b[0m\u001b[0mmessage\u001b[0m\u001b[0;34m)\u001b[0m\u001b[0;34m\u001b[0m\u001b[0;34m\u001b[0m\u001b[0m\n\u001b[1;32m   2656\u001b[0m     raise IOError(\"cannot identify image file %r\"\n\u001b[0;32m-> 2657\u001b[0;31m                   % (filename if filename else fp))\n\u001b[0m\u001b[1;32m   2658\u001b[0m \u001b[0;34m\u001b[0m\u001b[0m\n\u001b[1;32m   2659\u001b[0m \u001b[0;31m#\u001b[0m\u001b[0;34m\u001b[0m\u001b[0;34m\u001b[0m\u001b[0;34m\u001b[0m\u001b[0m\n",
      "\u001b[0;31mOSError\u001b[0m: cannot identify image file '.%F733E9B0.png'"
     ]
    }
   ],
   "source": [
    "sumdata = []\n",
    "mean = []\n",
    "for i in onlyfiles:\n",
    "    image = Image.open(i).convert('L')\n",
    "    imagearray = np.array(image)\n",
    "    imagearray = imagearray[0:700,0:700]\n",
    "    x = sum(imagearray.reshape(imagearray.shape[0] * imagearray.shape[1]))\n",
    "    sumdata.append((i,x))\n",
    "    mean.append(x)\n",
    "    "
   ]
  },
  {
   "cell_type": "code",
   "execution_count": 30,
   "metadata": {},
   "outputs": [
    {
     "data": {
      "text/plain": [
       "[]"
      ]
     },
     "execution_count": 30,
     "metadata": {},
     "output_type": "execute_result"
    }
   ],
   "source": [
    "sumdata"
   ]
  },
  {
   "cell_type": "code",
   "execution_count": 31,
   "metadata": {},
   "outputs": [
    {
     "name": "stderr",
     "output_type": "stream",
     "text": [
      "/anaconda3/lib/python3.7/site-packages/numpy/lib/function_base.py:356: RuntimeWarning: Mean of empty slice.\n",
      "  avg = a.mean(axis)\n",
      "/anaconda3/lib/python3.7/site-packages/numpy/core/_methods.py:85: RuntimeWarning: invalid value encountered in double_scalars\n",
      "  ret = ret.dtype.type(ret / rcount)\n"
     ]
    }
   ],
   "source": [
    "mean = np.average(mean)"
   ]
  },
  {
   "cell_type": "code",
   "execution_count": 32,
   "metadata": {},
   "outputs": [
    {
     "data": {
      "text/plain": [
       "nan"
      ]
     },
     "execution_count": 32,
     "metadata": {},
     "output_type": "execute_result"
    }
   ],
   "source": [
    "mean"
   ]
  },
  {
   "cell_type": "code",
   "execution_count": 33,
   "metadata": {},
   "outputs": [],
   "source": [
    "sumdata = [(i[0:-4],x-mean) for i,x in sumdata]"
   ]
  },
  {
   "cell_type": "code",
   "execution_count": 34,
   "metadata": {},
   "outputs": [
    {
     "data": {
      "text/plain": [
       "[]"
      ]
     },
     "execution_count": 34,
     "metadata": {},
     "output_type": "execute_result"
    }
   ],
   "source": [
    "sumdata"
   ]
  },
  {
   "cell_type": "code",
   "execution_count": 35,
   "metadata": {},
   "outputs": [],
   "source": [
    "datacrop = sumdata[0:5]+sumdata[10:len(sumdata)] + sumdata[6:10]"
   ]
  },
  {
   "cell_type": "code",
   "execution_count": 36,
   "metadata": {},
   "outputs": [
    {
     "data": {
      "text/plain": [
       "[]"
      ]
     },
     "execution_count": 36,
     "metadata": {},
     "output_type": "execute_result"
    }
   ],
   "source": [
    "datacrop"
   ]
  },
  {
   "cell_type": "code",
   "execution_count": 37,
   "metadata": {},
   "outputs": [],
   "source": [
    "datacrop = datacrop[1:len(datacrop)]"
   ]
  },
  {
   "cell_type": "code",
   "execution_count": 38,
   "metadata": {},
   "outputs": [
    {
     "data": {
      "text/plain": [
       "[]"
      ]
     },
     "execution_count": 38,
     "metadata": {},
     "output_type": "execute_result"
    }
   ],
   "source": [
    "datacrop"
   ]
  },
  {
   "cell_type": "code",
   "execution_count": 39,
   "metadata": {},
   "outputs": [
    {
     "data": {
      "image/png": "[encoded data removed]",
      "text/plain": [
       "<Figure size 432x288 with 1 Axes>"
      ]
     },
     "metadata": {
      "needs_background": "light"
     },
     "output_type": "display_data"
    }
   ],
   "source": [
    "%matplotlib inline\n",
    "import matplotlib.pyplot as plt\n",
    "plt.plot([x for x,_ in datacrop],[x for _,x in datacrop])\n",
    "plt.xlabel('Month & date')\n",
    "plt.ylabel('deviation of nightlights')\n",
    "plt.savefig('nightlights_bhubneshwar.png')\n",
    "# plt.show()"
   ]
  },
  {
   "cell_type": "code",
   "execution_count": null,
   "metadata": {},
   "outputs": [],
   "source": []
  },
  {
   "cell_type": "code",
   "execution_count": null,
   "metadata": {},
   "outputs": [],
   "source": []
  }
 ],
 "metadata": {
  "kernelspec": {
   "display_name": "Python 3",
   "language": "python",
   "name": "python3"
  },
  "language_info": {
   "codemirror_mode": {
    "name": "ipython",
    "version": 3
   },
   "file_extension": ".py",
   "mimetype": "text/x-python",
   "name": "python",
   "nbconvert_exporter": "python",
   "pygments_lexer": "ipython3",
   "version": "3.7.1"
  }
 },
 "nbformat": 4,
 "nbformat_minor": 2
}
