{
 "cells": [
  {
   "cell_type": "code",
   "execution_count": 37,
   "metadata": {},
   "outputs": [],
   "source": [
    "import pandas as pd  \n",
    "import numpy as np  \n",
    "import pandas as pd\n",
    "import seaborn as sns\n",
    "import statsmodels.formula.api as smf\n",
    "from sklearn.linear_model import LinearRegression\n",
    "from sklearn import metrics\n",
    "#from sklearn.cross_validation import train_test_split\n",
    "import numpy as np\n",
    "import matplotlib.pyplot as plt  \n",
    "%matplotlib inline"
   ]
  },
  {
   "cell_type": "code",
   "execution_count": 38,
   "metadata": {},
   "outputs": [],
   "source": [
    "data=pd.read_excel('Data.xlsx')"
   ]
  },
  {
   "cell_type": "code",
   "execution_count": 39,
   "metadata": {},
   "outputs": [
    {
     "data": {
      "text/html": [
       "<div>\n",
       "<style scoped>\n",
       "    .dataframe tbody tr th:only-of-type {\n",
       "        vertical-align: middle;\n",
       "    }\n",
       "\n",
       "    .dataframe tbody tr th {\n",
       "        vertical-align: top;\n",
       "    }\n",
       "\n",
       "    .dataframe thead th {\n",
       "        text-align: right;\n",
       "    }\n",
       "</style>\n",
       "<table border=\"1\" class=\"dataframe\">\n",
       "  <thead>\n",
       "    <tr style=\"text-align: right;\">\n",
       "      <th></th>\n",
       "      <th>Leads</th>\n",
       "      <th>Wins</th>\n",
       "    </tr>\n",
       "  </thead>\n",
       "  <tbody>\n",
       "    <tr>\n",
       "      <th>0</th>\n",
       "      <td>2399</td>\n",
       "      <td>747</td>\n",
       "    </tr>\n",
       "    <tr>\n",
       "      <th>1</th>\n",
       "      <td>4474</td>\n",
       "      <td>700</td>\n",
       "    </tr>\n",
       "    <tr>\n",
       "      <th>2</th>\n",
       "      <td>3117</td>\n",
       "      <td>691</td>\n",
       "    </tr>\n",
       "    <tr>\n",
       "      <th>3</th>\n",
       "      <td>5150</td>\n",
       "      <td>889</td>\n",
       "    </tr>\n",
       "    <tr>\n",
       "      <th>4</th>\n",
       "      <td>3720</td>\n",
       "      <td>1369</td>\n",
       "    </tr>\n",
       "  </tbody>\n",
       "</table>\n",
       "</div>"
      ],
      "text/plain": [
       "   Leads  Wins\n",
       "0   2399   747\n",
       "1   4474   700\n",
       "2   3117   691\n",
       "3   5150   889\n",
       "4   3720  1369"
      ]
     },
     "execution_count": 39,
     "metadata": {},
     "output_type": "execute_result"
    }
   ],
   "source": [
    "data.head()"
   ]
  },
  {
   "cell_type": "code",
   "execution_count": 40,
   "metadata": {},
   "outputs": [
    {
     "data": {
      "text/html": [
       "<div>\n",
       "<style scoped>\n",
       "    .dataframe tbody tr th:only-of-type {\n",
       "        vertical-align: middle;\n",
       "    }\n",
       "\n",
       "    .dataframe tbody tr th {\n",
       "        vertical-align: top;\n",
       "    }\n",
       "\n",
       "    .dataframe thead th {\n",
       "        text-align: right;\n",
       "    }\n",
       "</style>\n",
       "<table border=\"1\" class=\"dataframe\">\n",
       "  <thead>\n",
       "    <tr style=\"text-align: right;\">\n",
       "      <th></th>\n",
       "      <th>Leads</th>\n",
       "      <th>Wins</th>\n",
       "    </tr>\n",
       "  </thead>\n",
       "  <tbody>\n",
       "    <tr>\n",
       "      <th>count</th>\n",
       "      <td>106.000000</td>\n",
       "      <td>106.000000</td>\n",
       "    </tr>\n",
       "    <tr>\n",
       "      <th>mean</th>\n",
       "      <td>4131.518868</td>\n",
       "      <td>1304.575472</td>\n",
       "    </tr>\n",
       "    <tr>\n",
       "      <th>std</th>\n",
       "      <td>1389.188007</td>\n",
       "      <td>684.356256</td>\n",
       "    </tr>\n",
       "    <tr>\n",
       "      <th>min</th>\n",
       "      <td>56.000000</td>\n",
       "      <td>648.000000</td>\n",
       "    </tr>\n",
       "    <tr>\n",
       "      <th>25%</th>\n",
       "      <td>3335.000000</td>\n",
       "      <td>882.500000</td>\n",
       "    </tr>\n",
       "    <tr>\n",
       "      <th>50%</th>\n",
       "      <td>3956.500000</td>\n",
       "      <td>1039.500000</td>\n",
       "    </tr>\n",
       "    <tr>\n",
       "      <th>75%</th>\n",
       "      <td>4901.500000</td>\n",
       "      <td>1574.500000</td>\n",
       "    </tr>\n",
       "    <tr>\n",
       "      <th>max</th>\n",
       "      <td>10013.000000</td>\n",
       "      <td>3784.000000</td>\n",
       "    </tr>\n",
       "  </tbody>\n",
       "</table>\n",
       "</div>"
      ],
      "text/plain": [
       "              Leads         Wins\n",
       "count    106.000000   106.000000\n",
       "mean    4131.518868  1304.575472\n",
       "std     1389.188007   684.356256\n",
       "min       56.000000   648.000000\n",
       "25%     3335.000000   882.500000\n",
       "50%     3956.500000  1039.500000\n",
       "75%     4901.500000  1574.500000\n",
       "max    10013.000000  3784.000000"
      ]
     },
     "execution_count": 40,
     "metadata": {},
     "output_type": "execute_result"
    }
   ],
   "source": [
    "data.describe()\n"
   ]
  },
  {
   "cell_type": "code",
   "execution_count": 41,
   "metadata": {},
   "outputs": [],
   "source": [
    "X = data.iloc[:, :-1].values  \n",
    "y = data.iloc[:, :2].values  "
   ]
  },
  {
   "cell_type": "code",
   "execution_count": 42,
   "metadata": {},
   "outputs": [
    {
     "name": "stdout",
     "output_type": "stream",
     "text": [
      "[[ 2399]\n",
      " [ 4474]\n",
      " [ 3117]\n",
      " [ 5150]\n",
      " [ 3720]\n",
      " [ 3913]\n",
      " [ 4053]\n",
      " [ 3951]\n",
      " [ 4951]\n",
      " [ 6928]\n",
      " [ 4331]\n",
      " [ 5186]\n",
      " [ 5556]\n",
      " [ 3878]\n",
      " [ 3305]\n",
      " [ 3539]\n",
      " [ 5402]\n",
      " [ 3971]\n",
      " [ 4774]\n",
      " [ 8224]\n",
      " [ 4996]\n",
      " [ 3894]\n",
      " [ 5081]\n",
      " [ 4649]\n",
      " [ 5021]\n",
      " [ 4917]\n",
      " [ 2650]\n",
      " [ 3519]\n",
      " [ 4765]\n",
      " [ 5519]\n",
      " [ 4022]\n",
      " [ 5131]\n",
      " [ 6092]\n",
      " [ 3896]\n",
      " [ 3551]\n",
      " [ 3811]\n",
      " [ 5529]\n",
      " [ 4996]\n",
      " [ 4753]\n",
      " [ 3920]\n",
      " [ 4039]\n",
      " [ 4444]\n",
      " [ 5192]\n",
      " [ 3757]\n",
      " [ 4728]\n",
      " [ 4294]\n",
      " [ 3280]\n",
      " [ 4532]\n",
      " [ 5245]\n",
      " [10013]\n",
      " [ 3828]\n",
      " [ 1719]\n",
      " [   56]\n",
      " [ 2395]\n",
      " [ 3451]\n",
      " [ 3197]\n",
      " [ 3516]\n",
      " [ 4301]\n",
      " [ 4770]\n",
      " [ 3601]\n",
      " [ 6929]\n",
      " [ 5047]\n",
      " [ 5922]\n",
      " [ 4072]\n",
      " [ 4855]\n",
      " [ 4123]\n",
      " [ 2823]\n",
      " [ 2362]\n",
      " [ 4111]\n",
      " [ 3826]\n",
      " [ 2971]\n",
      " [ 3962]\n",
      " [ 3609]\n",
      " [ 3065]\n",
      " [ 3600]\n",
      " [ 5244]\n",
      " [ 4309]\n",
      " [ 6782]\n",
      " [ 5224]\n",
      " [ 2410]\n",
      " [ 3640]\n",
      " [ 3813]\n",
      " [ 3819]\n",
      " [ 3523]\n",
      " [ 4743]\n",
      " [ 3350]\n",
      " [ 2928]\n",
      " [ 3830]\n",
      " [ 3289]\n",
      " [ 4630]\n",
      " [ 4612]\n",
      " [ 3605]\n",
      " [ 2739]\n",
      " [ 2956]\n",
      " [ 3330]\n",
      " [ 3160]\n",
      " [ 3012]\n",
      " [ 3013]\n",
      " [ 3141]\n",
      " [ 2460]\n",
      " [ 3181]\n",
      " [ 7150]\n",
      " [ 5071]\n",
      " [ 4204]\n",
      " [ 1304]\n",
      " [  300]]\n",
      "[[ 2399   747]\n",
      " [ 4474   700]\n",
      " [ 3117   691]\n",
      " [ 5150   889]\n",
      " [ 3720  1369]\n",
      " [ 3913   718]\n",
      " [ 4053   805]\n",
      " [ 3951   894]\n",
      " [ 4951  1654]\n",
      " [ 6928   926]\n",
      " [ 4331   940]\n",
      " [ 5186  1068]\n",
      " [ 5556  3575]\n",
      " [ 3878   706]\n",
      " [ 3305   668]\n",
      " [ 3539   764]\n",
      " [ 5402  1301]\n",
      " [ 3971  1247]\n",
      " [ 4774   757]\n",
      " [ 8224   875]\n",
      " [ 4996  1024]\n",
      " [ 3894  1770]\n",
      " [ 5081   882]\n",
      " [ 4649   935]\n",
      " [ 5021  1206]\n",
      " [ 4917  3555]\n",
      " [ 2650   648]\n",
      " [ 3519   790]\n",
      " [ 4765   802]\n",
      " [ 5519  1094]\n",
      " [ 4022  1573]\n",
      " [ 5131   828]\n",
      " [ 6092   837]\n",
      " [ 3896   894]\n",
      " [ 3551  1716]\n",
      " [ 3811   823]\n",
      " [ 5529   903]\n",
      " [ 4996  1100]\n",
      " [ 4753  3124]\n",
      " [ 3920  1041]\n",
      " [ 4039   791]\n",
      " [ 4444   866]\n",
      " [ 5192   998]\n",
      " [ 3757  1737]\n",
      " [ 4728   951]\n",
      " [ 4294   915]\n",
      " [ 3280   830]\n",
      " [ 4532  2189]\n",
      " [ 5245  1046]\n",
      " [10013  1235]\n",
      " [ 3828  1885]\n",
      " [ 1719  2822]\n",
      " [   56   672]\n",
      " [ 2395  1694]\n",
      " [ 3451   817]\n",
      " [ 3197   837]\n",
      " [ 3516   820]\n",
      " [ 4301  1946]\n",
      " [ 4770   886]\n",
      " [ 3601  1011]\n",
      " [ 6929  1069]\n",
      " [ 5047  2082]\n",
      " [ 5922   980]\n",
      " [ 4072  1102]\n",
      " [ 4855  1298]\n",
      " [ 4123  3572]\n",
      " [ 2823  1648]\n",
      " [ 2362   781]\n",
      " [ 4111  1076]\n",
      " [ 3826  1255]\n",
      " [ 2971  2009]\n",
      " [ 3962   962]\n",
      " [ 3609  1042]\n",
      " [ 3065  1102]\n",
      " [ 3600  2298]\n",
      " [ 5244   975]\n",
      " [ 4309  1018]\n",
      " [ 6782  1214]\n",
      " [ 5224  3784]\n",
      " [ 2410  1575]\n",
      " [ 3640   911]\n",
      " [ 3813   963]\n",
      " [ 3819  1085]\n",
      " [ 3523  2107]\n",
      " [ 4743   913]\n",
      " [ 3350   882]\n",
      " [ 2928  1281]\n",
      " [ 3830  2298]\n",
      " [ 3289   905]\n",
      " [ 4630  1038]\n",
      " [ 4612  1365]\n",
      " [ 3605  2462]\n",
      " [ 2739  1963]\n",
      " [ 2956   954]\n",
      " [ 3330  1036]\n",
      " [ 3160   966]\n",
      " [ 3012  2072]\n",
      " [ 3013   851]\n",
      " [ 3141  1071]\n",
      " [ 2460   884]\n",
      " [ 3181  2208]\n",
      " [ 7150  1119]\n",
      " [ 5071  1256]\n",
      " [ 4204  2008]\n",
      " [ 1304  1996]\n",
      " [  300  1062]]\n"
     ]
    }
   ],
   "source": [
    "print(X)\n",
    "print(y)"
   ]
  },
  {
   "cell_type": "code",
   "execution_count": 43,
   "metadata": {},
   "outputs": [],
   "source": [
    "from sklearn.model_selection import train_test_split  \n",
    "X_train, X_test, y_train, y_test = train_test_split(X, y, test_size=0.2, random_state=0)"
   ]
  },
  {
   "cell_type": "code",
   "execution_count": 64,
   "metadata": {},
   "outputs": [
    {
     "name": "stdout",
     "output_type": "stream",
     "text": [
      "[[ 2650   648]\n",
      " [ 3605  2462]\n",
      " [ 3896   894]\n",
      " [ 5150   889]\n",
      " [ 2823  1648]\n",
      " [ 5245  1046]\n",
      " [ 4022  1573]\n",
      " [ 4053   805]\n",
      " [ 5224  3784]\n",
      " [ 2956   954]\n",
      " [ 3640   911]\n",
      " [ 2739  1963]\n",
      " [ 3819  1085]\n",
      " [ 3601  1011]\n",
      " [ 3519   790]\n",
      " [ 4774   757]\n",
      " [ 5047  2082]\n",
      " [ 1719  2822]\n",
      " [ 4072  1102]\n",
      " [ 3962   962]\n",
      " [ 3757  1737]\n",
      " [ 4474   700]\n",
      " [ 2410  1575]\n",
      " [ 5192   998]\n",
      " [ 4444   866]\n",
      " [ 3720  1369]\n",
      " [ 3539   764]\n",
      " [ 3971  1247]\n",
      " [ 4039   791]\n",
      " [ 4753  3124]\n",
      " [ 3913   718]\n",
      " [ 2395  1694]\n",
      " [ 3013   851]\n",
      " [ 3516   820]\n",
      " [ 2399   747]\n",
      " [ 3551  1716]\n",
      " [ 4765   802]\n",
      " [ 3197   837]\n",
      " [ 3828  1885]\n",
      " [ 5186  1068]\n",
      " [ 5922   980]\n",
      " [ 3811   823]\n",
      " [ 4649   935]\n",
      " [ 5131   828]\n",
      " [ 3160   966]\n",
      " [ 4301  1946]\n",
      " [ 2928  1281]\n",
      " [ 4612  1365]\n",
      " [ 6092   837]\n",
      " [ 4630  1038]\n",
      " [ 3305   668]\n",
      " [ 3600  2298]\n",
      " [ 8224   875]\n",
      " [ 5519  1094]\n",
      " [10013  1235]\n",
      " [ 4204  2008]\n",
      " [ 1304  1996]\n",
      " [ 3826  1255]\n",
      " [ 4996  1024]\n",
      " [ 3181  2208]\n",
      " [ 3609  1042]\n",
      " [ 6782  1214]\n",
      " [ 4917  3555]\n",
      " [ 4996  1100]\n",
      " [ 3813   963]\n",
      " [ 3280   830]\n",
      " [ 3012  2072]\n",
      " [ 3920  1041]\n",
      " [ 4123  3572]\n",
      " [ 4770   886]\n",
      " [ 5556  3575]\n",
      " [ 3330  1036]\n",
      " [ 3289   905]\n",
      " [ 2971  2009]\n",
      " [ 3830  2298]\n",
      " [ 5529   903]\n",
      " [ 3894  1770]\n",
      " [ 3523  2107]\n",
      " [ 6928   926]\n",
      " [ 5071  1256]\n",
      " [ 2362   781]\n",
      " [ 4855  1298]\n",
      " [ 4532  2189]\n",
      " [ 4728   951]]\n"
     ]
    }
   ],
   "source": [
    "from sklearn.linear_model import LinearRegression  \n",
    "regressor = LinearRegression()  \n",
    "regressor.fit(X_train, y_train)  \n",
    "\n",
    "\n",
    "print(y_train)"
   ]
  },
  {
   "cell_type": "code",
   "execution_count": 65,
   "metadata": {},
   "outputs": [
    {
     "name": "stdout",
     "output_type": "stream",
     "text": [
      "[2.72848411e-12 1.53467050e+03]\n"
     ]
    }
   ],
   "source": [
    "print(regressor.intercept_)  "
   ]
  },
  {
   "cell_type": "code",
   "execution_count": 66,
   "metadata": {},
   "outputs": [
    {
     "name": "stdout",
     "output_type": "stream",
     "text": [
      "[[ 1.        ]\n",
      " [-0.03568681]]\n"
     ]
    }
   ],
   "source": [
    "print(regressor.coef_)"
   ]
  },
  {
   "cell_type": "code",
   "execution_count": 67,
   "metadata": {},
   "outputs": [
    {
     "name": "stdout",
     "output_type": "stream",
     "text": [
      "[[2460]\n",
      " [4331]\n",
      " [5244]\n",
      " [3117]\n",
      " [5021]\n",
      " [3141]\n",
      " [ 300]\n",
      " [3951]\n",
      " [5402]\n",
      " [3350]\n",
      " [4111]\n",
      " [5081]\n",
      " [4294]\n",
      " [6929]\n",
      " [4309]\n",
      " [  56]\n",
      " [3878]\n",
      " [3065]\n",
      " [4743]\n",
      " [3451]\n",
      " [7150]\n",
      " [4951]]\n"
     ]
    }
   ],
   "source": [
    "y_pred = regressor.predict(X_test)  \n",
    "print(X_test)"
   ]
  },
  {
   "cell_type": "code",
   "execution_count": 68,
   "metadata": {},
   "outputs": [
    {
     "name": "stdout",
     "output_type": "stream",
     "text": [
      "[[2460.         1446.88095465]\n",
      " [4331.         1380.11093691]\n",
      " [5244.         1347.52888121]\n",
      " [3117.         1423.4347218 ]\n",
      " [5021.         1355.4870394 ]\n",
      " [3141.         1422.57823841]\n",
      " [ 300.         1523.96445991]\n",
      " [3951.         1393.67192394]\n",
      " [5402.         1341.89036555]\n",
      " [3350.         1415.11969554]\n",
      " [4111.         1387.96203466]\n",
      " [5081.         1353.34583092]\n",
      " [4294.         1381.4313488 ]\n",
      " [6929.         1287.39660975]\n",
      " [4309.         1380.89604668]\n",
      " [  56.         1532.67204106]\n",
      " [3878.         1396.27706093]\n",
      " [3065.         1425.29043582]\n",
      " [4743.         1365.40797202]\n",
      " [3451.         1411.51532794]\n",
      " [7150.         1279.50982519]\n",
      " [4951.         1357.98511595]]\n"
     ]
    }
   ],
   "source": [
    "print(y_pred)"
   ]
  },
  {
   "cell_type": "code",
   "execution_count": 57,
   "metadata": {},
   "outputs": [
    {
     "data": {
      "text/plain": [
       "<bound method DataFrame.all of    Actual    Predicted\n",
       "0    5244  5244.000000\n",
       "1     975  1347.528881>"
      ]
     },
     "execution_count": 57,
     "metadata": {},
     "output_type": "execute_result"
    }
   ],
   "source": [
    "df = pd.DataFrame({'Actual': y_test[2], 'Predicted': y_pred[2]})  \n",
    "df "
   ]
  },
  {
   "cell_type": "code",
   "execution_count": 69,
   "metadata": {},
   "outputs": [
    {
     "name": "stdout",
     "output_type": "stream",
     "text": [
      "Mean Absolute Error: 281.440477326278\n",
      "Mean Squared Error: 158417.48455528566\n",
      "Root Mean Squared Error: 398.01694003557895\n"
     ]
    }
   ],
   "source": [
    "from sklearn import metrics  \n",
    "print('Mean Absolute Error:', metrics.mean_absolute_error(y_test[0], y_pred[0]))  \n",
    "print('Mean Squared Error:', metrics.mean_squared_error(y_test[0], y_pred[0]))  \n",
    "print('Root Mean Squared Error:', np.sqrt(metrics.mean_squared_error(y_test[0], y_pred[0])))  "
   ]
  },
  {
   "cell_type": "code",
   "execution_count": 59,
   "metadata": {},
   "outputs": [],
   "source": [
    "accuracy = regressor.score(X_test,y_test)"
   ]
  },
  {
   "cell_type": "code",
   "execution_count": 62,
   "metadata": {},
   "outputs": [
    {
     "name": "stdout",
     "output_type": "stream",
     "text": [
      "92.23964753309612\n"
     ]
    }
   ],
   "source": [
    "print(accuracy*100)"
   ]
  },
  {
   "cell_type": "code",
   "execution_count": null,
   "metadata": {},
   "outputs": [],
   "source": []
  }
 ],
 "metadata": {
  "kernelspec": {
   "display_name": "Python 3",
   "language": "python",
   "name": "python3"
  },
  "language_info": {
   "codemirror_mode": {
    "name": "ipython",
    "version": 3
   },
   "file_extension": ".py",
   "mimetype": "text/x-python",
   "name": "python",
   "nbconvert_exporter": "python",
   "pygments_lexer": "ipython3",
   "version": "3.7.1"
  }
 },
 "nbformat": 4,
 "nbformat_minor": 2
}
