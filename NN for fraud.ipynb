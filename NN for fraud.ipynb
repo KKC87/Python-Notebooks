{
 "cells": [
  {
   "cell_type": "code",
   "execution_count": 1,
   "metadata": {},
   "outputs": [
    {
     "name": "stderr",
     "output_type": "stream",
     "text": [
      "Using TensorFlow backend.\n",
      "/anaconda3/lib/python3.7/importlib/_bootstrap.py:219: RuntimeWarning: compiletime version 3.6 of module 'tensorflow.python.framework.fast_tensor_util' does not match runtime version 3.7\n",
      "  return f(*args, **kwds)\n"
     ]
    }
   ],
   "source": [
    "from keras.callbacks import EarlyStopping\n",
    "from keras.callbacks import LearningRateScheduler\n",
    "from keras.models import Sequential\n",
    "from keras.layers import Dense\n"
   ]
  },
  {
   "cell_type": "code",
   "execution_count": 3,
   "metadata": {},
   "outputs": [],
   "source": [
    "import numpy as np\n",
    "import pandas as pd\n",
    "# fix random seed for reproducibility\n",
    "seed = 7\n",
    "np.random.seed(seed)"
   ]
  },
  {
   "cell_type": "code",
   "execution_count": 4,
   "metadata": {},
   "outputs": [],
   "source": [
    "from matplotlib import pyplot\n",
    "import math"
   ]
  },
  {
   "cell_type": "code",
   "execution_count": 5,
   "metadata": {},
   "outputs": [],
   "source": [
    "session_df = pd.read_csv('session_related.csv')\n",
    "delivery_df = pd.read_csv('delivery_related.csv')\n",
    "outlier_df = pd.read_csv('generic_outliers_data.csv')"
   ]
  },
  {
   "cell_type": "code",
   "execution_count": 6,
   "metadata": {},
   "outputs": [],
   "source": [
    "ds_merge_df = pd.merge(delivery_df,session_df,on='OrderId')"
   ]
  },
  {
   "cell_type": "code",
   "execution_count": 7,
   "metadata": {},
   "outputs": [],
   "source": [
    "df = pd.merge(ds_merge_df,outlier_df,on='CustId')"
   ]
  },
  {
   "cell_type": "code",
   "execution_count": 8,
   "metadata": {},
   "outputs": [],
   "source": [
    "from sklearn.preprocessing import LabelEncoder\n",
    "categorical = ['IncomeLevel','OccupationalLevel','IsValidAddress','IsAddchangeRecently','IsAddchangeonDel','IsDeliveryRejected','IsProductConsumable','IsOneTimeUseProduct','IsOfferCodeApplied','IsValidGeo']\n",
    "\n",
    "label_encoder = LabelEncoder()\n",
    "for col in categorical:\n",
    "    df[col] = label_encoder.fit_transform(df[col].astype(str))\n",
    "\n",
    "df=df.iloc[:df.shape[0]]"
   ]
  },
  {
   "cell_type": "code",
   "execution_count": 9,
   "metadata": {},
   "outputs": [],
   "source": [
    "df['OrderDate'] =  pd.to_datetime(df['OrderDate'],format='%d/%m/%Y')\n",
    "df['AddressChangeDate'] =  pd.to_datetime(df['AddressChangeDate'],format='%d/%m/%Y')\n",
    "df['DeliveryDate'] =  pd.to_datetime(df['DeliveryDate'],format='%d/%m/%Y')\n",
    "df['ReplacementDate'] =  pd.to_datetime(df['ReplacementDate'],format='%d/%m/%Y')\n"
   ]
  },
  {
   "cell_type": "code",
   "execution_count": 10,
   "metadata": {},
   "outputs": [],
   "source": [
    "def extract_date(df,column):\n",
    "    df[column+\"_year\"] = df[column].apply(lambda x: x.year) \n",
    "    df[column+\"_month\"] = df[column].apply(lambda x: x.month)\n",
    "    df[column+\"_date\"] = df[column].apply(lambda x: x.day)    "
   ]
  },
  {
   "cell_type": "code",
   "execution_count": 11,
   "metadata": {},
   "outputs": [],
   "source": [
    "extract_date(df,'OrderDate')\n",
    "extract_date(df,'AddressChangeDate')\n",
    "extract_date(df,'DeliveryDate')\n",
    "extract_date(df,'ReplacementDate')"
   ]
  },
  {
   "cell_type": "code",
   "execution_count": 12,
   "metadata": {},
   "outputs": [
    {
     "name": "stdout",
     "output_type": "stream",
     "text": [
      "Before (100000, 43)\n",
      "After (100000, 29)\n"
     ]
    }
   ],
   "source": [
    "# delete unnecessary feature from dataset\n",
    "\n",
    "print(\"Before\", df.shape)\n",
    "features_drop = ['EmailId','MobileNo','MacAddress','City','Pincode', 'IP_start_session', 'IP_end_session',\n",
    "                'CustId','OrderId','ProductId','OrderDate', 'AddressChangeDate','DeliveryDate',\n",
    "                'ReplacementDate']\n",
    "train_data = df.drop(features_drop, axis=1)\n",
    "labels = train_data['Fraud']\n",
    "features = train_data.drop('Fraud', axis=1)\n",
    "print(\"After\",train_data.shape)"
   ]
  },
  {
   "cell_type": "code",
   "execution_count": 13,
   "metadata": {},
   "outputs": [
    {
     "data": {
      "text/html": [
       "<div>\n",
       "<style scoped>\n",
       "    .dataframe tbody tr th:only-of-type {\n",
       "        vertical-align: middle;\n",
       "    }\n",
       "\n",
       "    .dataframe tbody tr th {\n",
       "        vertical-align: top;\n",
       "    }\n",
       "\n",
       "    .dataframe thead th {\n",
       "        text-align: right;\n",
       "    }\n",
       "</style>\n",
       "<table border=\"1\" class=\"dataframe\">\n",
       "  <thead>\n",
       "    <tr style=\"text-align: right;\">\n",
       "      <th></th>\n",
       "      <th>IsValidAddress</th>\n",
       "      <th>IsAddchangeRecently</th>\n",
       "      <th>IsAddchangeonDel</th>\n",
       "      <th>IsDeliveryRejected</th>\n",
       "      <th>OriginalPrice</th>\n",
       "      <th>PaidPrice</th>\n",
       "      <th>IsProductConsumable</th>\n",
       "      <th>IsOneTimeUseProduct</th>\n",
       "      <th>IsOfferCodeApplied</th>\n",
       "      <th>Session_Pincode</th>\n",
       "      <th>...</th>\n",
       "      <th>OrderDate_date</th>\n",
       "      <th>AddressChangeDate_year</th>\n",
       "      <th>AddressChangeDate_month</th>\n",
       "      <th>AddressChangeDate_date</th>\n",
       "      <th>DeliveryDate_year</th>\n",
       "      <th>DeliveryDate_month</th>\n",
       "      <th>DeliveryDate_date</th>\n",
       "      <th>ReplacementDate_year</th>\n",
       "      <th>ReplacementDate_month</th>\n",
       "      <th>ReplacementDate_date</th>\n",
       "    </tr>\n",
       "  </thead>\n",
       "  <tbody>\n",
       "    <tr>\n",
       "      <th>0</th>\n",
       "      <td>1</td>\n",
       "      <td>0</td>\n",
       "      <td>1</td>\n",
       "      <td>1</td>\n",
       "      <td>1711</td>\n",
       "      <td>1728</td>\n",
       "      <td>1</td>\n",
       "      <td>0</td>\n",
       "      <td>0</td>\n",
       "      <td>134</td>\n",
       "      <td>...</td>\n",
       "      <td>24</td>\n",
       "      <td>0</td>\n",
       "      <td>10</td>\n",
       "      <td>19</td>\n",
       "      <td>0</td>\n",
       "      <td>0</td>\n",
       "      <td>27</td>\n",
       "      <td>0</td>\n",
       "      <td>1</td>\n",
       "      <td>0</td>\n",
       "    </tr>\n",
       "    <tr>\n",
       "      <th>1</th>\n",
       "      <td>0</td>\n",
       "      <td>1</td>\n",
       "      <td>0</td>\n",
       "      <td>0</td>\n",
       "      <td>1713</td>\n",
       "      <td>1727</td>\n",
       "      <td>1</td>\n",
       "      <td>1</td>\n",
       "      <td>0</td>\n",
       "      <td>383</td>\n",
       "      <td>...</td>\n",
       "      <td>5</td>\n",
       "      <td>1</td>\n",
       "      <td>1</td>\n",
       "      <td>2</td>\n",
       "      <td>0</td>\n",
       "      <td>1</td>\n",
       "      <td>9</td>\n",
       "      <td>0</td>\n",
       "      <td>1</td>\n",
       "      <td>16</td>\n",
       "    </tr>\n",
       "    <tr>\n",
       "      <th>2</th>\n",
       "      <td>1</td>\n",
       "      <td>0</td>\n",
       "      <td>1</td>\n",
       "      <td>1</td>\n",
       "      <td>3146</td>\n",
       "      <td>3159</td>\n",
       "      <td>1</td>\n",
       "      <td>0</td>\n",
       "      <td>1</td>\n",
       "      <td>522</td>\n",
       "      <td>...</td>\n",
       "      <td>11</td>\n",
       "      <td>0</td>\n",
       "      <td>6</td>\n",
       "      <td>29</td>\n",
       "      <td>0</td>\n",
       "      <td>0</td>\n",
       "      <td>21</td>\n",
       "      <td>0</td>\n",
       "      <td>1</td>\n",
       "      <td>0</td>\n",
       "    </tr>\n",
       "    <tr>\n",
       "      <th>3</th>\n",
       "      <td>0</td>\n",
       "      <td>1</td>\n",
       "      <td>0</td>\n",
       "      <td>0</td>\n",
       "      <td>1662</td>\n",
       "      <td>1679</td>\n",
       "      <td>1</td>\n",
       "      <td>1</td>\n",
       "      <td>1</td>\n",
       "      <td>787</td>\n",
       "      <td>...</td>\n",
       "      <td>18</td>\n",
       "      <td>0</td>\n",
       "      <td>8</td>\n",
       "      <td>14</td>\n",
       "      <td>0</td>\n",
       "      <td>0</td>\n",
       "      <td>25</td>\n",
       "      <td>0</td>\n",
       "      <td>0</td>\n",
       "      <td>30</td>\n",
       "    </tr>\n",
       "    <tr>\n",
       "      <th>4</th>\n",
       "      <td>1</td>\n",
       "      <td>0</td>\n",
       "      <td>1</td>\n",
       "      <td>0</td>\n",
       "      <td>1709</td>\n",
       "      <td>1724</td>\n",
       "      <td>1</td>\n",
       "      <td>0</td>\n",
       "      <td>1</td>\n",
       "      <td>112</td>\n",
       "      <td>...</td>\n",
       "      <td>26</td>\n",
       "      <td>0</td>\n",
       "      <td>5</td>\n",
       "      <td>13</td>\n",
       "      <td>0</td>\n",
       "      <td>3</td>\n",
       "      <td>2</td>\n",
       "      <td>0</td>\n",
       "      <td>3</td>\n",
       "      <td>5</td>\n",
       "    </tr>\n",
       "  </tbody>\n",
       "</table>\n",
       "<p>5 rows × 28 columns</p>\n",
       "</div>"
      ],
      "text/plain": [
       "   IsValidAddress  IsAddchangeRecently  IsAddchangeonDel  IsDeliveryRejected  \\\n",
       "0               1                    0                 1                   1   \n",
       "1               0                    1                 0                   0   \n",
       "2               1                    0                 1                   1   \n",
       "3               0                    1                 0                   0   \n",
       "4               1                    0                 1                   0   \n",
       "\n",
       "   OriginalPrice  PaidPrice  IsProductConsumable  IsOneTimeUseProduct  \\\n",
       "0           1711       1728                    1                    0   \n",
       "1           1713       1727                    1                    1   \n",
       "2           3146       3159                    1                    0   \n",
       "3           1662       1679                    1                    1   \n",
       "4           1709       1724                    1                    0   \n",
       "\n",
       "   IsOfferCodeApplied  Session_Pincode          ...           OrderDate_date  \\\n",
       "0                   0              134          ...                       24   \n",
       "1                   0              383          ...                        5   \n",
       "2                   1              522          ...                       11   \n",
       "3                   1              787          ...                       18   \n",
       "4                   1              112          ...                       26   \n",
       "\n",
       "   AddressChangeDate_year  AddressChangeDate_month  AddressChangeDate_date  \\\n",
       "0                       0                       10                      19   \n",
       "1                       1                        1                       2   \n",
       "2                       0                        6                      29   \n",
       "3                       0                        8                      14   \n",
       "4                       0                        5                      13   \n",
       "\n",
       "   DeliveryDate_year  DeliveryDate_month  DeliveryDate_date  \\\n",
       "0                  0                   0                 27   \n",
       "1                  0                   1                  9   \n",
       "2                  0                   0                 21   \n",
       "3                  0                   0                 25   \n",
       "4                  0                   3                  2   \n",
       "\n",
       "   ReplacementDate_year  ReplacementDate_month  ReplacementDate_date  \n",
       "0                     0                      1                     0  \n",
       "1                     0                      1                    16  \n",
       "2                     0                      1                     0  \n",
       "3                     0                      0                    30  \n",
       "4                     0                      3                     5  \n",
       "\n",
       "[5 rows x 28 columns]"
      ]
     },
     "execution_count": 13,
     "metadata": {},
     "output_type": "execute_result"
    }
   ],
   "source": [
    "from sklearn.preprocessing import LabelEncoder, OneHotEncoder\n",
    "features = features.apply(LabelEncoder().fit_transform)\n",
    "features.head()"
   ]
  },
  {
   "cell_type": "code",
   "execution_count": 14,
   "metadata": {},
   "outputs": [],
   "source": [
    "from sklearn import preprocessing\n",
    "encoder = preprocessing.LabelEncoder()\n",
    "encoder.fit(labels)\n",
    "labels_enc = encoder.transform(labels)"
   ]
  },
  {
   "cell_type": "code",
   "execution_count": 15,
   "metadata": {},
   "outputs": [
    {
     "name": "stdout",
     "output_type": "stream",
     "text": [
      "Train on 80000 samples, validate on 20000 samples\n",
      "Epoch 1/10\n",
      " - 13s - loss: -3.1893e+00 - acc: 0.6991 - val_loss: -3.1709e+00 - val_acc: 0.7033\n",
      "Epoch 2/10\n",
      " - 13s - loss: -3.1929e+00 - acc: 0.6992 - val_loss: -3.1709e+00 - val_acc: 0.7033\n",
      "Epoch 3/10\n",
      " - 12s - loss: -3.1929e+00 - acc: 0.6992 - val_loss: -3.1709e+00 - val_acc: 0.7033\n",
      "Epoch 4/10\n",
      " - 12s - loss: -3.1929e+00 - acc: 0.6992 - val_loss: -3.1709e+00 - val_acc: 0.7033\n",
      "Epoch 5/10\n",
      " - 13s - loss: -3.1929e+00 - acc: 0.6992 - val_loss: -3.1709e+00 - val_acc: 0.7033\n",
      "Epoch 6/10\n",
      " - 14s - loss: -3.1929e+00 - acc: 0.6992 - val_loss: -3.1709e+00 - val_acc: 0.7033\n",
      "Epoch 7/10\n",
      " - 13s - loss: -3.1929e+00 - acc: 0.6992 - val_loss: -3.1709e+00 - val_acc: 0.7033\n",
      "Epoch 8/10\n",
      " - 12s - loss: -3.1929e+00 - acc: 0.6992 - val_loss: -3.1709e+00 - val_acc: 0.7033\n",
      "Epoch 9/10\n",
      " - 12s - loss: -3.1929e+00 - acc: 0.6992 - val_loss: -3.1709e+00 - val_acc: 0.7033\n",
      "Epoch 10/10\n",
      " - 16s - loss: -3.1929e+00 - acc: 0.6992 - val_loss: -3.1709e+00 - val_acc: 0.7033\n"
     ]
    },
    {
     "data": {
      "text/plain": [
       "[<matplotlib.lines.Line2D at 0xb30935da0>]"
      ]
     },
     "execution_count": 15,
     "metadata": {},
     "output_type": "execute_result"
    },
    {
     "data": {
      "image/png": "[encoded data removed]",
      "text/plain": [
       "<Figure size 432x288 with 1 Axes>"
      ]
     },
     "metadata": {
      "needs_background": "light"
     },
     "output_type": "display_data"
    }
   ],
   "source": [
    "\n",
    "def step_decay(epoch):\n",
    "\tinitial_lrate = 0.001\n",
    "\t#drop = 0.5\n",
    "\t#epochs_drop = 10.0\n",
    "\t#lrate = initial_lrate * math.pow(drop, math.floor((1+epoch)/epochs_drop))\n",
    "\treturn initial_lrate\n",
    "\n",
    "from sklearn.model_selection import train_test_split\n",
    "X_train, X_test, y_train, y_test = train_test_split(features, labels_enc, test_size=0.20, random_state=42)\n",
    "# create model\n",
    "model = Sequential()\n",
    "model.add(Dense(29, input_dim=28, kernel_initializer='uniform', activation='relu'))\n",
    "model.add(Dense(50, kernel_initializer='uniform', activation='relu'))\n",
    "model.add(Dense(70, kernel_initializer='uniform', activation='relu'))\n",
    "#model.add(Dense(20, kernel_initializer='uniform', activation='relu'))\n",
    "model.add(Dense(1, kernel_initializer='uniform', activation='sigmoid'))\n",
    "# Compile model\n",
    "model.compile(loss='binary_crossentropy', optimizer='adam', metrics=['accuracy'])\n",
    "# Fit the model\n",
    "#early_stop = EarlyStopping(monitor='val_loss', patience=7, verbose=2)\n",
    "\n",
    "lrate = LearningRateScheduler(step_decay)\n",
    "#callbacks_list = [early_stop,lrate]\n",
    "callbacks_list = [lrate]\n",
    "history = model.fit(X_train, y_train, epochs=10,validation_data=(X_test,y_test), batch_size=10,  verbose=2,callbacks=callbacks_list)\n",
    "pyplot.plot(history.history['loss'], color='blue')\n",
    "pyplot.plot(history.history['val_loss'], color='orange')\n"
   ]
  },
  {
   "cell_type": "code",
   "execution_count": 20,
   "metadata": {},
   "outputs": [
    {
     "ename": "NameError",
     "evalue": "name 'metrics' is not defined",
     "output_type": "error",
     "traceback": [
      "\u001b[0;31m---------------------------------------------------------------------------\u001b[0m",
      "\u001b[0;31mNameError\u001b[0m                                 Traceback (most recent call last)",
      "\u001b[0;32m<ipython-input-20-68a110844707>\u001b[0m in \u001b[0;36m<module>\u001b[0;34m\u001b[0m\n\u001b[1;32m      1\u001b[0m \u001b[0;32mfrom\u001b[0m \u001b[0msklearn\u001b[0m\u001b[0;34m.\u001b[0m\u001b[0mmetrics\u001b[0m \u001b[0;32mimport\u001b[0m \u001b[0maccuracy_score\u001b[0m\u001b[0;34m\u001b[0m\u001b[0;34m\u001b[0m\u001b[0m\n\u001b[1;32m      2\u001b[0m \u001b[0;31m# Model Precision: what percentage of positive tuples are labeled as such?\u001b[0m\u001b[0;34m\u001b[0m\u001b[0;34m\u001b[0m\u001b[0;34m\u001b[0m\u001b[0m\n\u001b[0;32m----> 3\u001b[0;31m \u001b[0mprint\u001b[0m\u001b[0;34m(\u001b[0m\u001b[0;34m\"Precision:\"\u001b[0m\u001b[0;34m,\u001b[0m\u001b[0mmetrics\u001b[0m\u001b[0;34m.\u001b[0m\u001b[0mprecision_score\u001b[0m\u001b[0;34m(\u001b[0m\u001b[0my_pred\u001b[0m\u001b[0;34m,\u001b[0m\u001b[0my_val\u001b[0m\u001b[0;34m,\u001b[0m\u001b[0maverage\u001b[0m\u001b[0;34m=\u001b[0m\u001b[0;32mNone\u001b[0m\u001b[0;34m)\u001b[0m\u001b[0;34m)\u001b[0m\u001b[0;34m\u001b[0m\u001b[0;34m\u001b[0m\u001b[0m\n\u001b[0m\u001b[1;32m      4\u001b[0m \u001b[0;34m\u001b[0m\u001b[0m\n\u001b[1;32m      5\u001b[0m \u001b[0;31m# Model Recall: what percentage of positive tuples are labelled as such?\u001b[0m\u001b[0;34m\u001b[0m\u001b[0;34m\u001b[0m\u001b[0;34m\u001b[0m\u001b[0m\n",
      "\u001b[0;31mNameError\u001b[0m: name 'metrics' is not defined"
     ]
    }
   ],
   "source": [
    "from sklearn.metrics import accuracy_score\n",
    "# Model Precision: what percentage of positive tuples are labeled as such?\n",
    "print(\"Precision:\",metrics.precision_score(y_pred,y_val,average=None))\n",
    "\n",
    "# Model Recall: what percentage of positive tuples are labelled as such?\n",
    "print(\"Recall:\",metrics.recall_score(y_pred,y_val,average=None))\n",
    "\n",
    "\n",
    "print(\"F1 score:\",metrics.f1_score(y_pred,y_val,average=None))"
   ]
  },
  {
   "cell_type": "code",
   "execution_count": 18,
   "metadata": {},
   "outputs": [
    {
     "data": {
      "text/plain": [
       "0.5"
      ]
     },
     "execution_count": 18,
     "metadata": {},
     "output_type": "execute_result"
    }
   ],
   "source": [
    "from sklearn.metrics import accuracy_score\n",
    "y_pred = [0, 2, 1, 3]\n",
    "y_true = [0, 1, 2, 3]\n",
    "accuracy_score(y_true, y_pred)"
   ]
  },
  {
   "cell_type": "code",
   "execution_count": null,
   "metadata": {},
   "outputs": [],
   "source": []
  }
 ],
 "metadata": {
  "kernelspec": {
   "display_name": "Python 3",
   "language": "python",
   "name": "python3"
  },
  "language_info": {
   "codemirror_mode": {
    "name": "ipython",
    "version": 3
   },
   "file_extension": ".py",
   "mimetype": "text/x-python",
   "name": "python",
   "nbconvert_exporter": "python",
   "pygments_lexer": "ipython3",
   "version": "3.7.1"
  }
 },
 "nbformat": 4,
 "nbformat_minor": 2
}
