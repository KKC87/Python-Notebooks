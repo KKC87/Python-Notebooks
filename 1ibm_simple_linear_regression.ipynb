{
 "cells": [
  {
   "cell_type": "code",
   "execution_count": 432,
   "metadata": {},
   "outputs": [],
   "source": [
    "import pandas as pd  \n",
    "import numpy as np  \n",
    "import matplotlib.pyplot as plt  \n",
    "%matplotlib inline"
   ]
  },
  {
   "cell_type": "code",
   "execution_count": 433,
   "metadata": {},
   "outputs": [],
   "source": [
    "data = pd.read_excel(\"Data.xlsx\")"
   ]
  },
  {
   "cell_type": "code",
   "execution_count": 351,
   "metadata": {},
   "outputs": [],
   "source": [
    "x = data.iloc[:, :-1].values\n",
    "y = data.iloc[:, 1].values"
   ]
  },
  {
   "cell_type": "code",
   "execution_count": 307,
   "metadata": {},
   "outputs": [
    {
     "name": "stdout",
     "output_type": "stream",
     "text": [
      "-0.009725125363831078 1347.4201294224038\n"
     ]
    }
   ],
   "source": [
    "mean_x=np.mean(X)\n",
    "\n",
    "mean_y=np.mean(Y)\n",
    "m=len(X)\n",
    "num=0\n",
    "den=0\n",
    "for i in range(m):\n",
    "    num+=(X[i]-mean_x) * (Y[i]-mean_y)\n",
    "    den+=(X[i]-mean_x) ** 2\n",
    "b1=num/den\n",
    "b0=mean_y - (b1 * mean_x)\n",
    "print(b1,b0)"
   ]
  },
  {
   "cell_type": "code",
   "execution_count": 308,
   "metadata": {},
   "outputs": [
    {
     "name": "stdout",
     "output_type": "stream",
     "text": [
      "1293.3873329009582\n"
     ]
    }
   ],
   "source": [
    "win=(-0.009725125363831078*5556)+1347.4201294224038\n",
    "print(win)"
   ]
  },
  {
   "cell_type": "code",
   "execution_count": 352,
   "metadata": {},
   "outputs": [],
   "source": [
    "x=x.reshape(-1,1)\n",
    "y=y.reshape(-1,1)"
   ]
  },
  {
   "cell_type": "code",
   "execution_count": 310,
   "metadata": {},
   "outputs": [],
   "source": [
    "x = data.iloc[:, :-1].values\n",
    "y = data.iloc[:, 1].values"
   ]
  },
  {
   "cell_type": "code",
   "execution_count": 353,
   "metadata": {},
   "outputs": [],
   "source": [
    "from sklearn.model_selection import train_test_split"
   ]
  },
  {
   "cell_type": "code",
   "execution_count": 354,
   "metadata": {},
   "outputs": [],
   "source": [
    "x_train,x_test,y_train,y_test=train_test_split(x, y, test_size=1/3, random_state=0)"
   ]
  },
  {
   "cell_type": "code",
   "execution_count": 355,
   "metadata": {},
   "outputs": [
    {
     "data": {
      "text/plain": [
       "LinearRegression(copy_X=True, fit_intercept=True, n_jobs=None,\n",
       "         normalize=False)"
      ]
     },
     "execution_count": 355,
     "metadata": {},
     "output_type": "execute_result"
    }
   ],
   "source": [
    "from sklearn.linear_model import LinearRegression  \n",
    "regressor = LinearRegression()  \n",
    "regressor.fit(x_train, y_train)  "
   ]
  },
  {
   "cell_type": "code",
   "execution_count": 314,
   "metadata": {},
   "outputs": [],
   "source": [
    "from sklearn.metrics import mean_squared_error"
   ]
  },
  {
   "cell_type": "code",
   "execution_count": 328,
   "metadata": {},
   "outputs": [],
   "source": [
    "ypred=regressor.predict(x_test)"
   ]
  },
  {
   "cell_type": "code",
   "execution_count": 329,
   "metadata": {},
   "outputs": [
    {
     "data": {
      "image/png": "[encoded data removed]",
      "text/plain": [
       "<Figure size 432x288 with 1 Axes>"
      ]
     },
     "metadata": {
      "needs_background": "light"
     },
     "output_type": "display_data"
    }
   ],
   "source": [
    "plt.scatter(x_train, y_train, color = 'red')\n",
    "plt.plot(x_train, regressor.predict(x_train), color = 'blue')\n",
    "plt.title('Leads vs wins (Training set)')\n",
    "plt.xlabel('Leads')\n",
    "plt.ylabel('Wins')\n",
    "plt.show()"
   ]
  },
  {
   "cell_type": "code",
   "execution_count": 330,
   "metadata": {},
   "outputs": [
    {
     "name": "stdout",
     "output_type": "stream",
     "text": [
      "Liner Regression R squared: -0.2471\n"
     ]
    }
   ],
   "source": [
    "print('Liner Regression R squared: %.4f' % regressor.score(x_test, y_test))"
   ]
  },
  {
   "cell_type": "code",
   "execution_count": 331,
   "metadata": {},
   "outputs": [
    {
     "name": "stdout",
     "output_type": "stream",
     "text": [
      "Liner Regression RMSE: 642.6360\n"
     ]
    }
   ],
   "source": [
    "import numpy as np\n",
    "from sklearn.metrics import mean_squared_error\n",
    "lin_mse = mean_squared_error(ypred, y_test)\n",
    "lin_rmse = np.sqrt(lin_mse)\n",
    "print('Liner Regression RMSE: %.4f' % lin_rmse)"
   ]
  },
  {
   "cell_type": "code",
   "execution_count": 344,
   "metadata": {},
   "outputs": [],
   "source": [
    "a=np.array([6782])\n",
    "a=a.reshape(-1,1)"
   ]
  },
  {
   "cell_type": "code",
   "execution_count": 345,
   "metadata": {},
   "outputs": [],
   "source": [
    "ypred=regressor.predict(a)"
   ]
  },
  {
   "cell_type": "code",
   "execution_count": 346,
   "metadata": {},
   "outputs": [
    {
     "data": {
      "text/plain": [
       "array([1237.94168311])"
      ]
     },
     "execution_count": 346,
     "metadata": {},
     "output_type": "execute_result"
    }
   ],
   "source": [
    "ypred"
   ]
  },
  {
   "cell_type": "code",
   "execution_count": 356,
   "metadata": {},
   "outputs": [],
   "source": [
    "class Stats:\n",
    "    \n",
    "    def __init__(self, X, y, model):\n",
    "        self.data = X\n",
    "        self.target = y\n",
    "        self.model = model\n",
    "        ## degrees of freedom population dep. variable variance\n",
    "        self._dft = X.shape[0] - 1   \n",
    "        ## degrees of freedom population error variance\n",
    "        self._dfe = X.shape[0] - X.shape[1] - 1  \n",
    "    \n",
    "    def sse(self):\n",
    "        '''returns sum of squared errors (model vs actual)'''\n",
    "        squared_errors = (self.target - self.model.predict(self.data)) ** 2\n",
    "        return np.sum(squared_errors)\n",
    "        \n",
    "    def sst(self):\n",
    "        '''returns total sum of squared errors (actual vs avg(actual))'''\n",
    "        avg_y = np.mean(self.target)\n",
    "        squared_errors = (self.target - avg_y) ** 2\n",
    "        return np.sum(squared_errors)\n",
    "    \n",
    "    def r_squared(self):\n",
    "        '''returns calculated value of r^2'''\n",
    "        return 1 - self.sse()/self.sst()\n",
    "    \n",
    "    def adj_r_squared(self):\n",
    "        '''returns calculated value of adjusted r^2'''\n",
    "        return 1 - (self.sse()/self._dfe) / (self.sst()/self._dft)"
   ]
  },
  {
   "cell_type": "code",
   "execution_count": 357,
   "metadata": {},
   "outputs": [],
   "source": [
    "def pretty_print_stats(stats_obj):\n",
    "    '''returns report of statistics for a given model object'''\n",
    "    items = ( ('sse:', stats_obj.sse()), ('sst:', stats_obj.sst()), \n",
    "             ('r^2:', stats_obj.r_squared()), ('adj_r^2:', stats_obj.adj_r_squared()) )\n",
    "    for item in items:\n",
    "        print('{0:8} {1:.4f}'.format(item[0], item[1]))"
   ]
  },
  {
   "cell_type": "code",
   "execution_count": 358,
   "metadata": {},
   "outputs": [
    {
     "name": "stdout",
     "output_type": "stream",
     "text": [
      "sse:     50461952.4611\n",
      "sst:     49176065.8962\n",
      "r^2:     -0.0261\n",
      "adj_r^2: -0.0360\n"
     ]
    }
   ],
   "source": [
    "s1 = Stats(x, y, regressor)\n",
    "pretty_print_stats(s1)"
   ]
  },
  {
   "cell_type": "code",
   "execution_count": 359,
   "metadata": {},
   "outputs": [
    {
     "name": "stderr",
     "output_type": "stream",
     "text": [
      "/anaconda3/lib/python3.7/site-packages/scipy/stats/stats.py:1713: FutureWarning: Using a non-tuple sequence for multidimensional indexing is deprecated; use `arr[tuple(seq)]` instead of `arr[seq]`. In the future this will be interpreted as an array index, `arr[np.array(seq)]`, which will result either in an error or a different result.\n",
      "  return np.add.reduce(sorted[indexer] * weights, axis=axis) / sumval\n"
     ]
    },
    {
     "data": {
      "text/plain": [
       "Text(0.5, 1.0, 'Linear')"
      ]
     },
     "execution_count": 359,
     "metadata": {},
     "output_type": "execute_result"
    },
    {
     "data": {
      "image/png": "[encoded data removed]",
      "text/plain": [
       "<Figure size 432x288 with 1 Axes>"
      ]
     },
     "metadata": {
      "needs_background": "light"
     },
     "output_type": "display_data"
    }
   ],
   "source": [
    "import seaborn as sns\n",
    "\n",
    "residuals_linear = y - regressor.predict(x)\n",
    "\n",
    "\n",
    "sns.distplot(residuals_linear);\n",
    "plt.title('Linear')"
   ]
  },
  {
   "cell_type": "code",
   "execution_count": 372,
   "metadata": {},
   "outputs": [
    {
     "data": {
      "text/plain": [
       "NormaltestResult(statistic=array([49.71302785]), pvalue=array([1.60307249e-11]))"
      ]
     },
     "execution_count": 372,
     "metadata": {},
     "output_type": "execute_result"
    }
   ],
   "source": [
    "from scipy.stats import normaltest\n",
    "normaltest(residuals_linear)"
   ]
  },
  {
   "cell_type": "code",
   "execution_count": 429,
   "metadata": {},
   "outputs": [
    {
     "data": {
      "text/plain": [
       "Pipeline(memory=None,\n",
       "     steps=[('poly', PolynomialFeatures(degree=2, include_bias=True, interaction_only=False)), ('linear', LinearRegression(copy_X=True, fit_intercept=False, n_jobs=None,\n",
       "         normalize=False))])"
      ]
     },
     "execution_count": 429,
     "metadata": {},
     "output_type": "execute_result"
    }
   ],
   "source": [
    "from sklearn.pipeline import Pipeline\n",
    "from sklearn.preprocessing import PolynomialFeatures\n",
    "\n",
    "poly = Pipeline([('poly', PolynomialFeatures(degree=2)),\n",
    "                  ('linear', LinearRegression(fit_intercept=False))])\n",
    "poly.fit(x_train, y_train)"
   ]
  },
  {
   "cell_type": "code",
   "execution_count": 430,
   "metadata": {},
   "outputs": [
    {
     "name": "stdout",
     "output_type": "stream",
     "text": [
      "sse:     50877199.2077\n",
      "sst:     49176065.8962\n",
      "r^2:     -0.0346\n",
      "adj_r^2: -0.0445\n"
     ]
    }
   ],
   "source": [
    "s1 = Stats(x, y, poly)\n",
    "pretty_print_stats(s1)"
   ]
  },
  {
   "cell_type": "code",
   "execution_count": 431,
   "metadata": {},
   "outputs": [
    {
     "data": {
      "text/plain": [
       "0.01240417380242953"
      ]
     },
     "execution_count": 431,
     "metadata": {},
     "output_type": "execute_result"
    }
   ],
   "source": [
    "poly.score(x_train, y_train)"
   ]
  },
  {
   "cell_type": "code",
   "execution_count": 611,
   "metadata": {},
   "outputs": [],
   "source": [
    "df=pd.read_csv('sample_data_2final.csv',nrows=106)"
   ]
  },
  {
   "cell_type": "code",
   "execution_count": 614,
   "metadata": {},
   "outputs": [
    {
     "data": {
      "text/plain": [
       "<matplotlib.axes._subplots.AxesSubplot at 0x1a19feeb38>"
      ]
     },
     "execution_count": 614,
     "metadata": {},
     "output_type": "execute_result"
    },
    {
     "data": {
      "image/png": "[encoded data removed]",
      "text/plain": [
       "<Figure size 432x288 with 1 Axes>"
      ]
     },
     "metadata": {
      "needs_background": "light"
     },
     "output_type": "display_data"
    }
   ],
   "source": [
    "import seaborn as sns\n",
    "sns.boxplot(x=df['Wins'])"
   ]
  },
  {
   "cell_type": "code",
   "execution_count": 615,
   "metadata": {},
   "outputs": [
    {
     "data": {
      "text/plain": [
       "<matplotlib.axes._subplots.AxesSubplot at 0x1a1a0b6b70>"
      ]
     },
     "execution_count": 615,
     "metadata": {},
     "output_type": "execute_result"
    },
    {
     "data": {
      "image/png": "[encoded data removed]",
      "text/plain": [
       "<Figure size 432x288 with 1 Axes>"
      ]
     },
     "metadata": {
      "needs_background": "light"
     },
     "output_type": "display_data"
    }
   ],
   "source": [
    "import seaborn as sns\n",
    "sns.boxplot(x=df['Leads'])"
   ]
  },
  {
   "cell_type": "code",
   "execution_count": 616,
   "metadata": {},
   "outputs": [
    {
     "name": "stdout",
     "output_type": "stream",
     "text": [
      "[0.81861501 0.88761895 0.90083247 0.61013501 0.09458609 0.86119191\n",
      " 0.73346121 0.60279417 0.51301425 0.55581276 0.5352584  0.34733277\n",
      " 3.33336685 0.87880994 0.93460036 0.79365613 0.0052494  0.08453052\n",
      " 0.80393332 0.63068938 0.4119322  0.68332185 0.6204122  0.54259924\n",
      " 0.14472545 3.30400347 0.96396374 0.75548374 0.73786571 0.30916037\n",
      " 0.39409256 0.69969332 0.6864798  0.60279417 0.60404073 0.70703417\n",
      " 0.58958065 0.30035136 2.67122264 0.38697333 0.75401557 0.6439029\n",
      " 0.4501046  0.63487228 0.51910854 0.57196262 0.69675698 1.29848465\n",
      " 0.37963248 0.10214855 0.85216128 2.22783561 0.92872768 0.57174101\n",
      " 0.71584318 0.6864798  0.71143867 0.94171959 0.61453952 0.4310184\n",
      " 0.3458646  1.14139057 0.47653164 0.29741502 0.0096539  3.32896234\n",
      " 0.50420524 0.76869726 0.33558742 0.07278517 1.03421424 0.50295868\n",
      " 0.38550516 0.29741502 1.45851507 0.48387248 0.42074122 0.1329801\n",
      " 3.64021416 0.3970289  0.5778353  0.50149051 0.32237389 1.17809479\n",
      " 0.57489896 0.6204122  0.03461278 1.45851507 0.58664431 0.39137784\n",
      " 0.08871342 1.69929478 0.96667846 0.51470403 0.39431417 0.497086\n",
      " 1.12670888 0.66592543 0.34292826 0.61747586 1.32637986 0.27245615\n",
      " 0.071317   1.03274607 1.01512804 0.35614178]\n"
     ]
    }
   ],
   "source": [
    "from scipy import stats\n",
    "import numpy as np\n",
    "z = np.abs(stats.zscore(df['Wins']))\n",
    "print(z)"
   ]
  },
  {
   "cell_type": "code",
   "execution_count": 617,
   "metadata": {},
   "outputs": [
    {
     "name": "stdout",
     "output_type": "stream",
     "text": [
      "3.3333668461857235\n",
      "12\n",
      "3.3040034667416256\n",
      "25\n",
      "3.3289623392691086\n",
      "65\n",
      "3.6402141613765426\n",
      "78\n"
     ]
    }
   ],
   "source": [
    "for i in range(len(z)):\n",
    "    if(z[i]>3 or z[i]<-3):\n",
    "        print(z[i])\n",
    "        print(i)"
   ]
  },
  {
   "cell_type": "code",
   "execution_count": 618,
   "metadata": {},
   "outputs": [],
   "source": [
    "df=df.drop(df.index[12])"
   ]
  },
  {
   "cell_type": "code",
   "execution_count": 608,
   "metadata": {},
   "outputs": [
    {
     "data": {
      "text/plain": [
       "<matplotlib.axes._subplots.AxesSubplot at 0x1a19f4a2e8>"
      ]
     },
     "execution_count": 608,
     "metadata": {},
     "output_type": "execute_result"
    },
    {
     "data": {
      "image/png": "[encoded data removed]",
      "text/plain": [
       "<Figure size 432x288 with 1 Axes>"
      ]
     },
     "metadata": {
      "needs_background": "light"
     },
     "output_type": "display_data"
    }
   ],
   "source": [
    "import seaborn as sns\n",
    "sns.boxplot(x=d['Wins'])"
   ]
  },
  {
   "cell_type": "code",
   "execution_count": 621,
   "metadata": {},
   "outputs": [],
   "source": [
    "df=df.drop(df.index[24])"
   ]
  },
  {
   "cell_type": "code",
   "execution_count": 623,
   "metadata": {},
   "outputs": [],
   "source": [
    "df=df.drop(df.index[63])"
   ]
  },
  {
   "cell_type": "code",
   "execution_count": 628,
   "metadata": {},
   "outputs": [],
   "source": [
    "df=df.drop(df.index[75])"
   ]
  },
  {
   "cell_type": "code",
   "execution_count": 631,
   "metadata": {},
   "outputs": [
    {
     "name": "stdout",
     "output_type": "stream",
     "text": [
      "[1.21820781 0.26852511 0.70376239 0.75287761 0.27171423 0.13343015\n",
      " 0.03312046 0.10620324 0.61029455 2.02681068 0.16606592 0.77867153\n",
      " 0.15850757 0.56906081 0.40140033 0.93343506 0.09187328 0.48347444\n",
      " 2.95539182 0.64253695 0.14704361 0.70343927 0.39391222 0.6604494\n",
      " 1.03836686 0.41573028 0.47702596 1.0172653  0.05533189 0.73926416\n",
      " 1.42781853 0.14561061 0.39280235 0.20651293 1.02443028 0.64253695\n",
      " 0.46842799 0.12841467 0.04315143 0.24703017 0.78297052 0.24520381\n",
      " 0.45051555 0.13955551 0.58697325 0.31008198 0.8209449  4.23720636\n",
      " 0.19433246 1.7054263  2.89696213 1.2210738  0.46445213 0.64644257\n",
      " 0.41787977 0.14457099 0.48060845 0.35697746 2.02752718 0.67907834\n",
      " 1.30601391 0.019507   0.54151077 0.91441274 1.24471822 0.00843641\n",
      " 0.19576546 0.80837107 0.09832176 0.35124548 0.74102028 0.35769396\n",
      " 0.82022841 0.15030297 1.92220201 1.21032633 0.32903405 0.20507993\n",
      " 0.20078094 0.41286429 0.46126301 0.53681841 0.83918047 0.19289947\n",
      " 0.58052477 0.38029876 0.3674018  0.35411147 0.97459856 0.81911854\n",
      " 0.55114836 0.67295299 0.77899466 0.77827816 0.68656645 1.17450144\n",
      " 0.65790653 2.18587319 0.69627429 0.0750707  2.00277289 2.72213667]\n"
     ]
    }
   ],
   "source": [
    "from scipy import stats\n",
    "import numpy as np\n",
    "z = np.abs(stats.zscore(df['Leads']))\n",
    "print(z)"
   ]
  },
  {
   "cell_type": "code",
   "execution_count": 632,
   "metadata": {},
   "outputs": [
    {
     "name": "stdout",
     "output_type": "stream",
     "text": [
      "4.237206364967884\n",
      "47\n"
     ]
    }
   ],
   "source": [
    "for i in range(len(z)):\n",
    "    if(z[i]>3 or z[i]<-3):\n",
    "        print(z[i])\n",
    "        print(i)"
   ]
  },
  {
   "cell_type": "code",
   "execution_count": 633,
   "metadata": {},
   "outputs": [],
   "source": [
    "a=df"
   ]
  },
  {
   "cell_type": "code",
   "execution_count": 636,
   "metadata": {},
   "outputs": [],
   "source": [
    "df=df.drop(df.index[45])"
   ]
  },
  {
   "cell_type": "code",
   "execution_count": 638,
   "metadata": {},
   "outputs": [],
   "source": [
    "x=df['Leads'].values"
   ]
  },
  {
   "cell_type": "code",
   "execution_count": 639,
   "metadata": {},
   "outputs": [],
   "source": [
    "y=df['Wins'].values"
   ]
  },
  {
   "cell_type": "code",
   "execution_count": 644,
   "metadata": {},
   "outputs": [],
   "source": [
    "x=x.reshape(-1,1)"
   ]
  },
  {
   "cell_type": "code",
   "execution_count": 645,
   "metadata": {},
   "outputs": [],
   "source": [
    "y=y.reshape(-1,1)"
   ]
  },
  {
   "cell_type": "code",
   "execution_count": 646,
   "metadata": {},
   "outputs": [
    {
     "data": {
      "image/png": "[encoded data removed]",
      "text/plain": [
       "<Figure size 432x288 with 1 Axes>"
      ]
     },
     "metadata": {
      "needs_background": "light"
     },
     "output_type": "display_data"
    }
   ],
   "source": [
    "from sklearn.model_selection import train_test_split\n",
    "\n",
    "x_train,x_test,y_train,y_test=train_test_split(x, y, test_size=1/3, random_state=0)\n",
    "\n",
    "from sklearn.linear_model import LinearRegression  \n",
    "regressor = LinearRegression()  \n",
    "regressor.fit(x_train, y_train)  \n",
    "\n",
    "from sklearn.metrics import mean_squared_error\n",
    "\n",
    "ypred=regressor.predict(x_test)\n",
    "\n",
    "plt.scatter(x_train, y_train, color = 'red')\n",
    "plt.plot(x_train, regressor.predict(x_train), color = 'blue')\n",
    "plt.title('Leads vs wins (Training set)')\n",
    "plt.xlabel('Leads')\n",
    "plt.ylabel('Wins')\n",
    "plt.show()"
   ]
  },
  {
   "cell_type": "code",
   "execution_count": 647,
   "metadata": {},
   "outputs": [
    {
     "name": "stdout",
     "output_type": "stream",
     "text": [
      "Liner Regression R squared: 0.0236\n"
     ]
    }
   ],
   "source": [
    "print('Liner Regression R squared: %.4f' % regressor.score(x_test, y_test))"
   ]
  },
  {
   "cell_type": "code",
   "execution_count": 648,
   "metadata": {},
   "outputs": [
    {
     "name": "stdout",
     "output_type": "stream",
     "text": [
      "Liner Regression RMSE: 548.7550\n"
     ]
    }
   ],
   "source": [
    "import numpy as np\n",
    "from sklearn.metrics import mean_squared_error\n",
    "lin_mse = mean_squared_error(ypred, y_test)\n",
    "lin_rmse = np.sqrt(lin_mse)\n",
    "print('Liner Regression RMSE: %.4f' % lin_rmse)"
   ]
  },
  {
   "cell_type": "code",
   "execution_count": 652,
   "metadata": {},
   "outputs": [
    {
     "data": {
      "text/plain": [
       "0.023629148579302983"
      ]
     },
     "execution_count": 652,
     "metadata": {},
     "output_type": "execute_result"
    }
   ],
   "source": [
    "from sklearn.metrics import r2_score\n",
    "r2_score(y_test, ypred) \n"
   ]
  },
  {
   "cell_type": "code",
   "execution_count": 654,
   "metadata": {},
   "outputs": [
    {
     "name": "stdout",
     "output_type": "stream",
     "text": [
      "Mean Absolute Error: 431.22928675065333\n",
      "Mean Squared Error: 301132.0108272739\n",
      "Root Mean Squared Error: 548.7549642848563\n"
     ]
    }
   ],
   "source": [
    "from sklearn import metrics\n",
    "print('Mean Absolute Error:', metrics.mean_absolute_error(y_test,ypred))\n",
    "print('Mean Squared Error:', metrics.mean_squared_error(y_test, ypred))\n",
    "print('Root Mean Squared Error:', np.sqrt(metrics.mean_squared_error(y_test, ypred)))"
   ]
  },
  {
   "cell_type": "code",
   "execution_count": 655,
   "metadata": {},
   "outputs": [
    {
     "data": {
      "text/plain": [
       "3124.0"
      ]
     },
     "execution_count": 655,
     "metadata": {},
     "output_type": "execute_result"
    }
   ],
   "source": [
    "y.max()"
   ]
  },
  {
   "cell_type": "code",
   "execution_count": 657,
   "metadata": {},
   "outputs": [
    {
     "data": {
      "text/plain": [
       "array([[ 802.],\n",
       "       [2462.],\n",
       "       [ 691.],\n",
       "       [ 886.],\n",
       "       [ 911.],\n",
       "       [ 884.],\n",
       "       [1247.],\n",
       "       [1214.],\n",
       "       [1946.],\n",
       "       [1119.],\n",
       "       [ 820.],\n",
       "       [1071.],\n",
       "       [2107.],\n",
       "       [ 668.],\n",
       "       [ 894.],\n",
       "       [ 837.],\n",
       "       [ 935.],\n",
       "       [ 648.],\n",
       "       [ 823.],\n",
       "       [1654.],\n",
       "       [ 915.],\n",
       "       [1648.],\n",
       "       [ 889.],\n",
       "       [ 975.],\n",
       "       [1046.],\n",
       "       [2822.],\n",
       "       [ 805.],\n",
       "       [1062.],\n",
       "       [2298.],\n",
       "       [ 963.],\n",
       "       [1102.],\n",
       "       [ 882.],\n",
       "       [2072.],\n",
       "       [1042.]])"
      ]
     },
     "execution_count": 657,
     "metadata": {},
     "output_type": "execute_result"
    }
   ],
   "source": [
    "y_test"
   ]
  },
  {
   "cell_type": "code",
   "execution_count": 659,
   "metadata": {},
   "outputs": [
    {
     "data": {
      "text/plain": [
       "array([[1181.85503597],\n",
       "       [1218.83561133],\n",
       "       [1234.39295683],\n",
       "       [1181.69563694],\n",
       "       [1217.71981811],\n",
       "       [1255.33798959],\n",
       "       [1207.16760221],\n",
       "       [1117.55346658],\n",
       "       [1196.64726612],\n",
       "       [1105.82169785],\n",
       "       [1221.67291409],\n",
       "       [1233.62784147],\n",
       "       [1221.44975545],\n",
       "       [1228.39955323],\n",
       "       [1207.80519834],\n",
       "       [1139.55053296],\n",
       "       [1185.55309351],\n",
       "       [1249.28082639],\n",
       "       [1212.26837122],\n",
       "       [1175.92539199],\n",
       "       [1196.87042476],\n",
       "       [1243.76561989],\n",
       "       [1169.58131053],\n",
       "       [1166.58460874],\n",
       "       [1166.55272893],\n",
       "       [1278.96092609],\n",
       "       [1204.55345809],\n",
       "       [1324.19837129],\n",
       "       [1211.6626549 ],\n",
       "       [1212.20461161],\n",
       "       [1203.94774177],\n",
       "       [1226.96496195],\n",
       "       [1237.74033649],\n",
       "       [1218.70809211]])"
      ]
     },
     "execution_count": 659,
     "metadata": {},
     "output_type": "execute_result"
    }
   ],
   "source": [
    "ypred"
   ]
  },
  {
   "cell_type": "code",
   "execution_count": 709,
   "metadata": {},
   "outputs": [
    {
     "name": "stdout",
     "output_type": "stream",
     "text": [
      "14661.79574952221\n"
     ]
    }
   ],
   "source": [
    "y_test=y_test.ravel()\n",
    "ypred=ypred.ravel()\n",
    "j=0\n",
    "i=0\n",
    "for i in range(34):\n",
    "    error+=abs(y_test[i]-ypred[i])\n",
    "print(error)\n",
    "error=0"
   ]
  },
  {
   "cell_type": "code",
   "execution_count": 710,
   "metadata": {},
   "outputs": [
    {
     "data": {
      "text/plain": [
       "34"
      ]
     },
     "execution_count": 710,
     "metadata": {},
     "output_type": "execute_result"
    }
   ],
   "source": [
    "len(ypred)"
   ]
  },
  {
   "cell_type": "code",
   "execution_count": 711,
   "metadata": {},
   "outputs": [
    {
     "data": {
      "text/plain": [
       "333.22263067095935"
      ]
     },
     "execution_count": 711,
     "metadata": {},
     "output_type": "execute_result"
    }
   ],
   "source": [
    "14661.79574952221/44"
   ]
  },
  {
   "cell_type": "code",
   "execution_count": null,
   "metadata": {},
   "outputs": [],
   "source": []
  }
 ],
 "metadata": {
  "kernelspec": {
   "display_name": "Python 3",
   "language": "python",
   "name": "python3"
  },
  "language_info": {
   "codemirror_mode": {
    "name": "ipython",
    "version": 3
   },
   "file_extension": ".py",
   "mimetype": "text/x-python",
   "name": "python",
   "nbconvert_exporter": "python",
   "pygments_lexer": "ipython3",
   "version": "3.7.1"
  }
 },
 "nbformat": 4,
 "nbformat_minor": 2
}
