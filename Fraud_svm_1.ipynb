{
 "cells": [
  {
   "cell_type": "code",
   "execution_count": 76,
   "metadata": {
    "_cell_guid": "b1076dfc-b9ad-4769-8c92-a6c4dae69d19",
    "_uuid": "8f2839f25d086af736a60e9eeb907d3b93b6e0e5"
   },
   "outputs": [],
   "source": [
    "# This Python 3 environment comes with many helpful analytics libraries installed\n",
    "# It is defined by the kaggle/python docker image: https://github.com/kaggle/docker-python\n",
    "# For example, here's several helpful packages to load in \n",
    "\n",
    "import numpy as np # linear algebra\n",
    "import pandas as pd # data processing, CSV file I/O (e.g. pd.read_csv)\n",
    "\n",
    "# Input data files are available in the \"../input/\" directory.\n",
    "# For example, running this (by clicking run or pressing Shift+Enter) will list the files in the input directory\n",
    "\n",
    "\n",
    "\n",
    "# Any results you write to the current directory are saved as output."
   ]
  },
  {
   "cell_type": "code",
   "execution_count": 77,
   "metadata": {},
   "outputs": [],
   "source": [
    "#Import Libraries\n",
    "# Visual representation libraries\n",
    "import seaborn as sns\n",
    "import matplotlib.pyplot as plt\n",
    "%matplotlib inline\n",
    "\n",
    "from sklearn.preprocessing import LabelEncoder,OneHotEncoder\n",
    "from sklearn.utils import shuffle\n",
    "from sklearn.svm import SVC\n",
    "from sklearn.metrics import confusion_matrix,classification_report\n",
    "from sklearn.model_selection import cross_val_score, GridSearchCV"
   ]
  },
  {
   "cell_type": "markdown",
   "metadata": {},
   "source": [
    "#### 1. Load the Datasets"
   ]
  },
  {
   "cell_type": "code",
   "execution_count": 82,
   "metadata": {
    "_cell_guid": "79c7e3d0-c299-4dcb-8224-4455121ee9b0",
    "_uuid": "d629ff2d2480ee46fbb7e2d37f6b5fab8052498a"
   },
   "outputs": [],
   "source": [
    "session_df = pd.read_csv('session_related.csv')\n",
    "delivery_df = pd.read_csv('delivery_related.csv')\n",
    "outlier_df = pd.read_csv('generic_outliers_data.csv')"
   ]
  },
  {
   "cell_type": "code",
   "execution_count": 83,
   "metadata": {},
   "outputs": [
    {
     "data": {
      "text/html": [
       "<div>\n",
       "<style scoped>\n",
       "    .dataframe tbody tr th:only-of-type {\n",
       "        vertical-align: middle;\n",
       "    }\n",
       "\n",
       "    .dataframe tbody tr th {\n",
       "        vertical-align: top;\n",
       "    }\n",
       "\n",
       "    .dataframe thead th {\n",
       "        text-align: right;\n",
       "    }\n",
       "</style>\n",
       "<table border=\"1\" class=\"dataframe\">\n",
       "  <thead>\n",
       "    <tr style=\"text-align: right;\">\n",
       "      <th></th>\n",
       "      <th>CustId</th>\n",
       "      <th>Age</th>\n",
       "      <th>EmailId</th>\n",
       "      <th>MobileNo</th>\n",
       "      <th>MacAddress</th>\n",
       "      <th>AvgPurchase</th>\n",
       "      <th>City</th>\n",
       "      <th>OccupationalLevel</th>\n",
       "      <th>IncomeLevel</th>\n",
       "      <th>Pincode</th>\n",
       "    </tr>\n",
       "  </thead>\n",
       "  <tbody>\n",
       "    <tr>\n",
       "      <th>0</th>\n",
       "      <td>100</td>\n",
       "      <td>18</td>\n",
       "      <td>WCkD3InDq@gmail.com</td>\n",
       "      <td>4916661116</td>\n",
       "      <td>A7-17-AC-BB-87-09</td>\n",
       "      <td>3580</td>\n",
       "      <td>Baidyanadh Deoghar</td>\n",
       "      <td>Technical</td>\n",
       "      <td>very low</td>\n",
       "      <td>814112</td>\n",
       "    </tr>\n",
       "    <tr>\n",
       "      <th>1</th>\n",
       "      <td>101</td>\n",
       "      <td>18</td>\n",
       "      <td>iPjORQGqy@hotmail.com</td>\n",
       "      <td>8156912083</td>\n",
       "      <td>3D-E0-06-66-01-00</td>\n",
       "      <td>7585</td>\n",
       "      <td>Chakpirang</td>\n",
       "      <td>Non-technical</td>\n",
       "      <td>very low</td>\n",
       "      <td>795102</td>\n",
       "    </tr>\n",
       "    <tr>\n",
       "      <th>2</th>\n",
       "      <td>102</td>\n",
       "      <td>18</td>\n",
       "      <td>ShyCmCDbmB@aol.com</td>\n",
       "      <td>6663941231</td>\n",
       "      <td>3A-DE-69-A8-98-04</td>\n",
       "      <td>4456</td>\n",
       "      <td>Kala pahad</td>\n",
       "      <td>Non-technical</td>\n",
       "      <td>very low</td>\n",
       "      <td>795122</td>\n",
       "    </tr>\n",
       "    <tr>\n",
       "      <th>3</th>\n",
       "      <td>103</td>\n",
       "      <td>18</td>\n",
       "      <td>VdjRDafd@yahoo.com</td>\n",
       "      <td>3761853308</td>\n",
       "      <td>15-74-5C-91-78-E6</td>\n",
       "      <td>91474</td>\n",
       "      <td>Ukhrul</td>\n",
       "      <td>Technical</td>\n",
       "      <td>very high</td>\n",
       "      <td>795142</td>\n",
       "    </tr>\n",
       "    <tr>\n",
       "      <th>4</th>\n",
       "      <td>104</td>\n",
       "      <td>18</td>\n",
       "      <td>rLaKt3AxMK@gmail.com</td>\n",
       "      <td>7391938452</td>\n",
       "      <td>BA-6B-47-85-66-E7</td>\n",
       "      <td>62522</td>\n",
       "      <td>Kulittalai</td>\n",
       "      <td>Non-technical</td>\n",
       "      <td>high</td>\n",
       "      <td>639104</td>\n",
       "    </tr>\n",
       "  </tbody>\n",
       "</table>\n",
       "</div>"
      ],
      "text/plain": [
       "   CustId  Age                EmailId    MobileNo         MacAddress  \\\n",
       "0     100   18    WCkD3InDq@gmail.com  4916661116  A7-17-AC-BB-87-09   \n",
       "1     101   18  iPjORQGqy@hotmail.com  8156912083  3D-E0-06-66-01-00   \n",
       "2     102   18     ShyCmCDbmB@aol.com  6663941231  3A-DE-69-A8-98-04   \n",
       "3     103   18     VdjRDafd@yahoo.com  3761853308  15-74-5C-91-78-E6   \n",
       "4     104   18   rLaKt3AxMK@gmail.com  7391938452  BA-6B-47-85-66-E7   \n",
       "\n",
       "   AvgPurchase                City OccupationalLevel IncomeLevel  Pincode  \n",
       "0         3580  Baidyanadh Deoghar         Technical    very low   814112  \n",
       "1         7585          Chakpirang     Non-technical    very low   795102  \n",
       "2         4456          Kala pahad     Non-technical    very low   795122  \n",
       "3        91474              Ukhrul         Technical   very high   795142  \n",
       "4        62522          Kulittalai     Non-technical        high   639104  "
      ]
     },
     "execution_count": 83,
     "metadata": {},
     "output_type": "execute_result"
    }
   ],
   "source": [
    "outlier_df.head()"
   ]
  },
  {
   "cell_type": "code",
   "execution_count": 84,
   "metadata": {},
   "outputs": [
    {
     "data": {
      "text/plain": [
       "((100000, 17), CustId                  int64\n",
       " OrderId                 int64\n",
       " ProductId               int64\n",
       " IsValidAddress         object\n",
       " IsAddchangeRecently    object\n",
       " IsAddchangeonDel       object\n",
       " IsDeliveryRejected     object\n",
       " OriginalPrice           int64\n",
       " PaidPrice               int64\n",
       " OrderDate              object\n",
       " AddressChangeDate      object\n",
       " DeliveryDate           object\n",
       " ReplacementDate        object\n",
       " IsProductConsumable    object\n",
       " IsOneTimeUseProduct    object\n",
       " IsOfferCodeApplied     object\n",
       " Fraud                  object\n",
       " dtype: object)"
      ]
     },
     "execution_count": 84,
     "metadata": {},
     "output_type": "execute_result"
    }
   ],
   "source": [
    "delivery_df.shape, delivery_df.dtypes"
   ]
  },
  {
   "cell_type": "markdown",
   "metadata": {},
   "source": [
    "#### Merge the three Dataframes to a single Dataframe"
   ]
  },
  {
   "cell_type": "code",
   "execution_count": 85,
   "metadata": {},
   "outputs": [],
   "source": [
    "ds_merge_df = pd.merge(delivery_df,session_df,on='OrderId')"
   ]
  },
  {
   "cell_type": "code",
   "execution_count": 86,
   "metadata": {},
   "outputs": [],
   "source": [
    "df = pd.merge(ds_merge_df,outlier_df,on='CustId')"
   ]
  },
  {
   "cell_type": "code",
   "execution_count": 88,
   "metadata": {},
   "outputs": [
    {
     "data": {
      "text/plain": [
       "(100000, 31)"
      ]
     },
     "execution_count": 88,
     "metadata": {},
     "output_type": "execute_result"
    }
   ],
   "source": [
    "df.shape"
   ]
  },
  {
   "cell_type": "markdown",
   "metadata": {},
   "source": [
    "#### 2. Exploratory Data Analysis"
   ]
  },
  {
   "cell_type": "code",
   "execution_count": 12,
   "metadata": {},
   "outputs": [
    {
     "data": {
      "text/html": [
       "<div>\n",
       "<style scoped>\n",
       "    .dataframe tbody tr th:only-of-type {\n",
       "        vertical-align: middle;\n",
       "    }\n",
       "\n",
       "    .dataframe tbody tr th {\n",
       "        vertical-align: top;\n",
       "    }\n",
       "\n",
       "    .dataframe thead th {\n",
       "        text-align: right;\n",
       "    }\n",
       "</style>\n",
       "<table border=\"1\" class=\"dataframe\">\n",
       "  <thead>\n",
       "    <tr style=\"text-align: right;\">\n",
       "      <th></th>\n",
       "      <th>CustId</th>\n",
       "      <th>OrderId</th>\n",
       "      <th>ProductId</th>\n",
       "      <th>OriginalPrice</th>\n",
       "      <th>PaidPrice</th>\n",
       "      <th>Session_Pincode</th>\n",
       "      <th>Delivery_Pincode</th>\n",
       "    </tr>\n",
       "  </thead>\n",
       "  <tbody>\n",
       "    <tr>\n",
       "      <th>count</th>\n",
       "      <td>100000.00000</td>\n",
       "      <td>100000.000000</td>\n",
       "      <td>100000.000000</td>\n",
       "      <td>100000.00000</td>\n",
       "      <td>100000.00000</td>\n",
       "      <td>100000.00000</td>\n",
       "      <td>100000.000000</td>\n",
       "    </tr>\n",
       "    <tr>\n",
       "      <th>mean</th>\n",
       "      <td>50076.51905</td>\n",
       "      <td>50099.500000</td>\n",
       "      <td>50099.500000</td>\n",
       "      <td>5491.29768</td>\n",
       "      <td>5487.29895</td>\n",
       "      <td>563983.98808</td>\n",
       "      <td>563979.992390</td>\n",
       "    </tr>\n",
       "    <tr>\n",
       "      <th>std</th>\n",
       "      <td>28810.89187</td>\n",
       "      <td>28867.657797</td>\n",
       "      <td>28867.657797</td>\n",
       "      <td>2593.78428</td>\n",
       "      <td>2593.78457</td>\n",
       "      <td>205918.85053</td>\n",
       "      <td>205918.834943</td>\n",
       "    </tr>\n",
       "    <tr>\n",
       "      <th>min</th>\n",
       "      <td>100.00000</td>\n",
       "      <td>100.000000</td>\n",
       "      <td>100.000000</td>\n",
       "      <td>1000.00000</td>\n",
       "      <td>980.00000</td>\n",
       "      <td>121001.00000</td>\n",
       "      <td>120981.000000</td>\n",
       "    </tr>\n",
       "    <tr>\n",
       "      <th>25%</th>\n",
       "      <td>25177.00000</td>\n",
       "      <td>25099.750000</td>\n",
       "      <td>25099.750000</td>\n",
       "      <td>3250.00000</td>\n",
       "      <td>3245.75000</td>\n",
       "      <td>403705.00000</td>\n",
       "      <td>403691.000000</td>\n",
       "    </tr>\n",
       "    <tr>\n",
       "      <th>50%</th>\n",
       "      <td>50051.50000</td>\n",
       "      <td>50099.500000</td>\n",
       "      <td>50099.500000</td>\n",
       "      <td>5502.00000</td>\n",
       "      <td>5499.00000</td>\n",
       "      <td>585201.00000</td>\n",
       "      <td>585201.000000</td>\n",
       "    </tr>\n",
       "    <tr>\n",
       "      <th>75%</th>\n",
       "      <td>75043.00000</td>\n",
       "      <td>75099.250000</td>\n",
       "      <td>75099.250000</td>\n",
       "      <td>7730.00000</td>\n",
       "      <td>7726.00000</td>\n",
       "      <td>786125.00000</td>\n",
       "      <td>786125.000000</td>\n",
       "    </tr>\n",
       "    <tr>\n",
       "      <th>max</th>\n",
       "      <td>100097.00000</td>\n",
       "      <td>100099.000000</td>\n",
       "      <td>100099.000000</td>\n",
       "      <td>9999.00000</td>\n",
       "      <td>9999.00000</td>\n",
       "      <td>854301.00000</td>\n",
       "      <td>854301.000000</td>\n",
       "    </tr>\n",
       "  </tbody>\n",
       "</table>\n",
       "</div>"
      ],
      "text/plain": [
       "             CustId        OrderId      ProductId  OriginalPrice  \\\n",
       "count  100000.00000  100000.000000  100000.000000   100000.00000   \n",
       "mean    50076.51905   50099.500000   50099.500000     5491.29768   \n",
       "std     28810.89187   28867.657797   28867.657797     2593.78428   \n",
       "min       100.00000     100.000000     100.000000     1000.00000   \n",
       "25%     25177.00000   25099.750000   25099.750000     3250.00000   \n",
       "50%     50051.50000   50099.500000   50099.500000     5502.00000   \n",
       "75%     75043.00000   75099.250000   75099.250000     7730.00000   \n",
       "max    100097.00000  100099.000000  100099.000000     9999.00000   \n",
       "\n",
       "          PaidPrice  Session_Pincode  Delivery_Pincode  \n",
       "count  100000.00000     100000.00000     100000.000000  \n",
       "mean     5487.29895     563983.98808     563979.992390  \n",
       "std      2593.78457     205918.85053     205918.834943  \n",
       "min       980.00000     121001.00000     120981.000000  \n",
       "25%      3245.75000     403705.00000     403691.000000  \n",
       "50%      5499.00000     585201.00000     585201.000000  \n",
       "75%      7726.00000     786125.00000     786125.000000  \n",
       "max      9999.00000     854301.00000     854301.000000  "
      ]
     },
     "execution_count": 12,
     "metadata": {},
     "output_type": "execute_result"
    }
   ],
   "source": [
    "# describe() method shows values like count, mean, standard deviation, etc. of numeric data types.\n",
    "df.describe()"
   ]
  },
  {
   "cell_type": "code",
   "execution_count": 11,
   "metadata": {},
   "outputs": [
    {
     "data": {
      "text/plain": [
       "CustId                 0\n",
       "OrderId                0\n",
       "ProductId              0\n",
       "IsValidAddress         0\n",
       "IsAddchangeRecently    0\n",
       "IsAddchangeonDel       0\n",
       "IsDeliveryRejected     0\n",
       "OriginalPrice          0\n",
       "PaidPrice              0\n",
       "OrderDate              0\n",
       "AddressChangeDate      0\n",
       "DeliveryDate           0\n",
       "ReplacementDate        0\n",
       "IsProductConsumable    0\n",
       "IsOneTimeUseProduct    0\n",
       "IsOfferCodeApplied     0\n",
       "Fraud                  0\n",
       "IP_start_session       0\n",
       "IP_end_session         0\n",
       "Session_Pincode        0\n",
       "Delivery_Pincode       0\n",
       "IsValidGeo             0\n",
       "dtype: int64"
      ]
     },
     "execution_count": 11,
     "metadata": {},
     "output_type": "execute_result"
    }
   ],
   "source": [
    "# Get the total missing values present in columns of both train and test dataset\n",
    "df.isnull().sum()"
   ]
  },
  {
   "cell_type": "markdown",
   "metadata": {},
   "source": [
    "#### Data Visualization\n",
    "\n",
    "Below is the function **\"bar_chart\"** which will take in a feature as a parameter and provide us the bar chart.\n",
    "\n",
    "The Bar chart will show how the **transaction type** varies with different features and its subtypes."
   ]
  },
  {
   "cell_type": "code",
   "execution_count": 13,
   "metadata": {},
   "outputs": [],
   "source": [
    "def bar_chart(feature):\n",
    "    normal = df[df['Fraud']=='normal'][feature].value_counts()\n",
    "    suspicious = df[df['Fraud']=='suspicious'][feature].value_counts()      \n",
    "    Fraud = df[df['Fraud']=='fraudulent'][feature].value_counts()\n",
    "    bar_df = pd.DataFrame([normal,suspicious,Fraud])\n",
    "    bar_df.index = ['Normal','Suspicious','Fraudulent']\n",
    "    bar_df.plot(kind='bar',stacked=True, figsize=(7,5))"
   ]
  },
  {
   "cell_type": "markdown",
   "metadata": {},
   "source": [
    "#### Relationship between Features and Target Variable\n",
    "Now in the below section we are going to see how each features impacts the transaction type of a customer."
   ]
  },
  {
   "cell_type": "code",
   "execution_count": 14,
   "metadata": {},
   "outputs": [],
   "source": [
    "def feature_relationship(feature):\n",
    "    print(df[feature].value_counts())\n",
    "    print('--------------------------------------')\n",
    "    print(df.groupby(feature).Fraud.value_counts())\n",
    "    bar_chart(feature)\n",
    "    "
   ]
  },
  {
   "cell_type": "code",
   "execution_count": 15,
   "metadata": {},
   "outputs": [
    {
     "name": "stdout",
     "output_type": "stream",
     "text": [
      "no     50010\n",
      "yes    49990\n",
      "Name: IsValidAddress, dtype: int64\n",
      "--------------------------------------\n",
      "IsValidAddress  Fraud     \n",
      "no              normal        34802\n",
      "                suspicious    12660\n",
      "                fraudulent     2548\n",
      "yes             normal        35198\n",
      "                suspicious    12340\n",
      "                fraudulent     2452\n",
      "Name: Fraud, dtype: int64\n"
     ]
    },
    {
     "data": {
      "image/png": "[encoded data removed]",
      "text/plain": [
       "<Figure size 504x360 with 1 Axes>"
      ]
     },
     "metadata": {},
     "output_type": "display_data"
    }
   ],
   "source": [
    "feature_relationship('IsValidAddress')"
   ]
  },
  {
   "cell_type": "code",
   "execution_count": 16,
   "metadata": {},
   "outputs": [
    {
     "name": "stdout",
     "output_type": "stream",
     "text": [
      "no     50047\n",
      "yes    49953\n",
      "Name: IsAddchangeRecently, dtype: int64\n",
      "--------------------------------------\n",
      "IsAddchangeRecently  Fraud     \n",
      "no                   normal        35211\n",
      "                     suspicious    12374\n",
      "                     fraudulent     2462\n",
      "yes                  normal        34789\n",
      "                     suspicious    12626\n",
      "                     fraudulent     2538\n",
      "Name: Fraud, dtype: int64\n"
     ]
    },
    {
     "data": {
      "image/png": "[encoded data removed]",
      "text/plain": [
       "<Figure size 504x360 with 1 Axes>"
      ]
     },
     "metadata": {},
     "output_type": "display_data"
    }
   ],
   "source": [
    "feature_relationship('IsAddchangeRecently')"
   ]
  },
  {
   "cell_type": "code",
   "execution_count": 17,
   "metadata": {},
   "outputs": [
    {
     "name": "stdout",
     "output_type": "stream",
     "text": [
      "no     50061\n",
      "yes    49939\n",
      "Name: IsAddchangeonDel, dtype: int64\n",
      "--------------------------------------\n",
      "IsAddchangeonDel  Fraud     \n",
      "no                normal        35045\n",
      "                  suspicious    12537\n",
      "                  fraudulent     2479\n",
      "yes               normal        34955\n",
      "                  suspicious    12463\n",
      "                  fraudulent     2521\n",
      "Name: Fraud, dtype: int64\n"
     ]
    },
    {
     "data": {
      "image/png": "[encoded data removed]",
      "text/plain": [
       "<Figure size 504x360 with 1 Axes>"
      ]
     },
     "metadata": {},
     "output_type": "display_data"
    }
   ],
   "source": [
    "feature_relationship('IsAddchangeonDel')"
   ]
  },
  {
   "cell_type": "code",
   "execution_count": 18,
   "metadata": {},
   "outputs": [
    {
     "name": "stdout",
     "output_type": "stream",
     "text": [
      "yes    50154\n",
      "no     49846\n",
      "Name: IsDeliveryRejected, dtype: int64\n",
      "--------------------------------------\n",
      "IsDeliveryRejected  Fraud     \n",
      "no                  normal        34838\n",
      "                    suspicious    12488\n",
      "                    fraudulent     2520\n",
      "yes                 normal        35162\n",
      "                    suspicious    12512\n",
      "                    fraudulent     2480\n",
      "Name: Fraud, dtype: int64\n"
     ]
    },
    {
     "data": {
      "image/png": "[encoded data removed]",
      "text/plain": [
       "<Figure size 504x360 with 1 Axes>"
      ]
     },
     "metadata": {},
     "output_type": "display_data"
    }
   ],
   "source": [
    "feature_relationship('IsDeliveryRejected') "
   ]
  },
  {
   "cell_type": "code",
   "execution_count": 19,
   "metadata": {},
   "outputs": [
    {
     "name": "stdout",
     "output_type": "stream",
     "text": [
      "no     50109\n",
      "yes    49891\n",
      "Name: IsProductConsumable, dtype: int64\n",
      "--------------------------------------\n",
      "IsProductConsumable  Fraud     \n",
      "no                   normal        35024\n",
      "                     suspicious    12553\n",
      "                     fraudulent     2532\n",
      "yes                  normal        34976\n",
      "                     suspicious    12447\n",
      "                     fraudulent     2468\n",
      "Name: Fraud, dtype: int64\n"
     ]
    },
    {
     "data": {
      "image/png": "[encoded data removed]",
      "text/plain": [
       "<Figure size 504x360 with 1 Axes>"
      ]
     },
     "metadata": {},
     "output_type": "display_data"
    }
   ],
   "source": [
    "feature_relationship('IsProductConsumable')"
   ]
  },
  {
   "cell_type": "code",
   "execution_count": 20,
   "metadata": {},
   "outputs": [
    {
     "name": "stdout",
     "output_type": "stream",
     "text": [
      "no     50033\n",
      "yes    49967\n",
      "Name: IsOneTimeUseProduct, dtype: int64\n",
      "--------------------------------------\n",
      "IsOneTimeUseProduct  Fraud     \n",
      "no                   normal        34963\n",
      "                     suspicious    12498\n",
      "                     fraudulent     2572\n",
      "yes                  normal        35037\n",
      "                     suspicious    12502\n",
      "                     fraudulent     2428\n",
      "Name: Fraud, dtype: int64\n"
     ]
    },
    {
     "data": {
      "image/png": "[encoded data removed]",
      "text/plain": [
       "<Figure size 504x360 with 1 Axes>"
      ]
     },
     "metadata": {},
     "output_type": "display_data"
    }
   ],
   "source": [
    "feature_relationship('IsOneTimeUseProduct')"
   ]
  },
  {
   "cell_type": "code",
   "execution_count": 21,
   "metadata": {},
   "outputs": [
    {
     "name": "stdout",
     "output_type": "stream",
     "text": [
      "no     50008\n",
      "yes    49992\n",
      "Name: IsOfferCodeApplied, dtype: int64\n",
      "--------------------------------------\n",
      "IsOfferCodeApplied  Fraud     \n",
      "no                  normal        35080\n",
      "                    suspicious    12493\n",
      "                    fraudulent     2435\n",
      "yes                 normal        34920\n",
      "                    suspicious    12507\n",
      "                    fraudulent     2565\n",
      "Name: Fraud, dtype: int64\n"
     ]
    },
    {
     "data": {
      "image/png": "[encoded data removed]",
      "text/plain": [
       "<Figure size 504x360 with 1 Axes>"
      ]
     },
     "metadata": {},
     "output_type": "display_data"
    }
   ],
   "source": [
    "feature_relationship('IsOfferCodeApplied')"
   ]
  },
  {
   "cell_type": "code",
   "execution_count": 22,
   "metadata": {},
   "outputs": [
    {
     "name": "stdout",
     "output_type": "stream",
     "text": [
      "YES    50162\n",
      "NO     49838\n",
      "Name: IsValidGeo, dtype: int64\n",
      "--------------------------------------\n",
      "IsValidGeo  Fraud     \n",
      "NO          normal        34800\n",
      "            suspicious    12538\n",
      "            fraudulent     2500\n",
      "YES         normal        35200\n",
      "            suspicious    12462\n",
      "            fraudulent     2500\n",
      "Name: Fraud, dtype: int64\n"
     ]
    },
    {
     "data": {
      "image/png": "[encoded data removed]",
      "text/plain": [
       "<Figure size 504x360 with 1 Axes>"
      ]
     },
     "metadata": {},
     "output_type": "display_data"
    }
   ],
   "source": [
    "feature_relationship('IsValidGeo')"
   ]
  },
  {
   "cell_type": "code",
   "execution_count": 89,
   "metadata": {},
   "outputs": [
    {
     "data": {
      "text/plain": [
       "<matplotlib.axes._subplots.AxesSubplot at 0x55491d0>"
      ]
     },
     "execution_count": 89,
     "metadata": {},
     "output_type": "execute_result"
    },
    {
     "data": {
      "image/png": "[encoded data removed]",
      "text/plain": [
       "<Figure size 1080x432 with 2 Axes>"
      ]
     },
     "metadata": {},
     "output_type": "display_data"
    }
   ],
   "source": [
    "#Correlating Features\n",
    "drop_features = ['CustId','OrderId','ProductId','OriginalPrice','PaidPrice','Session_Pincode','Delivery_Pincode']\n",
    "plt.figure(figsize=(15,6))\n",
    "sns.heatmap(df.drop(drop_features,axis=1).corr(), vmax=0.6, square=True, annot=True)"
   ]
  },
  {
   "cell_type": "code",
   "execution_count": 39,
   "metadata": {},
   "outputs": [
    {
     "data": {
      "image/png": "[encoded data removed]",
      "text/plain": [
       "<Figure size 1440x1440 with 12 Axes>"
      ]
     },
     "metadata": {},
     "output_type": "display_data"
    }
   ],
   "source": [
    "# print histogram for each parameter\n",
    "df.hist(figsize=(20,20))\n",
    "plt.show()"
   ]
  },
  {
   "cell_type": "code",
   "execution_count": 93,
   "metadata": {},
   "outputs": [],
   "source": [
    "from sklearn.preprocessing import LabelEncoder\n",
    "categorical = ['IncomeLevel','OccupationalLevel','IsValidAddress','IsAddchangeRecently','IsAddchangeonDel','IsDeliveryRejected','IsProductConsumable','IsOneTimeUseProduct','IsOfferCodeApplied','IsValidGeo']\n",
    "\n",
    "label_encoder = LabelEncoder()\n",
    "for col in categorical:\n",
    "    df[col] = label_encoder.fit_transform(df[col].astype(str))\n",
    "\n",
    "df=df.iloc[:df.shape[0]]"
   ]
  },
  {
   "cell_type": "code",
   "execution_count": 94,
   "metadata": {},
   "outputs": [
    {
     "data": {
      "text/plain": [
       "Fraud\n",
       "fraudulent    AxesSubplot(0.125,0.125;0.775x0.755)\n",
       "normal        AxesSubplot(0.125,0.125;0.775x0.755)\n",
       "suspicious    AxesSubplot(0.125,0.125;0.775x0.755)\n",
       "Name: Age, dtype: object"
      ]
     },
     "execution_count": 94,
     "metadata": {},
     "output_type": "execute_result"
    },
    {
     "data": {
      "image/png": "[encoded data removed]",
      "text/plain": [
       "<Figure size 432x288 with 1 Axes>"
      ]
     },
     "metadata": {},
     "output_type": "display_data"
    }
   ],
   "source": [
    "df.groupby('Fraud').Age.plot(kind='kde')"
   ]
  },
  {
   "cell_type": "code",
   "execution_count": 95,
   "metadata": {},
   "outputs": [
    {
     "data": {
      "text/plain": [
       "Fraud\n",
       "fraudulent    AxesSubplot(0.125,0.125;0.775x0.755)\n",
       "normal        AxesSubplot(0.125,0.125;0.775x0.755)\n",
       "suspicious    AxesSubplot(0.125,0.125;0.775x0.755)\n",
       "Name: Age, dtype: object"
      ]
     },
     "execution_count": 95,
     "metadata": {},
     "output_type": "execute_result"
    },
    {
     "data": {
      "image/png": "[encoded data removed]",
      "text/plain": [
       "<Figure size 432x288 with 1 Axes>"
      ]
     },
     "metadata": {},
     "output_type": "display_data"
    }
   ],
   "source": [
    "df.groupby('Fraud').Age.hist()"
   ]
  },
  {
   "cell_type": "code",
   "execution_count": 96,
   "metadata": {},
   "outputs": [
    {
     "name": "stderr",
     "output_type": "stream",
     "text": [
      "D:\\miniconda\\envs\\ml\\lib\\site-packages\\ipykernel_launcher.py:2: SettingWithCopyWarning: \n",
      "A value is trying to be set on a copy of a slice from a DataFrame.\n",
      "Try using .loc[row_indexer,col_indexer] = value instead\n",
      "\n",
      "See the caveats in the documentation: http://pandas.pydata.org/pandas-docs/stable/indexing.html#indexing-view-versus-copy\n",
      "  \n"
     ]
    },
    {
     "data": {
      "text/html": [
       "<div>\n",
       "<style scoped>\n",
       "    .dataframe tbody tr th:only-of-type {\n",
       "        vertical-align: middle;\n",
       "    }\n",
       "\n",
       "    .dataframe tbody tr th {\n",
       "        vertical-align: top;\n",
       "    }\n",
       "\n",
       "    .dataframe thead th {\n",
       "        text-align: right;\n",
       "    }\n",
       "</style>\n",
       "<table border=\"1\" class=\"dataframe\">\n",
       "  <thead>\n",
       "    <tr style=\"text-align: right;\">\n",
       "      <th></th>\n",
       "      <th>CustId</th>\n",
       "      <th>OrderId</th>\n",
       "      <th>ProductId</th>\n",
       "      <th>IsValidAddress</th>\n",
       "      <th>IsAddchangeRecently</th>\n",
       "      <th>IsAddchangeonDel</th>\n",
       "      <th>IsDeliveryRejected</th>\n",
       "      <th>OriginalPrice</th>\n",
       "      <th>PaidPrice</th>\n",
       "      <th>OrderDate</th>\n",
       "      <th>...</th>\n",
       "      <th>Age</th>\n",
       "      <th>EmailId</th>\n",
       "      <th>MobileNo</th>\n",
       "      <th>MacAddress</th>\n",
       "      <th>AvgPurchase</th>\n",
       "      <th>City</th>\n",
       "      <th>OccupationalLevel</th>\n",
       "      <th>IncomeLevel</th>\n",
       "      <th>Pincode</th>\n",
       "      <th>AgeGroup</th>\n",
       "    </tr>\n",
       "  </thead>\n",
       "  <tbody>\n",
       "    <tr>\n",
       "      <th>0</th>\n",
       "      <td>47019</td>\n",
       "      <td>41601</td>\n",
       "      <td>41601</td>\n",
       "      <td>1</td>\n",
       "      <td>0</td>\n",
       "      <td>1</td>\n",
       "      <td>1</td>\n",
       "      <td>2711</td>\n",
       "      <td>2711</td>\n",
       "      <td>25/01/2019</td>\n",
       "      <td>...</td>\n",
       "      <td>23</td>\n",
       "      <td>aQGHuxe@yahoo.com</td>\n",
       "      <td>1867946110</td>\n",
       "      <td>1D-BA-45-3F-E5-43</td>\n",
       "      <td>99522</td>\n",
       "      <td>Latur</td>\n",
       "      <td>0</td>\n",
       "      <td>3</td>\n",
       "      <td>413512</td>\n",
       "      <td>3</td>\n",
       "    </tr>\n",
       "    <tr>\n",
       "      <th>1</th>\n",
       "      <td>20242</td>\n",
       "      <td>30352</td>\n",
       "      <td>30352</td>\n",
       "      <td>0</td>\n",
       "      <td>1</td>\n",
       "      <td>0</td>\n",
       "      <td>0</td>\n",
       "      <td>2713</td>\n",
       "      <td>2710</td>\n",
       "      <td>06/02/2019</td>\n",
       "      <td>...</td>\n",
       "      <td>18</td>\n",
       "      <td>sej94kG@hotmail.com</td>\n",
       "      <td>9272875375</td>\n",
       "      <td>65-D1-F3-62-F7-44</td>\n",
       "      <td>3491</td>\n",
       "      <td>Mumbai G.P.O.</td>\n",
       "      <td>0</td>\n",
       "      <td>4</td>\n",
       "      <td>400001</td>\n",
       "      <td>1</td>\n",
       "    </tr>\n",
       "    <tr>\n",
       "      <th>2</th>\n",
       "      <td>79619</td>\n",
       "      <td>12328</td>\n",
       "      <td>12328</td>\n",
       "      <td>1</td>\n",
       "      <td>0</td>\n",
       "      <td>1</td>\n",
       "      <td>1</td>\n",
       "      <td>4146</td>\n",
       "      <td>4142</td>\n",
       "      <td>12/01/2019</td>\n",
       "      <td>...</td>\n",
       "      <td>18</td>\n",
       "      <td>HTVm_XUBz@gmail.com</td>\n",
       "      <td>3251871005</td>\n",
       "      <td>DF-6D-BF-6C-23-59</td>\n",
       "      <td>5262</td>\n",
       "      <td>Chhatarpur City</td>\n",
       "      <td>1</td>\n",
       "      <td>4</td>\n",
       "      <td>471001</td>\n",
       "      <td>1</td>\n",
       "    </tr>\n",
       "    <tr>\n",
       "      <th>3</th>\n",
       "      <td>79619</td>\n",
       "      <td>80750</td>\n",
       "      <td>80750</td>\n",
       "      <td>0</td>\n",
       "      <td>1</td>\n",
       "      <td>0</td>\n",
       "      <td>0</td>\n",
       "      <td>2662</td>\n",
       "      <td>2662</td>\n",
       "      <td>19/01/2019</td>\n",
       "      <td>...</td>\n",
       "      <td>18</td>\n",
       "      <td>HTVm_XUBz@gmail.com</td>\n",
       "      <td>3251871005</td>\n",
       "      <td>DF-6D-BF-6C-23-59</td>\n",
       "      <td>5262</td>\n",
       "      <td>Chhatarpur City</td>\n",
       "      <td>1</td>\n",
       "      <td>4</td>\n",
       "      <td>471001</td>\n",
       "      <td>1</td>\n",
       "    </tr>\n",
       "    <tr>\n",
       "      <th>4</th>\n",
       "      <td>80669</td>\n",
       "      <td>19203</td>\n",
       "      <td>19203</td>\n",
       "      <td>1</td>\n",
       "      <td>0</td>\n",
       "      <td>1</td>\n",
       "      <td>0</td>\n",
       "      <td>2709</td>\n",
       "      <td>2707</td>\n",
       "      <td>27/03/2019</td>\n",
       "      <td>...</td>\n",
       "      <td>18</td>\n",
       "      <td>dPiRkMo3i@gmail.com</td>\n",
       "      <td>3152175434</td>\n",
       "      <td>49-55-60-A5-F5-2B</td>\n",
       "      <td>4957</td>\n",
       "      <td>Sunamura</td>\n",
       "      <td>0</td>\n",
       "      <td>4</td>\n",
       "      <td>799131</td>\n",
       "      <td>1</td>\n",
       "    </tr>\n",
       "  </tbody>\n",
       "</table>\n",
       "<p>5 rows × 32 columns</p>\n",
       "</div>"
      ],
      "text/plain": [
       "   CustId  OrderId  ProductId  IsValidAddress  IsAddchangeRecently  \\\n",
       "0   47019    41601      41601               1                    0   \n",
       "1   20242    30352      30352               0                    1   \n",
       "2   79619    12328      12328               1                    0   \n",
       "3   79619    80750      80750               0                    1   \n",
       "4   80669    19203      19203               1                    0   \n",
       "\n",
       "   IsAddchangeonDel  IsDeliveryRejected  OriginalPrice  PaidPrice   OrderDate  \\\n",
       "0                 1                   1           2711       2711  25/01/2019   \n",
       "1                 0                   0           2713       2710  06/02/2019   \n",
       "2                 1                   1           4146       4142  12/01/2019   \n",
       "3                 0                   0           2662       2662  19/01/2019   \n",
       "4                 1                   0           2709       2707  27/03/2019   \n",
       "\n",
       "     ...    Age              EmailId    MobileNo         MacAddress  \\\n",
       "0    ...     23    aQGHuxe@yahoo.com  1867946110  1D-BA-45-3F-E5-43   \n",
       "1    ...     18  sej94kG@hotmail.com  9272875375  65-D1-F3-62-F7-44   \n",
       "2    ...     18  HTVm_XUBz@gmail.com  3251871005  DF-6D-BF-6C-23-59   \n",
       "3    ...     18  HTVm_XUBz@gmail.com  3251871005  DF-6D-BF-6C-23-59   \n",
       "4    ...     18  dPiRkMo3i@gmail.com  3152175434  49-55-60-A5-F5-2B   \n",
       "\n",
       "   AvgPurchase             City OccupationalLevel IncomeLevel Pincode  \\\n",
       "0        99522            Latur                 0           3  413512   \n",
       "1         3491    Mumbai G.P.O.                 0           4  400001   \n",
       "2         5262  Chhatarpur City                 1           4  471001   \n",
       "3         5262  Chhatarpur City                 1           4  471001   \n",
       "4         4957         Sunamura                 0           4  799131   \n",
       "\n",
       "   AgeGroup  \n",
       "0         3  \n",
       "1         1  \n",
       "2         1  \n",
       "3         1  \n",
       "4         1  \n",
       "\n",
       "[5 rows x 32 columns]"
      ]
     },
     "execution_count": 96,
     "metadata": {},
     "output_type": "execute_result"
    }
   ],
   "source": [
    "df['AgeGroup'] = pd.cut(df['Age'], [10,15,18,21,24,27,30,33,35,40,50,100],\n",
    "                            labels=['0', '1', '2','3','4','5','6','7','8','9','10'])\n",
    "df.head()"
   ]
  },
  {
   "cell_type": "code",
   "execution_count": 44,
   "metadata": {},
   "outputs": [
    {
     "data": {
      "text/html": [
       "<div>\n",
       "<style scoped>\n",
       "    .dataframe tbody tr th:only-of-type {\n",
       "        vertical-align: middle;\n",
       "    }\n",
       "\n",
       "    .dataframe tbody tr th {\n",
       "        vertical-align: top;\n",
       "    }\n",
       "\n",
       "    .dataframe thead th {\n",
       "        text-align: right;\n",
       "    }\n",
       "</style>\n",
       "<table border=\"1\" class=\"dataframe\">\n",
       "  <thead>\n",
       "    <tr style=\"text-align: right;\">\n",
       "      <th></th>\n",
       "      <th>CustId</th>\n",
       "      <th>OrderId</th>\n",
       "      <th>ProductId</th>\n",
       "      <th>IsValidAddress</th>\n",
       "      <th>IsAddchangeRecently</th>\n",
       "      <th>IsAddchangeonDel</th>\n",
       "      <th>IsDeliveryRejected</th>\n",
       "      <th>OriginalPrice</th>\n",
       "      <th>PaidPrice</th>\n",
       "      <th>OrderDate</th>\n",
       "      <th>...</th>\n",
       "      <th>EmailId</th>\n",
       "      <th>MobileNo</th>\n",
       "      <th>MacAddress</th>\n",
       "      <th>AvgPurchase</th>\n",
       "      <th>City</th>\n",
       "      <th>OccupationalLevel</th>\n",
       "      <th>IncomeLevel</th>\n",
       "      <th>Pincode</th>\n",
       "      <th>AgeGroup</th>\n",
       "      <th>domain</th>\n",
       "    </tr>\n",
       "  </thead>\n",
       "  <tbody>\n",
       "    <tr>\n",
       "      <th>0</th>\n",
       "      <td>47019</td>\n",
       "      <td>41601</td>\n",
       "      <td>41601</td>\n",
       "      <td>1</td>\n",
       "      <td>0</td>\n",
       "      <td>1</td>\n",
       "      <td>1</td>\n",
       "      <td>2711</td>\n",
       "      <td>2711</td>\n",
       "      <td>25/01/2019</td>\n",
       "      <td>...</td>\n",
       "      <td>aQGHuxe@yahoo.com</td>\n",
       "      <td>1867946110</td>\n",
       "      <td>1D-BA-45-3F-E5-43</td>\n",
       "      <td>99522</td>\n",
       "      <td>Latur</td>\n",
       "      <td>0</td>\n",
       "      <td>3</td>\n",
       "      <td>413512</td>\n",
       "      <td>3</td>\n",
       "      <td>yahoo.com</td>\n",
       "    </tr>\n",
       "    <tr>\n",
       "      <th>1</th>\n",
       "      <td>20242</td>\n",
       "      <td>30352</td>\n",
       "      <td>30352</td>\n",
       "      <td>0</td>\n",
       "      <td>1</td>\n",
       "      <td>0</td>\n",
       "      <td>0</td>\n",
       "      <td>2713</td>\n",
       "      <td>2710</td>\n",
       "      <td>06/02/2019</td>\n",
       "      <td>...</td>\n",
       "      <td>sej94kG@hotmail.com</td>\n",
       "      <td>9272875375</td>\n",
       "      <td>65-D1-F3-62-F7-44</td>\n",
       "      <td>3491</td>\n",
       "      <td>Mumbai G.P.O.</td>\n",
       "      <td>0</td>\n",
       "      <td>4</td>\n",
       "      <td>400001</td>\n",
       "      <td>1</td>\n",
       "      <td>hotmail.com</td>\n",
       "    </tr>\n",
       "    <tr>\n",
       "      <th>2</th>\n",
       "      <td>79619</td>\n",
       "      <td>12328</td>\n",
       "      <td>12328</td>\n",
       "      <td>1</td>\n",
       "      <td>0</td>\n",
       "      <td>1</td>\n",
       "      <td>1</td>\n",
       "      <td>4146</td>\n",
       "      <td>4142</td>\n",
       "      <td>12/01/2019</td>\n",
       "      <td>...</td>\n",
       "      <td>HTVm_XUBz@gmail.com</td>\n",
       "      <td>3251871005</td>\n",
       "      <td>DF-6D-BF-6C-23-59</td>\n",
       "      <td>5262</td>\n",
       "      <td>Chhatarpur City</td>\n",
       "      <td>1</td>\n",
       "      <td>4</td>\n",
       "      <td>471001</td>\n",
       "      <td>1</td>\n",
       "      <td>gmail.com</td>\n",
       "    </tr>\n",
       "    <tr>\n",
       "      <th>3</th>\n",
       "      <td>79619</td>\n",
       "      <td>80750</td>\n",
       "      <td>80750</td>\n",
       "      <td>0</td>\n",
       "      <td>1</td>\n",
       "      <td>0</td>\n",
       "      <td>0</td>\n",
       "      <td>2662</td>\n",
       "      <td>2662</td>\n",
       "      <td>19/01/2019</td>\n",
       "      <td>...</td>\n",
       "      <td>HTVm_XUBz@gmail.com</td>\n",
       "      <td>3251871005</td>\n",
       "      <td>DF-6D-BF-6C-23-59</td>\n",
       "      <td>5262</td>\n",
       "      <td>Chhatarpur City</td>\n",
       "      <td>1</td>\n",
       "      <td>4</td>\n",
       "      <td>471001</td>\n",
       "      <td>1</td>\n",
       "      <td>gmail.com</td>\n",
       "    </tr>\n",
       "    <tr>\n",
       "      <th>4</th>\n",
       "      <td>80669</td>\n",
       "      <td>19203</td>\n",
       "      <td>19203</td>\n",
       "      <td>1</td>\n",
       "      <td>0</td>\n",
       "      <td>1</td>\n",
       "      <td>0</td>\n",
       "      <td>2709</td>\n",
       "      <td>2707</td>\n",
       "      <td>27/03/2019</td>\n",
       "      <td>...</td>\n",
       "      <td>dPiRkMo3i@gmail.com</td>\n",
       "      <td>3152175434</td>\n",
       "      <td>49-55-60-A5-F5-2B</td>\n",
       "      <td>4957</td>\n",
       "      <td>Sunamura</td>\n",
       "      <td>0</td>\n",
       "      <td>4</td>\n",
       "      <td>799131</td>\n",
       "      <td>1</td>\n",
       "      <td>gmail.com</td>\n",
       "    </tr>\n",
       "  </tbody>\n",
       "</table>\n",
       "<p>5 rows × 33 columns</p>\n",
       "</div>"
      ],
      "text/plain": [
       "   CustId  OrderId  ProductId  IsValidAddress  IsAddchangeRecently  \\\n",
       "0   47019    41601      41601               1                    0   \n",
       "1   20242    30352      30352               0                    1   \n",
       "2   79619    12328      12328               1                    0   \n",
       "3   79619    80750      80750               0                    1   \n",
       "4   80669    19203      19203               1                    0   \n",
       "\n",
       "   IsAddchangeonDel  IsDeliveryRejected  OriginalPrice  PaidPrice   OrderDate  \\\n",
       "0                 1                   1           2711       2711  25/01/2019   \n",
       "1                 0                   0           2713       2710  06/02/2019   \n",
       "2                 1                   1           4146       4142  12/01/2019   \n",
       "3                 0                   0           2662       2662  19/01/2019   \n",
       "4                 1                   0           2709       2707  27/03/2019   \n",
       "\n",
       "      ...                   EmailId    MobileNo         MacAddress  \\\n",
       "0     ...         aQGHuxe@yahoo.com  1867946110  1D-BA-45-3F-E5-43   \n",
       "1     ...       sej94kG@hotmail.com  9272875375  65-D1-F3-62-F7-44   \n",
       "2     ...       HTVm_XUBz@gmail.com  3251871005  DF-6D-BF-6C-23-59   \n",
       "3     ...       HTVm_XUBz@gmail.com  3251871005  DF-6D-BF-6C-23-59   \n",
       "4     ...       dPiRkMo3i@gmail.com  3152175434  49-55-60-A5-F5-2B   \n",
       "\n",
       "   AvgPurchase             City  OccupationalLevel IncomeLevel Pincode  \\\n",
       "0        99522            Latur                  0           3  413512   \n",
       "1         3491    Mumbai G.P.O.                  0           4  400001   \n",
       "2         5262  Chhatarpur City                  1           4  471001   \n",
       "3         5262  Chhatarpur City                  1           4  471001   \n",
       "4         4957         Sunamura                  0           4  799131   \n",
       "\n",
       "  AgeGroup       domain  \n",
       "0        3    yahoo.com  \n",
       "1        1  hotmail.com  \n",
       "2        1    gmail.com  \n",
       "3        1    gmail.com  \n",
       "4        1    gmail.com  \n",
       "\n",
       "[5 rows x 33 columns]"
      ]
     },
     "execution_count": 44,
     "metadata": {},
     "output_type": "execute_result"
    }
   ],
   "source": [
    "df['domain'] = df['EmailId'].str.split('@').str[1]\n",
    "df.head()"
   ]
  },
  {
   "cell_type": "code",
   "execution_count": 45,
   "metadata": {},
   "outputs": [
    {
     "data": {
      "text/plain": [
       "array(['yahoo.com', 'hotmail.com', 'gmail.com', 'aol.com', 'mail.com'],\n",
       "      dtype=object)"
      ]
     },
     "execution_count": 45,
     "metadata": {},
     "output_type": "execute_result"
    }
   ],
   "source": [
    "df.domain.unique()"
   ]
  },
  {
   "cell_type": "code",
   "execution_count": 46,
   "metadata": {},
   "outputs": [
    {
     "name": "stdout",
     "output_type": "stream",
     "text": [
      "hotmail.com    20174\n",
      "mail.com       20117\n",
      "yahoo.com      20054\n",
      "gmail.com      19860\n",
      "aol.com        19795\n",
      "Name: domain, dtype: int64\n",
      "--------------------------------------\n",
      "domain       Fraud     \n",
      "aol.com      normal        13852\n",
      "             suspicious     4903\n",
      "             fraudulent     1040\n",
      "gmail.com    normal        13850\n",
      "             suspicious     5044\n",
      "             fraudulent      966\n",
      "hotmail.com  normal        14097\n",
      "             suspicious     5075\n",
      "             fraudulent     1002\n",
      "mail.com     normal        14121\n",
      "             suspicious     5027\n",
      "             fraudulent      969\n",
      "yahoo.com    normal        14080\n",
      "             suspicious     4951\n",
      "             fraudulent     1023\n",
      "Name: Fraud, dtype: int64\n"
     ]
    },
    {
     "data": {
      "image/png": "[encoded data removed]",
      "text/plain": [
       "<Figure size 504x360 with 1 Axes>"
      ]
     },
     "metadata": {},
     "output_type": "display_data"
    }
   ],
   "source": [
    "feature_relationship('domain')"
   ]
  },
  {
   "cell_type": "code",
   "execution_count": 30,
   "metadata": {},
   "outputs": [],
   "source": [
    "def ip_to_int(ip_ser):\n",
    "    ips = ip_ser.str.split('.', expand=True).astype(np.int16).values\n",
    "    mults = np.tile(np.array([24, 16, 8, 0]), len(ip_ser)).reshape(ips.shape)\n",
    "    return np.sum(np.left_shift(ips, mults), axis=1)"
   ]
  },
  {
   "cell_type": "code",
   "execution_count": 31,
   "metadata": {},
   "outputs": [
    {
     "data": {
      "text/html": [
       "<div>\n",
       "<style scoped>\n",
       "    .dataframe tbody tr th:only-of-type {\n",
       "        vertical-align: middle;\n",
       "    }\n",
       "\n",
       "    .dataframe tbody tr th {\n",
       "        vertical-align: top;\n",
       "    }\n",
       "\n",
       "    .dataframe thead th {\n",
       "        text-align: right;\n",
       "    }\n",
       "</style>\n",
       "<table border=\"1\" class=\"dataframe\">\n",
       "  <thead>\n",
       "    <tr style=\"text-align: right;\">\n",
       "      <th></th>\n",
       "      <th>CustId</th>\n",
       "      <th>OrderId</th>\n",
       "      <th>ProductId</th>\n",
       "      <th>IsValidAddress</th>\n",
       "      <th>IsAddchangeRecently</th>\n",
       "      <th>IsAddchangeonDel</th>\n",
       "      <th>IsDeliveryRejected</th>\n",
       "      <th>OriginalPrice</th>\n",
       "      <th>PaidPrice</th>\n",
       "      <th>OrderDate</th>\n",
       "      <th>...</th>\n",
       "      <th>IsOneTimeUseProduct</th>\n",
       "      <th>IsOfferCodeApplied</th>\n",
       "      <th>Fraud</th>\n",
       "      <th>IP_start_session</th>\n",
       "      <th>IP_end_session</th>\n",
       "      <th>Session_Pincode</th>\n",
       "      <th>Delivery_Pincode</th>\n",
       "      <th>IsValidGeo</th>\n",
       "      <th>_IP_start_session</th>\n",
       "      <th>_IP_end_session</th>\n",
       "    </tr>\n",
       "  </thead>\n",
       "  <tbody>\n",
       "    <tr>\n",
       "      <th>0</th>\n",
       "      <td>47019</td>\n",
       "      <td>41601</td>\n",
       "      <td>41601</td>\n",
       "      <td>1</td>\n",
       "      <td>0</td>\n",
       "      <td>1</td>\n",
       "      <td>1</td>\n",
       "      <td>2711</td>\n",
       "      <td>2711</td>\n",
       "      <td>25/01/2019</td>\n",
       "      <td>...</td>\n",
       "      <td>0</td>\n",
       "      <td>0</td>\n",
       "      <td>normal</td>\n",
       "      <td>99.55.251.225</td>\n",
       "      <td>99.55.251.225</td>\n",
       "      <td>276001</td>\n",
       "      <td>276001</td>\n",
       "      <td>1</td>\n",
       "      <td>1664613345</td>\n",
       "      <td>1664613345</td>\n",
       "    </tr>\n",
       "    <tr>\n",
       "      <th>1</th>\n",
       "      <td>20242</td>\n",
       "      <td>30352</td>\n",
       "      <td>30352</td>\n",
       "      <td>0</td>\n",
       "      <td>1</td>\n",
       "      <td>0</td>\n",
       "      <td>0</td>\n",
       "      <td>2713</td>\n",
       "      <td>2710</td>\n",
       "      <td>06/02/2019</td>\n",
       "      <td>...</td>\n",
       "      <td>1</td>\n",
       "      <td>0</td>\n",
       "      <td>normal</td>\n",
       "      <td>206.253.101.58</td>\n",
       "      <td>206.253.101.58</td>\n",
       "      <td>505468</td>\n",
       "      <td>505456</td>\n",
       "      <td>1</td>\n",
       "      <td>-822254278</td>\n",
       "      <td>-822254278</td>\n",
       "    </tr>\n",
       "    <tr>\n",
       "      <th>2</th>\n",
       "      <td>79619</td>\n",
       "      <td>12328</td>\n",
       "      <td>12328</td>\n",
       "      <td>1</td>\n",
       "      <td>0</td>\n",
       "      <td>1</td>\n",
       "      <td>1</td>\n",
       "      <td>4146</td>\n",
       "      <td>4142</td>\n",
       "      <td>12/01/2019</td>\n",
       "      <td>...</td>\n",
       "      <td>0</td>\n",
       "      <td>1</td>\n",
       "      <td>suspicious</td>\n",
       "      <td>151.250.152.84</td>\n",
       "      <td>151.250.152.84</td>\n",
       "      <td>586209</td>\n",
       "      <td>586208</td>\n",
       "      <td>0</td>\n",
       "      <td>-1745184684</td>\n",
       "      <td>-1745184684</td>\n",
       "    </tr>\n",
       "    <tr>\n",
       "      <th>3</th>\n",
       "      <td>80669</td>\n",
       "      <td>19203</td>\n",
       "      <td>19203</td>\n",
       "      <td>1</td>\n",
       "      <td>0</td>\n",
       "      <td>1</td>\n",
       "      <td>0</td>\n",
       "      <td>2709</td>\n",
       "      <td>2707</td>\n",
       "      <td>27/03/2019</td>\n",
       "      <td>...</td>\n",
       "      <td>0</td>\n",
       "      <td>1</td>\n",
       "      <td>normal</td>\n",
       "      <td>91.253.4.00</td>\n",
       "      <td>91.253.4.00</td>\n",
       "      <td>250001</td>\n",
       "      <td>249986</td>\n",
       "      <td>1</td>\n",
       "      <td>1543308288</td>\n",
       "      <td>1543308288</td>\n",
       "    </tr>\n",
       "    <tr>\n",
       "      <th>4</th>\n",
       "      <td>64577</td>\n",
       "      <td>19842</td>\n",
       "      <td>19842</td>\n",
       "      <td>0</td>\n",
       "      <td>0</td>\n",
       "      <td>0</td>\n",
       "      <td>1</td>\n",
       "      <td>8815</td>\n",
       "      <td>8811</td>\n",
       "      <td>17/01/2019</td>\n",
       "      <td>...</td>\n",
       "      <td>0</td>\n",
       "      <td>1</td>\n",
       "      <td>normal</td>\n",
       "      <td>228.1.1.251</td>\n",
       "      <td>228.1.1.251</td>\n",
       "      <td>799277</td>\n",
       "      <td>799257</td>\n",
       "      <td>1</td>\n",
       "      <td>-469696005</td>\n",
       "      <td>-469696005</td>\n",
       "    </tr>\n",
       "  </tbody>\n",
       "</table>\n",
       "<p>5 rows × 24 columns</p>\n",
       "</div>"
      ],
      "text/plain": [
       "   CustId  OrderId  ProductId  IsValidAddress  IsAddchangeRecently  \\\n",
       "0   47019    41601      41601               1                    0   \n",
       "1   20242    30352      30352               0                    1   \n",
       "2   79619    12328      12328               1                    0   \n",
       "3   80669    19203      19203               1                    0   \n",
       "4   64577    19842      19842               0                    0   \n",
       "\n",
       "   IsAddchangeonDel  IsDeliveryRejected  OriginalPrice  PaidPrice   OrderDate  \\\n",
       "0                 1                   1           2711       2711  25/01/2019   \n",
       "1                 0                   0           2713       2710  06/02/2019   \n",
       "2                 1                   1           4146       4142  12/01/2019   \n",
       "3                 1                   0           2709       2707  27/03/2019   \n",
       "4                 0                   1           8815       8811  17/01/2019   \n",
       "\n",
       "        ...        IsOneTimeUseProduct IsOfferCodeApplied       Fraud  \\\n",
       "0       ...                          0                  0      normal   \n",
       "1       ...                          1                  0      normal   \n",
       "2       ...                          0                  1  suspicious   \n",
       "3       ...                          0                  1      normal   \n",
       "4       ...                          0                  1      normal   \n",
       "\n",
       "   IP_start_session  IP_end_session  Session_Pincode Delivery_Pincode  \\\n",
       "0     99.55.251.225   99.55.251.225           276001           276001   \n",
       "1    206.253.101.58  206.253.101.58           505468           505456   \n",
       "2    151.250.152.84  151.250.152.84           586209           586208   \n",
       "3       91.253.4.00     91.253.4.00           250001           249986   \n",
       "4       228.1.1.251     228.1.1.251           799277           799257   \n",
       "\n",
       "  IsValidGeo _IP_start_session  _IP_end_session  \n",
       "0          1        1664613345       1664613345  \n",
       "1          1        -822254278       -822254278  \n",
       "2          0       -1745184684      -1745184684  \n",
       "3          1        1543308288       1543308288  \n",
       "4          1        -469696005       -469696005  \n",
       "\n",
       "[5 rows x 24 columns]"
      ]
     },
     "execution_count": 31,
     "metadata": {},
     "output_type": "execute_result"
    }
   ],
   "source": [
    "df['_IP_start_session'] = ip_to_int(df.IP_start_session)\n",
    "df['_IP_end_session'] = ip_to_int(df.IP_end_session)\n",
    "df.head()\n"
   ]
  },
  {
   "cell_type": "code",
   "execution_count": 97,
   "metadata": {},
   "outputs": [
    {
     "name": "stderr",
     "output_type": "stream",
     "text": [
      "D:\\miniconda\\envs\\ml\\lib\\site-packages\\ipykernel_launcher.py:1: SettingWithCopyWarning: \n",
      "A value is trying to be set on a copy of a slice from a DataFrame.\n",
      "Try using .loc[row_indexer,col_indexer] = value instead\n",
      "\n",
      "See the caveats in the documentation: http://pandas.pydata.org/pandas-docs/stable/indexing.html#indexing-view-versus-copy\n",
      "  \"\"\"Entry point for launching an IPython kernel.\n",
      "D:\\miniconda\\envs\\ml\\lib\\site-packages\\ipykernel_launcher.py:2: SettingWithCopyWarning: \n",
      "A value is trying to be set on a copy of a slice from a DataFrame.\n",
      "Try using .loc[row_indexer,col_indexer] = value instead\n",
      "\n",
      "See the caveats in the documentation: http://pandas.pydata.org/pandas-docs/stable/indexing.html#indexing-view-versus-copy\n",
      "  \n",
      "D:\\miniconda\\envs\\ml\\lib\\site-packages\\ipykernel_launcher.py:3: SettingWithCopyWarning: \n",
      "A value is trying to be set on a copy of a slice from a DataFrame.\n",
      "Try using .loc[row_indexer,col_indexer] = value instead\n",
      "\n",
      "See the caveats in the documentation: http://pandas.pydata.org/pandas-docs/stable/indexing.html#indexing-view-versus-copy\n",
      "  This is separate from the ipykernel package so we can avoid doing imports until\n",
      "D:\\miniconda\\envs\\ml\\lib\\site-packages\\ipykernel_launcher.py:4: SettingWithCopyWarning: \n",
      "A value is trying to be set on a copy of a slice from a DataFrame.\n",
      "Try using .loc[row_indexer,col_indexer] = value instead\n",
      "\n",
      "See the caveats in the documentation: http://pandas.pydata.org/pandas-docs/stable/indexing.html#indexing-view-versus-copy\n",
      "  after removing the cwd from sys.path.\n"
     ]
    },
    {
     "data": {
      "text/html": [
       "<div>\n",
       "<style scoped>\n",
       "    .dataframe tbody tr th:only-of-type {\n",
       "        vertical-align: middle;\n",
       "    }\n",
       "\n",
       "    .dataframe tbody tr th {\n",
       "        vertical-align: top;\n",
       "    }\n",
       "\n",
       "    .dataframe thead th {\n",
       "        text-align: right;\n",
       "    }\n",
       "</style>\n",
       "<table border=\"1\" class=\"dataframe\">\n",
       "  <thead>\n",
       "    <tr style=\"text-align: right;\">\n",
       "      <th></th>\n",
       "      <th>CustId</th>\n",
       "      <th>OrderId</th>\n",
       "      <th>ProductId</th>\n",
       "      <th>IsValidAddress</th>\n",
       "      <th>IsAddchangeRecently</th>\n",
       "      <th>IsAddchangeonDel</th>\n",
       "      <th>IsDeliveryRejected</th>\n",
       "      <th>OriginalPrice</th>\n",
       "      <th>PaidPrice</th>\n",
       "      <th>OrderDate</th>\n",
       "      <th>...</th>\n",
       "      <th>Age</th>\n",
       "      <th>EmailId</th>\n",
       "      <th>MobileNo</th>\n",
       "      <th>MacAddress</th>\n",
       "      <th>AvgPurchase</th>\n",
       "      <th>City</th>\n",
       "      <th>OccupationalLevel</th>\n",
       "      <th>IncomeLevel</th>\n",
       "      <th>Pincode</th>\n",
       "      <th>AgeGroup</th>\n",
       "    </tr>\n",
       "  </thead>\n",
       "  <tbody>\n",
       "    <tr>\n",
       "      <th>0</th>\n",
       "      <td>47019</td>\n",
       "      <td>41601</td>\n",
       "      <td>41601</td>\n",
       "      <td>1</td>\n",
       "      <td>0</td>\n",
       "      <td>1</td>\n",
       "      <td>1</td>\n",
       "      <td>2711</td>\n",
       "      <td>2711</td>\n",
       "      <td>2019-01-25</td>\n",
       "      <td>...</td>\n",
       "      <td>23</td>\n",
       "      <td>aQGHuxe@yahoo.com</td>\n",
       "      <td>1867946110</td>\n",
       "      <td>1D-BA-45-3F-E5-43</td>\n",
       "      <td>99522</td>\n",
       "      <td>Latur</td>\n",
       "      <td>0</td>\n",
       "      <td>3</td>\n",
       "      <td>413512</td>\n",
       "      <td>3</td>\n",
       "    </tr>\n",
       "    <tr>\n",
       "      <th>1</th>\n",
       "      <td>20242</td>\n",
       "      <td>30352</td>\n",
       "      <td>30352</td>\n",
       "      <td>0</td>\n",
       "      <td>1</td>\n",
       "      <td>0</td>\n",
       "      <td>0</td>\n",
       "      <td>2713</td>\n",
       "      <td>2710</td>\n",
       "      <td>2019-02-06</td>\n",
       "      <td>...</td>\n",
       "      <td>18</td>\n",
       "      <td>sej94kG@hotmail.com</td>\n",
       "      <td>9272875375</td>\n",
       "      <td>65-D1-F3-62-F7-44</td>\n",
       "      <td>3491</td>\n",
       "      <td>Mumbai G.P.O.</td>\n",
       "      <td>0</td>\n",
       "      <td>4</td>\n",
       "      <td>400001</td>\n",
       "      <td>1</td>\n",
       "    </tr>\n",
       "    <tr>\n",
       "      <th>2</th>\n",
       "      <td>79619</td>\n",
       "      <td>12328</td>\n",
       "      <td>12328</td>\n",
       "      <td>1</td>\n",
       "      <td>0</td>\n",
       "      <td>1</td>\n",
       "      <td>1</td>\n",
       "      <td>4146</td>\n",
       "      <td>4142</td>\n",
       "      <td>2019-01-12</td>\n",
       "      <td>...</td>\n",
       "      <td>18</td>\n",
       "      <td>HTVm_XUBz@gmail.com</td>\n",
       "      <td>3251871005</td>\n",
       "      <td>DF-6D-BF-6C-23-59</td>\n",
       "      <td>5262</td>\n",
       "      <td>Chhatarpur City</td>\n",
       "      <td>1</td>\n",
       "      <td>4</td>\n",
       "      <td>471001</td>\n",
       "      <td>1</td>\n",
       "    </tr>\n",
       "    <tr>\n",
       "      <th>3</th>\n",
       "      <td>79619</td>\n",
       "      <td>80750</td>\n",
       "      <td>80750</td>\n",
       "      <td>0</td>\n",
       "      <td>1</td>\n",
       "      <td>0</td>\n",
       "      <td>0</td>\n",
       "      <td>2662</td>\n",
       "      <td>2662</td>\n",
       "      <td>2019-01-19</td>\n",
       "      <td>...</td>\n",
       "      <td>18</td>\n",
       "      <td>HTVm_XUBz@gmail.com</td>\n",
       "      <td>3251871005</td>\n",
       "      <td>DF-6D-BF-6C-23-59</td>\n",
       "      <td>5262</td>\n",
       "      <td>Chhatarpur City</td>\n",
       "      <td>1</td>\n",
       "      <td>4</td>\n",
       "      <td>471001</td>\n",
       "      <td>1</td>\n",
       "    </tr>\n",
       "    <tr>\n",
       "      <th>4</th>\n",
       "      <td>80669</td>\n",
       "      <td>19203</td>\n",
       "      <td>19203</td>\n",
       "      <td>1</td>\n",
       "      <td>0</td>\n",
       "      <td>1</td>\n",
       "      <td>0</td>\n",
       "      <td>2709</td>\n",
       "      <td>2707</td>\n",
       "      <td>2019-03-27</td>\n",
       "      <td>...</td>\n",
       "      <td>18</td>\n",
       "      <td>dPiRkMo3i@gmail.com</td>\n",
       "      <td>3152175434</td>\n",
       "      <td>49-55-60-A5-F5-2B</td>\n",
       "      <td>4957</td>\n",
       "      <td>Sunamura</td>\n",
       "      <td>0</td>\n",
       "      <td>4</td>\n",
       "      <td>799131</td>\n",
       "      <td>1</td>\n",
       "    </tr>\n",
       "  </tbody>\n",
       "</table>\n",
       "<p>5 rows × 32 columns</p>\n",
       "</div>"
      ],
      "text/plain": [
       "   CustId  OrderId  ProductId  IsValidAddress  IsAddchangeRecently  \\\n",
       "0   47019    41601      41601               1                    0   \n",
       "1   20242    30352      30352               0                    1   \n",
       "2   79619    12328      12328               1                    0   \n",
       "3   79619    80750      80750               0                    1   \n",
       "4   80669    19203      19203               1                    0   \n",
       "\n",
       "   IsAddchangeonDel  IsDeliveryRejected  OriginalPrice  PaidPrice  OrderDate  \\\n",
       "0                 1                   1           2711       2711 2019-01-25   \n",
       "1                 0                   0           2713       2710 2019-02-06   \n",
       "2                 1                   1           4146       4142 2019-01-12   \n",
       "3                 0                   0           2662       2662 2019-01-19   \n",
       "4                 1                   0           2709       2707 2019-03-27   \n",
       "\n",
       "     ...    Age              EmailId    MobileNo         MacAddress  \\\n",
       "0    ...     23    aQGHuxe@yahoo.com  1867946110  1D-BA-45-3F-E5-43   \n",
       "1    ...     18  sej94kG@hotmail.com  9272875375  65-D1-F3-62-F7-44   \n",
       "2    ...     18  HTVm_XUBz@gmail.com  3251871005  DF-6D-BF-6C-23-59   \n",
       "3    ...     18  HTVm_XUBz@gmail.com  3251871005  DF-6D-BF-6C-23-59   \n",
       "4    ...     18  dPiRkMo3i@gmail.com  3152175434  49-55-60-A5-F5-2B   \n",
       "\n",
       "   AvgPurchase             City OccupationalLevel IncomeLevel Pincode  \\\n",
       "0        99522            Latur                 0           3  413512   \n",
       "1         3491    Mumbai G.P.O.                 0           4  400001   \n",
       "2         5262  Chhatarpur City                 1           4  471001   \n",
       "3         5262  Chhatarpur City                 1           4  471001   \n",
       "4         4957         Sunamura                 0           4  799131   \n",
       "\n",
       "   AgeGroup  \n",
       "0         3  \n",
       "1         1  \n",
       "2         1  \n",
       "3         1  \n",
       "4         1  \n",
       "\n",
       "[5 rows x 32 columns]"
      ]
     },
     "execution_count": 97,
     "metadata": {},
     "output_type": "execute_result"
    }
   ],
   "source": [
    "df['OrderDate'] =  pd.to_datetime(df['OrderDate'],format='%d/%m/%Y')\n",
    "df['AddressChangeDate'] =  pd.to_datetime(df['AddressChangeDate'],format='%d/%m/%Y')\n",
    "df['DeliveryDate'] =  pd.to_datetime(df['DeliveryDate'],format='%d/%m/%Y')\n",
    "df['ReplacementDate'] =  pd.to_datetime(df['ReplacementDate'],format='%d/%m/%Y')\n",
    "df.head()"
   ]
  },
  {
   "cell_type": "code",
   "execution_count": 98,
   "metadata": {},
   "outputs": [],
   "source": [
    "def extract_date(df,column):\n",
    "    df[column+\"_year\"] = df[column].apply(lambda x: x.year) \n",
    "    df[column+\"_month\"] = df[column].apply(lambda x: x.month)\n",
    "    df[column+\"_date\"] = df[column].apply(lambda x: x.day)    "
   ]
  },
  {
   "cell_type": "code",
   "execution_count": 99,
   "metadata": {},
   "outputs": [
    {
     "name": "stderr",
     "output_type": "stream",
     "text": [
      "D:\\miniconda\\envs\\ml\\lib\\site-packages\\ipykernel_launcher.py:2: SettingWithCopyWarning: \n",
      "A value is trying to be set on a copy of a slice from a DataFrame.\n",
      "Try using .loc[row_indexer,col_indexer] = value instead\n",
      "\n",
      "See the caveats in the documentation: http://pandas.pydata.org/pandas-docs/stable/indexing.html#indexing-view-versus-copy\n",
      "  \n",
      "D:\\miniconda\\envs\\ml\\lib\\site-packages\\ipykernel_launcher.py:3: SettingWithCopyWarning: \n",
      "A value is trying to be set on a copy of a slice from a DataFrame.\n",
      "Try using .loc[row_indexer,col_indexer] = value instead\n",
      "\n",
      "See the caveats in the documentation: http://pandas.pydata.org/pandas-docs/stable/indexing.html#indexing-view-versus-copy\n",
      "  This is separate from the ipykernel package so we can avoid doing imports until\n",
      "D:\\miniconda\\envs\\ml\\lib\\site-packages\\ipykernel_launcher.py:4: SettingWithCopyWarning: \n",
      "A value is trying to be set on a copy of a slice from a DataFrame.\n",
      "Try using .loc[row_indexer,col_indexer] = value instead\n",
      "\n",
      "See the caveats in the documentation: http://pandas.pydata.org/pandas-docs/stable/indexing.html#indexing-view-versus-copy\n",
      "  after removing the cwd from sys.path.\n"
     ]
    },
    {
     "data": {
      "text/html": [
       "<div>\n",
       "<style scoped>\n",
       "    .dataframe tbody tr th:only-of-type {\n",
       "        vertical-align: middle;\n",
       "    }\n",
       "\n",
       "    .dataframe tbody tr th {\n",
       "        vertical-align: top;\n",
       "    }\n",
       "\n",
       "    .dataframe thead th {\n",
       "        text-align: right;\n",
       "    }\n",
       "</style>\n",
       "<table border=\"1\" class=\"dataframe\">\n",
       "  <thead>\n",
       "    <tr style=\"text-align: right;\">\n",
       "      <th></th>\n",
       "      <th>CustId</th>\n",
       "      <th>OrderId</th>\n",
       "      <th>ProductId</th>\n",
       "      <th>IsValidAddress</th>\n",
       "      <th>IsAddchangeRecently</th>\n",
       "      <th>IsAddchangeonDel</th>\n",
       "      <th>IsDeliveryRejected</th>\n",
       "      <th>OriginalPrice</th>\n",
       "      <th>PaidPrice</th>\n",
       "      <th>OrderDate</th>\n",
       "      <th>...</th>\n",
       "      <th>OrderDate_date</th>\n",
       "      <th>AddressChangeDate_year</th>\n",
       "      <th>AddressChangeDate_month</th>\n",
       "      <th>AddressChangeDate_date</th>\n",
       "      <th>DeliveryDate_year</th>\n",
       "      <th>DeliveryDate_month</th>\n",
       "      <th>DeliveryDate_date</th>\n",
       "      <th>ReplacementDate_year</th>\n",
       "      <th>ReplacementDate_month</th>\n",
       "      <th>ReplacementDate_date</th>\n",
       "    </tr>\n",
       "  </thead>\n",
       "  <tbody>\n",
       "    <tr>\n",
       "      <th>0</th>\n",
       "      <td>47019</td>\n",
       "      <td>41601</td>\n",
       "      <td>41601</td>\n",
       "      <td>1</td>\n",
       "      <td>0</td>\n",
       "      <td>1</td>\n",
       "      <td>1</td>\n",
       "      <td>2711</td>\n",
       "      <td>2711</td>\n",
       "      <td>2019-01-25</td>\n",
       "      <td>...</td>\n",
       "      <td>25</td>\n",
       "      <td>2018</td>\n",
       "      <td>11</td>\n",
       "      <td>20</td>\n",
       "      <td>2019</td>\n",
       "      <td>1</td>\n",
       "      <td>28</td>\n",
       "      <td>2019</td>\n",
       "      <td>2</td>\n",
       "      <td>1</td>\n",
       "    </tr>\n",
       "    <tr>\n",
       "      <th>1</th>\n",
       "      <td>20242</td>\n",
       "      <td>30352</td>\n",
       "      <td>30352</td>\n",
       "      <td>0</td>\n",
       "      <td>1</td>\n",
       "      <td>0</td>\n",
       "      <td>0</td>\n",
       "      <td>2713</td>\n",
       "      <td>2710</td>\n",
       "      <td>2019-02-06</td>\n",
       "      <td>...</td>\n",
       "      <td>6</td>\n",
       "      <td>2019</td>\n",
       "      <td>2</td>\n",
       "      <td>3</td>\n",
       "      <td>2019</td>\n",
       "      <td>2</td>\n",
       "      <td>10</td>\n",
       "      <td>2019</td>\n",
       "      <td>2</td>\n",
       "      <td>17</td>\n",
       "    </tr>\n",
       "    <tr>\n",
       "      <th>2</th>\n",
       "      <td>79619</td>\n",
       "      <td>12328</td>\n",
       "      <td>12328</td>\n",
       "      <td>1</td>\n",
       "      <td>0</td>\n",
       "      <td>1</td>\n",
       "      <td>1</td>\n",
       "      <td>4146</td>\n",
       "      <td>4142</td>\n",
       "      <td>2019-01-12</td>\n",
       "      <td>...</td>\n",
       "      <td>12</td>\n",
       "      <td>2018</td>\n",
       "      <td>7</td>\n",
       "      <td>30</td>\n",
       "      <td>2019</td>\n",
       "      <td>1</td>\n",
       "      <td>22</td>\n",
       "      <td>2019</td>\n",
       "      <td>2</td>\n",
       "      <td>1</td>\n",
       "    </tr>\n",
       "    <tr>\n",
       "      <th>3</th>\n",
       "      <td>79619</td>\n",
       "      <td>80750</td>\n",
       "      <td>80750</td>\n",
       "      <td>0</td>\n",
       "      <td>1</td>\n",
       "      <td>0</td>\n",
       "      <td>0</td>\n",
       "      <td>2662</td>\n",
       "      <td>2662</td>\n",
       "      <td>2019-01-19</td>\n",
       "      <td>...</td>\n",
       "      <td>19</td>\n",
       "      <td>2018</td>\n",
       "      <td>9</td>\n",
       "      <td>15</td>\n",
       "      <td>2019</td>\n",
       "      <td>1</td>\n",
       "      <td>26</td>\n",
       "      <td>2019</td>\n",
       "      <td>1</td>\n",
       "      <td>31</td>\n",
       "    </tr>\n",
       "    <tr>\n",
       "      <th>4</th>\n",
       "      <td>80669</td>\n",
       "      <td>19203</td>\n",
       "      <td>19203</td>\n",
       "      <td>1</td>\n",
       "      <td>0</td>\n",
       "      <td>1</td>\n",
       "      <td>0</td>\n",
       "      <td>2709</td>\n",
       "      <td>2707</td>\n",
       "      <td>2019-03-27</td>\n",
       "      <td>...</td>\n",
       "      <td>27</td>\n",
       "      <td>2018</td>\n",
       "      <td>6</td>\n",
       "      <td>14</td>\n",
       "      <td>2019</td>\n",
       "      <td>4</td>\n",
       "      <td>3</td>\n",
       "      <td>2019</td>\n",
       "      <td>4</td>\n",
       "      <td>6</td>\n",
       "    </tr>\n",
       "  </tbody>\n",
       "</table>\n",
       "<p>5 rows × 44 columns</p>\n",
       "</div>"
      ],
      "text/plain": [
       "   CustId  OrderId  ProductId  IsValidAddress  IsAddchangeRecently  \\\n",
       "0   47019    41601      41601               1                    0   \n",
       "1   20242    30352      30352               0                    1   \n",
       "2   79619    12328      12328               1                    0   \n",
       "3   79619    80750      80750               0                    1   \n",
       "4   80669    19203      19203               1                    0   \n",
       "\n",
       "   IsAddchangeonDel  IsDeliveryRejected  OriginalPrice  PaidPrice  OrderDate  \\\n",
       "0                 1                   1           2711       2711 2019-01-25   \n",
       "1                 0                   0           2713       2710 2019-02-06   \n",
       "2                 1                   1           4146       4142 2019-01-12   \n",
       "3                 0                   0           2662       2662 2019-01-19   \n",
       "4                 1                   0           2709       2707 2019-03-27   \n",
       "\n",
       "           ...          OrderDate_date AddressChangeDate_year  \\\n",
       "0          ...                      25                   2018   \n",
       "1          ...                       6                   2019   \n",
       "2          ...                      12                   2018   \n",
       "3          ...                      19                   2018   \n",
       "4          ...                      27                   2018   \n",
       "\n",
       "  AddressChangeDate_month  AddressChangeDate_date  DeliveryDate_year  \\\n",
       "0                      11                      20               2019   \n",
       "1                       2                       3               2019   \n",
       "2                       7                      30               2019   \n",
       "3                       9                      15               2019   \n",
       "4                       6                      14               2019   \n",
       "\n",
       "   DeliveryDate_month DeliveryDate_date ReplacementDate_year  \\\n",
       "0                   1                28                 2019   \n",
       "1                   2                10                 2019   \n",
       "2                   1                22                 2019   \n",
       "3                   1                26                 2019   \n",
       "4                   4                 3                 2019   \n",
       "\n",
       "  ReplacementDate_month  ReplacementDate_date  \n",
       "0                     2                     1  \n",
       "1                     2                    17  \n",
       "2                     2                     1  \n",
       "3                     1                    31  \n",
       "4                     4                     6  \n",
       "\n",
       "[5 rows x 44 columns]"
      ]
     },
     "execution_count": 99,
     "metadata": {},
     "output_type": "execute_result"
    }
   ],
   "source": [
    "extract_date(df,'OrderDate')\n",
    "extract_date(df,'AddressChangeDate')\n",
    "extract_date(df,'DeliveryDate')\n",
    "extract_date(df,'ReplacementDate')\n",
    "df.head()"
   ]
  },
  {
   "cell_type": "code",
   "execution_count": 100,
   "metadata": {},
   "outputs": [
    {
     "data": {
      "text/html": [
       "<div>\n",
       "<style scoped>\n",
       "    .dataframe tbody tr th:only-of-type {\n",
       "        vertical-align: middle;\n",
       "    }\n",
       "\n",
       "    .dataframe tbody tr th {\n",
       "        vertical-align: top;\n",
       "    }\n",
       "\n",
       "    .dataframe thead th {\n",
       "        text-align: right;\n",
       "    }\n",
       "</style>\n",
       "<table border=\"1\" class=\"dataframe\">\n",
       "  <thead>\n",
       "    <tr style=\"text-align: right;\">\n",
       "      <th></th>\n",
       "      <th>CustId</th>\n",
       "      <th>OrderId</th>\n",
       "      <th>ProductId</th>\n",
       "      <th>IsValidAddress</th>\n",
       "      <th>IsAddchangeRecently</th>\n",
       "      <th>IsAddchangeonDel</th>\n",
       "      <th>IsDeliveryRejected</th>\n",
       "      <th>OriginalPrice</th>\n",
       "      <th>PaidPrice</th>\n",
       "      <th>OrderDate</th>\n",
       "      <th>...</th>\n",
       "      <th>OrderDate_date</th>\n",
       "      <th>AddressChangeDate_year</th>\n",
       "      <th>AddressChangeDate_month</th>\n",
       "      <th>AddressChangeDate_date</th>\n",
       "      <th>DeliveryDate_year</th>\n",
       "      <th>DeliveryDate_month</th>\n",
       "      <th>DeliveryDate_date</th>\n",
       "      <th>ReplacementDate_year</th>\n",
       "      <th>ReplacementDate_month</th>\n",
       "      <th>ReplacementDate_date</th>\n",
       "    </tr>\n",
       "  </thead>\n",
       "  <tbody>\n",
       "    <tr>\n",
       "      <th>0</th>\n",
       "      <td>47019</td>\n",
       "      <td>41601</td>\n",
       "      <td>41601</td>\n",
       "      <td>1</td>\n",
       "      <td>0</td>\n",
       "      <td>1</td>\n",
       "      <td>1</td>\n",
       "      <td>2711</td>\n",
       "      <td>2711</td>\n",
       "      <td>2019-01-25</td>\n",
       "      <td>...</td>\n",
       "      <td>25</td>\n",
       "      <td>2018</td>\n",
       "      <td>11</td>\n",
       "      <td>20</td>\n",
       "      <td>2019</td>\n",
       "      <td>1</td>\n",
       "      <td>28</td>\n",
       "      <td>2019</td>\n",
       "      <td>2</td>\n",
       "      <td>1</td>\n",
       "    </tr>\n",
       "    <tr>\n",
       "      <th>1</th>\n",
       "      <td>20242</td>\n",
       "      <td>30352</td>\n",
       "      <td>30352</td>\n",
       "      <td>0</td>\n",
       "      <td>1</td>\n",
       "      <td>0</td>\n",
       "      <td>0</td>\n",
       "      <td>2713</td>\n",
       "      <td>2710</td>\n",
       "      <td>2019-02-06</td>\n",
       "      <td>...</td>\n",
       "      <td>6</td>\n",
       "      <td>2019</td>\n",
       "      <td>2</td>\n",
       "      <td>3</td>\n",
       "      <td>2019</td>\n",
       "      <td>2</td>\n",
       "      <td>10</td>\n",
       "      <td>2019</td>\n",
       "      <td>2</td>\n",
       "      <td>17</td>\n",
       "    </tr>\n",
       "    <tr>\n",
       "      <th>2</th>\n",
       "      <td>79619</td>\n",
       "      <td>12328</td>\n",
       "      <td>12328</td>\n",
       "      <td>1</td>\n",
       "      <td>0</td>\n",
       "      <td>1</td>\n",
       "      <td>1</td>\n",
       "      <td>4146</td>\n",
       "      <td>4142</td>\n",
       "      <td>2019-01-12</td>\n",
       "      <td>...</td>\n",
       "      <td>12</td>\n",
       "      <td>2018</td>\n",
       "      <td>7</td>\n",
       "      <td>30</td>\n",
       "      <td>2019</td>\n",
       "      <td>1</td>\n",
       "      <td>22</td>\n",
       "      <td>2019</td>\n",
       "      <td>2</td>\n",
       "      <td>1</td>\n",
       "    </tr>\n",
       "    <tr>\n",
       "      <th>3</th>\n",
       "      <td>79619</td>\n",
       "      <td>80750</td>\n",
       "      <td>80750</td>\n",
       "      <td>0</td>\n",
       "      <td>1</td>\n",
       "      <td>0</td>\n",
       "      <td>0</td>\n",
       "      <td>2662</td>\n",
       "      <td>2662</td>\n",
       "      <td>2019-01-19</td>\n",
       "      <td>...</td>\n",
       "      <td>19</td>\n",
       "      <td>2018</td>\n",
       "      <td>9</td>\n",
       "      <td>15</td>\n",
       "      <td>2019</td>\n",
       "      <td>1</td>\n",
       "      <td>26</td>\n",
       "      <td>2019</td>\n",
       "      <td>1</td>\n",
       "      <td>31</td>\n",
       "    </tr>\n",
       "    <tr>\n",
       "      <th>4</th>\n",
       "      <td>80669</td>\n",
       "      <td>19203</td>\n",
       "      <td>19203</td>\n",
       "      <td>1</td>\n",
       "      <td>0</td>\n",
       "      <td>1</td>\n",
       "      <td>0</td>\n",
       "      <td>2709</td>\n",
       "      <td>2707</td>\n",
       "      <td>2019-03-27</td>\n",
       "      <td>...</td>\n",
       "      <td>27</td>\n",
       "      <td>2018</td>\n",
       "      <td>6</td>\n",
       "      <td>14</td>\n",
       "      <td>2019</td>\n",
       "      <td>4</td>\n",
       "      <td>3</td>\n",
       "      <td>2019</td>\n",
       "      <td>4</td>\n",
       "      <td>6</td>\n",
       "    </tr>\n",
       "  </tbody>\n",
       "</table>\n",
       "<p>5 rows × 44 columns</p>\n",
       "</div>"
      ],
      "text/plain": [
       "   CustId  OrderId  ProductId  IsValidAddress  IsAddchangeRecently  \\\n",
       "0   47019    41601      41601               1                    0   \n",
       "1   20242    30352      30352               0                    1   \n",
       "2   79619    12328      12328               1                    0   \n",
       "3   79619    80750      80750               0                    1   \n",
       "4   80669    19203      19203               1                    0   \n",
       "\n",
       "   IsAddchangeonDel  IsDeliveryRejected  OriginalPrice  PaidPrice  OrderDate  \\\n",
       "0                 1                   1           2711       2711 2019-01-25   \n",
       "1                 0                   0           2713       2710 2019-02-06   \n",
       "2                 1                   1           4146       4142 2019-01-12   \n",
       "3                 0                   0           2662       2662 2019-01-19   \n",
       "4                 1                   0           2709       2707 2019-03-27   \n",
       "\n",
       "           ...          OrderDate_date AddressChangeDate_year  \\\n",
       "0          ...                      25                   2018   \n",
       "1          ...                       6                   2019   \n",
       "2          ...                      12                   2018   \n",
       "3          ...                      19                   2018   \n",
       "4          ...                      27                   2018   \n",
       "\n",
       "  AddressChangeDate_month  AddressChangeDate_date  DeliveryDate_year  \\\n",
       "0                      11                      20               2019   \n",
       "1                       2                       3               2019   \n",
       "2                       7                      30               2019   \n",
       "3                       9                      15               2019   \n",
       "4                       6                      14               2019   \n",
       "\n",
       "   DeliveryDate_month DeliveryDate_date ReplacementDate_year  \\\n",
       "0                   1                28                 2019   \n",
       "1                   2                10                 2019   \n",
       "2                   1                22                 2019   \n",
       "3                   1                26                 2019   \n",
       "4                   4                 3                 2019   \n",
       "\n",
       "  ReplacementDate_month  ReplacementDate_date  \n",
       "0                     2                     1  \n",
       "1                     2                    17  \n",
       "2                     2                     1  \n",
       "3                     1                    31  \n",
       "4                     4                     6  \n",
       "\n",
       "[5 rows x 44 columns]"
      ]
     },
     "execution_count": 100,
     "metadata": {},
     "output_type": "execute_result"
    }
   ],
   "source": [
    "df.head()"
   ]
  },
  {
   "cell_type": "code",
   "execution_count": 101,
   "metadata": {},
   "outputs": [
    {
     "name": "stdout",
     "output_type": "stream",
     "text": [
      "Before (100000, 44)\n",
      "After (100000, 30)\n"
     ]
    }
   ],
   "source": [
    "# delete unnecessary feature from dataset\n",
    "\n",
    "print(\"Before\", df.shape)\n",
    "features_drop = ['EmailId','MobileNo','MacAddress','City','Pincode', 'IP_start_session', 'IP_end_session',\n",
    "                'CustId','OrderId','ProductId','OrderDate', 'AddressChangeDate','DeliveryDate',\n",
    "                'ReplacementDate']\n",
    "train_data = df.drop(features_drop, axis=1)\n",
    "labels = train_data['Fraud']\n",
    "features = train_data.drop('Fraud', axis=1)\n",
    "print(\"After\",train_data.shape)"
   ]
  },
  {
   "cell_type": "code",
   "execution_count": 102,
   "metadata": {},
   "outputs": [
    {
     "data": {
      "text/html": [
       "<div>\n",
       "<style scoped>\n",
       "    .dataframe tbody tr th:only-of-type {\n",
       "        vertical-align: middle;\n",
       "    }\n",
       "\n",
       "    .dataframe tbody tr th {\n",
       "        vertical-align: top;\n",
       "    }\n",
       "\n",
       "    .dataframe thead th {\n",
       "        text-align: right;\n",
       "    }\n",
       "</style>\n",
       "<table border=\"1\" class=\"dataframe\">\n",
       "  <thead>\n",
       "    <tr style=\"text-align: right;\">\n",
       "      <th></th>\n",
       "      <th>IsValidAddress</th>\n",
       "      <th>IsAddchangeRecently</th>\n",
       "      <th>IsAddchangeonDel</th>\n",
       "      <th>IsDeliveryRejected</th>\n",
       "      <th>OriginalPrice</th>\n",
       "      <th>PaidPrice</th>\n",
       "      <th>IsProductConsumable</th>\n",
       "      <th>IsOneTimeUseProduct</th>\n",
       "      <th>IsOfferCodeApplied</th>\n",
       "      <th>Session_Pincode</th>\n",
       "      <th>...</th>\n",
       "      <th>OrderDate_date</th>\n",
       "      <th>AddressChangeDate_year</th>\n",
       "      <th>AddressChangeDate_month</th>\n",
       "      <th>AddressChangeDate_date</th>\n",
       "      <th>DeliveryDate_year</th>\n",
       "      <th>DeliveryDate_month</th>\n",
       "      <th>DeliveryDate_date</th>\n",
       "      <th>ReplacementDate_year</th>\n",
       "      <th>ReplacementDate_month</th>\n",
       "      <th>ReplacementDate_date</th>\n",
       "    </tr>\n",
       "  </thead>\n",
       "  <tbody>\n",
       "    <tr>\n",
       "      <th>0</th>\n",
       "      <td>1</td>\n",
       "      <td>0</td>\n",
       "      <td>1</td>\n",
       "      <td>1</td>\n",
       "      <td>1711</td>\n",
       "      <td>1728</td>\n",
       "      <td>1</td>\n",
       "      <td>0</td>\n",
       "      <td>0</td>\n",
       "      <td>134</td>\n",
       "      <td>...</td>\n",
       "      <td>24</td>\n",
       "      <td>0</td>\n",
       "      <td>10</td>\n",
       "      <td>19</td>\n",
       "      <td>0</td>\n",
       "      <td>0</td>\n",
       "      <td>27</td>\n",
       "      <td>0</td>\n",
       "      <td>1</td>\n",
       "      <td>0</td>\n",
       "    </tr>\n",
       "    <tr>\n",
       "      <th>1</th>\n",
       "      <td>0</td>\n",
       "      <td>1</td>\n",
       "      <td>0</td>\n",
       "      <td>0</td>\n",
       "      <td>1713</td>\n",
       "      <td>1727</td>\n",
       "      <td>1</td>\n",
       "      <td>1</td>\n",
       "      <td>0</td>\n",
       "      <td>383</td>\n",
       "      <td>...</td>\n",
       "      <td>5</td>\n",
       "      <td>1</td>\n",
       "      <td>1</td>\n",
       "      <td>2</td>\n",
       "      <td>0</td>\n",
       "      <td>1</td>\n",
       "      <td>9</td>\n",
       "      <td>0</td>\n",
       "      <td>1</td>\n",
       "      <td>16</td>\n",
       "    </tr>\n",
       "    <tr>\n",
       "      <th>2</th>\n",
       "      <td>1</td>\n",
       "      <td>0</td>\n",
       "      <td>1</td>\n",
       "      <td>1</td>\n",
       "      <td>3146</td>\n",
       "      <td>3159</td>\n",
       "      <td>1</td>\n",
       "      <td>0</td>\n",
       "      <td>1</td>\n",
       "      <td>522</td>\n",
       "      <td>...</td>\n",
       "      <td>11</td>\n",
       "      <td>0</td>\n",
       "      <td>6</td>\n",
       "      <td>29</td>\n",
       "      <td>0</td>\n",
       "      <td>0</td>\n",
       "      <td>21</td>\n",
       "      <td>0</td>\n",
       "      <td>1</td>\n",
       "      <td>0</td>\n",
       "    </tr>\n",
       "    <tr>\n",
       "      <th>3</th>\n",
       "      <td>0</td>\n",
       "      <td>1</td>\n",
       "      <td>0</td>\n",
       "      <td>0</td>\n",
       "      <td>1662</td>\n",
       "      <td>1679</td>\n",
       "      <td>1</td>\n",
       "      <td>1</td>\n",
       "      <td>1</td>\n",
       "      <td>787</td>\n",
       "      <td>...</td>\n",
       "      <td>18</td>\n",
       "      <td>0</td>\n",
       "      <td>8</td>\n",
       "      <td>14</td>\n",
       "      <td>0</td>\n",
       "      <td>0</td>\n",
       "      <td>25</td>\n",
       "      <td>0</td>\n",
       "      <td>0</td>\n",
       "      <td>30</td>\n",
       "    </tr>\n",
       "    <tr>\n",
       "      <th>4</th>\n",
       "      <td>1</td>\n",
       "      <td>0</td>\n",
       "      <td>1</td>\n",
       "      <td>0</td>\n",
       "      <td>1709</td>\n",
       "      <td>1724</td>\n",
       "      <td>1</td>\n",
       "      <td>0</td>\n",
       "      <td>1</td>\n",
       "      <td>112</td>\n",
       "      <td>...</td>\n",
       "      <td>26</td>\n",
       "      <td>0</td>\n",
       "      <td>5</td>\n",
       "      <td>13</td>\n",
       "      <td>0</td>\n",
       "      <td>3</td>\n",
       "      <td>2</td>\n",
       "      <td>0</td>\n",
       "      <td>3</td>\n",
       "      <td>5</td>\n",
       "    </tr>\n",
       "  </tbody>\n",
       "</table>\n",
       "<p>5 rows × 29 columns</p>\n",
       "</div>"
      ],
      "text/plain": [
       "   IsValidAddress  IsAddchangeRecently  IsAddchangeonDel  IsDeliveryRejected  \\\n",
       "0               1                    0                 1                   1   \n",
       "1               0                    1                 0                   0   \n",
       "2               1                    0                 1                   1   \n",
       "3               0                    1                 0                   0   \n",
       "4               1                    0                 1                   0   \n",
       "\n",
       "   OriginalPrice  PaidPrice  IsProductConsumable  IsOneTimeUseProduct  \\\n",
       "0           1711       1728                    1                    0   \n",
       "1           1713       1727                    1                    1   \n",
       "2           3146       3159                    1                    0   \n",
       "3           1662       1679                    1                    1   \n",
       "4           1709       1724                    1                    0   \n",
       "\n",
       "   IsOfferCodeApplied  Session_Pincode          ...           OrderDate_date  \\\n",
       "0                   0              134          ...                       24   \n",
       "1                   0              383          ...                        5   \n",
       "2                   1              522          ...                       11   \n",
       "3                   1              787          ...                       18   \n",
       "4                   1              112          ...                       26   \n",
       "\n",
       "   AddressChangeDate_year  AddressChangeDate_month  AddressChangeDate_date  \\\n",
       "0                       0                       10                      19   \n",
       "1                       1                        1                       2   \n",
       "2                       0                        6                      29   \n",
       "3                       0                        8                      14   \n",
       "4                       0                        5                      13   \n",
       "\n",
       "   DeliveryDate_year  DeliveryDate_month  DeliveryDate_date  \\\n",
       "0                  0                   0                 27   \n",
       "1                  0                   1                  9   \n",
       "2                  0                   0                 21   \n",
       "3                  0                   0                 25   \n",
       "4                  0                   3                  2   \n",
       "\n",
       "   ReplacementDate_year  ReplacementDate_month  ReplacementDate_date  \n",
       "0                     0                      1                     0  \n",
       "1                     0                      1                    16  \n",
       "2                     0                      1                     0  \n",
       "3                     0                      0                    30  \n",
       "4                     0                      3                     5  \n",
       "\n",
       "[5 rows x 29 columns]"
      ]
     },
     "execution_count": 102,
     "metadata": {},
     "output_type": "execute_result"
    }
   ],
   "source": [
    "from sklearn.preprocessing import LabelEncoder, OneHotEncoder\n",
    "features = features.apply(LabelEncoder().fit_transform)\n",
    "features.head()"
   ]
  },
  {
   "cell_type": "code",
   "execution_count": 103,
   "metadata": {},
   "outputs": [],
   "source": [
    "# Scaling the Train and Test feature set \n",
    "from sklearn.preprocessing import StandardScaler\n",
    "scaler = StandardScaler()\n",
    "features = scaler.fit_transform(features)"
   ]
  },
  {
   "cell_type": "code",
   "execution_count": 104,
   "metadata": {},
   "outputs": [],
   "source": [
    "from sklearn import preprocessing\n",
    "encoder = preprocessing.LabelEncoder()\n",
    "encoder.fit(labels)\n",
    "labels_enc = encoder.transform(labels)"
   ]
  },
  {
   "cell_type": "code",
   "execution_count": 105,
   "metadata": {},
   "outputs": [
    {
     "data": {
      "text/plain": [
       "array([1, 1, 2, ..., 1, 1, 1], dtype=int64)"
      ]
     },
     "execution_count": 105,
     "metadata": {},
     "output_type": "execute_result"
    }
   ],
   "source": [
    "labels_enc"
   ]
  },
  {
   "cell_type": "code",
   "execution_count": 106,
   "metadata": {},
   "outputs": [],
   "source": [
    "from sklearn import decomposition\n",
    "pca = decomposition.PCA()\n",
    "pca.fit(features)\n",
    "train_df = pca.transform(features)\n"
   ]
  },
  {
   "cell_type": "code",
   "execution_count": 107,
   "metadata": {},
   "outputs": [
    {
     "data": {
      "text/plain": [
       "array([[-1.48496765e+00, -9.66571425e-01,  1.67349428e+00, ...,\n",
       "         7.21781371e-16,  2.22790909e-16,  7.19040469e-27],\n",
       "       [ 5.34097656e-02, -1.67996451e+00,  5.98939733e-01, ...,\n",
       "         3.80249675e-16, -1.00184291e-16, -5.64713287e-26],\n",
       "       [-1.54874296e+00, -8.17601020e-01, -1.80274456e-01, ...,\n",
       "        -5.99331914e-16, -3.69613690e-18,  5.67789350e-26],\n",
       "       ...,\n",
       "       [ 1.87117539e+00,  9.24420135e-01, -1.65661756e+00, ...,\n",
       "         2.13749215e-16,  4.70191113e-17, -4.10228486e-26],\n",
       "       [ 1.48182919e+00, -3.47048458e-01, -1.81496439e+00, ...,\n",
       "        -2.77147764e-16,  9.12510183e-17, -7.67295748e-26],\n",
       "       [ 1.29510958e-02, -5.55624590e-01,  2.35304701e+00, ...,\n",
       "        -7.56512027e-16,  2.46443790e-18, -2.00947160e-26]])"
      ]
     },
     "execution_count": 107,
     "metadata": {},
     "output_type": "execute_result"
    }
   ],
   "source": [
    "train_df"
   ]
  },
  {
   "cell_type": "code",
   "execution_count": 108,
   "metadata": {},
   "outputs": [],
   "source": [
    "from sklearn.model_selection import train_test_split\n",
    "train, test, labels_train, labels_test = train_test_split(train_df, labels_enc, test_size=0.98, random_state = 42)"
   ]
  },
  {
   "cell_type": "code",
   "execution_count": 109,
   "metadata": {},
   "outputs": [],
   "source": [
    "from sklearn.model_selection import train_test_split\n",
    "X_train, X_val, y_train, y_val = train_test_split(train, labels_train, test_size=0.10, random_state = 42)"
   ]
  },
  {
   "cell_type": "code",
   "execution_count": 110,
   "metadata": {},
   "outputs": [
    {
     "data": {
      "text/plain": [
       "((1800, 29), (200, 29), (1800,), (200,))"
      ]
     },
     "execution_count": 110,
     "metadata": {},
     "output_type": "execute_result"
    }
   ],
   "source": [
    "X_train.shape, X_val.shape, y_train.shape, y_val.shape"
   ]
  },
  {
   "cell_type": "markdown",
   "metadata": {},
   "source": [
    "## SVM Hyperparameter tuning\n",
    "\n"
   ]
  },
  {
   "cell_type": "code",
   "execution_count": 111,
   "metadata": {},
   "outputs": [],
   "source": [
    "parameter_candidates = [\n",
    "  {'C': [5, 10], 'kernel': ['linear']},\n",
    "  {'C': [1, 10], 'gamma': [0.001, 0.0001], 'kernel': ['rbf']},\n",
    "]"
   ]
  },
  {
   "cell_type": "code",
   "execution_count": 112,
   "metadata": {},
   "outputs": [
    {
     "data": {
      "text/plain": [
       "GridSearchCV(cv=None, error_score='raise',\n",
       "       estimator=SVC(C=1.0, cache_size=200, class_weight=None, coef0=0.0,\n",
       "  decision_function_shape='ovr', degree=3, gamma='auto', kernel='rbf',\n",
       "  max_iter=-1, probability=False, random_state=None, shrinking=True,\n",
       "  tol=0.001, verbose=False),\n",
       "       fit_params=None, iid=True, n_jobs=-1,\n",
       "       param_grid=[{'C': [5, 10], 'kernel': ['linear']}, {'C': [1, 10], 'gamma': [0.001, 0.0001], 'kernel': ['rbf']}],\n",
       "       pre_dispatch='2*n_jobs', refit=True, return_train_score='warn',\n",
       "       scoring=None, verbose=0)"
      ]
     },
     "execution_count": 112,
     "metadata": {},
     "output_type": "execute_result"
    }
   ],
   "source": [
    "# Create a classifier object with the classifier and parameter candidates\n",
    "clf = GridSearchCV(estimator=SVC(), param_grid=parameter_candidates, n_jobs=-1)\n",
    "\n",
    "# Train the classifier on data1's feature and target data\n",
    "clf.fit(X_train, y_train)   "
   ]
  },
  {
   "cell_type": "code",
   "execution_count": 113,
   "metadata": {},
   "outputs": [
    {
     "name": "stdout",
     "output_type": "stream",
     "text": [
      "Best score for data1: 0.6911111111111111\n"
     ]
    }
   ],
   "source": [
    "# View the accuracy score\n",
    "print('Best score for data1:', clf.best_score_)"
   ]
  },
  {
   "cell_type": "code",
   "execution_count": 114,
   "metadata": {},
   "outputs": [
    {
     "data": {
      "text/plain": [
       "0.71"
      ]
     },
     "execution_count": 114,
     "metadata": {},
     "output_type": "execute_result"
    }
   ],
   "source": [
    "# Apply the classifier trained using data1 to data2, and view the accuracy score\n",
    "clf.score(X_val, y_val)  "
   ]
  },
  {
   "cell_type": "code",
   "execution_count": 115,
   "metadata": {},
   "outputs": [
    {
     "data": {
      "text/plain": [
       "{'C': 5, 'kernel': 'linear'}"
      ]
     },
     "execution_count": 115,
     "metadata": {},
     "output_type": "execute_result"
    }
   ],
   "source": [
    "clf.best_params_"
   ]
  },
  {
   "cell_type": "code",
   "execution_count": 116,
   "metadata": {},
   "outputs": [
    {
     "name": "stdout",
     "output_type": "stream",
     "text": [
      "Best C: 5\n",
      "Best Kernel: linear\n",
      "Best Gamma: auto\n"
     ]
    }
   ],
   "source": [
    "# View the best parameters for the model found using grid search\n",
    "print('Best C:',clf.best_estimator_.C) \n",
    "print('Best Kernel:',clf.best_estimator_.kernel)\n",
    "print('Best Gamma:',clf.best_estimator_.gamma)"
   ]
  },
  {
   "cell_type": "code",
   "execution_count": 117,
   "metadata": {},
   "outputs": [
    {
     "data": {
      "text/plain": [
       "0.71"
      ]
     },
     "execution_count": 117,
     "metadata": {},
     "output_type": "execute_result"
    }
   ],
   "source": [
    "SVC(C=5, kernel='linear', gamma='auto').fit(X_train, y_train).score(X_val, y_val)"
   ]
  },
  {
   "cell_type": "code",
   "execution_count": 118,
   "metadata": {},
   "outputs": [
    {
     "data": {
      "text/plain": [
       "0.71"
      ]
     },
     "execution_count": 118,
     "metadata": {},
     "output_type": "execute_result"
    }
   ],
   "source": [
    "from sklearn.svm import LinearSVC\n",
    "LinearSVC(random_state=0, tol=1e-5,penalty='l2',dual=False).fit(X_train, y_train).score(X_val, y_val)"
   ]
  },
  {
   "cell_type": "code",
   "execution_count": 119,
   "metadata": {},
   "outputs": [],
   "source": [
    "y_pred = clf.predict(X_val)"
   ]
  },
  {
   "cell_type": "code",
   "execution_count": 120,
   "metadata": {},
   "outputs": [
    {
     "name": "stdout",
     "output_type": "stream",
     "text": [
      "Accuracy: 0.71\n"
     ]
    }
   ],
   "source": [
    "from sklearn import metrics\n",
    "# Model Accuracy: how often is the classifier correct?\n",
    "print(\"Accuracy:\",metrics.accuracy_score(y_pred,y_val))"
   ]
  },
  {
   "cell_type": "code",
   "execution_count": 121,
   "metadata": {},
   "outputs": [
    {
     "name": "stdout",
     "output_type": "stream",
     "text": [
      "Precision: [0. 1. 0.]\n",
      "Recall: [0.   0.71 0.  ]\n",
      "F1 score: [0.         0.83040936 0.        ]\n"
     ]
    },
    {
     "name": "stderr",
     "output_type": "stream",
     "text": [
      "D:\\miniconda\\envs\\ml\\lib\\site-packages\\sklearn\\metrics\\classification.py:1137: UndefinedMetricWarning: Recall is ill-defined and being set to 0.0 in labels with no true samples.\n",
      "  'recall', 'true', average, warn_for)\n",
      "D:\\miniconda\\envs\\ml\\lib\\site-packages\\sklearn\\metrics\\classification.py:1137: UndefinedMetricWarning: F-score is ill-defined and being set to 0.0 in labels with no true samples.\n",
      "  'recall', 'true', average, warn_for)\n"
     ]
    }
   ],
   "source": [
    "# Model Precision: what percentage of positive tuples are labeled as such?\n",
    "print(\"Precision:\",metrics.precision_score(y_pred,y_val,average=None))\n",
    "\n",
    "# Model Recall: what percentage of positive tuples are labelled as such?\n",
    "print(\"Recall:\",metrics.recall_score(y_pred,y_val,average=None))\n",
    "\n",
    "\n",
    "print(\"F1 score:\",metrics.f1_score(y_pred,y_val,average=None))\n",
    "\n",
    "#f1_scores[clf_name] = f1_score(y_pred, y_valid)"
   ]
  }
 ],
 "metadata": {
  "kernelspec": {
   "display_name": "Python 3",
   "language": "python",
   "name": "python3"
  },
  "language_info": {
   "codemirror_mode": {
    "name": "ipython",
    "version": 3
   },
   "file_extension": ".py",
   "mimetype": "text/x-python",
   "name": "python",
   "nbconvert_exporter": "python",
   "pygments_lexer": "ipython3",
   "version": "3.7.1"
  }
 },
 "nbformat": 4,
 "nbformat_minor": 2
}
