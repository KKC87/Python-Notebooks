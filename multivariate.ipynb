{
 "cells": [
  {
   "cell_type": "code",
   "execution_count": 2,
   "metadata": {},
   "outputs": [],
   "source": [
    "#import required packages\n",
    "import pandas as pd\n",
    "import matplotlib.pyplot as plt\n",
    "%matplotlib inline\n",
    "\n",
    "#read the data\n",
    "df = pd.read_csv(\"sample_data_2final.csv\",nrows=105)\n"
   ]
  },
  {
   "cell_type": "code",
   "execution_count": 17,
   "metadata": {},
   "outputs": [
    {
     "data": {
      "text/plain": [
       "RangeIndex(start=0, stop=105, step=1)"
      ]
     },
     "execution_count": 17,
     "metadata": {},
     "output_type": "execute_result"
    }
   ],
   "source": [
    "df.head()\n",
    "df.index"
   ]
  },
  {
   "cell_type": "code",
   "execution_count": 18,
   "metadata": {},
   "outputs": [],
   "source": [
    "range = pd.date_range('2017-01-01', '2018-12-31', freq='1W')\n",
    "len(range)\n",
    "df['Date']=range"
   ]
  },
  {
   "cell_type": "code",
   "execution_count": 19,
   "metadata": {},
   "outputs": [
    {
     "data": {
      "text/plain": [
       "RangeIndex(start=0, stop=105, step=1)"
      ]
     },
     "execution_count": 19,
     "metadata": {},
     "output_type": "execute_result"
    }
   ],
   "source": [
    "df.index"
   ]
  },
  {
   "cell_type": "code",
   "execution_count": 20,
   "metadata": {},
   "outputs": [],
   "source": [
    "df.drop(['Week'], axis = 1, inplace = True, errors = 'ignore')"
   ]
  },
  {
   "cell_type": "code",
   "execution_count": 21,
   "metadata": {},
   "outputs": [],
   "source": [
    "df.drop(['L_W_Expression'], axis = 1, inplace = True, errors = 'ignore')"
   ]
  },
  {
   "cell_type": "code",
   "execution_count": 22,
   "metadata": {},
   "outputs": [],
   "source": [
    "df.drop(['Year'], axis = 1, inplace = True, errors = 'ignore')"
   ]
  },
  {
   "cell_type": "code",
   "execution_count": 23,
   "metadata": {},
   "outputs": [
    {
     "data": {
      "text/html": [
       "<div>\n",
       "<style scoped>\n",
       "    .dataframe tbody tr th:only-of-type {\n",
       "        vertical-align: middle;\n",
       "    }\n",
       "\n",
       "    .dataframe tbody tr th {\n",
       "        vertical-align: top;\n",
       "    }\n",
       "\n",
       "    .dataframe thead th {\n",
       "        text-align: right;\n",
       "    }\n",
       "</style>\n",
       "<table border=\"1\" class=\"dataframe\">\n",
       "  <thead>\n",
       "    <tr style=\"text-align: right;\">\n",
       "      <th></th>\n",
       "      <th>Leads</th>\n",
       "      <th>Wins</th>\n",
       "      <th>Date</th>\n",
       "    </tr>\n",
       "  </thead>\n",
       "  <tbody>\n",
       "    <tr>\n",
       "      <th>0</th>\n",
       "      <td>2399.0</td>\n",
       "      <td>747.0</td>\n",
       "      <td>2017-01-01</td>\n",
       "    </tr>\n",
       "    <tr>\n",
       "      <th>1</th>\n",
       "      <td>4474.0</td>\n",
       "      <td>700.0</td>\n",
       "      <td>2017-01-08</td>\n",
       "    </tr>\n",
       "    <tr>\n",
       "      <th>2</th>\n",
       "      <td>3117.0</td>\n",
       "      <td>691.0</td>\n",
       "      <td>2017-01-15</td>\n",
       "    </tr>\n",
       "    <tr>\n",
       "      <th>3</th>\n",
       "      <td>5150.0</td>\n",
       "      <td>889.0</td>\n",
       "      <td>2017-01-22</td>\n",
       "    </tr>\n",
       "    <tr>\n",
       "      <th>4</th>\n",
       "      <td>3720.0</td>\n",
       "      <td>1369.0</td>\n",
       "      <td>2017-01-29</td>\n",
       "    </tr>\n",
       "  </tbody>\n",
       "</table>\n",
       "</div>"
      ],
      "text/plain": [
       "    Leads    Wins       Date\n",
       "0  2399.0   747.0 2017-01-01\n",
       "1  4474.0   700.0 2017-01-08\n",
       "2  3117.0   691.0 2017-01-15\n",
       "3  5150.0   889.0 2017-01-22\n",
       "4  3720.0  1369.0 2017-01-29"
      ]
     },
     "execution_count": 23,
     "metadata": {},
     "output_type": "execute_result"
    }
   ],
   "source": [
    "df.head()"
   ]
  },
  {
   "cell_type": "code",
   "execution_count": 24,
   "metadata": {},
   "outputs": [
    {
     "data": {
      "text/plain": [
       "RangeIndex(start=0, stop=105, step=1)"
      ]
     },
     "execution_count": 24,
     "metadata": {},
     "output_type": "execute_result"
    }
   ],
   "source": [
    "df.index"
   ]
  },
  {
   "cell_type": "code",
   "execution_count": 25,
   "metadata": {},
   "outputs": [],
   "source": [
    "df=df.set_index('Date')"
   ]
  },
  {
   "cell_type": "code",
   "execution_count": 26,
   "metadata": {},
   "outputs": [
    {
     "data": {
      "text/plain": [
       "DatetimeIndex(['2017-01-01', '2017-01-08', '2017-01-15', '2017-01-22',\n",
       "               '2017-01-29', '2017-02-05', '2017-02-12', '2017-02-19',\n",
       "               '2017-02-26', '2017-03-05',\n",
       "               ...\n",
       "               '2018-10-28', '2018-11-04', '2018-11-11', '2018-11-18',\n",
       "               '2018-11-25', '2018-12-02', '2018-12-09', '2018-12-16',\n",
       "               '2018-12-23', '2018-12-30'],\n",
       "              dtype='datetime64[ns]', name='Date', length=105, freq=None)"
      ]
     },
     "execution_count": 26,
     "metadata": {},
     "output_type": "execute_result"
    }
   ],
   "source": [
    "df.index"
   ]
  },
  {
   "cell_type": "code",
   "execution_count": 27,
   "metadata": {},
   "outputs": [],
   "source": [
    "df=df.asfreq(freq='1W')"
   ]
  },
  {
   "cell_type": "code",
   "execution_count": 28,
   "metadata": {},
   "outputs": [
    {
     "data": {
      "text/plain": [
       "DatetimeIndex(['2017-01-01', '2017-01-08', '2017-01-15', '2017-01-22',\n",
       "               '2017-01-29', '2017-02-05', '2017-02-12', '2017-02-19',\n",
       "               '2017-02-26', '2017-03-05',\n",
       "               ...\n",
       "               '2018-10-28', '2018-11-04', '2018-11-11', '2018-11-18',\n",
       "               '2018-11-25', '2018-12-02', '2018-12-09', '2018-12-16',\n",
       "               '2018-12-23', '2018-12-30'],\n",
       "              dtype='datetime64[ns]', name='Date', length=105, freq='W-SUN')"
      ]
     },
     "execution_count": 28,
     "metadata": {},
     "output_type": "execute_result"
    }
   ],
   "source": [
    "df.index"
   ]
  },
  {
   "cell_type": "code",
   "execution_count": 29,
   "metadata": {},
   "outputs": [],
   "source": [
    "from pandas import Series\n",
    "import pandas as pd\n",
    "from sklearn.preprocessing import MinMaxScaler\n",
    "cols = df.columns\n",
    "scaler = MinMaxScaler(feature_range=(0, 1))\n",
    "scaler = scaler.fit(df)\n",
    "normalized = scaler.transform(df)"
   ]
  },
  {
   "cell_type": "code",
   "execution_count": 31,
   "metadata": {},
   "outputs": [
    {
     "data": {
      "text/plain": [
       "array([[0.23531184, 0.03156888],\n",
       "       [0.44370794, 0.01658163],\n",
       "       [0.30742191, 0.01371173],\n",
       "       [0.51159988, 0.07684949],\n",
       "       [0.36798232, 0.22991071],\n",
       "       [0.38736567, 0.02232143],\n",
       "       [0.40142613, 0.05006378],\n",
       "       [0.39118208, 0.07844388],\n",
       "       [0.49161394, 0.32079082],\n",
       "       [0.69016772, 0.08864796],\n",
       "       [0.42934619, 0.09311224],\n",
       "       [0.51521543, 0.13392857],\n",
       "       [0.55237521, 0.93335459],\n",
       "       [0.38385056, 0.0184949 ],\n",
       "       [0.3263031 , 0.00637755],\n",
       "       [0.34980416, 0.0369898 ],\n",
       "       [0.53690871, 0.20822704],\n",
       "       [0.39319072, 0.19100765],\n",
       "       [0.4738375 , 0.03475765],\n",
       "       [0.82032741, 0.0723852 ],\n",
       "       [0.49613337, 0.11989796],\n",
       "       [0.38545747, 0.35778061],\n",
       "       [0.50467008, 0.07461735],\n",
       "       [0.46128352, 0.09151786],\n",
       "       [0.49864417, 0.17793367],\n",
       "       [0.48819926, 0.92697704],\n",
       "       [0.26052024, 0.        ],\n",
       "       [0.34779552, 0.04528061],\n",
       "       [0.47293361, 0.04910714],\n",
       "       [0.54865923, 0.14221939],\n",
       "       [0.39831274, 0.29496173],\n",
       "       [0.50969167, 0.05739796],\n",
       "       [0.60620669, 0.06026786],\n",
       "       [0.38565833, 0.07844388],\n",
       "       [0.35100934, 0.34056122],\n",
       "       [0.37712162, 0.05580357],\n",
       "       [0.54966355, 0.08131378],\n",
       "       [0.49613337, 0.14413265],\n",
       "       [0.47172843, 0.78954082],\n",
       "       [0.3880687 , 0.12531888],\n",
       "       [0.40002009, 0.04559949],\n",
       "       [0.44069499, 0.06951531],\n",
       "       [0.51581802, 0.11160714],\n",
       "       [0.3716983 , 0.34725765],\n",
       "       [0.46921764, 0.0966199 ],\n",
       "       [0.42563021, 0.08514031],\n",
       "       [0.32379231, 0.05803571],\n",
       "       [0.44953299, 0.49139031],\n",
       "       [0.52114091, 0.12691327],\n",
       "       [1.        , 0.18718112],\n",
       "       [0.37882896, 0.39445153],\n",
       "       [0.16701818, 0.6932398 ],\n",
       "       [0.        , 0.00765306],\n",
       "       [0.23491011, 0.33354592],\n",
       "       [0.34096615, 0.05389031],\n",
       "       [0.31545646, 0.06026786],\n",
       "       [0.34749423, 0.05484694],\n",
       "       [0.42633323, 0.41390306],\n",
       "       [0.47343577, 0.07589286],\n",
       "       [0.35603093, 0.11575255],\n",
       "       [0.69026815, 0.13424745],\n",
       "       [0.5012554 , 0.45727041],\n",
       "       [0.58913327, 0.10586735],\n",
       "       [0.40333434, 0.14477041],\n",
       "       [0.48197248, 0.20727041],\n",
       "       [0.40845636, 0.93239796],\n",
       "       [0.27789495, 0.31887755],\n",
       "       [0.23159586, 0.04241071],\n",
       "       [0.40725118, 0.13647959],\n",
       "       [0.3786281 , 0.19355867],\n",
       "       [0.29275886, 0.43399235],\n",
       "       [0.39228683, 0.10012755],\n",
       "       [0.35683439, 0.12563776],\n",
       "       [0.30219946, 0.14477041],\n",
       "       [0.3559305 , 0.52614796],\n",
       "       [0.52104047, 0.10427296],\n",
       "       [0.42713669, 0.11798469],\n",
       "       [0.67550467, 0.18048469],\n",
       "       [0.51903184, 1.        ],\n",
       "       [0.23641659, 0.29559949],\n",
       "       [0.35994778, 0.0838648 ],\n",
       "       [0.37732249, 0.10044643],\n",
       "       [0.37792508, 0.13934949],\n",
       "       [0.34819725, 0.46524235],\n",
       "       [0.47072411, 0.08450255],\n",
       "       [0.33082254, 0.07461735],\n",
       "       [0.28844029, 0.20184949],\n",
       "       [0.37902983, 0.52614796],\n",
       "       [0.32469619, 0.08195153],\n",
       "       [0.45937531, 0.12436224],\n",
       "       [0.45756754, 0.2286352 ],\n",
       "       [0.35643266, 0.57844388],\n",
       "       [0.26945867, 0.41932398],\n",
       "       [0.29125239, 0.09757653],\n",
       "       [0.3288139 , 0.12372449],\n",
       "       [0.31174048, 0.10140306],\n",
       "       [0.29687657, 0.45408163],\n",
       "       [0.296977  , 0.06473214],\n",
       "       [0.30983228, 0.1348852 ],\n",
       "       [0.24143818, 0.0752551 ],\n",
       "       [0.31384955, 0.49744898],\n",
       "       [0.71246359, 0.15019133],\n",
       "       [0.50366576, 0.19387755],\n",
       "       [0.41659134, 0.43367347],\n",
       "       [0.12533896, 0.42984694]])"
      ]
     },
     "execution_count": 31,
     "metadata": {},
     "output_type": "execute_result"
    }
   ],
   "source": [
    "normalized"
   ]
  },
  {
   "cell_type": "code",
   "execution_count": 33,
   "metadata": {},
   "outputs": [],
   "source": [
    "train = df[:int(0.8*(len(normalized)))]\n",
    "valid = df[int(0.8*(len(normalized))):]\n",
    "\n",
    "#fit the model\n",
    "from statsmodels.tsa.vector_ar.var_model import VAR\n",
    "\n",
    "model = VAR(endog=train)\n",
    "model_fit = model.fit()\n",
    "\n",
    "# make prediction on validation\n",
    "prediction = model_fit.forecast(model_fit.y, steps=len(valid))\n"
   ]
  },
  {
   "cell_type": "code",
   "execution_count": 34,
   "metadata": {},
   "outputs": [
    {
     "name": "stdout",
     "output_type": "stream",
     "text": [
      "[[2969.30867033  987.79833336]\n",
      " [3947.94953383 1198.10113452]\n",
      " [4155.05947308 1290.7236412 ]]\n"
     ]
    }
   ],
   "source": [
    "model = VAR(endog=df)\n",
    "model_fit = model.fit()\n",
    "yhat = model_fit.forecast(model_fit.y, steps=3)\n",
    "print(yhat)"
   ]
  },
  {
   "cell_type": "code",
   "execution_count": null,
   "metadata": {},
   "outputs": [],
   "source": []
  }
 ],
 "metadata": {
  "kernelspec": {
   "display_name": "Python 3",
   "language": "python",
   "name": "python3"
  },
  "language_info": {
   "codemirror_mode": {
    "name": "ipython",
    "version": 3
   },
   "file_extension": ".py",
   "mimetype": "text/x-python",
   "name": "python",
   "nbconvert_exporter": "python",
   "pygments_lexer": "ipython3",
   "version": "3.7.1"
  }
 },
 "nbformat": 4,
 "nbformat_minor": 2
}
