{
 "cells": [
  {
   "cell_type": "code",
   "execution_count": 290,
   "metadata": {
    "_cell_guid": "b1076dfc-b9ad-4769-8c92-a6c4dae69d19",
    "_uuid": "8f2839f25d086af736a60e9eeb907d3b93b6e0e5"
   },
   "outputs": [
    {
     "name": "stdout",
     "output_type": "stream",
     "text": [
      "['generic_outliers_data.csv', 'delivery_related.csv', 'session_related.csv']\n"
     ]
    }
   ],
   "source": [
    "# This Python 3 environment comes with many helpful analytics libraries installed\n",
    "# It is defined by the kaggle/python docker image: https://github.com/kaggle/docker-python\n",
    "# For example, here's several helpful packages to load in \n",
    "\n",
    "import numpy as np # linear algebra\n",
    "import pandas as pd # data processing, CSV file I/O (e.g. pd.read_csv)\n",
    "\n",
    "# Input data files are available in the \"../input/\" directory.\n",
    "# For example, running this (by clicking run or pressing Shift+Enter) will list the files in the input directory\n",
    "\n",
    "import os\n",
    "print(os.listdir(\"../input\"))\n",
    "\n",
    "# Any results you write to the current directory are saved as output."
   ]
  },
  {
   "cell_type": "code",
   "execution_count": 1,
   "metadata": {
    "_cell_guid": "79c7e3d0-c299-4dcb-8224-4455121ee9b0",
    "_uuid": "d629ff2d2480ee46fbb7e2d37f6b5fab8052498a"
   },
   "outputs": [],
   "source": [
    "import numpy as np\n",
    "import pandas as pd\n",
    "\n",
    "import seaborn as sns\n",
    "import matplotlib.pyplot as plt\n",
    "%matplotlib inline\n",
    "\n",
    "from sklearn.preprocessing import LabelEncoder,OneHotEncoder\n",
    "from sklearn.utils import shuffle\n",
    "from sklearn.svm import SVC\n",
    "from sklearn.metrics import confusion_matrix,classification_report\n",
    "from sklearn.model_selection import cross_val_score, GridSearchCV"
   ]
  },
  {
   "cell_type": "code",
   "execution_count": null,
   "metadata": {},
   "outputs": [],
   "source": []
  },
  {
   "cell_type": "code",
   "execution_count": 2,
   "metadata": {},
   "outputs": [],
   "source": [
    "session_df= pd.read_csv('session_related.csv')\n",
    "#sessionData.head()"
   ]
  },
  {
   "cell_type": "code",
   "execution_count": 3,
   "metadata": {},
   "outputs": [],
   "source": [
    "delivery_df= pd.read_csv('generic_outliers_data.csv')\n",
    "#genericData.head()"
   ]
  },
  {
   "cell_type": "code",
   "execution_count": 4,
   "metadata": {},
   "outputs": [],
   "source": [
    "data_df = pd.read_csv('delivery_related.csv')\n",
    "#deliveryData.head()"
   ]
  },
  {
   "cell_type": "code",
   "execution_count": 6,
   "metadata": {},
   "outputs": [
    {
     "ename": "KeyError",
     "evalue": "'OrderId'",
     "output_type": "error",
     "traceback": [
      "\u001b[0;31m---------------------------------------------------------------------------\u001b[0m",
      "\u001b[0;31mKeyError\u001b[0m                                  Traceback (most recent call last)",
      "\u001b[0;32m<ipython-input-6-407e207b28a5>\u001b[0m in \u001b[0;36m<module>\u001b[0;34m\u001b[0m\n\u001b[0;32m----> 1\u001b[0;31m \u001b[0mfirstmerge\u001b[0m \u001b[0;34m=\u001b[0m \u001b[0mpd\u001b[0m\u001b[0;34m.\u001b[0m\u001b[0mmerge\u001b[0m\u001b[0;34m(\u001b[0m\u001b[0mdelivery_df\u001b[0m\u001b[0;34m,\u001b[0m\u001b[0msession_df\u001b[0m\u001b[0;34m,\u001b[0m\u001b[0mon\u001b[0m\u001b[0;34m=\u001b[0m\u001b[0;34m'OrderId'\u001b[0m\u001b[0;34m)\u001b[0m\u001b[0;34m\u001b[0m\u001b[0;34m\u001b[0m\u001b[0m\n\u001b[0m",
      "\u001b[0;32m/anaconda3/lib/python3.7/site-packages/pandas/core/reshape/merge.py\u001b[0m in \u001b[0;36mmerge\u001b[0;34m(left, right, how, on, left_on, right_on, left_index, right_index, sort, suffixes, copy, indicator, validate)\u001b[0m\n\u001b[1;32m     59\u001b[0m                          \u001b[0mright_index\u001b[0m\u001b[0;34m=\u001b[0m\u001b[0mright_index\u001b[0m\u001b[0;34m,\u001b[0m \u001b[0msort\u001b[0m\u001b[0;34m=\u001b[0m\u001b[0msort\u001b[0m\u001b[0;34m,\u001b[0m \u001b[0msuffixes\u001b[0m\u001b[0;34m=\u001b[0m\u001b[0msuffixes\u001b[0m\u001b[0;34m,\u001b[0m\u001b[0;34m\u001b[0m\u001b[0;34m\u001b[0m\u001b[0m\n\u001b[1;32m     60\u001b[0m                          \u001b[0mcopy\u001b[0m\u001b[0;34m=\u001b[0m\u001b[0mcopy\u001b[0m\u001b[0;34m,\u001b[0m \u001b[0mindicator\u001b[0m\u001b[0;34m=\u001b[0m\u001b[0mindicator\u001b[0m\u001b[0;34m,\u001b[0m\u001b[0;34m\u001b[0m\u001b[0;34m\u001b[0m\u001b[0m\n\u001b[0;32m---> 61\u001b[0;31m                          validate=validate)\n\u001b[0m\u001b[1;32m     62\u001b[0m     \u001b[0;32mreturn\u001b[0m \u001b[0mop\u001b[0m\u001b[0;34m.\u001b[0m\u001b[0mget_result\u001b[0m\u001b[0;34m(\u001b[0m\u001b[0;34m)\u001b[0m\u001b[0;34m\u001b[0m\u001b[0;34m\u001b[0m\u001b[0m\n\u001b[1;32m     63\u001b[0m \u001b[0;34m\u001b[0m\u001b[0m\n",
      "\u001b[0;32m/anaconda3/lib/python3.7/site-packages/pandas/core/reshape/merge.py\u001b[0m in \u001b[0;36m__init__\u001b[0;34m(self, left, right, how, on, left_on, right_on, axis, left_index, right_index, sort, suffixes, copy, indicator, validate)\u001b[0m\n\u001b[1;32m    549\u001b[0m         (self.left_join_keys,\n\u001b[1;32m    550\u001b[0m          \u001b[0mself\u001b[0m\u001b[0;34m.\u001b[0m\u001b[0mright_join_keys\u001b[0m\u001b[0;34m,\u001b[0m\u001b[0;34m\u001b[0m\u001b[0;34m\u001b[0m\u001b[0m\n\u001b[0;32m--> 551\u001b[0;31m          self.join_names) = self._get_merge_keys()\n\u001b[0m\u001b[1;32m    552\u001b[0m \u001b[0;34m\u001b[0m\u001b[0m\n\u001b[1;32m    553\u001b[0m         \u001b[0;31m# validate the merge keys dtypes. We may need to coerce\u001b[0m\u001b[0;34m\u001b[0m\u001b[0;34m\u001b[0m\u001b[0;34m\u001b[0m\u001b[0m\n",
      "\u001b[0;32m/anaconda3/lib/python3.7/site-packages/pandas/core/reshape/merge.py\u001b[0m in \u001b[0;36m_get_merge_keys\u001b[0;34m(self)\u001b[0m\n\u001b[1;32m    869\u001b[0m                     \u001b[0;32mif\u001b[0m \u001b[0mlk\u001b[0m \u001b[0;32mis\u001b[0m \u001b[0;32mnot\u001b[0m \u001b[0;32mNone\u001b[0m\u001b[0;34m:\u001b[0m\u001b[0;34m\u001b[0m\u001b[0;34m\u001b[0m\u001b[0m\n\u001b[1;32m    870\u001b[0m                         left_keys.append(left._get_label_or_level_values(\n\u001b[0;32m--> 871\u001b[0;31m                             lk, stacklevel=stacklevel))\n\u001b[0m\u001b[1;32m    872\u001b[0m                         \u001b[0mjoin_names\u001b[0m\u001b[0;34m.\u001b[0m\u001b[0mappend\u001b[0m\u001b[0;34m(\u001b[0m\u001b[0mlk\u001b[0m\u001b[0;34m)\u001b[0m\u001b[0;34m\u001b[0m\u001b[0;34m\u001b[0m\u001b[0m\n\u001b[1;32m    873\u001b[0m                     \u001b[0;32melse\u001b[0m\u001b[0;34m:\u001b[0m\u001b[0;34m\u001b[0m\u001b[0;34m\u001b[0m\u001b[0m\n",
      "\u001b[0;32m/anaconda3/lib/python3.7/site-packages/pandas/core/generic.py\u001b[0m in \u001b[0;36m_get_label_or_level_values\u001b[0;34m(self, key, axis, stacklevel)\u001b[0m\n\u001b[1;32m   1380\u001b[0m             \u001b[0mvalues\u001b[0m \u001b[0;34m=\u001b[0m \u001b[0mself\u001b[0m\u001b[0;34m.\u001b[0m\u001b[0maxes\u001b[0m\u001b[0;34m[\u001b[0m\u001b[0maxis\u001b[0m\u001b[0;34m]\u001b[0m\u001b[0;34m.\u001b[0m\u001b[0mget_level_values\u001b[0m\u001b[0;34m(\u001b[0m\u001b[0mkey\u001b[0m\u001b[0;34m)\u001b[0m\u001b[0;34m.\u001b[0m\u001b[0m_values\u001b[0m\u001b[0;34m\u001b[0m\u001b[0;34m\u001b[0m\u001b[0m\n\u001b[1;32m   1381\u001b[0m         \u001b[0;32melse\u001b[0m\u001b[0;34m:\u001b[0m\u001b[0;34m\u001b[0m\u001b[0;34m\u001b[0m\u001b[0m\n\u001b[0;32m-> 1382\u001b[0;31m             \u001b[0;32mraise\u001b[0m \u001b[0mKeyError\u001b[0m\u001b[0;34m(\u001b[0m\u001b[0mkey\u001b[0m\u001b[0;34m)\u001b[0m\u001b[0;34m\u001b[0m\u001b[0;34m\u001b[0m\u001b[0m\n\u001b[0m\u001b[1;32m   1383\u001b[0m \u001b[0;34m\u001b[0m\u001b[0m\n\u001b[1;32m   1384\u001b[0m         \u001b[0;31m# Check for duplicates\u001b[0m\u001b[0;34m\u001b[0m\u001b[0;34m\u001b[0m\u001b[0;34m\u001b[0m\u001b[0m\n",
      "\u001b[0;31mKeyError\u001b[0m: 'OrderId'"
     ]
    }
   ],
   "source": [
    "firstmerge = pd.merge(delivery_df,session_df,on='OrderId')"
   ]
  },
  {
   "cell_type": "code",
   "execution_count": 296,
   "metadata": {},
   "outputs": [],
   "source": [
    "MergedDataset = pd.merge(firstmerge,genericData,on='CustId')\n",
    "#MergedDataset.head()"
   ]
  },
  {
   "cell_type": "code",
   "execution_count": 297,
   "metadata": {},
   "outputs": [],
   "source": [
    "IndependentAttributes = pd.DataFrame()"
   ]
  },
  {
   "cell_type": "code",
   "execution_count": 298,
   "metadata": {},
   "outputs": [],
   "source": [
    "CustId = MergedDataset['CustId']\n",
    "OrderId = MergedDataset['OrderId']\n",
    "EmailId = MergedDataset['EmailId']\n",
    "MobileNo = MergedDataset['MobileNo']\n",
    "MacAddress = MergedDataset['MacAddress']\n",
    "AvgPurchase = MergedDataset['AvgPurchase']\n",
    "City = MergedDataset['City']\n",
    "IsValidGeo = MergedDataset['IsValidGeo']\n",
    "IsValidAddress = MergedDataset['IsValidAddress']\n",
    "IsDeliveryRejected = MergedDataset['IsDeliveryRejected']\n",
    "ReplacementDate = MergedDataset['ReplacementDate']\n",
    "IsOneTimeUseProduct = MergedDataset['IsOneTimeUseProduct']\n",
    "Session_Pincode = MergedDataset['Session_Pincode']\n",
    "DeliveryDate = MergedDataset['DeliveryDate']\n",
    "OrderDate = MergedDataset['OrderDate']\n",
    "Fraud = MergedDataset['Fraud']"
   ]
  },
  {
   "cell_type": "code",
   "execution_count": 299,
   "metadata": {},
   "outputs": [],
   "source": [
    "IndependentAttributes['CustId'] = CustId\n",
    "IndependentAttributes['OrderId'] = OrderId\n",
    "IndependentAttributes['EmailId'] = EmailId\n",
    "IndependentAttributes['MobileNo'] = MobileNo\n",
    "IndependentAttributes['MacAddress'] = MacAddress\n",
    "IndependentAttributes['Session_Pincode'] = Session_Pincode\n",
    "IndependentAttributes['AvgPurchase'] = AvgPurchase\n",
    "IndependentAttributes['City'] = City\n",
    "IndependentAttributes['OrderDate'] = OrderDate\n",
    "IndependentAttributes['DeliveryDate'] = DeliveryDate"
   ]
  },
  {
   "cell_type": "code",
   "execution_count": 300,
   "metadata": {},
   "outputs": [],
   "source": [
    "df1 = pd.DataFrame(IndependentAttributes['OrderDate'])\n",
    "df1['DeliveryDate'] = IndependentAttributes['DeliveryDate']\n",
    "df1['OrderDate'] = pd.to_datetime(df1['OrderDate'], format='%d/%m/%Y')\n",
    "df1['DeliveryDate'] = pd.to_datetime(df1['DeliveryDate'], format='%d/%m/%Y')\n",
    "DaysDifference = (df1['DeliveryDate'] - df1['OrderDate'])\n",
    "df1.drop(['DeliveryDate', 'OrderDate'], axis='columns', inplace=True)\n",
    "\n",
    "IndependentAttributes['DaysDifference'] = DaysDifference"
   ]
  },
  {
   "cell_type": "code",
   "execution_count": 301,
   "metadata": {},
   "outputs": [],
   "source": [
    "IndependentAttributes['ReplacementDate'] = ReplacementDate\n",
    "IndependentAttributes['IsDeliveryRejected'] = IsDeliveryRejected\n",
    "IndependentAttributes['IsOneTimeUseProduct'] = IsOneTimeUseProduct\n",
    "IndependentAttributes['IsValidAddress'] = IsValidAddress\n",
    "IndependentAttributes['IsValidGeo'] = IsValidGeo\n",
    "IndependentAttributes['Fraud'] = Fraud"
   ]
  },
  {
   "cell_type": "code",
   "execution_count": 302,
   "metadata": {},
   "outputs": [],
   "source": [
    "IndependentAttributes.IsDeliveryRejected.replace(('yes', 'no'), (1, 0), inplace=True)\n",
    "IndependentAttributes.IsOneTimeUseProduct.replace(('yes', 'no'), (1, 0), inplace=True)\n",
    "IndependentAttributes.IsValidGeo.replace(('YES', 'NO'), (1, 0), inplace=True)\n",
    "IndependentAttributes.IsValidAddress.replace(('yes', 'no'), (1, 0), inplace=True)\n",
    "IndependentAttributes.Fraud.replace(('normal', 'suspicious', 'fraudulent'), (0, 1, 1), inplace=True)"
   ]
  },
  {
   "cell_type": "code",
   "execution_count": 303,
   "metadata": {},
   "outputs": [],
   "source": [
    "IndependentAttributes.MacAddress.replace(regex=r'-', value='', inplace=True)"
   ]
  },
  {
   "cell_type": "code",
   "execution_count": 304,
   "metadata": {},
   "outputs": [],
   "source": [
    "IndependentAttributes.DeliveryDate.replace(regex=r'/', value='-', inplace=True)\n",
    "IndependentAttributes.OrderDate.replace(regex=r'/', value='-', inplace=True)\n",
    "IndependentAttributes.ReplacementDate.replace(regex=r'/', value='-', inplace=True)"
   ]
  },
  {
   "cell_type": "code",
   "execution_count": 305,
   "metadata": {},
   "outputs": [
    {
     "data": {
      "text/html": [
       "<div>\n",
       "<style scoped>\n",
       "    .dataframe tbody tr th:only-of-type {\n",
       "        vertical-align: middle;\n",
       "    }\n",
       "\n",
       "    .dataframe tbody tr th {\n",
       "        vertical-align: top;\n",
       "    }\n",
       "\n",
       "    .dataframe thead th {\n",
       "        text-align: right;\n",
       "    }\n",
       "</style>\n",
       "<table border=\"1\" class=\"dataframe\">\n",
       "  <thead>\n",
       "    <tr style=\"text-align: right;\">\n",
       "      <th></th>\n",
       "      <th>CustId</th>\n",
       "      <th>OrderId</th>\n",
       "      <th>EmailId</th>\n",
       "      <th>MobileNo</th>\n",
       "      <th>MacAddress</th>\n",
       "      <th>Session_Pincode</th>\n",
       "      <th>AvgPurchase</th>\n",
       "      <th>City</th>\n",
       "      <th>OrderDate</th>\n",
       "      <th>DeliveryDate</th>\n",
       "      <th>DaysDifference</th>\n",
       "      <th>ReplacementDate</th>\n",
       "      <th>IsDeliveryRejected</th>\n",
       "      <th>IsOneTimeUseProduct</th>\n",
       "      <th>IsValidAddress</th>\n",
       "      <th>IsValidGeo</th>\n",
       "      <th>Fraud</th>\n",
       "    </tr>\n",
       "  </thead>\n",
       "  <tbody>\n",
       "    <tr>\n",
       "      <th>0</th>\n",
       "      <td>47019</td>\n",
       "      <td>41601</td>\n",
       "      <td>aQGHuxe@yahoo.com</td>\n",
       "      <td>1867946110</td>\n",
       "      <td>1DBA453FE543</td>\n",
       "      <td>276001</td>\n",
       "      <td>99522</td>\n",
       "      <td>Latur</td>\n",
       "      <td>25-01-2019</td>\n",
       "      <td>28-01-2019</td>\n",
       "      <td>3</td>\n",
       "      <td>01-02-2019</td>\n",
       "      <td>1</td>\n",
       "      <td>0</td>\n",
       "      <td>1</td>\n",
       "      <td>1</td>\n",
       "      <td>0</td>\n",
       "    </tr>\n",
       "    <tr>\n",
       "      <th>1</th>\n",
       "      <td>20242</td>\n",
       "      <td>30352</td>\n",
       "      <td>sej94kG@hotmail.com</td>\n",
       "      <td>9272875375</td>\n",
       "      <td>65D1F362F744</td>\n",
       "      <td>505468</td>\n",
       "      <td>3491</td>\n",
       "      <td>Mumbai G.P.O.</td>\n",
       "      <td>06-02-2019</td>\n",
       "      <td>10-02-2019</td>\n",
       "      <td>4</td>\n",
       "      <td>17-02-2019</td>\n",
       "      <td>0</td>\n",
       "      <td>1</td>\n",
       "      <td>0</td>\n",
       "      <td>1</td>\n",
       "      <td>0</td>\n",
       "    </tr>\n",
       "    <tr>\n",
       "      <th>2</th>\n",
       "      <td>79619</td>\n",
       "      <td>12328</td>\n",
       "      <td>HTVm_XUBz@gmail.com</td>\n",
       "      <td>3251871005</td>\n",
       "      <td>DF6DBF6C2359</td>\n",
       "      <td>586209</td>\n",
       "      <td>5262</td>\n",
       "      <td>Chhatarpur City</td>\n",
       "      <td>12-01-2019</td>\n",
       "      <td>22-01-2019</td>\n",
       "      <td>10</td>\n",
       "      <td>01-02-2019</td>\n",
       "      <td>1</td>\n",
       "      <td>0</td>\n",
       "      <td>1</td>\n",
       "      <td>0</td>\n",
       "      <td>1</td>\n",
       "    </tr>\n",
       "    <tr>\n",
       "      <th>3</th>\n",
       "      <td>79619</td>\n",
       "      <td>80750</td>\n",
       "      <td>HTVm_XUBz@gmail.com</td>\n",
       "      <td>3251871005</td>\n",
       "      <td>DF6DBF6C2359</td>\n",
       "      <td>791102</td>\n",
       "      <td>5262</td>\n",
       "      <td>Chhatarpur City</td>\n",
       "      <td>19-01-2019</td>\n",
       "      <td>26-01-2019</td>\n",
       "      <td>7</td>\n",
       "      <td>31-01-2019</td>\n",
       "      <td>0</td>\n",
       "      <td>1</td>\n",
       "      <td>0</td>\n",
       "      <td>0</td>\n",
       "      <td>0</td>\n",
       "    </tr>\n",
       "    <tr>\n",
       "      <th>4</th>\n",
       "      <td>80669</td>\n",
       "      <td>19203</td>\n",
       "      <td>dPiRkMo3i@gmail.com</td>\n",
       "      <td>3152175434</td>\n",
       "      <td>495560A5F52B</td>\n",
       "      <td>250001</td>\n",
       "      <td>4957</td>\n",
       "      <td>Sunamura</td>\n",
       "      <td>27-03-2019</td>\n",
       "      <td>03-04-2019</td>\n",
       "      <td>7</td>\n",
       "      <td>06-04-2019</td>\n",
       "      <td>0</td>\n",
       "      <td>0</td>\n",
       "      <td>1</td>\n",
       "      <td>1</td>\n",
       "      <td>0</td>\n",
       "    </tr>\n",
       "  </tbody>\n",
       "</table>\n",
       "</div>"
      ],
      "text/plain": [
       "   CustId  OrderId  ...   IsValidGeo  Fraud\n",
       "0   47019    41601  ...            1      0\n",
       "1   20242    30352  ...            1      0\n",
       "2   79619    12328  ...            0      1\n",
       "3   79619    80750  ...            0      0\n",
       "4   80669    19203  ...            1      0\n",
       "\n",
       "[5 rows x 17 columns]"
      ]
     },
     "execution_count": 305,
     "metadata": {},
     "output_type": "execute_result"
    }
   ],
   "source": [
    "IndependentAttributes['DaysDifference'] = IndependentAttributes.DaysDifference.dt.days\n",
    "IndependentAttributes.head()"
   ]
  },
  {
   "cell_type": "code",
   "execution_count": 306,
   "metadata": {},
   "outputs": [],
   "source": [
    "def reduce_mem_usage(df):\n",
    "    \"\"\" iterate through all the columns of a dataframe and modify the data type\n",
    "        to reduce memory usage.        \n",
    "    \"\"\"\n",
    "    start_mem = df.memory_usage().sum() / 1024**2\n",
    "    print('Memory usage of dataframe is {:.2f} MB'.format(start_mem))\n",
    "    \n",
    "    for col in df.columns:\n",
    "        col_type = df[col].dtype\n",
    "        \n",
    "        if col_type != object:\n",
    "            c_min = df[col].min()\n",
    "            c_max = df[col].max()\n",
    "            if str(col_type)[:3] == 'int':\n",
    "                if c_min > np.iinfo(np.int8).min and c_max < np.iinfo(np.int8).max:\n",
    "                    df[col] = df[col].astype(np.int8)\n",
    "                elif c_min > np.iinfo(np.int16).min and c_max < np.iinfo(np.int16).max:\n",
    "                    df[col] = df[col].astype(np.int16)\n",
    "                elif c_min > np.iinfo(np.int32).min and c_max < np.iinfo(np.int32).max:\n",
    "                    df[col] = df[col].astype(np.int32)\n",
    "                elif c_min > np.iinfo(np.int64).min and c_max < np.iinfo(np.int64).max:\n",
    "                    df[col] = df[col].astype(np.int64)  \n",
    "            else:\n",
    "                if c_min > np.finfo(np.float16).min and c_max < np.finfo(np.float16).max:\n",
    "                    df[col] = df[col].astype(np.float16)\n",
    "                elif c_min > np.finfo(np.float32).min and c_max < np.finfo(np.float32).max:\n",
    "                    df[col] = df[col].astype(np.float32)\n",
    "                else:\n",
    "                    df[col] = df[col].astype(np.float64)\n",
    "        else:\n",
    "            df[col] = df[col].astype('category')\n",
    "\n",
    "    end_mem = df.memory_usage().sum() / 1024**2\n",
    "    print('Memory usage after optimization is: {:.2f} MB'.format(end_mem))\n",
    "    print('Decreased by {:.1f}%'.format(100 * (start_mem - end_mem) / start_mem))\n",
    "    \n",
    "    return df"
   ]
  },
  {
   "cell_type": "code",
   "execution_count": 307,
   "metadata": {},
   "outputs": [
    {
     "name": "stdout",
     "output_type": "stream",
     "text": [
      "Memory usage of dataframe is 13.73 MB\n",
      "Memory usage after optimization is: 10.89 MB\n",
      "Decreased by 20.7%\n"
     ]
    }
   ],
   "source": [
    "df = pd.DataFrame() \n",
    "df = reduce_mem_usage(IndependentAttributes)"
   ]
  },
  {
   "cell_type": "code",
   "execution_count": 308,
   "metadata": {},
   "outputs": [],
   "source": [
    "Fraud_txn = df[df['Fraud']== 1]\n",
    "normal_txn = df[df['Fraud']== 0]\n",
    "\n",
    "# print(\"---------------------------\")\n",
    "# print(\"From the training dataset:\")\n",
    "# print(\"---------------------------\")\n",
    "# print(\"  Total Customers : %i\"\\\n",
    "#       %(len(df)))\n",
    "# print(\"\")\n",
    "# print(\"  Total Normal transactions  : %i\"\\\n",
    "#       %(len(normal_txn)))\n",
    "\n",
    "# print(\"  Normal transactions Rate   : %i %% \"\\\n",
    "#      % (1.*len(normal_txn)/len(df)*100.0))\n",
    "# print(\"-------------------------\")\n",
    "\n",
    "# print(\"  Fraudulent transactions         : %i\"\\\n",
    "#       %(len(Fraud_txn)))\n",
    "\n",
    "# print(\"  Fraudulent transactions Rate    : %i %% \"\\\n",
    "#      % (1.*len(Fraud_txn)/len(df)*100.0))\n",
    "# print(\"-------------------------\")"
   ]
  },
  {
   "cell_type": "code",
   "execution_count": null,
   "metadata": {},
   "outputs": [],
   "source": []
  },
  {
   "cell_type": "code",
   "execution_count": 309,
   "metadata": {},
   "outputs": [],
   "source": [
    "from sklearn.preprocessing import LabelEncoder\n",
    "categorical = ['IsValidAddress','IsDeliveryRejected','IsOneTimeUseProduct','IsValidGeo','CustId','City']\n",
    "\n",
    "label_encoder = LabelEncoder()\n",
    "for col in categorical:\n",
    "    df[col] = label_encoder.fit_transform(df[col].astype(str))\n",
    "\n",
    "df=df.iloc[:df.shape[0]]"
   ]
  },
  {
   "cell_type": "code",
   "execution_count": 310,
   "metadata": {},
   "outputs": [],
   "source": [
    "from sklearn.preprocessing import LabelEncoder, OneHotEncoder\n",
    "features = pd.DataFrame(df)\n",
    "labels = pd.DataFrame(features['Fraud'])\n",
    "features = features.drop(['Fraud','EmailId','MacAddress','City'], axis=1)\n",
    "features = features.apply(LabelEncoder().fit_transform)\n",
    "#features.head()"
   ]
  },
  {
   "cell_type": "code",
   "execution_count": 311,
   "metadata": {},
   "outputs": [],
   "source": [
    "#labels.head()"
   ]
  },
  {
   "cell_type": "code",
   "execution_count": 312,
   "metadata": {},
   "outputs": [
    {
     "data": {
      "text/html": [
       "<div>\n",
       "<style scoped>\n",
       "    .dataframe tbody tr th:only-of-type {\n",
       "        vertical-align: middle;\n",
       "    }\n",
       "\n",
       "    .dataframe tbody tr th {\n",
       "        vertical-align: top;\n",
       "    }\n",
       "\n",
       "    .dataframe thead th {\n",
       "        text-align: right;\n",
       "    }\n",
       "</style>\n",
       "<table border=\"1\" class=\"dataframe\">\n",
       "  <thead>\n",
       "    <tr style=\"text-align: right;\">\n",
       "      <th></th>\n",
       "      <th>CustId</th>\n",
       "      <th>OrderId</th>\n",
       "      <th>MobileNo</th>\n",
       "      <th>Session_Pincode</th>\n",
       "      <th>AvgPurchase</th>\n",
       "      <th>OrderDate</th>\n",
       "      <th>DeliveryDate</th>\n",
       "      <th>DaysDifference</th>\n",
       "      <th>ReplacementDate</th>\n",
       "      <th>IsDeliveryRejected</th>\n",
       "      <th>IsOneTimeUseProduct</th>\n",
       "      <th>IsValidAddress</th>\n",
       "      <th>IsValidGeo</th>\n",
       "    </tr>\n",
       "  </thead>\n",
       "  <tbody>\n",
       "    <tr>\n",
       "      <th>0</th>\n",
       "      <td>26030</td>\n",
       "      <td>41501</td>\n",
       "      <td>6101</td>\n",
       "      <td>134</td>\n",
       "      <td>35167</td>\n",
       "      <td>74</td>\n",
       "      <td>90</td>\n",
       "      <td>0</td>\n",
       "      <td>0</td>\n",
       "      <td>1</td>\n",
       "      <td>0</td>\n",
       "      <td>1</td>\n",
       "      <td>1</td>\n",
       "    </tr>\n",
       "    <tr>\n",
       "      <th>1</th>\n",
       "      <td>7189</td>\n",
       "      <td>30252</td>\n",
       "      <td>58249</td>\n",
       "      <td>383</td>\n",
       "      <td>2422</td>\n",
       "      <td>18</td>\n",
       "      <td>34</td>\n",
       "      <td>1</td>\n",
       "      <td>59</td>\n",
       "      <td>0</td>\n",
       "      <td>1</td>\n",
       "      <td>0</td>\n",
       "      <td>1</td>\n",
       "    </tr>\n",
       "    <tr>\n",
       "      <th>2</th>\n",
       "      <td>49061</td>\n",
       "      <td>12228</td>\n",
       "      <td>15784</td>\n",
       "      <td>522</td>\n",
       "      <td>4133</td>\n",
       "      <td>35</td>\n",
       "      <td>72</td>\n",
       "      <td>7</td>\n",
       "      <td>0</td>\n",
       "      <td>1</td>\n",
       "      <td>0</td>\n",
       "      <td>1</td>\n",
       "      <td>0</td>\n",
       "    </tr>\n",
       "    <tr>\n",
       "      <th>3</th>\n",
       "      <td>49061</td>\n",
       "      <td>80650</td>\n",
       "      <td>15784</td>\n",
       "      <td>787</td>\n",
       "      <td>4133</td>\n",
       "      <td>56</td>\n",
       "      <td>84</td>\n",
       "      <td>4</td>\n",
       "      <td>104</td>\n",
       "      <td>0</td>\n",
       "      <td>1</td>\n",
       "      <td>0</td>\n",
       "      <td>0</td>\n",
       "    </tr>\n",
       "    <tr>\n",
       "      <th>4</th>\n",
       "      <td>49784</td>\n",
       "      <td>19103</td>\n",
       "      <td>15101</td>\n",
       "      <td>112</td>\n",
       "      <td>3836</td>\n",
       "      <td>82</td>\n",
       "      <td>8</td>\n",
       "      <td>4</td>\n",
       "      <td>17</td>\n",
       "      <td>0</td>\n",
       "      <td>0</td>\n",
       "      <td>1</td>\n",
       "      <td>1</td>\n",
       "    </tr>\n",
       "  </tbody>\n",
       "</table>\n",
       "</div>"
      ],
      "text/plain": [
       "   CustId  OrderId     ...      IsValidAddress  IsValidGeo\n",
       "0   26030    41501     ...                   1           1\n",
       "1    7189    30252     ...                   0           1\n",
       "2   49061    12228     ...                   1           0\n",
       "3   49061    80650     ...                   0           0\n",
       "4   49784    19103     ...                   1           1\n",
       "\n",
       "[5 rows x 13 columns]"
      ]
     },
     "execution_count": 312,
     "metadata": {},
     "output_type": "execute_result"
    }
   ],
   "source": [
    "# Scaling the Train and Test feature set \n",
    "#from sklearn.preprocessing import StandardScaler\n",
    "#scaler = StandardScaler()\n",
    "#features = scaler.fit_transform(features)\n",
    "features.head()"
   ]
  },
  {
   "cell_type": "code",
   "execution_count": 313,
   "metadata": {},
   "outputs": [
    {
     "data": {
      "text/html": [
       "<div>\n",
       "<style scoped>\n",
       "    .dataframe tbody tr th:only-of-type {\n",
       "        vertical-align: middle;\n",
       "    }\n",
       "\n",
       "    .dataframe tbody tr th {\n",
       "        vertical-align: top;\n",
       "    }\n",
       "\n",
       "    .dataframe thead th {\n",
       "        text-align: right;\n",
       "    }\n",
       "</style>\n",
       "<table border=\"1\" class=\"dataframe\">\n",
       "  <thead>\n",
       "    <tr style=\"text-align: right;\">\n",
       "      <th></th>\n",
       "      <th>Fraud</th>\n",
       "    </tr>\n",
       "  </thead>\n",
       "  <tbody>\n",
       "    <tr>\n",
       "      <th>0</th>\n",
       "      <td>0</td>\n",
       "    </tr>\n",
       "    <tr>\n",
       "      <th>1</th>\n",
       "      <td>0</td>\n",
       "    </tr>\n",
       "    <tr>\n",
       "      <th>2</th>\n",
       "      <td>1</td>\n",
       "    </tr>\n",
       "    <tr>\n",
       "      <th>3</th>\n",
       "      <td>0</td>\n",
       "    </tr>\n",
       "    <tr>\n",
       "      <th>4</th>\n",
       "      <td>0</td>\n",
       "    </tr>\n",
       "  </tbody>\n",
       "</table>\n",
       "</div>"
      ],
      "text/plain": [
       "   Fraud\n",
       "0      0\n",
       "1      0\n",
       "2      1\n",
       "3      0\n",
       "4      0"
      ]
     },
     "execution_count": 313,
     "metadata": {},
     "output_type": "execute_result"
    }
   ],
   "source": [
    "labels.head()"
   ]
  },
  {
   "cell_type": "code",
   "execution_count": 314,
   "metadata": {},
   "outputs": [],
   "source": [
    "from sklearn.model_selection import train_test_split\n",
    "train, test, labels_train, labels_test = train_test_split(features, labels, test_size=0.60, random_state = 42)"
   ]
  },
  {
   "cell_type": "code",
   "execution_count": 315,
   "metadata": {},
   "outputs": [],
   "source": [
    "from sklearn.model_selection import train_test_split\n",
    "X_train, X_val, y_train, y_val = train_test_split(train, labels_train, test_size=0.20, random_state = 42)"
   ]
  },
  {
   "cell_type": "code",
   "execution_count": 316,
   "metadata": {},
   "outputs": [
    {
     "name": "stderr",
     "output_type": "stream",
     "text": [
      "/opt/conda/lib/python3.6/site-packages/sklearn/utils/validation.py:761: DataConversionWarning: A column-vector y was passed when a 1d array was expected. Please change the shape of y to (n_samples, ), for example using ravel().\n",
      "  y = column_or_1d(y, warn=True)\n"
     ]
    }
   ],
   "source": [
    "from imblearn.over_sampling import SMOTE\n",
    "sm = SMOTE(random_state=0)\n",
    "x_train_std_os,y_train_os = sm.fit_sample(X_train,y_train)"
   ]
  },
  {
   "cell_type": "code",
   "execution_count": null,
   "metadata": {},
   "outputs": [],
   "source": []
  },
  {
   "cell_type": "code",
   "execution_count": null,
   "metadata": {},
   "outputs": [],
   "source": []
  },
  {
   "cell_type": "code",
   "execution_count": 317,
   "metadata": {},
   "outputs": [
    {
     "name": "stderr",
     "output_type": "stream",
     "text": [
      "/opt/conda/lib/python3.6/site-packages/sklearn/ensemble/forest.py:246: FutureWarning: The default value of n_estimators will change from 10 in version 0.20 to 100 in 0.22.\n",
      "  \"10 in version 0.20 to 100 in 0.22.\", FutureWarning)\n"
     ]
    }
   ],
   "source": [
    "\n",
    "from sklearn.ensemble.forest import RandomForestClassifier\n",
    "rf = RandomForestClassifier(random_state=0).fit(x_train_std_os,y_train_os)\n",
    "rf_pred = rf.predict(X_val)"
   ]
  },
  {
   "cell_type": "code",
   "execution_count": 318,
   "metadata": {},
   "outputs": [],
   "source": [
    "from sklearn import metrics"
   ]
  },
  {
   "cell_type": "code",
   "execution_count": 319,
   "metadata": {},
   "outputs": [],
   "source": [
    "###Just gave the output of few algo with smote which classifies both classes and without smote it doesnt classify both classes"
   ]
  },
  {
   "cell_type": "code",
   "execution_count": 320,
   "metadata": {},
   "outputs": [],
   "source": [
    "temp1 = metrics.f1_score(y_val,rf_pred,average=None)[1]\n",
    "temp2 = metrics.f1_score(y_val,rf_pred,average=None)[0]\n",
    "\n",
    "# F1Fraud= temp1*100\n",
    "# F1Normal= temp2*100\n",
    "\n",
    "\n",
    "F1Fraud = str(round(temp1, 2)*100)\n",
    "F1Normal = str(round(temp2, 2)*100)\n",
    "\n",
    "\n",
    "#print(F1Fraud,F1Normal,sep=\"\\n\")"
   ]
  },
  {
   "cell_type": "markdown",
   "metadata": {},
   "source": [
    "###Just gave the output of few algo with smote which classifies both classes and without smote it doesnt classify both classes"
   ]
  },
  {
   "cell_type": "code",
   "execution_count": 321,
   "metadata": {},
   "outputs": [
    {
     "name": "stdout",
     "output_type": "stream",
     "text": [
      "{'f1_fraud': '26.0', 'f1_normal': '74.0', 'model': 'SVM'}\n"
     ]
    }
   ],
   "source": [
    "# import json\n",
    "# data = {\"F1 Fraud\":F1Fraud,\"F1 Normal\":F1Normal, \"model\": \"SVM\"}\n",
    "# jstr = json.dumps(data)\n",
    "\n",
    "# with open('F1.json', 'w') as outfile: \n",
    "#     jstr\n",
    "# import json\n",
    "# with open('data.json', 'w') as outfile:\n",
    "#     data = {\"F1\":metrics.f1_score(y_val,pred,average=None), \"model\": \"SVM\"}\n",
    "#     json.dump(data, outfile)\n",
    "\n",
    "# data = {\"F1\":metrics.f1_score(y_val,pred,average=None), \"model\": \"SVM\"}    \n",
    "# import json\n",
    "# with open('data.txt', 'w') as f:\n",
    "#     json.dump(data, f, ensure_ascii=False)\n",
    "\n",
    "import json\n",
    "\n",
    "data = {\n",
    "    'f1_fraud': F1Fraud,\n",
    "    'f1_normal': F1Normal,\n",
    "    'model': 'SVM'\n",
    "}\n",
    "\n",
    "\n",
    "with open(\"data_file.json\", \"w\") as write_file:\n",
    "    json.dump(data, write_file)\n",
    "    \n",
    "with open(\"data_file.json\", \"r\") as read_file:\n",
    "    data = json.load(read_file)\n",
    "    \n",
    "print(data)"
   ]
  },
  {
   "cell_type": "code",
   "execution_count": 322,
   "metadata": {},
   "outputs": [
    {
     "data": {
      "text/html": [
       "<div>\n",
       "<style scoped>\n",
       "    .dataframe tbody tr th:only-of-type {\n",
       "        vertical-align: middle;\n",
       "    }\n",
       "\n",
       "    .dataframe tbody tr th {\n",
       "        vertical-align: top;\n",
       "    }\n",
       "\n",
       "    .dataframe thead th {\n",
       "        text-align: right;\n",
       "    }\n",
       "</style>\n",
       "<table border=\"1\" class=\"dataframe\">\n",
       "  <thead>\n",
       "    <tr style=\"text-align: right;\">\n",
       "      <th></th>\n",
       "      <th>CustId</th>\n",
       "      <th>OrderId</th>\n",
       "      <th>MobileNo</th>\n",
       "      <th>Session_Pincode</th>\n",
       "      <th>AvgPurchase</th>\n",
       "      <th>OrderDate</th>\n",
       "      <th>DeliveryDate</th>\n",
       "      <th>DaysDifference</th>\n",
       "      <th>ReplacementDate</th>\n",
       "      <th>IsDeliveryRejected</th>\n",
       "      <th>IsOneTimeUseProduct</th>\n",
       "      <th>IsValidAddress</th>\n",
       "      <th>IsValidGeo</th>\n",
       "    </tr>\n",
       "  </thead>\n",
       "  <tbody>\n",
       "    <tr>\n",
       "      <th>0</th>\n",
       "      <td>26030</td>\n",
       "      <td>41501</td>\n",
       "      <td>6101</td>\n",
       "      <td>134</td>\n",
       "      <td>35167</td>\n",
       "      <td>74</td>\n",
       "      <td>90</td>\n",
       "      <td>0</td>\n",
       "      <td>0</td>\n",
       "      <td>1</td>\n",
       "      <td>0</td>\n",
       "      <td>1</td>\n",
       "      <td>1</td>\n",
       "    </tr>\n",
       "    <tr>\n",
       "      <th>1</th>\n",
       "      <td>7189</td>\n",
       "      <td>30252</td>\n",
       "      <td>58249</td>\n",
       "      <td>383</td>\n",
       "      <td>2422</td>\n",
       "      <td>18</td>\n",
       "      <td>34</td>\n",
       "      <td>1</td>\n",
       "      <td>59</td>\n",
       "      <td>0</td>\n",
       "      <td>1</td>\n",
       "      <td>0</td>\n",
       "      <td>1</td>\n",
       "    </tr>\n",
       "    <tr>\n",
       "      <th>2</th>\n",
       "      <td>49061</td>\n",
       "      <td>12228</td>\n",
       "      <td>15784</td>\n",
       "      <td>522</td>\n",
       "      <td>4133</td>\n",
       "      <td>35</td>\n",
       "      <td>72</td>\n",
       "      <td>7</td>\n",
       "      <td>0</td>\n",
       "      <td>1</td>\n",
       "      <td>0</td>\n",
       "      <td>1</td>\n",
       "      <td>0</td>\n",
       "    </tr>\n",
       "    <tr>\n",
       "      <th>3</th>\n",
       "      <td>49061</td>\n",
       "      <td>80650</td>\n",
       "      <td>15784</td>\n",
       "      <td>787</td>\n",
       "      <td>4133</td>\n",
       "      <td>56</td>\n",
       "      <td>84</td>\n",
       "      <td>4</td>\n",
       "      <td>104</td>\n",
       "      <td>0</td>\n",
       "      <td>1</td>\n",
       "      <td>0</td>\n",
       "      <td>0</td>\n",
       "    </tr>\n",
       "    <tr>\n",
       "      <th>4</th>\n",
       "      <td>49784</td>\n",
       "      <td>19103</td>\n",
       "      <td>15101</td>\n",
       "      <td>112</td>\n",
       "      <td>3836</td>\n",
       "      <td>82</td>\n",
       "      <td>8</td>\n",
       "      <td>4</td>\n",
       "      <td>17</td>\n",
       "      <td>0</td>\n",
       "      <td>0</td>\n",
       "      <td>1</td>\n",
       "      <td>1</td>\n",
       "    </tr>\n",
       "  </tbody>\n",
       "</table>\n",
       "</div>"
      ],
      "text/plain": [
       "   CustId  OrderId     ...      IsValidAddress  IsValidGeo\n",
       "0   26030    41501     ...                   1           1\n",
       "1    7189    30252     ...                   0           1\n",
       "2   49061    12228     ...                   1           0\n",
       "3   49061    80650     ...                   0           0\n",
       "4   49784    19103     ...                   1           1\n",
       "\n",
       "[5 rows x 13 columns]"
      ]
     },
     "execution_count": 322,
     "metadata": {},
     "output_type": "execute_result"
    }
   ],
   "source": [
    "features.head()"
   ]
  },
  {
   "cell_type": "code",
   "execution_count": 323,
   "metadata": {},
   "outputs": [
    {
     "data": {
      "text/plain": [
       "array([1, 1, 0, ..., 1, 0, 0], dtype=int8)"
      ]
     },
     "execution_count": 323,
     "metadata": {},
     "output_type": "execute_result"
    }
   ],
   "source": [
    "# y_hats2 = model.predict(X)\n",
    "\n",
    "# features['y_hats'] = y_hats2\n",
    "\n",
    "rf_pred"
   ]
  },
  {
   "cell_type": "code",
   "execution_count": 324,
   "metadata": {},
   "outputs": [
    {
     "data": {
      "text/plain": [
       "array([1, 1, 0, ..., 1, 0, 0], dtype=int8)"
      ]
     },
     "execution_count": 324,
     "metadata": {},
     "output_type": "execute_result"
    }
   ],
   "source": [
    "rf_pred"
   ]
  },
  {
   "cell_type": "code",
   "execution_count": 325,
   "metadata": {},
   "outputs": [],
   "source": [
    "res = pd.DataFrame(rf_pred)\n",
    "results = res.rename(columns={0:'Fraud'})"
   ]
  },
  {
   "cell_type": "code",
   "execution_count": 326,
   "metadata": {},
   "outputs": [
    {
     "data": {
      "text/html": [
       "<div>\n",
       "<style scoped>\n",
       "    .dataframe tbody tr th:only-of-type {\n",
       "        vertical-align: middle;\n",
       "    }\n",
       "\n",
       "    .dataframe tbody tr th {\n",
       "        vertical-align: top;\n",
       "    }\n",
       "\n",
       "    .dataframe thead th {\n",
       "        text-align: right;\n",
       "    }\n",
       "</style>\n",
       "<table border=\"1\" class=\"dataframe\">\n",
       "  <thead>\n",
       "    <tr style=\"text-align: right;\">\n",
       "      <th></th>\n",
       "      <th>Fraud</th>\n",
       "    </tr>\n",
       "  </thead>\n",
       "  <tbody>\n",
       "    <tr>\n",
       "      <th>0</th>\n",
       "      <td>1</td>\n",
       "    </tr>\n",
       "    <tr>\n",
       "      <th>1</th>\n",
       "      <td>1</td>\n",
       "    </tr>\n",
       "    <tr>\n",
       "      <th>2</th>\n",
       "      <td>0</td>\n",
       "    </tr>\n",
       "    <tr>\n",
       "      <th>3</th>\n",
       "      <td>1</td>\n",
       "    </tr>\n",
       "    <tr>\n",
       "      <th>4</th>\n",
       "      <td>0</td>\n",
       "    </tr>\n",
       "  </tbody>\n",
       "</table>\n",
       "</div>"
      ],
      "text/plain": [
       "   Fraud\n",
       "0      1\n",
       "1      1\n",
       "2      0\n",
       "3      1\n",
       "4      0"
      ]
     },
     "execution_count": 326,
     "metadata": {},
     "output_type": "execute_result"
    }
   ],
   "source": [
    "results.head()"
   ]
  },
  {
   "cell_type": "code",
   "execution_count": 327,
   "metadata": {},
   "outputs": [],
   "source": [
    "final_export = pd.DataFrame()"
   ]
  },
  {
   "cell_type": "code",
   "execution_count": 328,
   "metadata": {},
   "outputs": [],
   "source": [
    "OrderId = features['OrderId']\n",
    "#OrderDate = features['OrderDate']\n",
    "#City = features['City']\n",
    "AvgPurchase = features['AvgPurchase']\n",
    "PredictedLabel = results['Fraud']\n",
    "#EmailId = features['EmailId']\n"
   ]
  },
  {
   "cell_type": "code",
   "execution_count": 329,
   "metadata": {},
   "outputs": [],
   "source": [
    "final_export['OrderId'] = OrderId \n",
    "final_export['CustId'] = CustId \n",
    "final_export['City'] = City \n",
    "final_export['PredictedLabel'] = PredictedLabel \n",
    "final_export['AvgPurchase'] = AvgPurchase\n",
    "final_export['EmailId'] = EmailId\n",
    "final_export['DeliveryDate']=DeliveryDate\n",
    "final_export['OrderDate'] = OrderDate \n"
   ]
  },
  {
   "cell_type": "code",
   "execution_count": 330,
   "metadata": {},
   "outputs": [
    {
     "data": {
      "text/html": [
       "<div>\n",
       "<style scoped>\n",
       "    .dataframe tbody tr th:only-of-type {\n",
       "        vertical-align: middle;\n",
       "    }\n",
       "\n",
       "    .dataframe tbody tr th {\n",
       "        vertical-align: top;\n",
       "    }\n",
       "\n",
       "    .dataframe thead th {\n",
       "        text-align: right;\n",
       "    }\n",
       "</style>\n",
       "<table border=\"1\" class=\"dataframe\">\n",
       "  <thead>\n",
       "    <tr style=\"text-align: right;\">\n",
       "      <th></th>\n",
       "      <th>OrderId</th>\n",
       "      <th>CustId</th>\n",
       "      <th>City</th>\n",
       "      <th>PredictedLabel</th>\n",
       "      <th>AvgPurchase</th>\n",
       "      <th>EmailId</th>\n",
       "      <th>DeliveryDate</th>\n",
       "      <th>OrderDate</th>\n",
       "    </tr>\n",
       "  </thead>\n",
       "  <tbody>\n",
       "    <tr>\n",
       "      <th>0</th>\n",
       "      <td>41501</td>\n",
       "      <td>47019</td>\n",
       "      <td>Latur</td>\n",
       "      <td>1.0</td>\n",
       "      <td>35167</td>\n",
       "      <td>aQGHuxe@yahoo.com</td>\n",
       "      <td>28/01/2019</td>\n",
       "      <td>25/01/2019</td>\n",
       "    </tr>\n",
       "    <tr>\n",
       "      <th>1</th>\n",
       "      <td>30252</td>\n",
       "      <td>20242</td>\n",
       "      <td>Mumbai G.P.O.</td>\n",
       "      <td>1.0</td>\n",
       "      <td>2422</td>\n",
       "      <td>sej94kG@hotmail.com</td>\n",
       "      <td>10/02/2019</td>\n",
       "      <td>06/02/2019</td>\n",
       "    </tr>\n",
       "    <tr>\n",
       "      <th>2</th>\n",
       "      <td>12228</td>\n",
       "      <td>79619</td>\n",
       "      <td>Chhatarpur City</td>\n",
       "      <td>0.0</td>\n",
       "      <td>4133</td>\n",
       "      <td>HTVm_XUBz@gmail.com</td>\n",
       "      <td>22/01/2019</td>\n",
       "      <td>12/01/2019</td>\n",
       "    </tr>\n",
       "    <tr>\n",
       "      <th>3</th>\n",
       "      <td>80650</td>\n",
       "      <td>79619</td>\n",
       "      <td>Chhatarpur City</td>\n",
       "      <td>1.0</td>\n",
       "      <td>4133</td>\n",
       "      <td>HTVm_XUBz@gmail.com</td>\n",
       "      <td>26/01/2019</td>\n",
       "      <td>19/01/2019</td>\n",
       "    </tr>\n",
       "    <tr>\n",
       "      <th>4</th>\n",
       "      <td>19103</td>\n",
       "      <td>80669</td>\n",
       "      <td>Sunamura</td>\n",
       "      <td>0.0</td>\n",
       "      <td>3836</td>\n",
       "      <td>dPiRkMo3i@gmail.com</td>\n",
       "      <td>03/04/2019</td>\n",
       "      <td>27/03/2019</td>\n",
       "    </tr>\n",
       "  </tbody>\n",
       "</table>\n",
       "</div>"
      ],
      "text/plain": [
       "   OrderId  CustId     ...     DeliveryDate   OrderDate\n",
       "0    41501   47019     ...       28/01/2019  25/01/2019\n",
       "1    30252   20242     ...       10/02/2019  06/02/2019\n",
       "2    12228   79619     ...       22/01/2019  12/01/2019\n",
       "3    80650   79619     ...       26/01/2019  19/01/2019\n",
       "4    19103   80669     ...       03/04/2019  27/03/2019\n",
       "\n",
       "[5 rows x 8 columns]"
      ]
     },
     "execution_count": 330,
     "metadata": {},
     "output_type": "execute_result"
    }
   ],
   "source": [
    "final_export.head()"
   ]
  },
  {
   "cell_type": "code",
   "execution_count": 289,
   "metadata": {},
   "outputs": [
    {
     "ename": "SyntaxError",
     "evalue": "invalid character in identifier (<ipython-input-289-545c3ea48370>, line 1)",
     "output_type": "error",
     "traceback": [
      "\u001b[0;36m  File \u001b[0;32m\"<ipython-input-289-545c3ea48370>\"\u001b[0;36m, line \u001b[0;32m1\u001b[0m\n\u001b[0;31m    final_export.to_csv(“final_export.csv”, sep=’?’)\u001b[0m\n\u001b[0m                                    ^\u001b[0m\n\u001b[0;31mSyntaxError\u001b[0m\u001b[0;31m:\u001b[0m invalid character in identifier\n"
     ]
    }
   ],
   "source": [
    "final_export.to_csv(“final_export.csv”, sep=’,’)"
   ]
  },
  {
   "cell_type": "code",
   "execution_count": 331,
   "metadata": {},
   "outputs": [],
   "source": [
    "export_csv = final_export.to_csv (r'abc.csv', index = None, header=True)"
   ]
  },
  {
   "cell_type": "code",
   "execution_count": null,
   "metadata": {},
   "outputs": [],
   "source": []
  }
 ],
 "metadata": {
  "kernelspec": {
   "display_name": "Python 3",
   "language": "python",
   "name": "python3"
  },
  "language_info": {
   "codemirror_mode": {
    "name": "ipython",
    "version": 3
   },
   "file_extension": ".py",
   "mimetype": "text/x-python",
   "name": "python",
   "nbconvert_exporter": "python",
   "pygments_lexer": "ipython3",
   "version": "3.7.1"
  }
 },
 "nbformat": 4,
 "nbformat_minor": 2
}
