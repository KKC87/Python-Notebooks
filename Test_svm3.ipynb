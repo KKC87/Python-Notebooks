{
 "cells": [
  {
   "cell_type": "code",
   "execution_count": 79,
   "metadata": {},
   "outputs": [],
   "source": [
    "import numpy as np\n",
    "import pandas as pd\n",
    "\n",
    "import seaborn as sns\n",
    "import matplotlib.pyplot as plt\n",
    "%matplotlib inline\n",
    "\n",
    "from sklearn.preprocessing import LabelEncoder,OneHotEncoder\n",
    "from sklearn.utils import shuffle\n",
    "from sklearn.svm import SVC\n",
    "from sklearn.metrics import confusion_matrix,classification_report\n",
    "from sklearn.model_selection import cross_val_score, GridSearchCV"
   ]
  },
  {
   "cell_type": "markdown",
   "metadata": {},
   "source": [
    "# Reading The Datasets\n",
    "1. Session Dataset"
   ]
  },
  {
   "cell_type": "code",
   "execution_count": 80,
   "metadata": {},
   "outputs": [
    {
     "data": {
      "text/html": [
       "<div>\n",
       "<style scoped>\n",
       "    .dataframe tbody tr th:only-of-type {\n",
       "        vertical-align: middle;\n",
       "    }\n",
       "\n",
       "    .dataframe tbody tr th {\n",
       "        vertical-align: top;\n",
       "    }\n",
       "\n",
       "    .dataframe thead th {\n",
       "        text-align: right;\n",
       "    }\n",
       "</style>\n",
       "<table border=\"1\" class=\"dataframe\">\n",
       "  <thead>\n",
       "    <tr style=\"text-align: right;\">\n",
       "      <th></th>\n",
       "      <th>OrderId</th>\n",
       "      <th>IP_start_session</th>\n",
       "      <th>IP_end_session</th>\n",
       "      <th>Session_Pincode</th>\n",
       "      <th>Delivery_Pincode</th>\n",
       "      <th>IsValidGeo</th>\n",
       "    </tr>\n",
       "  </thead>\n",
       "  <tbody>\n",
       "    <tr>\n",
       "      <th>0</th>\n",
       "      <td>86611</td>\n",
       "      <td>57.79.00.250</td>\n",
       "      <td>211.75.38.8</td>\n",
       "      <td>431401</td>\n",
       "      <td>431401</td>\n",
       "      <td>NO</td>\n",
       "    </tr>\n",
       "    <tr>\n",
       "      <th>1</th>\n",
       "      <td>61343</td>\n",
       "      <td>2.8.4.8</td>\n",
       "      <td>8.9.103.186</td>\n",
       "      <td>403712</td>\n",
       "      <td>403712</td>\n",
       "      <td>NO</td>\n",
       "    </tr>\n",
       "    <tr>\n",
       "      <th>2</th>\n",
       "      <td>55944</td>\n",
       "      <td>5.151.253.234</td>\n",
       "      <td>5.151.253.234</td>\n",
       "      <td>793101</td>\n",
       "      <td>793101</td>\n",
       "      <td>YES</td>\n",
       "    </tr>\n",
       "    <tr>\n",
       "      <th>3</th>\n",
       "      <td>842</td>\n",
       "      <td>235.231.255.2</td>\n",
       "      <td>235.231.255.2</td>\n",
       "      <td>177001</td>\n",
       "      <td>176992</td>\n",
       "      <td>NO</td>\n",
       "    </tr>\n",
       "    <tr>\n",
       "      <th>4</th>\n",
       "      <td>50594</td>\n",
       "      <td>255.251.119.201</td>\n",
       "      <td>255.251.119.201</td>\n",
       "      <td>799201</td>\n",
       "      <td>799201</td>\n",
       "      <td>NO</td>\n",
       "    </tr>\n",
       "  </tbody>\n",
       "</table>\n",
       "</div>"
      ],
      "text/plain": [
       "   OrderId IP_start_session     ...     Delivery_Pincode  IsValidGeo\n",
       "0    86611     57.79.00.250     ...               431401          NO\n",
       "1    61343          2.8.4.8     ...               403712          NO\n",
       "2    55944    5.151.253.234     ...               793101         YES\n",
       "3      842    235.231.255.2     ...               176992          NO\n",
       "4    50594  255.251.119.201     ...               799201          NO\n",
       "\n",
       "[5 rows x 6 columns]"
      ]
     },
     "execution_count": 80,
     "metadata": {},
     "output_type": "execute_result"
    }
   ],
   "source": [
    "sessionData = pd.read_csv('../input/session_related.csv')\n",
    "sessionData.head()"
   ]
  },
  {
   "cell_type": "markdown",
   "metadata": {},
   "source": [
    "2. Outliers Dataset"
   ]
  },
  {
   "cell_type": "code",
   "execution_count": 81,
   "metadata": {},
   "outputs": [
    {
     "data": {
      "text/html": [
       "<div>\n",
       "<style scoped>\n",
       "    .dataframe tbody tr th:only-of-type {\n",
       "        vertical-align: middle;\n",
       "    }\n",
       "\n",
       "    .dataframe tbody tr th {\n",
       "        vertical-align: top;\n",
       "    }\n",
       "\n",
       "    .dataframe thead th {\n",
       "        text-align: right;\n",
       "    }\n",
       "</style>\n",
       "<table border=\"1\" class=\"dataframe\">\n",
       "  <thead>\n",
       "    <tr style=\"text-align: right;\">\n",
       "      <th></th>\n",
       "      <th>CustId</th>\n",
       "      <th>Age</th>\n",
       "      <th>EmailId</th>\n",
       "      <th>MobileNo</th>\n",
       "      <th>MacAddress</th>\n",
       "      <th>AvgPurchase</th>\n",
       "      <th>City</th>\n",
       "      <th>OccupationalLevel</th>\n",
       "      <th>IncomeLevel</th>\n",
       "      <th>Pincode</th>\n",
       "    </tr>\n",
       "  </thead>\n",
       "  <tbody>\n",
       "    <tr>\n",
       "      <th>0</th>\n",
       "      <td>100</td>\n",
       "      <td>18</td>\n",
       "      <td>WCkD3InDq@gmail.com</td>\n",
       "      <td>4916661116</td>\n",
       "      <td>A7-17-AC-BB-87-09</td>\n",
       "      <td>3580</td>\n",
       "      <td>Baidyanadh Deoghar</td>\n",
       "      <td>Technical</td>\n",
       "      <td>very low</td>\n",
       "      <td>814112</td>\n",
       "    </tr>\n",
       "    <tr>\n",
       "      <th>1</th>\n",
       "      <td>101</td>\n",
       "      <td>18</td>\n",
       "      <td>iPjORQGqy@hotmail.com</td>\n",
       "      <td>8156912083</td>\n",
       "      <td>3D-E0-06-66-01-00</td>\n",
       "      <td>7585</td>\n",
       "      <td>Chakpirang</td>\n",
       "      <td>Non-technical</td>\n",
       "      <td>very low</td>\n",
       "      <td>795102</td>\n",
       "    </tr>\n",
       "    <tr>\n",
       "      <th>2</th>\n",
       "      <td>102</td>\n",
       "      <td>18</td>\n",
       "      <td>ShyCmCDbmB@aol.com</td>\n",
       "      <td>6663941231</td>\n",
       "      <td>3A-DE-69-A8-98-04</td>\n",
       "      <td>4456</td>\n",
       "      <td>Kala pahad</td>\n",
       "      <td>Non-technical</td>\n",
       "      <td>very low</td>\n",
       "      <td>795122</td>\n",
       "    </tr>\n",
       "    <tr>\n",
       "      <th>3</th>\n",
       "      <td>103</td>\n",
       "      <td>18</td>\n",
       "      <td>VdjRDafd@yahoo.com</td>\n",
       "      <td>3761853308</td>\n",
       "      <td>15-74-5C-91-78-E6</td>\n",
       "      <td>91474</td>\n",
       "      <td>Ukhrul</td>\n",
       "      <td>Technical</td>\n",
       "      <td>very high</td>\n",
       "      <td>795142</td>\n",
       "    </tr>\n",
       "    <tr>\n",
       "      <th>4</th>\n",
       "      <td>104</td>\n",
       "      <td>18</td>\n",
       "      <td>rLaKt3AxMK@gmail.com</td>\n",
       "      <td>7391938452</td>\n",
       "      <td>BA-6B-47-85-66-E7</td>\n",
       "      <td>62522</td>\n",
       "      <td>Kulittalai</td>\n",
       "      <td>Non-technical</td>\n",
       "      <td>high</td>\n",
       "      <td>639104</td>\n",
       "    </tr>\n",
       "  </tbody>\n",
       "</table>\n",
       "</div>"
      ],
      "text/plain": [
       "   CustId  Age   ...    IncomeLevel  Pincode\n",
       "0     100   18   ...       very low   814112\n",
       "1     101   18   ...       very low   795102\n",
       "2     102   18   ...       very low   795122\n",
       "3     103   18   ...      very high   795142\n",
       "4     104   18   ...           high   639104\n",
       "\n",
       "[5 rows x 10 columns]"
      ]
     },
     "execution_count": 81,
     "metadata": {},
     "output_type": "execute_result"
    }
   ],
   "source": [
    "genericData = pd.read_csv('../input/generic_outliers_data.csv')\n",
    "genericData.head()"
   ]
  },
  {
   "cell_type": "markdown",
   "metadata": {},
   "source": [
    "3. Delivery Dataset"
   ]
  },
  {
   "cell_type": "code",
   "execution_count": 82,
   "metadata": {},
   "outputs": [
    {
     "data": {
      "text/html": [
       "<div>\n",
       "<style scoped>\n",
       "    .dataframe tbody tr th:only-of-type {\n",
       "        vertical-align: middle;\n",
       "    }\n",
       "\n",
       "    .dataframe tbody tr th {\n",
       "        vertical-align: top;\n",
       "    }\n",
       "\n",
       "    .dataframe thead th {\n",
       "        text-align: right;\n",
       "    }\n",
       "</style>\n",
       "<table border=\"1\" class=\"dataframe\">\n",
       "  <thead>\n",
       "    <tr style=\"text-align: right;\">\n",
       "      <th></th>\n",
       "      <th>CustId</th>\n",
       "      <th>OrderId</th>\n",
       "      <th>ProductId</th>\n",
       "      <th>IsValidAddress</th>\n",
       "      <th>IsAddchangeRecently</th>\n",
       "      <th>IsAddchangeonDel</th>\n",
       "      <th>IsDeliveryRejected</th>\n",
       "      <th>OriginalPrice</th>\n",
       "      <th>PaidPrice</th>\n",
       "      <th>OrderDate</th>\n",
       "      <th>AddressChangeDate</th>\n",
       "      <th>DeliveryDate</th>\n",
       "      <th>ReplacementDate</th>\n",
       "      <th>IsProductConsumable</th>\n",
       "      <th>IsOneTimeUseProduct</th>\n",
       "      <th>IsOfferCodeApplied</th>\n",
       "      <th>Fraud</th>\n",
       "    </tr>\n",
       "  </thead>\n",
       "  <tbody>\n",
       "    <tr>\n",
       "      <th>0</th>\n",
       "      <td>47019</td>\n",
       "      <td>41601</td>\n",
       "      <td>41601</td>\n",
       "      <td>yes</td>\n",
       "      <td>no</td>\n",
       "      <td>yes</td>\n",
       "      <td>yes</td>\n",
       "      <td>2711</td>\n",
       "      <td>2711</td>\n",
       "      <td>25/01/2019</td>\n",
       "      <td>20/11/2018</td>\n",
       "      <td>28/01/2019</td>\n",
       "      <td>01/02/2019</td>\n",
       "      <td>yes</td>\n",
       "      <td>no</td>\n",
       "      <td>no</td>\n",
       "      <td>normal</td>\n",
       "    </tr>\n",
       "    <tr>\n",
       "      <th>1</th>\n",
       "      <td>20242</td>\n",
       "      <td>30352</td>\n",
       "      <td>30352</td>\n",
       "      <td>no</td>\n",
       "      <td>yes</td>\n",
       "      <td>no</td>\n",
       "      <td>no</td>\n",
       "      <td>2713</td>\n",
       "      <td>2710</td>\n",
       "      <td>06/02/2019</td>\n",
       "      <td>03/02/2019</td>\n",
       "      <td>10/02/2019</td>\n",
       "      <td>17/02/2019</td>\n",
       "      <td>yes</td>\n",
       "      <td>yes</td>\n",
       "      <td>no</td>\n",
       "      <td>normal</td>\n",
       "    </tr>\n",
       "    <tr>\n",
       "      <th>2</th>\n",
       "      <td>79619</td>\n",
       "      <td>12328</td>\n",
       "      <td>12328</td>\n",
       "      <td>yes</td>\n",
       "      <td>no</td>\n",
       "      <td>yes</td>\n",
       "      <td>yes</td>\n",
       "      <td>4146</td>\n",
       "      <td>4142</td>\n",
       "      <td>12/01/2019</td>\n",
       "      <td>30/07/2018</td>\n",
       "      <td>22/01/2019</td>\n",
       "      <td>01/02/2019</td>\n",
       "      <td>yes</td>\n",
       "      <td>no</td>\n",
       "      <td>yes</td>\n",
       "      <td>suspicious</td>\n",
       "    </tr>\n",
       "    <tr>\n",
       "      <th>3</th>\n",
       "      <td>80669</td>\n",
       "      <td>19203</td>\n",
       "      <td>19203</td>\n",
       "      <td>yes</td>\n",
       "      <td>no</td>\n",
       "      <td>yes</td>\n",
       "      <td>no</td>\n",
       "      <td>2709</td>\n",
       "      <td>2707</td>\n",
       "      <td>27/03/2019</td>\n",
       "      <td>14/06/2018</td>\n",
       "      <td>03/04/2019</td>\n",
       "      <td>06/04/2019</td>\n",
       "      <td>yes</td>\n",
       "      <td>no</td>\n",
       "      <td>yes</td>\n",
       "      <td>normal</td>\n",
       "    </tr>\n",
       "    <tr>\n",
       "      <th>4</th>\n",
       "      <td>64577</td>\n",
       "      <td>19842</td>\n",
       "      <td>19842</td>\n",
       "      <td>no</td>\n",
       "      <td>no</td>\n",
       "      <td>no</td>\n",
       "      <td>yes</td>\n",
       "      <td>8815</td>\n",
       "      <td>8811</td>\n",
       "      <td>17/01/2019</td>\n",
       "      <td>26/11/2018</td>\n",
       "      <td>21/01/2019</td>\n",
       "      <td>28/01/2019</td>\n",
       "      <td>yes</td>\n",
       "      <td>no</td>\n",
       "      <td>yes</td>\n",
       "      <td>normal</td>\n",
       "    </tr>\n",
       "  </tbody>\n",
       "</table>\n",
       "</div>"
      ],
      "text/plain": [
       "   CustId  OrderId     ...      IsOfferCodeApplied       Fraud\n",
       "0   47019    41601     ...                      no      normal\n",
       "1   20242    30352     ...                      no      normal\n",
       "2   79619    12328     ...                     yes  suspicious\n",
       "3   80669    19203     ...                     yes      normal\n",
       "4   64577    19842     ...                     yes      normal\n",
       "\n",
       "[5 rows x 17 columns]"
      ]
     },
     "execution_count": 82,
     "metadata": {},
     "output_type": "execute_result"
    }
   ],
   "source": [
    "deliveryData = pd.read_csv('../input/delivery_related.csv')\n",
    "deliveryData.head()"
   ]
  },
  {
   "cell_type": "markdown",
   "metadata": {},
   "source": [
    "# Feature Engineering\n",
    "#### Merging of Datasets and Extraction of required features from the given datasets"
   ]
  },
  {
   "cell_type": "code",
   "execution_count": 83,
   "metadata": {},
   "outputs": [],
   "source": [
    "firstmerge = pd.merge(deliveryData,sessionData,on='OrderId')"
   ]
  },
  {
   "cell_type": "code",
   "execution_count": 84,
   "metadata": {},
   "outputs": [
    {
     "data": {
      "text/html": [
       "<div>\n",
       "<style scoped>\n",
       "    .dataframe tbody tr th:only-of-type {\n",
       "        vertical-align: middle;\n",
       "    }\n",
       "\n",
       "    .dataframe tbody tr th {\n",
       "        vertical-align: top;\n",
       "    }\n",
       "\n",
       "    .dataframe thead th {\n",
       "        text-align: right;\n",
       "    }\n",
       "</style>\n",
       "<table border=\"1\" class=\"dataframe\">\n",
       "  <thead>\n",
       "    <tr style=\"text-align: right;\">\n",
       "      <th></th>\n",
       "      <th>CustId</th>\n",
       "      <th>OrderId</th>\n",
       "      <th>ProductId</th>\n",
       "      <th>IsValidAddress</th>\n",
       "      <th>IsAddchangeRecently</th>\n",
       "      <th>IsAddchangeonDel</th>\n",
       "      <th>IsDeliveryRejected</th>\n",
       "      <th>OriginalPrice</th>\n",
       "      <th>PaidPrice</th>\n",
       "      <th>OrderDate</th>\n",
       "      <th>AddressChangeDate</th>\n",
       "      <th>DeliveryDate</th>\n",
       "      <th>ReplacementDate</th>\n",
       "      <th>IsProductConsumable</th>\n",
       "      <th>IsOneTimeUseProduct</th>\n",
       "      <th>IsOfferCodeApplied</th>\n",
       "      <th>Fraud</th>\n",
       "      <th>IP_start_session</th>\n",
       "      <th>IP_end_session</th>\n",
       "      <th>Session_Pincode</th>\n",
       "      <th>Delivery_Pincode</th>\n",
       "      <th>IsValidGeo</th>\n",
       "      <th>Age</th>\n",
       "      <th>EmailId</th>\n",
       "      <th>MobileNo</th>\n",
       "      <th>MacAddress</th>\n",
       "      <th>AvgPurchase</th>\n",
       "      <th>City</th>\n",
       "      <th>OccupationalLevel</th>\n",
       "      <th>IncomeLevel</th>\n",
       "      <th>Pincode</th>\n",
       "    </tr>\n",
       "  </thead>\n",
       "  <tbody>\n",
       "    <tr>\n",
       "      <th>0</th>\n",
       "      <td>47019</td>\n",
       "      <td>41601</td>\n",
       "      <td>41601</td>\n",
       "      <td>yes</td>\n",
       "      <td>no</td>\n",
       "      <td>yes</td>\n",
       "      <td>yes</td>\n",
       "      <td>2711</td>\n",
       "      <td>2711</td>\n",
       "      <td>25/01/2019</td>\n",
       "      <td>20/11/2018</td>\n",
       "      <td>28/01/2019</td>\n",
       "      <td>01/02/2019</td>\n",
       "      <td>yes</td>\n",
       "      <td>no</td>\n",
       "      <td>no</td>\n",
       "      <td>normal</td>\n",
       "      <td>99.55.251.225</td>\n",
       "      <td>99.55.251.225</td>\n",
       "      <td>276001</td>\n",
       "      <td>276001</td>\n",
       "      <td>YES</td>\n",
       "      <td>23</td>\n",
       "      <td>aQGHuxe@yahoo.com</td>\n",
       "      <td>1867946110</td>\n",
       "      <td>1D-BA-45-3F-E5-43</td>\n",
       "      <td>99522</td>\n",
       "      <td>Latur</td>\n",
       "      <td>Non-technical</td>\n",
       "      <td>very high</td>\n",
       "      <td>413512</td>\n",
       "    </tr>\n",
       "    <tr>\n",
       "      <th>1</th>\n",
       "      <td>20242</td>\n",
       "      <td>30352</td>\n",
       "      <td>30352</td>\n",
       "      <td>no</td>\n",
       "      <td>yes</td>\n",
       "      <td>no</td>\n",
       "      <td>no</td>\n",
       "      <td>2713</td>\n",
       "      <td>2710</td>\n",
       "      <td>06/02/2019</td>\n",
       "      <td>03/02/2019</td>\n",
       "      <td>10/02/2019</td>\n",
       "      <td>17/02/2019</td>\n",
       "      <td>yes</td>\n",
       "      <td>yes</td>\n",
       "      <td>no</td>\n",
       "      <td>normal</td>\n",
       "      <td>206.253.101.58</td>\n",
       "      <td>206.253.101.58</td>\n",
       "      <td>505468</td>\n",
       "      <td>505456</td>\n",
       "      <td>YES</td>\n",
       "      <td>18</td>\n",
       "      <td>sej94kG@hotmail.com</td>\n",
       "      <td>9272875375</td>\n",
       "      <td>65-D1-F3-62-F7-44</td>\n",
       "      <td>3491</td>\n",
       "      <td>Mumbai G.P.O.</td>\n",
       "      <td>Non-technical</td>\n",
       "      <td>very low</td>\n",
       "      <td>400001</td>\n",
       "    </tr>\n",
       "    <tr>\n",
       "      <th>2</th>\n",
       "      <td>79619</td>\n",
       "      <td>12328</td>\n",
       "      <td>12328</td>\n",
       "      <td>yes</td>\n",
       "      <td>no</td>\n",
       "      <td>yes</td>\n",
       "      <td>yes</td>\n",
       "      <td>4146</td>\n",
       "      <td>4142</td>\n",
       "      <td>12/01/2019</td>\n",
       "      <td>30/07/2018</td>\n",
       "      <td>22/01/2019</td>\n",
       "      <td>01/02/2019</td>\n",
       "      <td>yes</td>\n",
       "      <td>no</td>\n",
       "      <td>yes</td>\n",
       "      <td>suspicious</td>\n",
       "      <td>151.250.152.84</td>\n",
       "      <td>151.250.152.84</td>\n",
       "      <td>586209</td>\n",
       "      <td>586208</td>\n",
       "      <td>NO</td>\n",
       "      <td>18</td>\n",
       "      <td>HTVm_XUBz@gmail.com</td>\n",
       "      <td>3251871005</td>\n",
       "      <td>DF-6D-BF-6C-23-59</td>\n",
       "      <td>5262</td>\n",
       "      <td>Chhatarpur City</td>\n",
       "      <td>Technical</td>\n",
       "      <td>very low</td>\n",
       "      <td>471001</td>\n",
       "    </tr>\n",
       "    <tr>\n",
       "      <th>3</th>\n",
       "      <td>79619</td>\n",
       "      <td>80750</td>\n",
       "      <td>80750</td>\n",
       "      <td>no</td>\n",
       "      <td>yes</td>\n",
       "      <td>no</td>\n",
       "      <td>no</td>\n",
       "      <td>2662</td>\n",
       "      <td>2662</td>\n",
       "      <td>19/01/2019</td>\n",
       "      <td>15/09/2018</td>\n",
       "      <td>26/01/2019</td>\n",
       "      <td>31/01/2019</td>\n",
       "      <td>yes</td>\n",
       "      <td>yes</td>\n",
       "      <td>yes</td>\n",
       "      <td>normal</td>\n",
       "      <td>4.255.99.237</td>\n",
       "      <td>4.255.179.19</td>\n",
       "      <td>791102</td>\n",
       "      <td>791102</td>\n",
       "      <td>NO</td>\n",
       "      <td>18</td>\n",
       "      <td>HTVm_XUBz@gmail.com</td>\n",
       "      <td>3251871005</td>\n",
       "      <td>DF-6D-BF-6C-23-59</td>\n",
       "      <td>5262</td>\n",
       "      <td>Chhatarpur City</td>\n",
       "      <td>Technical</td>\n",
       "      <td>very low</td>\n",
       "      <td>471001</td>\n",
       "    </tr>\n",
       "    <tr>\n",
       "      <th>4</th>\n",
       "      <td>80669</td>\n",
       "      <td>19203</td>\n",
       "      <td>19203</td>\n",
       "      <td>yes</td>\n",
       "      <td>no</td>\n",
       "      <td>yes</td>\n",
       "      <td>no</td>\n",
       "      <td>2709</td>\n",
       "      <td>2707</td>\n",
       "      <td>27/03/2019</td>\n",
       "      <td>14/06/2018</td>\n",
       "      <td>03/04/2019</td>\n",
       "      <td>06/04/2019</td>\n",
       "      <td>yes</td>\n",
       "      <td>no</td>\n",
       "      <td>yes</td>\n",
       "      <td>normal</td>\n",
       "      <td>91.253.4.00</td>\n",
       "      <td>91.253.4.00</td>\n",
       "      <td>250001</td>\n",
       "      <td>249986</td>\n",
       "      <td>YES</td>\n",
       "      <td>18</td>\n",
       "      <td>dPiRkMo3i@gmail.com</td>\n",
       "      <td>3152175434</td>\n",
       "      <td>49-55-60-A5-F5-2B</td>\n",
       "      <td>4957</td>\n",
       "      <td>Sunamura</td>\n",
       "      <td>Non-technical</td>\n",
       "      <td>very low</td>\n",
       "      <td>799131</td>\n",
       "    </tr>\n",
       "  </tbody>\n",
       "</table>\n",
       "</div>"
      ],
      "text/plain": [
       "   CustId  OrderId  ProductId   ...   OccupationalLevel IncomeLevel Pincode\n",
       "0   47019    41601      41601   ...       Non-technical   very high  413512\n",
       "1   20242    30352      30352   ...       Non-technical    very low  400001\n",
       "2   79619    12328      12328   ...           Technical    very low  471001\n",
       "3   79619    80750      80750   ...           Technical    very low  471001\n",
       "4   80669    19203      19203   ...       Non-technical    very low  799131\n",
       "\n",
       "[5 rows x 31 columns]"
      ]
     },
     "execution_count": 84,
     "metadata": {},
     "output_type": "execute_result"
    }
   ],
   "source": [
    "MergedDataset = pd.merge(firstmerge,genericData,on='CustId')\n",
    "MergedDataset.head()"
   ]
  },
  {
   "cell_type": "code",
   "execution_count": 85,
   "metadata": {},
   "outputs": [],
   "source": [
    "IndependentAttributes = pd.DataFrame()"
   ]
  },
  {
   "cell_type": "markdown",
   "metadata": {},
   "source": [
    "### Discuessed Features as of 26/04/2019\n",
    "\n",
    "#### CustId, OrderId, ProductId, IsValidAddress, IsDeliveryRejected, ReplacementDate, IsOneTimeUseProduct, IsValidGeo, EmailId, MobileNo, MacAddress, AvgPurchase, City, IncomeLevel, Session_Pincode & Fraud"
   ]
  },
  {
   "cell_type": "code",
   "execution_count": 86,
   "metadata": {},
   "outputs": [],
   "source": [
    "CustId = MergedDataset['CustId']\n",
    "OrderId = MergedDataset['OrderId']\n",
    "EmailId = MergedDataset['EmailId']\n",
    "MobileNo = MergedDataset['MobileNo']\n",
    "MacAddress = MergedDataset['MacAddress']\n",
    "AvgPurchase = MergedDataset['AvgPurchase']\n",
    "City = MergedDataset['City']\n",
    "IsValidGeo = MergedDataset['IsValidGeo']\n",
    "IsValidAddress = MergedDataset['IsValidAddress']\n",
    "IsDeliveryRejected = MergedDataset['IsDeliveryRejected']\n",
    "ReplacementDate = MergedDataset['ReplacementDate']\n",
    "IsOneTimeUseProduct = MergedDataset['IsOneTimeUseProduct']\n",
    "Session_Pincode = MergedDataset['Session_Pincode']\n",
    "DeliveryDate = MergedDataset['DeliveryDate']\n",
    "OrderDate = MergedDataset['OrderDate']\n",
    "Fraud = MergedDataset['Fraud']"
   ]
  },
  {
   "cell_type": "code",
   "execution_count": 87,
   "metadata": {},
   "outputs": [],
   "source": [
    "IndependentAttributes['CustId'] = CustId\n",
    "IndependentAttributes['OrderId'] = OrderId\n",
    "IndependentAttributes['EmailId'] = EmailId\n",
    "IndependentAttributes['MobileNo'] = MobileNo\n",
    "IndependentAttributes['MacAddress'] = MacAddress\n",
    "IndependentAttributes['Session_Pincode'] = Session_Pincode\n",
    "IndependentAttributes['AvgPurchase'] = AvgPurchase\n",
    "IndependentAttributes['City'] = City\n",
    "IndependentAttributes['OrderDate'] = OrderDate\n",
    "IndependentAttributes['DeliveryDate'] = DeliveryDate"
   ]
  },
  {
   "cell_type": "code",
   "execution_count": 88,
   "metadata": {},
   "outputs": [],
   "source": [
    "df1 = pd.DataFrame(IndependentAttributes['OrderDate'])\n",
    "df1['DeliveryDate'] = IndependentAttributes['DeliveryDate']\n",
    "df1['OrderDate'] = pd.to_datetime(df1['OrderDate'], format='%d/%m/%Y')\n",
    "df1['DeliveryDate'] = pd.to_datetime(df1['DeliveryDate'], format='%d/%m/%Y')\n",
    "DaysDifference = (df1['DeliveryDate'] - df1['OrderDate'])\n",
    "df1.drop(['DeliveryDate', 'OrderDate'], axis='columns', inplace=True)\n",
    "\n",
    "IndependentAttributes['DaysDifference'] = DaysDifference"
   ]
  },
  {
   "cell_type": "code",
   "execution_count": 89,
   "metadata": {},
   "outputs": [],
   "source": [
    "IndependentAttributes['ReplacementDate'] = ReplacementDate\n",
    "IndependentAttributes['IsDeliveryRejected'] = IsDeliveryRejected\n",
    "IndependentAttributes['IsOneTimeUseProduct'] = IsOneTimeUseProduct\n",
    "IndependentAttributes['IsValidAddress'] = IsValidAddress\n",
    "IndependentAttributes['IsValidGeo'] = IsValidGeo\n",
    "IndependentAttributes['Fraud'] = Fraud"
   ]
  },
  {
   "cell_type": "code",
   "execution_count": 90,
   "metadata": {},
   "outputs": [
    {
     "data": {
      "text/html": [
       "<div>\n",
       "<style scoped>\n",
       "    .dataframe tbody tr th:only-of-type {\n",
       "        vertical-align: middle;\n",
       "    }\n",
       "\n",
       "    .dataframe tbody tr th {\n",
       "        vertical-align: top;\n",
       "    }\n",
       "\n",
       "    .dataframe thead th {\n",
       "        text-align: right;\n",
       "    }\n",
       "</style>\n",
       "<table border=\"1\" class=\"dataframe\">\n",
       "  <thead>\n",
       "    <tr style=\"text-align: right;\">\n",
       "      <th></th>\n",
       "      <th>CustId</th>\n",
       "      <th>OrderId</th>\n",
       "      <th>EmailId</th>\n",
       "      <th>MobileNo</th>\n",
       "      <th>MacAddress</th>\n",
       "      <th>Session_Pincode</th>\n",
       "      <th>AvgPurchase</th>\n",
       "      <th>City</th>\n",
       "      <th>OrderDate</th>\n",
       "      <th>DeliveryDate</th>\n",
       "      <th>DaysDifference</th>\n",
       "      <th>ReplacementDate</th>\n",
       "      <th>IsDeliveryRejected</th>\n",
       "      <th>IsOneTimeUseProduct</th>\n",
       "      <th>IsValidAddress</th>\n",
       "      <th>IsValidGeo</th>\n",
       "      <th>Fraud</th>\n",
       "    </tr>\n",
       "  </thead>\n",
       "  <tbody>\n",
       "    <tr>\n",
       "      <th>0</th>\n",
       "      <td>47019</td>\n",
       "      <td>41601</td>\n",
       "      <td>aQGHuxe@yahoo.com</td>\n",
       "      <td>1867946110</td>\n",
       "      <td>1D-BA-45-3F-E5-43</td>\n",
       "      <td>276001</td>\n",
       "      <td>99522</td>\n",
       "      <td>Latur</td>\n",
       "      <td>25/01/2019</td>\n",
       "      <td>28/01/2019</td>\n",
       "      <td>3 days</td>\n",
       "      <td>01/02/2019</td>\n",
       "      <td>yes</td>\n",
       "      <td>no</td>\n",
       "      <td>yes</td>\n",
       "      <td>YES</td>\n",
       "      <td>normal</td>\n",
       "    </tr>\n",
       "    <tr>\n",
       "      <th>1</th>\n",
       "      <td>20242</td>\n",
       "      <td>30352</td>\n",
       "      <td>sej94kG@hotmail.com</td>\n",
       "      <td>9272875375</td>\n",
       "      <td>65-D1-F3-62-F7-44</td>\n",
       "      <td>505468</td>\n",
       "      <td>3491</td>\n",
       "      <td>Mumbai G.P.O.</td>\n",
       "      <td>06/02/2019</td>\n",
       "      <td>10/02/2019</td>\n",
       "      <td>4 days</td>\n",
       "      <td>17/02/2019</td>\n",
       "      <td>no</td>\n",
       "      <td>yes</td>\n",
       "      <td>no</td>\n",
       "      <td>YES</td>\n",
       "      <td>normal</td>\n",
       "    </tr>\n",
       "    <tr>\n",
       "      <th>2</th>\n",
       "      <td>79619</td>\n",
       "      <td>12328</td>\n",
       "      <td>HTVm_XUBz@gmail.com</td>\n",
       "      <td>3251871005</td>\n",
       "      <td>DF-6D-BF-6C-23-59</td>\n",
       "      <td>586209</td>\n",
       "      <td>5262</td>\n",
       "      <td>Chhatarpur City</td>\n",
       "      <td>12/01/2019</td>\n",
       "      <td>22/01/2019</td>\n",
       "      <td>10 days</td>\n",
       "      <td>01/02/2019</td>\n",
       "      <td>yes</td>\n",
       "      <td>no</td>\n",
       "      <td>yes</td>\n",
       "      <td>NO</td>\n",
       "      <td>suspicious</td>\n",
       "    </tr>\n",
       "    <tr>\n",
       "      <th>3</th>\n",
       "      <td>79619</td>\n",
       "      <td>80750</td>\n",
       "      <td>HTVm_XUBz@gmail.com</td>\n",
       "      <td>3251871005</td>\n",
       "      <td>DF-6D-BF-6C-23-59</td>\n",
       "      <td>791102</td>\n",
       "      <td>5262</td>\n",
       "      <td>Chhatarpur City</td>\n",
       "      <td>19/01/2019</td>\n",
       "      <td>26/01/2019</td>\n",
       "      <td>7 days</td>\n",
       "      <td>31/01/2019</td>\n",
       "      <td>no</td>\n",
       "      <td>yes</td>\n",
       "      <td>no</td>\n",
       "      <td>NO</td>\n",
       "      <td>normal</td>\n",
       "    </tr>\n",
       "    <tr>\n",
       "      <th>4</th>\n",
       "      <td>80669</td>\n",
       "      <td>19203</td>\n",
       "      <td>dPiRkMo3i@gmail.com</td>\n",
       "      <td>3152175434</td>\n",
       "      <td>49-55-60-A5-F5-2B</td>\n",
       "      <td>250001</td>\n",
       "      <td>4957</td>\n",
       "      <td>Sunamura</td>\n",
       "      <td>27/03/2019</td>\n",
       "      <td>03/04/2019</td>\n",
       "      <td>7 days</td>\n",
       "      <td>06/04/2019</td>\n",
       "      <td>no</td>\n",
       "      <td>no</td>\n",
       "      <td>yes</td>\n",
       "      <td>YES</td>\n",
       "      <td>normal</td>\n",
       "    </tr>\n",
       "  </tbody>\n",
       "</table>\n",
       "</div>"
      ],
      "text/plain": [
       "   CustId  OrderId     ...     IsValidGeo       Fraud\n",
       "0   47019    41601     ...            YES      normal\n",
       "1   20242    30352     ...            YES      normal\n",
       "2   79619    12328     ...             NO  suspicious\n",
       "3   79619    80750     ...             NO      normal\n",
       "4   80669    19203     ...            YES      normal\n",
       "\n",
       "[5 rows x 17 columns]"
      ]
     },
     "execution_count": 90,
     "metadata": {},
     "output_type": "execute_result"
    }
   ],
   "source": [
    "IndependentAttributes.head()"
   ]
  },
  {
   "cell_type": "markdown",
   "metadata": {},
   "source": [
    "# Data Cleaning\n",
    "#### 1. Replacing yes/no with 1/0"
   ]
  },
  {
   "cell_type": "code",
   "execution_count": 91,
   "metadata": {},
   "outputs": [],
   "source": [
    "IndependentAttributes.IsDeliveryRejected.replace(('yes', 'no'), (1, 0), inplace=True)\n",
    "IndependentAttributes.IsOneTimeUseProduct.replace(('yes', 'no'), (1, 0), inplace=True)\n",
    "IndependentAttributes.IsValidGeo.replace(('YES', 'NO'), (1, 0), inplace=True)\n",
    "IndependentAttributes.IsValidAddress.replace(('yes', 'no'), (1, 0), inplace=True)\n",
    "IndependentAttributes.Fraud.replace(('normal', 'suspicious', 'fraudulent'), (0, 1, 1), inplace=True)"
   ]
  },
  {
   "cell_type": "markdown",
   "metadata": {},
   "source": [
    "#### 2. Refinements in MacAddress, Dates, etc"
   ]
  },
  {
   "cell_type": "code",
   "execution_count": 92,
   "metadata": {},
   "outputs": [],
   "source": [
    "IndependentAttributes.MacAddress.replace(regex=r'-', value='', inplace=True)"
   ]
  },
  {
   "cell_type": "code",
   "execution_count": 93,
   "metadata": {},
   "outputs": [],
   "source": [
    "IndependentAttributes.DeliveryDate.replace(regex=r'/', value='-', inplace=True)\n",
    "IndependentAttributes.OrderDate.replace(regex=r'/', value='-', inplace=True)\n",
    "IndependentAttributes.ReplacementDate.replace(regex=r'/', value='-', inplace=True)"
   ]
  },
  {
   "cell_type": "code",
   "execution_count": 94,
   "metadata": {},
   "outputs": [],
   "source": [
    "IndependentAttributes['DaysDifference'] = IndependentAttributes.DaysDifference.dt.days"
   ]
  },
  {
   "cell_type": "code",
   "execution_count": 95,
   "metadata": {},
   "outputs": [
    {
     "data": {
      "text/html": [
       "<div>\n",
       "<style scoped>\n",
       "    .dataframe tbody tr th:only-of-type {\n",
       "        vertical-align: middle;\n",
       "    }\n",
       "\n",
       "    .dataframe tbody tr th {\n",
       "        vertical-align: top;\n",
       "    }\n",
       "\n",
       "    .dataframe thead th {\n",
       "        text-align: right;\n",
       "    }\n",
       "</style>\n",
       "<table border=\"1\" class=\"dataframe\">\n",
       "  <thead>\n",
       "    <tr style=\"text-align: right;\">\n",
       "      <th></th>\n",
       "      <th>CustId</th>\n",
       "      <th>OrderId</th>\n",
       "      <th>EmailId</th>\n",
       "      <th>MobileNo</th>\n",
       "      <th>MacAddress</th>\n",
       "      <th>Session_Pincode</th>\n",
       "      <th>AvgPurchase</th>\n",
       "      <th>City</th>\n",
       "      <th>OrderDate</th>\n",
       "      <th>DeliveryDate</th>\n",
       "      <th>DaysDifference</th>\n",
       "      <th>ReplacementDate</th>\n",
       "      <th>IsDeliveryRejected</th>\n",
       "      <th>IsOneTimeUseProduct</th>\n",
       "      <th>IsValidAddress</th>\n",
       "      <th>IsValidGeo</th>\n",
       "      <th>Fraud</th>\n",
       "    </tr>\n",
       "  </thead>\n",
       "  <tbody>\n",
       "    <tr>\n",
       "      <th>0</th>\n",
       "      <td>47019</td>\n",
       "      <td>41601</td>\n",
       "      <td>aQGHuxe@yahoo.com</td>\n",
       "      <td>1867946110</td>\n",
       "      <td>1DBA453FE543</td>\n",
       "      <td>276001</td>\n",
       "      <td>99522</td>\n",
       "      <td>Latur</td>\n",
       "      <td>25-01-2019</td>\n",
       "      <td>28-01-2019</td>\n",
       "      <td>3</td>\n",
       "      <td>01-02-2019</td>\n",
       "      <td>1</td>\n",
       "      <td>0</td>\n",
       "      <td>1</td>\n",
       "      <td>1</td>\n",
       "      <td>0</td>\n",
       "    </tr>\n",
       "    <tr>\n",
       "      <th>1</th>\n",
       "      <td>20242</td>\n",
       "      <td>30352</td>\n",
       "      <td>sej94kG@hotmail.com</td>\n",
       "      <td>9272875375</td>\n",
       "      <td>65D1F362F744</td>\n",
       "      <td>505468</td>\n",
       "      <td>3491</td>\n",
       "      <td>Mumbai G.P.O.</td>\n",
       "      <td>06-02-2019</td>\n",
       "      <td>10-02-2019</td>\n",
       "      <td>4</td>\n",
       "      <td>17-02-2019</td>\n",
       "      <td>0</td>\n",
       "      <td>1</td>\n",
       "      <td>0</td>\n",
       "      <td>1</td>\n",
       "      <td>0</td>\n",
       "    </tr>\n",
       "    <tr>\n",
       "      <th>2</th>\n",
       "      <td>79619</td>\n",
       "      <td>12328</td>\n",
       "      <td>HTVm_XUBz@gmail.com</td>\n",
       "      <td>3251871005</td>\n",
       "      <td>DF6DBF6C2359</td>\n",
       "      <td>586209</td>\n",
       "      <td>5262</td>\n",
       "      <td>Chhatarpur City</td>\n",
       "      <td>12-01-2019</td>\n",
       "      <td>22-01-2019</td>\n",
       "      <td>10</td>\n",
       "      <td>01-02-2019</td>\n",
       "      <td>1</td>\n",
       "      <td>0</td>\n",
       "      <td>1</td>\n",
       "      <td>0</td>\n",
       "      <td>1</td>\n",
       "    </tr>\n",
       "    <tr>\n",
       "      <th>3</th>\n",
       "      <td>79619</td>\n",
       "      <td>80750</td>\n",
       "      <td>HTVm_XUBz@gmail.com</td>\n",
       "      <td>3251871005</td>\n",
       "      <td>DF6DBF6C2359</td>\n",
       "      <td>791102</td>\n",
       "      <td>5262</td>\n",
       "      <td>Chhatarpur City</td>\n",
       "      <td>19-01-2019</td>\n",
       "      <td>26-01-2019</td>\n",
       "      <td>7</td>\n",
       "      <td>31-01-2019</td>\n",
       "      <td>0</td>\n",
       "      <td>1</td>\n",
       "      <td>0</td>\n",
       "      <td>0</td>\n",
       "      <td>0</td>\n",
       "    </tr>\n",
       "    <tr>\n",
       "      <th>4</th>\n",
       "      <td>80669</td>\n",
       "      <td>19203</td>\n",
       "      <td>dPiRkMo3i@gmail.com</td>\n",
       "      <td>3152175434</td>\n",
       "      <td>495560A5F52B</td>\n",
       "      <td>250001</td>\n",
       "      <td>4957</td>\n",
       "      <td>Sunamura</td>\n",
       "      <td>27-03-2019</td>\n",
       "      <td>03-04-2019</td>\n",
       "      <td>7</td>\n",
       "      <td>06-04-2019</td>\n",
       "      <td>0</td>\n",
       "      <td>0</td>\n",
       "      <td>1</td>\n",
       "      <td>1</td>\n",
       "      <td>0</td>\n",
       "    </tr>\n",
       "  </tbody>\n",
       "</table>\n",
       "</div>"
      ],
      "text/plain": [
       "   CustId  OrderId  ...   IsValidGeo  Fraud\n",
       "0   47019    41601  ...            1      0\n",
       "1   20242    30352  ...            1      0\n",
       "2   79619    12328  ...            0      1\n",
       "3   79619    80750  ...            0      0\n",
       "4   80669    19203  ...            1      0\n",
       "\n",
       "[5 rows x 17 columns]"
      ]
     },
     "execution_count": 95,
     "metadata": {},
     "output_type": "execute_result"
    }
   ],
   "source": [
    "IndependentAttributes.head()"
   ]
  },
  {
   "cell_type": "markdown",
   "metadata": {},
   "source": [
    "# Feature Engineering\n",
    "#### 1. Memory Usage Optimization"
   ]
  },
  {
   "cell_type": "code",
   "execution_count": 96,
   "metadata": {},
   "outputs": [
    {
     "data": {
      "text/plain": [
       "CustId                  int64\n",
       "OrderId                 int64\n",
       "EmailId                object\n",
       "MobileNo                int64\n",
       "MacAddress             object\n",
       "Session_Pincode         int64\n",
       "AvgPurchase             int64\n",
       "City                   object\n",
       "OrderDate              object\n",
       "DeliveryDate           object\n",
       "DaysDifference          int64\n",
       "ReplacementDate        object\n",
       "IsDeliveryRejected      int64\n",
       "IsOneTimeUseProduct     int64\n",
       "IsValidAddress          int64\n",
       "IsValidGeo              int64\n",
       "Fraud                   int64\n",
       "dtype: object"
      ]
     },
     "execution_count": 96,
     "metadata": {},
     "output_type": "execute_result"
    }
   ],
   "source": [
    "IndependentAttributes.dtypes"
   ]
  },
  {
   "cell_type": "code",
   "execution_count": 97,
   "metadata": {},
   "outputs": [],
   "source": [
    "def reduce_mem_usage(df):\n",
    "    \"\"\" iterate through all the columns of a dataframe and modify the data type\n",
    "        to reduce memory usage.        \n",
    "    \"\"\"\n",
    "    start_mem = df.memory_usage().sum() / 1024**2\n",
    "    print('Memory usage of dataframe is {:.2f} MB'.format(start_mem))\n",
    "    \n",
    "    for col in df.columns:\n",
    "        col_type = df[col].dtype\n",
    "        \n",
    "        if col_type != object:\n",
    "            c_min = df[col].min()\n",
    "            c_max = df[col].max()\n",
    "            if str(col_type)[:3] == 'int':\n",
    "                if c_min > np.iinfo(np.int8).min and c_max < np.iinfo(np.int8).max:\n",
    "                    df[col] = df[col].astype(np.int8)\n",
    "                elif c_min > np.iinfo(np.int16).min and c_max < np.iinfo(np.int16).max:\n",
    "                    df[col] = df[col].astype(np.int16)\n",
    "                elif c_min > np.iinfo(np.int32).min and c_max < np.iinfo(np.int32).max:\n",
    "                    df[col] = df[col].astype(np.int32)\n",
    "                elif c_min > np.iinfo(np.int64).min and c_max < np.iinfo(np.int64).max:\n",
    "                    df[col] = df[col].astype(np.int64)  \n",
    "            else:\n",
    "                if c_min > np.finfo(np.float16).min and c_max < np.finfo(np.float16).max:\n",
    "                    df[col] = df[col].astype(np.float16)\n",
    "                elif c_min > np.finfo(np.float32).min and c_max < np.finfo(np.float32).max:\n",
    "                    df[col] = df[col].astype(np.float32)\n",
    "                else:\n",
    "                    df[col] = df[col].astype(np.float64)\n",
    "        else:\n",
    "            df[col] = df[col].astype('category')\n",
    "\n",
    "    end_mem = df.memory_usage().sum() / 1024**2\n",
    "    print('Memory usage after optimization is: {:.2f} MB'.format(end_mem))\n",
    "    print('Decreased by {:.1f}%'.format(100 * (start_mem - end_mem) / start_mem))\n",
    "    \n",
    "    return df"
   ]
  },
  {
   "cell_type": "code",
   "execution_count": 98,
   "metadata": {},
   "outputs": [
    {
     "name": "stdout",
     "output_type": "stream",
     "text": [
      "Memory usage of dataframe is 13.73 MB\n",
      "Memory usage after optimization is: 10.89 MB\n",
      "Decreased by 20.7%\n"
     ]
    }
   ],
   "source": [
    "df = pd.DataFrame() \n",
    "df = reduce_mem_usage(IndependentAttributes)  "
   ]
  },
  {
   "cell_type": "code",
   "execution_count": 99,
   "metadata": {},
   "outputs": [
    {
     "data": {
      "text/plain": [
       "CustId                    int32\n",
       "OrderId                   int32\n",
       "EmailId                category\n",
       "MobileNo                  int64\n",
       "MacAddress             category\n",
       "Session_Pincode           int32\n",
       "AvgPurchase               int32\n",
       "City                   category\n",
       "OrderDate              category\n",
       "DeliveryDate           category\n",
       "DaysDifference             int8\n",
       "ReplacementDate        category\n",
       "IsDeliveryRejected         int8\n",
       "IsOneTimeUseProduct        int8\n",
       "IsValidAddress             int8\n",
       "IsValidGeo                 int8\n",
       "Fraud                      int8\n",
       "dtype: object"
      ]
     },
     "execution_count": 99,
     "metadata": {},
     "output_type": "execute_result"
    }
   ],
   "source": [
    "df.dtypes"
   ]
  },
  {
   "cell_type": "markdown",
   "metadata": {},
   "source": [
    "#### 2. Exploratory Data Analysis\n",
    "#### describe() method shows values like count, mean, standard deviation, etc. of numeric data types."
   ]
  },
  {
   "cell_type": "code",
   "execution_count": 100,
   "metadata": {},
   "outputs": [
    {
     "data": {
      "text/html": [
       "<div>\n",
       "<style scoped>\n",
       "    .dataframe tbody tr th:only-of-type {\n",
       "        vertical-align: middle;\n",
       "    }\n",
       "\n",
       "    .dataframe tbody tr th {\n",
       "        vertical-align: top;\n",
       "    }\n",
       "\n",
       "    .dataframe thead th {\n",
       "        text-align: right;\n",
       "    }\n",
       "</style>\n",
       "<table border=\"1\" class=\"dataframe\">\n",
       "  <thead>\n",
       "    <tr style=\"text-align: right;\">\n",
       "      <th></th>\n",
       "      <th>CustId</th>\n",
       "      <th>OrderId</th>\n",
       "      <th>MobileNo</th>\n",
       "      <th>Session_Pincode</th>\n",
       "      <th>AvgPurchase</th>\n",
       "      <th>DaysDifference</th>\n",
       "      <th>IsDeliveryRejected</th>\n",
       "      <th>IsOneTimeUseProduct</th>\n",
       "      <th>IsValidAddress</th>\n",
       "      <th>IsValidGeo</th>\n",
       "      <th>Fraud</th>\n",
       "    </tr>\n",
       "  </thead>\n",
       "  <tbody>\n",
       "    <tr>\n",
       "      <th>count</th>\n",
       "      <td>100000.00000</td>\n",
       "      <td>100000.000000</td>\n",
       "      <td>1.000000e+05</td>\n",
       "      <td>100000.00000</td>\n",
       "      <td>100000.000000</td>\n",
       "      <td>100000.000000</td>\n",
       "      <td>100000.00000</td>\n",
       "      <td>100000.000000</td>\n",
       "      <td>100000.000000</td>\n",
       "      <td>100000.00000</td>\n",
       "      <td>100000.00000</td>\n",
       "    </tr>\n",
       "    <tr>\n",
       "      <th>mean</th>\n",
       "      <td>50076.51905</td>\n",
       "      <td>50099.500000</td>\n",
       "      <td>5.489625e+09</td>\n",
       "      <td>563983.98808</td>\n",
       "      <td>30194.418070</td>\n",
       "      <td>6.506040</td>\n",
       "      <td>0.50154</td>\n",
       "      <td>0.499670</td>\n",
       "      <td>0.499900</td>\n",
       "      <td>0.50162</td>\n",
       "      <td>0.30000</td>\n",
       "    </tr>\n",
       "    <tr>\n",
       "      <th>std</th>\n",
       "      <td>28810.89187</td>\n",
       "      <td>28867.657797</td>\n",
       "      <td>2.594212e+09</td>\n",
       "      <td>205918.85053</td>\n",
       "      <td>30912.551998</td>\n",
       "      <td>2.288107</td>\n",
       "      <td>0.50000</td>\n",
       "      <td>0.500002</td>\n",
       "      <td>0.500002</td>\n",
       "      <td>0.50000</td>\n",
       "      <td>0.45826</td>\n",
       "    </tr>\n",
       "    <tr>\n",
       "      <th>min</th>\n",
       "      <td>100.00000</td>\n",
       "      <td>100.000000</td>\n",
       "      <td>1.000380e+09</td>\n",
       "      <td>121001.00000</td>\n",
       "      <td>1000.000000</td>\n",
       "      <td>3.000000</td>\n",
       "      <td>0.00000</td>\n",
       "      <td>0.000000</td>\n",
       "      <td>0.000000</td>\n",
       "      <td>0.00000</td>\n",
       "      <td>0.00000</td>\n",
       "    </tr>\n",
       "    <tr>\n",
       "      <th>25%</th>\n",
       "      <td>25177.00000</td>\n",
       "      <td>25099.750000</td>\n",
       "      <td>3.249997e+09</td>\n",
       "      <td>403705.00000</td>\n",
       "      <td>5524.000000</td>\n",
       "      <td>5.000000</td>\n",
       "      <td>0.00000</td>\n",
       "      <td>0.000000</td>\n",
       "      <td>0.000000</td>\n",
       "      <td>0.00000</td>\n",
       "      <td>0.00000</td>\n",
       "    </tr>\n",
       "    <tr>\n",
       "      <th>50%</th>\n",
       "      <td>50051.50000</td>\n",
       "      <td>50099.500000</td>\n",
       "      <td>5.478894e+09</td>\n",
       "      <td>585201.00000</td>\n",
       "      <td>9968.000000</td>\n",
       "      <td>7.000000</td>\n",
       "      <td>1.00000</td>\n",
       "      <td>0.000000</td>\n",
       "      <td>0.000000</td>\n",
       "      <td>1.00000</td>\n",
       "      <td>0.00000</td>\n",
       "    </tr>\n",
       "    <tr>\n",
       "      <th>75%</th>\n",
       "      <td>75043.00000</td>\n",
       "      <td>75099.250000</td>\n",
       "      <td>7.728095e+09</td>\n",
       "      <td>786125.00000</td>\n",
       "      <td>55079.250000</td>\n",
       "      <td>9.000000</td>\n",
       "      <td>1.00000</td>\n",
       "      <td>1.000000</td>\n",
       "      <td>1.000000</td>\n",
       "      <td>1.00000</td>\n",
       "      <td>1.00000</td>\n",
       "    </tr>\n",
       "    <tr>\n",
       "      <th>max</th>\n",
       "      <td>100097.00000</td>\n",
       "      <td>100099.000000</td>\n",
       "      <td>9.999763e+09</td>\n",
       "      <td>854301.00000</td>\n",
       "      <td>99999.000000</td>\n",
       "      <td>10.000000</td>\n",
       "      <td>1.00000</td>\n",
       "      <td>1.000000</td>\n",
       "      <td>1.000000</td>\n",
       "      <td>1.00000</td>\n",
       "      <td>1.00000</td>\n",
       "    </tr>\n",
       "  </tbody>\n",
       "</table>\n",
       "</div>"
      ],
      "text/plain": [
       "             CustId        OrderId      ...         IsValidGeo         Fraud\n",
       "count  100000.00000  100000.000000      ...       100000.00000  100000.00000\n",
       "mean    50076.51905   50099.500000      ...            0.50162       0.30000\n",
       "std     28810.89187   28867.657797      ...            0.50000       0.45826\n",
       "min       100.00000     100.000000      ...            0.00000       0.00000\n",
       "25%     25177.00000   25099.750000      ...            0.00000       0.00000\n",
       "50%     50051.50000   50099.500000      ...            1.00000       0.00000\n",
       "75%     75043.00000   75099.250000      ...            1.00000       1.00000\n",
       "max    100097.00000  100099.000000      ...            1.00000       1.00000\n",
       "\n",
       "[8 rows x 11 columns]"
      ]
     },
     "execution_count": 100,
     "metadata": {},
     "output_type": "execute_result"
    }
   ],
   "source": [
    "df.describe()"
   ]
  },
  {
   "cell_type": "markdown",
   "metadata": {},
   "source": [
    "#### Get the total missing values present in columns of both train and test dataset"
   ]
  },
  {
   "cell_type": "code",
   "execution_count": 101,
   "metadata": {},
   "outputs": [
    {
     "data": {
      "text/plain": [
       "CustId                 0\n",
       "OrderId                0\n",
       "EmailId                0\n",
       "MobileNo               0\n",
       "MacAddress             0\n",
       "Session_Pincode        0\n",
       "AvgPurchase            0\n",
       "City                   0\n",
       "OrderDate              0\n",
       "DeliveryDate           0\n",
       "DaysDifference         0\n",
       "ReplacementDate        0\n",
       "IsDeliveryRejected     0\n",
       "IsOneTimeUseProduct    0\n",
       "IsValidAddress         0\n",
       "IsValidGeo             0\n",
       "Fraud                  0\n",
       "dtype: int64"
      ]
     },
     "execution_count": 101,
     "metadata": {},
     "output_type": "execute_result"
    }
   ],
   "source": [
    "df.isnull().sum()"
   ]
  },
  {
   "cell_type": "code",
   "execution_count": 102,
   "metadata": {},
   "outputs": [
    {
     "name": "stdout",
     "output_type": "stream",
     "text": [
      "---------------------------\n",
      "From the training dataset:\n",
      "---------------------------\n",
      "  Total Customers : 100000\n",
      "\n",
      "  Total Normal transactions  : 70000\n",
      "  Normal transactions Rate   : 70 % \n",
      "-------------------------\n",
      "  Fraudulent transactions         : 30000\n",
      "  Fraudulent transactions Rate    : 30 % \n",
      "-------------------------\n"
     ]
    }
   ],
   "source": [
    "Fraud_txn = df[df['Fraud']== 1]\n",
    "normal_txn = df[df['Fraud']== 0]\n",
    "\n",
    "print(\"---------------------------\")\n",
    "print(\"From the training dataset:\")\n",
    "print(\"---------------------------\")\n",
    "print(\"  Total Customers : %i\"\\\n",
    "      %(len(df)))\n",
    "print(\"\")\n",
    "print(\"  Total Normal transactions  : %i\"\\\n",
    "      %(len(normal_txn)))\n",
    "\n",
    "print(\"  Normal transactions Rate   : %i %% \"\\\n",
    "     % (1.*len(normal_txn)/len(df)*100.0))\n",
    "print(\"-------------------------\")\n",
    "\n",
    "print(\"  Fraudulent transactions         : %i\"\\\n",
    "      %(len(Fraud_txn)))\n",
    "\n",
    "print(\"  Fraudulent transactions Rate    : %i %% \"\\\n",
    "     % (1.*len(Fraud_txn)/len(df)*100.0))\n",
    "print(\"-------------------------\")"
   ]
  },
  {
   "cell_type": "markdown",
   "metadata": {},
   "source": [
    "# **Observations:**\n",
    "\n",
    "From the dataset we get to know the below details:\n",
    "* There is no missing data.\n",
    "* Out of 100000 customers, 70% of the transactions are normal.\n",
    "* 25% of them Fraud transactions.\n",
    "\n",
    "For the next step we will try to **visualize the data.**\n",
    "\n",
    "Visualizing the data helps us understanding the data better and this will help us in getting the dataset well prepared for the Model training."
   ]
  },
  {
   "cell_type": "markdown",
   "metadata": {},
   "source": [
    "#### Data Visualization\n",
    "\n",
    "Below is the function **\"bar_chart\"** which will take in a feature as a parameter and provide us the bar chart.\n",
    "\n",
    "The Bar chart will show how the **transaction type** varies with different features and its subtypes."
   ]
  },
  {
   "cell_type": "code",
   "execution_count": 103,
   "metadata": {},
   "outputs": [],
   "source": [
    "def bar_chart(feature):\n",
    "    normal = df[df['Fraud']== 0][feature].value_counts()     \n",
    "    Fraud = df[df['Fraud']== 1][feature].value_counts()\n",
    "    bar_df = pd.DataFrame([normal,Fraud])\n",
    "    bar_df.index = ['Normal', 'Fraudulent']\n",
    "    bar_df.plot(kind='bar',stacked=True, figsize=(7,5))"
   ]
  },
  {
   "cell_type": "markdown",
   "metadata": {},
   "source": [
    "#### Relationship between Features and Target Variable\n",
    "Now in the below section we are going to see how each features impacts the transaction type of a customer."
   ]
  },
  {
   "cell_type": "code",
   "execution_count": 104,
   "metadata": {},
   "outputs": [],
   "source": [
    "def feature_relationship(feature):\n",
    "    print(df[feature].value_counts())\n",
    "    print('--------------------------------------')\n",
    "    print(df.groupby(feature).Fraud.value_counts())\n",
    "    bar_chart(feature)"
   ]
  },
  {
   "cell_type": "code",
   "execution_count": 105,
   "metadata": {},
   "outputs": [
    {
     "name": "stdout",
     "output_type": "stream",
     "text": [
      "0    50010\n",
      "1    49990\n",
      "Name: IsValidAddress, dtype: int64\n",
      "--------------------------------------\n",
      "IsValidAddress  Fraud\n",
      "0               0        34802\n",
      "                1        15208\n",
      "1               0        35198\n",
      "                1        14792\n",
      "Name: Fraud, dtype: int64\n"
     ]
    },
    {
     "data": {
      "image/png": "[encoded data removed]",
      "text/plain": [
       "<Figure size 504x360 with 1 Axes>"
      ]
     },
     "metadata": {},
     "output_type": "display_data"
    }
   ],
   "source": [
    "feature_relationship('IsValidAddress')"
   ]
  },
  {
   "cell_type": "code",
   "execution_count": 106,
   "metadata": {},
   "outputs": [
    {
     "name": "stdout",
     "output_type": "stream",
     "text": [
      "1    50154\n",
      "0    49846\n",
      "Name: IsDeliveryRejected, dtype: int64\n",
      "--------------------------------------\n",
      "IsDeliveryRejected  Fraud\n",
      "0                   0        34838\n",
      "                    1        15008\n",
      "1                   0        35162\n",
      "                    1        14992\n",
      "Name: Fraud, dtype: int64\n"
     ]
    },
    {
     "data": {
      "image/png": "[encoded data removed]",
      "text/plain": [
       "<Figure size 504x360 with 1 Axes>"
      ]
     },
     "metadata": {},
     "output_type": "display_data"
    }
   ],
   "source": [
    "feature_relationship('IsDeliveryRejected') "
   ]
  },
  {
   "cell_type": "markdown",
   "metadata": {},
   "source": [
    "### Correlating Features"
   ]
  },
  {
   "cell_type": "code",
   "execution_count": 107,
   "metadata": {},
   "outputs": [
    {
     "data": {
      "text/plain": [
       "<Figure size 1080x432 with 0 Axes>"
      ]
     },
     "metadata": {},
     "output_type": "display_data"
    }
   ],
   "source": [
    "plt.figure(figsize=(15,6))\n",
    "plt.show()"
   ]
  },
  {
   "cell_type": "markdown",
   "metadata": {},
   "source": [
    "### Histogram for each parameter"
   ]
  },
  {
   "cell_type": "code",
   "execution_count": 108,
   "metadata": {},
   "outputs": [
    {
     "data": {
      "image/png": "[encoded data removed]",
      "text/plain": [
       "<Figure size 1440x1440 with 12 Axes>"
      ]
     },
     "metadata": {},
     "output_type": "display_data"
    }
   ],
   "source": [
    "df.hist(figsize=(20,20))\n",
    "plt.show()"
   ]
  },
  {
   "cell_type": "code",
   "execution_count": 109,
   "metadata": {},
   "outputs": [],
   "source": [
    "from sklearn.preprocessing import LabelEncoder\n",
    "categorical = ['IsValidAddress','IsDeliveryRejected','IsOneTimeUseProduct','IsValidGeo','City']\n",
    "\n",
    "label_encoder = LabelEncoder()\n",
    "for col in categorical:\n",
    "    df[col] = label_encoder.fit_transform(df[col].astype(str))\n",
    "\n",
    "df=df.iloc[:df.shape[0]]"
   ]
  },
  {
   "cell_type": "code",
   "execution_count": 110,
   "metadata": {},
   "outputs": [
    {
     "name": "stderr",
     "output_type": "stream",
     "text": [
      "/opt/conda/lib/python3.6/site-packages/ipykernel_launcher.py:1: SettingWithCopyWarning: \n",
      "A value is trying to be set on a copy of a slice from a DataFrame.\n",
      "Try using .loc[row_indexer,col_indexer] = value instead\n",
      "\n",
      "See the caveats in the documentation: http://pandas.pydata.org/pandas-docs/stable/indexing.html#indexing-view-versus-copy\n",
      "  \"\"\"Entry point for launching an IPython kernel.\n"
     ]
    },
    {
     "data": {
      "text/html": [
       "<div>\n",
       "<style scoped>\n",
       "    .dataframe tbody tr th:only-of-type {\n",
       "        vertical-align: middle;\n",
       "    }\n",
       "\n",
       "    .dataframe tbody tr th {\n",
       "        vertical-align: top;\n",
       "    }\n",
       "\n",
       "    .dataframe thead th {\n",
       "        text-align: right;\n",
       "    }\n",
       "</style>\n",
       "<table border=\"1\" class=\"dataframe\">\n",
       "  <thead>\n",
       "    <tr style=\"text-align: right;\">\n",
       "      <th></th>\n",
       "      <th>CustId</th>\n",
       "      <th>OrderId</th>\n",
       "      <th>EmailId</th>\n",
       "      <th>MobileNo</th>\n",
       "      <th>MacAddress</th>\n",
       "      <th>Session_Pincode</th>\n",
       "      <th>AvgPurchase</th>\n",
       "      <th>City</th>\n",
       "      <th>OrderDate</th>\n",
       "      <th>DeliveryDate</th>\n",
       "      <th>DaysDifference</th>\n",
       "      <th>ReplacementDate</th>\n",
       "      <th>IsDeliveryRejected</th>\n",
       "      <th>IsOneTimeUseProduct</th>\n",
       "      <th>IsValidAddress</th>\n",
       "      <th>IsValidGeo</th>\n",
       "      <th>Fraud</th>\n",
       "      <th>domain</th>\n",
       "    </tr>\n",
       "  </thead>\n",
       "  <tbody>\n",
       "    <tr>\n",
       "      <th>0</th>\n",
       "      <td>47019</td>\n",
       "      <td>41601</td>\n",
       "      <td>aQGHuxe@yahoo.com</td>\n",
       "      <td>1867946110</td>\n",
       "      <td>1DBA453FE543</td>\n",
       "      <td>276001</td>\n",
       "      <td>99522</td>\n",
       "      <td>529</td>\n",
       "      <td>25-01-2019</td>\n",
       "      <td>28-01-2019</td>\n",
       "      <td>3</td>\n",
       "      <td>01-02-2019</td>\n",
       "      <td>1</td>\n",
       "      <td>0</td>\n",
       "      <td>1</td>\n",
       "      <td>1</td>\n",
       "      <td>0</td>\n",
       "      <td>yahoo.com</td>\n",
       "    </tr>\n",
       "    <tr>\n",
       "      <th>1</th>\n",
       "      <td>20242</td>\n",
       "      <td>30352</td>\n",
       "      <td>sej94kG@hotmail.com</td>\n",
       "      <td>9272875375</td>\n",
       "      <td>65D1F362F744</td>\n",
       "      <td>505468</td>\n",
       "      <td>3491</td>\n",
       "      <td>637</td>\n",
       "      <td>06-02-2019</td>\n",
       "      <td>10-02-2019</td>\n",
       "      <td>4</td>\n",
       "      <td>17-02-2019</td>\n",
       "      <td>0</td>\n",
       "      <td>1</td>\n",
       "      <td>0</td>\n",
       "      <td>1</td>\n",
       "      <td>0</td>\n",
       "      <td>hotmail.com</td>\n",
       "    </tr>\n",
       "    <tr>\n",
       "      <th>2</th>\n",
       "      <td>79619</td>\n",
       "      <td>12328</td>\n",
       "      <td>HTVm_XUBz@gmail.com</td>\n",
       "      <td>3251871005</td>\n",
       "      <td>DF6DBF6C2359</td>\n",
       "      <td>586209</td>\n",
       "      <td>5262</td>\n",
       "      <td>222</td>\n",
       "      <td>12-01-2019</td>\n",
       "      <td>22-01-2019</td>\n",
       "      <td>10</td>\n",
       "      <td>01-02-2019</td>\n",
       "      <td>1</td>\n",
       "      <td>0</td>\n",
       "      <td>1</td>\n",
       "      <td>0</td>\n",
       "      <td>1</td>\n",
       "      <td>gmail.com</td>\n",
       "    </tr>\n",
       "    <tr>\n",
       "      <th>3</th>\n",
       "      <td>79619</td>\n",
       "      <td>80750</td>\n",
       "      <td>HTVm_XUBz@gmail.com</td>\n",
       "      <td>3251871005</td>\n",
       "      <td>DF6DBF6C2359</td>\n",
       "      <td>791102</td>\n",
       "      <td>5262</td>\n",
       "      <td>222</td>\n",
       "      <td>19-01-2019</td>\n",
       "      <td>26-01-2019</td>\n",
       "      <td>7</td>\n",
       "      <td>31-01-2019</td>\n",
       "      <td>0</td>\n",
       "      <td>1</td>\n",
       "      <td>0</td>\n",
       "      <td>0</td>\n",
       "      <td>0</td>\n",
       "      <td>gmail.com</td>\n",
       "    </tr>\n",
       "    <tr>\n",
       "      <th>4</th>\n",
       "      <td>80669</td>\n",
       "      <td>19203</td>\n",
       "      <td>dPiRkMo3i@gmail.com</td>\n",
       "      <td>3152175434</td>\n",
       "      <td>495560A5F52B</td>\n",
       "      <td>250001</td>\n",
       "      <td>4957</td>\n",
       "      <td>926</td>\n",
       "      <td>27-03-2019</td>\n",
       "      <td>03-04-2019</td>\n",
       "      <td>7</td>\n",
       "      <td>06-04-2019</td>\n",
       "      <td>0</td>\n",
       "      <td>0</td>\n",
       "      <td>1</td>\n",
       "      <td>1</td>\n",
       "      <td>0</td>\n",
       "      <td>gmail.com</td>\n",
       "    </tr>\n",
       "  </tbody>\n",
       "</table>\n",
       "</div>"
      ],
      "text/plain": [
       "   CustId  OrderId     ...      Fraud       domain\n",
       "0   47019    41601     ...          0    yahoo.com\n",
       "1   20242    30352     ...          0  hotmail.com\n",
       "2   79619    12328     ...          1    gmail.com\n",
       "3   79619    80750     ...          0    gmail.com\n",
       "4   80669    19203     ...          0    gmail.com\n",
       "\n",
       "[5 rows x 18 columns]"
      ]
     },
     "execution_count": 110,
     "metadata": {},
     "output_type": "execute_result"
    }
   ],
   "source": [
    "df['domain'] = df['EmailId'].str.split('@').str[1]\n",
    "df.head()"
   ]
  },
  {
   "cell_type": "code",
   "execution_count": 111,
   "metadata": {},
   "outputs": [
    {
     "data": {
      "text/plain": [
       "array(['yahoo.com', 'hotmail.com', 'gmail.com', 'aol.com', 'mail.com'],\n",
       "      dtype=object)"
      ]
     },
     "execution_count": 111,
     "metadata": {},
     "output_type": "execute_result"
    }
   ],
   "source": [
    "df.domain.unique()"
   ]
  },
  {
   "cell_type": "code",
   "execution_count": 112,
   "metadata": {},
   "outputs": [
    {
     "name": "stdout",
     "output_type": "stream",
     "text": [
      "hotmail.com    20174\n",
      "mail.com       20117\n",
      "yahoo.com      20054\n",
      "gmail.com      19860\n",
      "aol.com        19795\n",
      "Name: domain, dtype: int64\n",
      "--------------------------------------\n",
      "domain       Fraud\n",
      "aol.com      0        13852\n",
      "             1         5943\n",
      "gmail.com    0        13850\n",
      "             1         6010\n",
      "hotmail.com  0        14097\n",
      "             1         6077\n",
      "mail.com     0        14121\n",
      "             1         5996\n",
      "yahoo.com    0        14080\n",
      "             1         5974\n",
      "Name: Fraud, dtype: int64\n"
     ]
    },
    {
     "data": {
      "image/png": "[encoded data removed]",
      "text/plain": [
       "<Figure size 504x360 with 1 Axes>"
      ]
     },
     "metadata": {},
     "output_type": "display_data"
    }
   ],
   "source": [
    "feature_relationship('domain')"
   ]
  },
  {
   "cell_type": "code",
   "execution_count": 113,
   "metadata": {},
   "outputs": [
    {
     "data": {
      "text/html": [
       "<div>\n",
       "<style scoped>\n",
       "    .dataframe tbody tr th:only-of-type {\n",
       "        vertical-align: middle;\n",
       "    }\n",
       "\n",
       "    .dataframe tbody tr th {\n",
       "        vertical-align: top;\n",
       "    }\n",
       "\n",
       "    .dataframe thead th {\n",
       "        text-align: right;\n",
       "    }\n",
       "</style>\n",
       "<table border=\"1\" class=\"dataframe\">\n",
       "  <thead>\n",
       "    <tr style=\"text-align: right;\">\n",
       "      <th></th>\n",
       "      <th>CustId</th>\n",
       "      <th>OrderId</th>\n",
       "      <th>MobileNo</th>\n",
       "      <th>Session_Pincode</th>\n",
       "      <th>AvgPurchase</th>\n",
       "      <th>City</th>\n",
       "      <th>OrderDate</th>\n",
       "      <th>DeliveryDate</th>\n",
       "      <th>DaysDifference</th>\n",
       "      <th>ReplacementDate</th>\n",
       "      <th>IsDeliveryRejected</th>\n",
       "      <th>IsOneTimeUseProduct</th>\n",
       "      <th>IsValidAddress</th>\n",
       "      <th>IsValidGeo</th>\n",
       "      <th>domain</th>\n",
       "    </tr>\n",
       "  </thead>\n",
       "  <tbody>\n",
       "    <tr>\n",
       "      <th>0</th>\n",
       "      <td>29653</td>\n",
       "      <td>41501</td>\n",
       "      <td>6101</td>\n",
       "      <td>134</td>\n",
       "      <td>35167</td>\n",
       "      <td>529</td>\n",
       "      <td>74</td>\n",
       "      <td>90</td>\n",
       "      <td>0</td>\n",
       "      <td>0</td>\n",
       "      <td>1</td>\n",
       "      <td>0</td>\n",
       "      <td>1</td>\n",
       "      <td>1</td>\n",
       "      <td>4</td>\n",
       "    </tr>\n",
       "    <tr>\n",
       "      <th>1</th>\n",
       "      <td>12665</td>\n",
       "      <td>30252</td>\n",
       "      <td>58249</td>\n",
       "      <td>383</td>\n",
       "      <td>2422</td>\n",
       "      <td>637</td>\n",
       "      <td>18</td>\n",
       "      <td>34</td>\n",
       "      <td>1</td>\n",
       "      <td>59</td>\n",
       "      <td>0</td>\n",
       "      <td>1</td>\n",
       "      <td>0</td>\n",
       "      <td>1</td>\n",
       "      <td>2</td>\n",
       "    </tr>\n",
       "    <tr>\n",
       "      <th>2</th>\n",
       "      <td>50439</td>\n",
       "      <td>12228</td>\n",
       "      <td>15784</td>\n",
       "      <td>522</td>\n",
       "      <td>4133</td>\n",
       "      <td>222</td>\n",
       "      <td>35</td>\n",
       "      <td>72</td>\n",
       "      <td>7</td>\n",
       "      <td>0</td>\n",
       "      <td>1</td>\n",
       "      <td>0</td>\n",
       "      <td>1</td>\n",
       "      <td>0</td>\n",
       "      <td>1</td>\n",
       "    </tr>\n",
       "    <tr>\n",
       "      <th>3</th>\n",
       "      <td>50439</td>\n",
       "      <td>80650</td>\n",
       "      <td>15784</td>\n",
       "      <td>787</td>\n",
       "      <td>4133</td>\n",
       "      <td>222</td>\n",
       "      <td>56</td>\n",
       "      <td>84</td>\n",
       "      <td>4</td>\n",
       "      <td>104</td>\n",
       "      <td>0</td>\n",
       "      <td>1</td>\n",
       "      <td>0</td>\n",
       "      <td>0</td>\n",
       "      <td>1</td>\n",
       "    </tr>\n",
       "    <tr>\n",
       "      <th>4</th>\n",
       "      <td>51092</td>\n",
       "      <td>19103</td>\n",
       "      <td>15101</td>\n",
       "      <td>112</td>\n",
       "      <td>3836</td>\n",
       "      <td>926</td>\n",
       "      <td>82</td>\n",
       "      <td>8</td>\n",
       "      <td>4</td>\n",
       "      <td>17</td>\n",
       "      <td>0</td>\n",
       "      <td>0</td>\n",
       "      <td>1</td>\n",
       "      <td>1</td>\n",
       "      <td>1</td>\n",
       "    </tr>\n",
       "  </tbody>\n",
       "</table>\n",
       "</div>"
      ],
      "text/plain": [
       "   CustId  OrderId  MobileNo   ...    IsValidAddress  IsValidGeo  domain\n",
       "0   29653    41501      6101   ...                 1           1       4\n",
       "1   12665    30252     58249   ...                 0           1       2\n",
       "2   50439    12228     15784   ...                 1           0       1\n",
       "3   50439    80650     15784   ...                 0           0       1\n",
       "4   51092    19103     15101   ...                 1           1       1\n",
       "\n",
       "[5 rows x 15 columns]"
      ]
     },
     "execution_count": 113,
     "metadata": {},
     "output_type": "execute_result"
    }
   ],
   "source": [
    "from sklearn.preprocessing import LabelEncoder, OneHotEncoder\n",
    "features = pd.DataFrame(df)\n",
    "labels = pd.DataFrame(features['Fraud'])\n",
    "features = features.drop(['Fraud','EmailId','MacAddress'], axis=1)\n",
    "features = features.apply(LabelEncoder().fit_transform)\n",
    "features.head()"
   ]
  },
  {
   "cell_type": "code",
   "execution_count": 114,
   "metadata": {},
   "outputs": [
    {
     "data": {
      "text/html": [
       "<div>\n",
       "<style scoped>\n",
       "    .dataframe tbody tr th:only-of-type {\n",
       "        vertical-align: middle;\n",
       "    }\n",
       "\n",
       "    .dataframe tbody tr th {\n",
       "        vertical-align: top;\n",
       "    }\n",
       "\n",
       "    .dataframe thead th {\n",
       "        text-align: right;\n",
       "    }\n",
       "</style>\n",
       "<table border=\"1\" class=\"dataframe\">\n",
       "  <thead>\n",
       "    <tr style=\"text-align: right;\">\n",
       "      <th></th>\n",
       "      <th>Fraud</th>\n",
       "    </tr>\n",
       "  </thead>\n",
       "  <tbody>\n",
       "    <tr>\n",
       "      <th>0</th>\n",
       "      <td>0</td>\n",
       "    </tr>\n",
       "    <tr>\n",
       "      <th>1</th>\n",
       "      <td>0</td>\n",
       "    </tr>\n",
       "    <tr>\n",
       "      <th>2</th>\n",
       "      <td>1</td>\n",
       "    </tr>\n",
       "    <tr>\n",
       "      <th>3</th>\n",
       "      <td>0</td>\n",
       "    </tr>\n",
       "    <tr>\n",
       "      <th>4</th>\n",
       "      <td>0</td>\n",
       "    </tr>\n",
       "  </tbody>\n",
       "</table>\n",
       "</div>"
      ],
      "text/plain": [
       "   Fraud\n",
       "0      0\n",
       "1      0\n",
       "2      1\n",
       "3      0\n",
       "4      0"
      ]
     },
     "execution_count": 114,
     "metadata": {},
     "output_type": "execute_result"
    }
   ],
   "source": [
    "labels.head()"
   ]
  },
  {
   "cell_type": "code",
   "execution_count": 115,
   "metadata": {},
   "outputs": [
    {
     "name": "stderr",
     "output_type": "stream",
     "text": [
      "/opt/conda/lib/python3.6/site-packages/sklearn/preprocessing/data.py:645: DataConversionWarning: Data with input dtype int64 were all converted to float64 by StandardScaler.\n",
      "  return self.partial_fit(X, y)\n",
      "/opt/conda/lib/python3.6/site-packages/sklearn/base.py:464: DataConversionWarning: Data with input dtype int64 were all converted to float64 by StandardScaler.\n",
      "  return self.fit(X, **fit_params).transform(X)\n"
     ]
    }
   ],
   "source": [
    "# Scaling the Train and Test feature set \n",
    "from sklearn.preprocessing import StandardScaler\n",
    "scaler = StandardScaler()\n",
    "features = scaler.fit_transform(features)"
   ]
  },
  {
   "cell_type": "markdown",
   "metadata": {},
   "source": [
    "#### No Need for label encoder on label as it has oly 1 and 0 value"
   ]
  },
  {
   "cell_type": "code",
   "execution_count": 116,
   "metadata": {},
   "outputs": [
    {
     "ename": "SyntaxError",
     "evalue": "EOF while scanning triple-quoted string literal (<ipython-input-116-2b16d9724cd4>, line 4)",
     "output_type": "error",
     "traceback": [
      "\u001b[0;36m  File \u001b[0;32m\"<ipython-input-116-2b16d9724cd4>\"\u001b[0;36m, line \u001b[0;32m4\u001b[0m\n\u001b[0;31m    labels_enc = encoder.transform(labels)\u001b[0m\n\u001b[0m                                          \n^\u001b[0m\n\u001b[0;31mSyntaxError\u001b[0m\u001b[0;31m:\u001b[0m EOF while scanning triple-quoted string literal\n"
     ]
    }
   ],
   "source": [
    "\"\"\"from sklearn import preprocessing\n",
    "encoder = preprocessing.LabelEncoder()\n",
    "encoder.fit(labels)\n",
    "labels_enc = encoder.transform(labels)"
   ]
  },
  {
   "cell_type": "code",
   "execution_count": 117,
   "metadata": {},
   "outputs": [
    {
     "data": {
      "text/plain": [
       "array([[-0.10815542, -0.29439668, -1.39547292, ...,  1.00020002,\n",
       "         0.99676523,  1.41096813],\n",
       "       [-1.03662458, -0.68407347,  1.45845407, ..., -0.99980002,\n",
       "         0.99676523, -0.00548877],\n",
       "       [ 1.0278912 , -1.30844314, -0.86554703, ...,  1.00020002,\n",
       "        -1.00324527, -0.71371722],\n",
       "       ...,\n",
       "       [-0.57331913, -1.56336638,  0.92234399, ...,  1.00020002,\n",
       "         0.99676523, -1.42194567],\n",
       "       [-0.40591266,  0.74410635,  0.19873766, ..., -0.99980002,\n",
       "         0.99676523, -1.42194567],\n",
       "       [ 1.35947952,  0.56560119, -0.74793774, ...,  1.00020002,\n",
       "        -1.00324527, -0.00548877]])"
      ]
     },
     "execution_count": 117,
     "metadata": {},
     "output_type": "execute_result"
    }
   ],
   "source": [
    "features"
   ]
  },
  {
   "cell_type": "code",
   "execution_count": 118,
   "metadata": {},
   "outputs": [
    {
     "data": {
      "text/html": [
       "<div>\n",
       "<style scoped>\n",
       "    .dataframe tbody tr th:only-of-type {\n",
       "        vertical-align: middle;\n",
       "    }\n",
       "\n",
       "    .dataframe tbody tr th {\n",
       "        vertical-align: top;\n",
       "    }\n",
       "\n",
       "    .dataframe thead th {\n",
       "        text-align: right;\n",
       "    }\n",
       "</style>\n",
       "<table border=\"1\" class=\"dataframe\">\n",
       "  <thead>\n",
       "    <tr style=\"text-align: right;\">\n",
       "      <th></th>\n",
       "      <th>Fraud</th>\n",
       "    </tr>\n",
       "  </thead>\n",
       "  <tbody>\n",
       "    <tr>\n",
       "      <th>0</th>\n",
       "      <td>0</td>\n",
       "    </tr>\n",
       "    <tr>\n",
       "      <th>1</th>\n",
       "      <td>0</td>\n",
       "    </tr>\n",
       "    <tr>\n",
       "      <th>2</th>\n",
       "      <td>1</td>\n",
       "    </tr>\n",
       "    <tr>\n",
       "      <th>3</th>\n",
       "      <td>0</td>\n",
       "    </tr>\n",
       "    <tr>\n",
       "      <th>4</th>\n",
       "      <td>0</td>\n",
       "    </tr>\n",
       "    <tr>\n",
       "      <th>5</th>\n",
       "      <td>1</td>\n",
       "    </tr>\n",
       "    <tr>\n",
       "      <th>6</th>\n",
       "      <td>0</td>\n",
       "    </tr>\n",
       "    <tr>\n",
       "      <th>7</th>\n",
       "      <td>1</td>\n",
       "    </tr>\n",
       "    <tr>\n",
       "      <th>8</th>\n",
       "      <td>0</td>\n",
       "    </tr>\n",
       "    <tr>\n",
       "      <th>9</th>\n",
       "      <td>1</td>\n",
       "    </tr>\n",
       "    <tr>\n",
       "      <th>10</th>\n",
       "      <td>1</td>\n",
       "    </tr>\n",
       "    <tr>\n",
       "      <th>11</th>\n",
       "      <td>0</td>\n",
       "    </tr>\n",
       "    <tr>\n",
       "      <th>12</th>\n",
       "      <td>0</td>\n",
       "    </tr>\n",
       "    <tr>\n",
       "      <th>13</th>\n",
       "      <td>0</td>\n",
       "    </tr>\n",
       "    <tr>\n",
       "      <th>14</th>\n",
       "      <td>1</td>\n",
       "    </tr>\n",
       "    <tr>\n",
       "      <th>15</th>\n",
       "      <td>0</td>\n",
       "    </tr>\n",
       "    <tr>\n",
       "      <th>16</th>\n",
       "      <td>0</td>\n",
       "    </tr>\n",
       "    <tr>\n",
       "      <th>17</th>\n",
       "      <td>1</td>\n",
       "    </tr>\n",
       "    <tr>\n",
       "      <th>18</th>\n",
       "      <td>0</td>\n",
       "    </tr>\n",
       "    <tr>\n",
       "      <th>19</th>\n",
       "      <td>1</td>\n",
       "    </tr>\n",
       "    <tr>\n",
       "      <th>20</th>\n",
       "      <td>0</td>\n",
       "    </tr>\n",
       "    <tr>\n",
       "      <th>21</th>\n",
       "      <td>1</td>\n",
       "    </tr>\n",
       "    <tr>\n",
       "      <th>22</th>\n",
       "      <td>0</td>\n",
       "    </tr>\n",
       "    <tr>\n",
       "      <th>23</th>\n",
       "      <td>0</td>\n",
       "    </tr>\n",
       "    <tr>\n",
       "      <th>24</th>\n",
       "      <td>1</td>\n",
       "    </tr>\n",
       "    <tr>\n",
       "      <th>25</th>\n",
       "      <td>0</td>\n",
       "    </tr>\n",
       "    <tr>\n",
       "      <th>26</th>\n",
       "      <td>0</td>\n",
       "    </tr>\n",
       "    <tr>\n",
       "      <th>27</th>\n",
       "      <td>0</td>\n",
       "    </tr>\n",
       "    <tr>\n",
       "      <th>28</th>\n",
       "      <td>0</td>\n",
       "    </tr>\n",
       "    <tr>\n",
       "      <th>29</th>\n",
       "      <td>1</td>\n",
       "    </tr>\n",
       "    <tr>\n",
       "      <th>...</th>\n",
       "      <td>...</td>\n",
       "    </tr>\n",
       "    <tr>\n",
       "      <th>99970</th>\n",
       "      <td>0</td>\n",
       "    </tr>\n",
       "    <tr>\n",
       "      <th>99971</th>\n",
       "      <td>0</td>\n",
       "    </tr>\n",
       "    <tr>\n",
       "      <th>99972</th>\n",
       "      <td>0</td>\n",
       "    </tr>\n",
       "    <tr>\n",
       "      <th>99973</th>\n",
       "      <td>0</td>\n",
       "    </tr>\n",
       "    <tr>\n",
       "      <th>99974</th>\n",
       "      <td>1</td>\n",
       "    </tr>\n",
       "    <tr>\n",
       "      <th>99975</th>\n",
       "      <td>1</td>\n",
       "    </tr>\n",
       "    <tr>\n",
       "      <th>99976</th>\n",
       "      <td>0</td>\n",
       "    </tr>\n",
       "    <tr>\n",
       "      <th>99977</th>\n",
       "      <td>0</td>\n",
       "    </tr>\n",
       "    <tr>\n",
       "      <th>99978</th>\n",
       "      <td>0</td>\n",
       "    </tr>\n",
       "    <tr>\n",
       "      <th>99979</th>\n",
       "      <td>1</td>\n",
       "    </tr>\n",
       "    <tr>\n",
       "      <th>99980</th>\n",
       "      <td>0</td>\n",
       "    </tr>\n",
       "    <tr>\n",
       "      <th>99981</th>\n",
       "      <td>0</td>\n",
       "    </tr>\n",
       "    <tr>\n",
       "      <th>99982</th>\n",
       "      <td>1</td>\n",
       "    </tr>\n",
       "    <tr>\n",
       "      <th>99983</th>\n",
       "      <td>0</td>\n",
       "    </tr>\n",
       "    <tr>\n",
       "      <th>99984</th>\n",
       "      <td>1</td>\n",
       "    </tr>\n",
       "    <tr>\n",
       "      <th>99985</th>\n",
       "      <td>0</td>\n",
       "    </tr>\n",
       "    <tr>\n",
       "      <th>99986</th>\n",
       "      <td>0</td>\n",
       "    </tr>\n",
       "    <tr>\n",
       "      <th>99987</th>\n",
       "      <td>1</td>\n",
       "    </tr>\n",
       "    <tr>\n",
       "      <th>99988</th>\n",
       "      <td>0</td>\n",
       "    </tr>\n",
       "    <tr>\n",
       "      <th>99989</th>\n",
       "      <td>1</td>\n",
       "    </tr>\n",
       "    <tr>\n",
       "      <th>99990</th>\n",
       "      <td>0</td>\n",
       "    </tr>\n",
       "    <tr>\n",
       "      <th>99991</th>\n",
       "      <td>0</td>\n",
       "    </tr>\n",
       "    <tr>\n",
       "      <th>99992</th>\n",
       "      <td>0</td>\n",
       "    </tr>\n",
       "    <tr>\n",
       "      <th>99993</th>\n",
       "      <td>0</td>\n",
       "    </tr>\n",
       "    <tr>\n",
       "      <th>99994</th>\n",
       "      <td>0</td>\n",
       "    </tr>\n",
       "    <tr>\n",
       "      <th>99995</th>\n",
       "      <td>0</td>\n",
       "    </tr>\n",
       "    <tr>\n",
       "      <th>99996</th>\n",
       "      <td>0</td>\n",
       "    </tr>\n",
       "    <tr>\n",
       "      <th>99997</th>\n",
       "      <td>0</td>\n",
       "    </tr>\n",
       "    <tr>\n",
       "      <th>99998</th>\n",
       "      <td>0</td>\n",
       "    </tr>\n",
       "    <tr>\n",
       "      <th>99999</th>\n",
       "      <td>0</td>\n",
       "    </tr>\n",
       "  </tbody>\n",
       "</table>\n",
       "<p>100000 rows × 1 columns</p>\n",
       "</div>"
      ],
      "text/plain": [
       "       Fraud\n",
       "0          0\n",
       "1          0\n",
       "2          1\n",
       "3          0\n",
       "4          0\n",
       "5          1\n",
       "6          0\n",
       "7          1\n",
       "8          0\n",
       "9          1\n",
       "10         1\n",
       "11         0\n",
       "12         0\n",
       "13         0\n",
       "14         1\n",
       "15         0\n",
       "16         0\n",
       "17         1\n",
       "18         0\n",
       "19         1\n",
       "20         0\n",
       "21         1\n",
       "22         0\n",
       "23         0\n",
       "24         1\n",
       "25         0\n",
       "26         0\n",
       "27         0\n",
       "28         0\n",
       "29         1\n",
       "...      ...\n",
       "99970      0\n",
       "99971      0\n",
       "99972      0\n",
       "99973      0\n",
       "99974      1\n",
       "99975      1\n",
       "99976      0\n",
       "99977      0\n",
       "99978      0\n",
       "99979      1\n",
       "99980      0\n",
       "99981      0\n",
       "99982      1\n",
       "99983      0\n",
       "99984      1\n",
       "99985      0\n",
       "99986      0\n",
       "99987      1\n",
       "99988      0\n",
       "99989      1\n",
       "99990      0\n",
       "99991      0\n",
       "99992      0\n",
       "99993      0\n",
       "99994      0\n",
       "99995      0\n",
       "99996      0\n",
       "99997      0\n",
       "99998      0\n",
       "99999      0\n",
       "\n",
       "[100000 rows x 1 columns]"
      ]
     },
     "execution_count": 118,
     "metadata": {},
     "output_type": "execute_result"
    }
   ],
   "source": [
    "labels"
   ]
  },
  {
   "cell_type": "code",
   "execution_count": 188,
   "metadata": {},
   "outputs": [],
   "source": [
    "from sklearn.model_selection import train_test_split\n",
    "train, test, labels_train, labels_test = train_test_split(features, labels, test_size=0.60, random_state = 42)"
   ]
  },
  {
   "cell_type": "code",
   "execution_count": 189,
   "metadata": {},
   "outputs": [],
   "source": [
    "from sklearn.model_selection import train_test_split\n",
    "X_train, X_val, y_train, y_val = train_test_split(train, labels_train, test_size=0.20, random_state = 42)"
   ]
  },
  {
   "cell_type": "code",
   "execution_count": 190,
   "metadata": {},
   "outputs": [
    {
     "data": {
      "text/plain": [
       "((32000, 15), (8000, 15), (32000, 1), (8000, 1))"
      ]
     },
     "execution_count": 190,
     "metadata": {},
     "output_type": "execute_result"
    }
   ],
   "source": [
    "X_train.shape, X_val.shape, y_train.shape, y_val.shape"
   ]
  },
  {
   "cell_type": "code",
   "execution_count": 191,
   "metadata": {},
   "outputs": [],
   "source": [
    "parameter_candidates = [\n",
    "  {'C': [1, 10], 'kernel': ['linear']},\n",
    "  {'C': [1, 10], 'gamma': [0.001, 0.0001], 'kernel': ['rbf']},\n",
    "]"
   ]
  },
  {
   "cell_type": "code",
   "execution_count": 192,
   "metadata": {},
   "outputs": [
    {
     "name": "stderr",
     "output_type": "stream",
     "text": [
      "/opt/conda/lib/python3.6/site-packages/sklearn/model_selection/_split.py:2053: FutureWarning: You should specify a value for 'cv' instead of relying on the default value. The default value will change from 3 to 5 in version 0.22.\n",
      "  warnings.warn(CV_WARNING, FutureWarning)\n",
      "/opt/conda/lib/python3.6/site-packages/sklearn/utils/validation.py:761: DataConversionWarning: A column-vector y was passed when a 1d array was expected. Please change the shape of y to (n_samples, ), for example using ravel().\n",
      "  y = column_or_1d(y, warn=True)\n"
     ]
    },
    {
     "data": {
      "text/plain": [
       "GridSearchCV(cv='warn', error_score='raise-deprecating',\n",
       "       estimator=SVC(C=1.0, cache_size=200, class_weight=None, coef0=0.0,\n",
       "  decision_function_shape='ovr', degree=3, gamma='auto_deprecated',\n",
       "  kernel='rbf', max_iter=-1, probability=False, random_state=None,\n",
       "  shrinking=True, tol=0.001, verbose=False),\n",
       "       fit_params=None, iid='warn', n_jobs=-1,\n",
       "       param_grid=[{'C': [1, 10], 'kernel': ['linear']}, {'C': [1, 10], 'gamma': [0.001, 0.0001], 'kernel': ['rbf']}],\n",
       "       pre_dispatch='2*n_jobs', refit=True, return_train_score='warn',\n",
       "       scoring=None, verbose=0)"
      ]
     },
     "execution_count": 192,
     "metadata": {},
     "output_type": "execute_result"
    }
   ],
   "source": [
    "# Create a classifier object with the classifier and parameter candidates\n",
    "clf = GridSearchCV(estimator=SVC(), param_grid=parameter_candidates, n_jobs=-1)\n",
    "\n",
    "# Train the classifier on data1's feature and target data\n",
    "clf.fit(X_train, y_train)   "
   ]
  },
  {
   "cell_type": "code",
   "execution_count": 193,
   "metadata": {},
   "outputs": [
    {
     "name": "stdout",
     "output_type": "stream",
     "text": [
      "Best score for data1: 0.6999375\n"
     ]
    }
   ],
   "source": [
    "# View the accuracy score\n",
    "print('Best score for data1:', clf.best_score_)"
   ]
  },
  {
   "cell_type": "code",
   "execution_count": 194,
   "metadata": {},
   "outputs": [
    {
     "data": {
      "text/plain": [
       "0.702375"
      ]
     },
     "execution_count": 194,
     "metadata": {},
     "output_type": "execute_result"
    }
   ],
   "source": [
    "# Apply the classifier trained using data1 to data2, and view the accuracy score\n",
    "clf.score(X_val, y_val) "
   ]
  },
  {
   "cell_type": "code",
   "execution_count": 195,
   "metadata": {},
   "outputs": [
    {
     "data": {
      "text/plain": [
       "{'C': 1, 'kernel': 'linear'}"
      ]
     },
     "execution_count": 195,
     "metadata": {},
     "output_type": "execute_result"
    }
   ],
   "source": [
    "clf.best_params_"
   ]
  },
  {
   "cell_type": "code",
   "execution_count": 196,
   "metadata": {},
   "outputs": [
    {
     "name": "stdout",
     "output_type": "stream",
     "text": [
      "Best C: 1\n",
      "Best Kernel: linear\n",
      "Best Gamma: auto_deprecated\n"
     ]
    }
   ],
   "source": [
    "# View the best parameters for the model found using grid search\n",
    "print('Best C:',clf.best_estimator_.C) \n",
    "print('Best Kernel:',clf.best_estimator_.kernel)\n",
    "print('Best Gamma:',clf.best_estimator_.gamma)"
   ]
  },
  {
   "cell_type": "code",
   "execution_count": 203,
   "metadata": {},
   "outputs": [
    {
     "name": "stderr",
     "output_type": "stream",
     "text": [
      "/opt/conda/lib/python3.6/site-packages/sklearn/utils/validation.py:761: DataConversionWarning: A column-vector y was passed when a 1d array was expected. Please change the shape of y to (n_samples, ), for example using ravel().\n",
      "  y = column_or_1d(y, warn=True)\n"
     ]
    }
   ],
   "source": [
    "clf_svc = SVC(C=1, kernel='linear', gamma='auto').fit(X_train, y_train)"
   ]
  },
  {
   "cell_type": "code",
   "execution_count": 204,
   "metadata": {},
   "outputs": [],
   "source": [
    "y_pred = clf_svc.predict(X_val)"
   ]
  },
  {
   "cell_type": "code",
   "execution_count": 205,
   "metadata": {},
   "outputs": [
    {
     "name": "stdout",
     "output_type": "stream",
     "text": [
      "Accuracy: 0.702375\n"
     ]
    }
   ],
   "source": [
    "from sklearn import metrics\n",
    "# Model Accuracy: how often is the classifier correct?\n",
    "print(\"Accuracy:\",metrics.accuracy_score(y_pred,y_val))"
   ]
  },
  {
   "cell_type": "code",
   "execution_count": 206,
   "metadata": {},
   "outputs": [
    {
     "name": "stdout",
     "output_type": "stream",
     "text": [
      "Precision: [1. 0.]\n",
      "Recall: [0.702375 0.      ]\n",
      "F1 score: [0.82517072 0.        ]\n"
     ]
    },
    {
     "name": "stderr",
     "output_type": "stream",
     "text": [
      "/opt/conda/lib/python3.6/site-packages/sklearn/metrics/classification.py:1145: UndefinedMetricWarning: Recall is ill-defined and being set to 0.0 in labels with no true samples.\n",
      "  'recall', 'true', average, warn_for)\n",
      "/opt/conda/lib/python3.6/site-packages/sklearn/metrics/classification.py:1145: UndefinedMetricWarning: F-score is ill-defined and being set to 0.0 in labels with no true samples.\n",
      "  'recall', 'true', average, warn_for)\n"
     ]
    }
   ],
   "source": [
    "# Model Precision: what percentage of positive tuples are labeled as such?\n",
    "print(\"Precision:\",metrics.precision_score(y_pred,y_val,average=None))\n",
    "\n",
    "# Model Recall: what percentage of positive tuples are labelled as such?\n",
    "print(\"Recall:\",metrics.recall_score(y_pred,y_val,average=None))\n",
    "\n",
    "\n",
    "print(\"F1 score:\",metrics.f1_score(y_pred,y_val,average=None))\n",
    "\n",
    "#f1_scores[clf_name] = f1_score(y_pred, y_valid)"
   ]
  },
  {
   "cell_type": "markdown",
   "metadata": {},
   "source": [
    "Standardise the training and testing data and oversampling using SMOTE"
   ]
  },
  {
   "cell_type": "code",
   "execution_count": 207,
   "metadata": {},
   "outputs": [
    {
     "name": "stderr",
     "output_type": "stream",
     "text": [
      "/opt/conda/lib/python3.6/site-packages/sklearn/utils/validation.py:761: DataConversionWarning: A column-vector y was passed when a 1d array was expected. Please change the shape of y to (n_samples, ), for example using ravel().\n",
      "  y = column_or_1d(y, warn=True)\n"
     ]
    }
   ],
   "source": [
    "from imblearn.over_sampling import SMOTE\n",
    "sm = SMOTE(random_state=0)\n",
    "x_train_std_os,y_train_os = sm.fit_sample(X_train,y_train)"
   ]
  },
  {
   "cell_type": "code",
   "execution_count": 208,
   "metadata": {},
   "outputs": [
    {
     "name": "stderr",
     "output_type": "stream",
     "text": [
      "/opt/conda/lib/python3.6/site-packages/sklearn/linear_model/logistic.py:433: FutureWarning: Default solver will be changed to 'lbfgs' in 0.22. Specify a solver to silence this warning.\n",
      "  FutureWarning)\n"
     ]
    }
   ],
   "source": [
    "# Logistic regression\n",
    "from sklearn.linear_model import LogisticRegression\n",
    "lr = LogisticRegression(random_state=0).fit(x_train_std_os,y_train_os)\n",
    "lr_pred = lr.predict(X_val)"
   ]
  },
  {
   "cell_type": "code",
   "execution_count": 209,
   "metadata": {},
   "outputs": [],
   "source": [
    "# Decision tree\n",
    "from sklearn.tree import DecisionTreeClassifier\n",
    "tree = DecisionTreeClassifier(random_state=0).fit(x_train_std_os,y_train_os)\n",
    "tree_pred = tree.predict(X_val)"
   ]
  },
  {
   "cell_type": "code",
   "execution_count": 210,
   "metadata": {},
   "outputs": [
    {
     "name": "stderr",
     "output_type": "stream",
     "text": [
      "/opt/conda/lib/python3.6/site-packages/sklearn/ensemble/forest.py:246: FutureWarning: The default value of n_estimators will change from 10 in version 0.20 to 100 in 0.22.\n",
      "  \"10 in version 0.20 to 100 in 0.22.\", FutureWarning)\n"
     ]
    }
   ],
   "source": [
    "# Random Forest\n",
    "from sklearn.ensemble import RandomForestClassifier\n",
    "rf = RandomForestClassifier(random_state=0).fit(x_train_std_os,y_train_os)\n",
    "rf_pred = rf.predict(X_val)"
   ]
  },
  {
   "cell_type": "code",
   "execution_count": 211,
   "metadata": {},
   "outputs": [],
   "source": [
    "# KNN classifier\n",
    "from sklearn.neighbors import KNeighborsClassifier\n",
    "knn = KNeighborsClassifier().fit(x_train_std_os,y_train_os)\n",
    "knn_pred = knn.predict(X_val)"
   ]
  },
  {
   "cell_type": "code",
   "execution_count": 212,
   "metadata": {},
   "outputs": [],
   "source": [
    "# SVC : Linear kernel\n",
    "from sklearn.svm import SVC\n",
    "sv_lin = SVC(kernel='linear',random_state=0,probability=True).fit(x_train_std_os,y_train_os)\n",
    "sv_lin_pred = sv_lin.predict(X_val)"
   ]
  },
  {
   "cell_type": "code",
   "execution_count": 213,
   "metadata": {},
   "outputs": [
    {
     "name": "stderr",
     "output_type": "stream",
     "text": [
      "/opt/conda/lib/python3.6/site-packages/sklearn/svm/base.py:196: FutureWarning: The default value of gamma will change from 'auto' to 'scale' in version 0.22 to account better for unscaled features. Set gamma explicitly to 'auto' or 'scale' to avoid this warning.\n",
      "  \"avoid this warning.\", FutureWarning)\n"
     ]
    }
   ],
   "source": [
    "# SVC : RBF kernel\n",
    "from sklearn.svm import SVC\n",
    "sv_rbf = SVC(kernel='rbf',random_state=0,probability=True).fit(x_train_std_os,y_train_os)\n",
    "sv_rbf_pred = sv_rbf.predict(X_val)"
   ]
  },
  {
   "cell_type": "code",
   "execution_count": 226,
   "metadata": {},
   "outputs": [
    {
     "name": "stdout",
     "output_type": "stream",
     "text": [
      "Area under precision recall curve for LR model =  0.479\n",
      "Area under ROC curve for LR model =  0.509\n",
      "F1 score : [0.59395695 0.38068182] \n",
      "\n",
      "Area under precision recall curve for Decision Tree model =  0.42\n",
      "Area under ROC curve for Decision Tree model =  0.508\n",
      "F1 score : [0.69357033 0.32053087] \n",
      "\n",
      "Area under precision recall curve for Random Forest model =  0.352\n",
      "Area under ROC curve for Random Forest model =  0.502\n",
      "F1 score : [0.77289495 0.19773371] \n",
      "\n",
      "Area under precision recall curve for KNN model =  0.483\n",
      "Area under ROC curve for KNN model =  0.514\n",
      "F1 score : [0.60014446 0.38579807] \n",
      "\n",
      "Area under precision recall curve for Linear kernel SVM model =  0.487\n",
      "Area under ROC curve for Linear kernel SVM model =  0.514\n",
      "F1 score : [0.59144943 0.38876755] \n",
      "\n",
      "Area under precision recall curve for RBF kernel SVM model =  0.472\n",
      "Area under ROC curve for RBF kernel SVM model =  0.509\n",
      "F1 score : [0.60875749 0.37453305] \n",
      "\n"
     ]
    }
   ],
   "source": [
    "from sklearn.metrics import precision_recall_curve,average_precision_score,auc,roc_auc_score\n",
    "\n",
    "models = ['LR','Decision Tree','Random Forest','KNN','Linear kernel SVM','RBF kernel SVM']\n",
    "preds = [lr_pred,tree_pred,rf_pred,knn_pred,sv_lin_pred,sv_rbf_pred]\n",
    "for pred,model in zip(preds,models):\n",
    "    precision,recall,thresholds = precision_recall_curve(y_val,pred)\n",
    "    print ('Area under precision recall curve for %s model = '%(model),round(auc(recall,precision),3))\n",
    "    print ('Area under ROC curve for %s model = '%(model),round(roc_auc_score(y_val,pred),3)) \n",
    "    print(\"F1 score :\",metrics.f1_score(y_val,pred,average=None),'\\n')"
   ]
  },
  {
   "cell_type": "code",
   "execution_count": 215,
   "metadata": {},
   "outputs": [
    {
     "name": "stdout",
     "output_type": "stream",
     "text": [
      "F1 score Linear kernel: [0.59144943 0.38876755]\n"
     ]
    }
   ],
   "source": [
    "print(\"F1 score Linear kernel:\",metrics.f1_score(sv_lin_pred,y_val,average=None))"
   ]
  },
  {
   "cell_type": "code",
   "execution_count": 216,
   "metadata": {},
   "outputs": [
    {
     "name": "stdout",
     "output_type": "stream",
     "text": [
      "F1 score RBF kernel: [0.60875749 0.37453305]\n"
     ]
    }
   ],
   "source": [
    "print(\"F1 score RBF kernel:\",metrics.f1_score(y_val,sv_rbf_pred,average=None))"
   ]
  },
  {
   "cell_type": "code",
   "execution_count": 223,
   "metadata": {},
   "outputs": [],
   "source": [
    "from xgboost.sklearn import XGBClassifier \n",
    "import scipy.stats as st\n",
    "xgb = XGBClassifier(learning_rate= 0.01,\n",
    "                     max_depth= 15,\n",
    "                     min_child_weight= 10,\n",
    "                     n_estimators= 50,                     \n",
    "                     subsample= 0.9)"
   ]
  },
  {
   "cell_type": "code",
   "execution_count": 224,
   "metadata": {},
   "outputs": [
    {
     "name": "stderr",
     "output_type": "stream",
     "text": [
      "/opt/conda/lib/python3.6/site-packages/sklearn/preprocessing/label.py:219: DataConversionWarning: A column-vector y was passed when a 1d array was expected. Please change the shape of y to (n_samples, ), for example using ravel().\n",
      "  y = column_or_1d(y, warn=True)\n",
      "/opt/conda/lib/python3.6/site-packages/sklearn/preprocessing/label.py:252: DataConversionWarning: A column-vector y was passed when a 1d array was expected. Please change the shape of y to (n_samples, ), for example using ravel().\n",
      "  y = column_or_1d(y, warn=True)\n"
     ]
    },
    {
     "data": {
      "text/plain": [
       "XGBClassifier(base_score=0.5, booster='gbtree', colsample_bylevel=1,\n",
       "       colsample_bytree=1, gamma=0, learning_rate=0.01, max_delta_step=0,\n",
       "       max_depth=15, min_child_weight=10, missing=None, n_estimators=50,\n",
       "       n_jobs=1, nthread=None, objective='binary:logistic', random_state=0,\n",
       "       reg_alpha=0, reg_lambda=1, scale_pos_weight=1, seed=None,\n",
       "       silent=True, subsample=0.9)"
      ]
     },
     "execution_count": 224,
     "metadata": {},
     "output_type": "execute_result"
    }
   ],
   "source": [
    "xgb.fit(X_train,y_train)"
   ]
  },
  {
   "cell_type": "code",
   "execution_count": 225,
   "metadata": {},
   "outputs": [
    {
     "data": {
      "text/plain": [
       "0.6999375"
      ]
     },
     "execution_count": 225,
     "metadata": {},
     "output_type": "execute_result"
    }
   ],
   "source": [
    "xgb.score(X_train,y_train)  "
   ]
  },
  {
   "cell_type": "code",
   "execution_count": 221,
   "metadata": {},
   "outputs": [],
   "source": [
    "xgb_pred = xgb.predict(X_val)"
   ]
  },
  {
   "cell_type": "code",
   "execution_count": 222,
   "metadata": {},
   "outputs": [
    {
     "name": "stdout",
     "output_type": "stream",
     "text": [
      "Precision: [1. 0.]\n",
      "Recall: [0.702375 0.      ]\n",
      "F1 score: [0.82517072 0.        ]\n"
     ]
    },
    {
     "name": "stderr",
     "output_type": "stream",
     "text": [
      "/opt/conda/lib/python3.6/site-packages/sklearn/metrics/classification.py:1145: UndefinedMetricWarning: Recall is ill-defined and being set to 0.0 in labels with no true samples.\n",
      "  'recall', 'true', average, warn_for)\n",
      "/opt/conda/lib/python3.6/site-packages/sklearn/metrics/classification.py:1145: UndefinedMetricWarning: F-score is ill-defined and being set to 0.0 in labels with no true samples.\n",
      "  'recall', 'true', average, warn_for)\n"
     ]
    }
   ],
   "source": [
    "print(\"Precision:\",metrics.precision_score(xgb_pred,y_val,average=None))\n",
    "\n",
    "# Model Recall: what percentage of positive tuples are la"
   ]
  },
  {
   "cell_type": "code",
   "execution_count": 1,
   "metadata": {},
   "outputs": [
    {
     "ename": "NameError",
     "evalue": "name 'accuracy_score' is not defined",
     "output_type": "error",
     "traceback": [
      "\u001b[0;31m---------------------------------------------------------------------------\u001b[0m",
      "\u001b[0;31mNameError\u001b[0m                                 Traceback (most recent call last)",
      "\u001b[0;32m<ipython-input-1-b123e04c5193>\u001b[0m in \u001b[0;36m<module>\u001b[0;34m\u001b[0m\n\u001b[0;32m----> 1\u001b[0;31m \u001b[0maccuracy_score\u001b[0m\u001b[0;34m(\u001b[0m\u001b[0my_test\u001b[0m\u001b[0;34m,\u001b[0m \u001b[0my_pred\u001b[0m\u001b[0;34m)\u001b[0m\u001b[0;34m\u001b[0m\u001b[0;34m\u001b[0m\u001b[0m\n\u001b[0m",
      "\u001b[0;31mNameError\u001b[0m: name 'accuracy_score' is not defined"
     ]
    }
   ],
   "source": [
    "accuracy_score(y_test, y_pred)"
   ]
  },
  {
   "cell_type": "code",
   "execution_count": 6,
   "metadata": {},
   "outputs": [],
   "source": [
    "import json\n",
    "F1Fraud = \"39.0\"\n",
    "F1Normal = \"59.0\"\n",
    "data = {\"F1 Fraud\":F1Fraud,\"F1 Normal\":F1Normal, \"model\": \"SVM\"}\n",
    "jstr = json.dumps(data)\n",
    "\n",
    "with open('F1.json', 'w') as outfile: \n",
    "    json.dumps(data)"
   ]
  },
  {
   "cell_type": "code",
   "execution_count": 3,
   "metadata": {},
   "outputs": [
    {
     "ename": "NameError",
     "evalue": "name 'metrics' is not defined",
     "output_type": "error",
     "traceback": [
      "\u001b[0;31m---------------------------------------------------------------------------\u001b[0m",
      "\u001b[0;31mNameError\u001b[0m                                 Traceback (most recent call last)",
      "\u001b[0;32m<ipython-input-3-5751d957eb23>\u001b[0m in \u001b[0;36m<module>\u001b[0;34m\u001b[0m\n\u001b[0;32m----> 1\u001b[0;31m \u001b[0mtemp1\u001b[0m \u001b[0;34m=\u001b[0m \u001b[0mmetrics\u001b[0m\u001b[0;34m.\u001b[0m\u001b[0mf1_score\u001b[0m\u001b[0;34m(\u001b[0m\u001b[0my_val\u001b[0m\u001b[0;34m,\u001b[0m\u001b[0mpred\u001b[0m\u001b[0;34m,\u001b[0m\u001b[0maverage\u001b[0m\u001b[0;34m=\u001b[0m\u001b[0;32mNone\u001b[0m\u001b[0;34m)\u001b[0m\u001b[0;34m[\u001b[0m\u001b[0;36m1\u001b[0m\u001b[0;34m]\u001b[0m\u001b[0;34m\u001b[0m\u001b[0;34m\u001b[0m\u001b[0m\n\u001b[0m\u001b[1;32m      2\u001b[0m \u001b[0mtemp2\u001b[0m \u001b[0;34m=\u001b[0m \u001b[0mmetrics\u001b[0m\u001b[0;34m.\u001b[0m\u001b[0mf1_score\u001b[0m\u001b[0;34m(\u001b[0m\u001b[0my_val\u001b[0m\u001b[0;34m,\u001b[0m\u001b[0mpred\u001b[0m\u001b[0;34m,\u001b[0m\u001b[0maverage\u001b[0m\u001b[0;34m=\u001b[0m\u001b[0;32mNone\u001b[0m\u001b[0;34m)\u001b[0m\u001b[0;34m[\u001b[0m\u001b[0;36m0\u001b[0m\u001b[0;34m]\u001b[0m\u001b[0;34m\u001b[0m\u001b[0;34m\u001b[0m\u001b[0m\n\u001b[1;32m      3\u001b[0m \u001b[0;34m\u001b[0m\u001b[0m\n\u001b[1;32m      4\u001b[0m \u001b[0;31m# F1Fraud= temp1*100\u001b[0m\u001b[0;34m\u001b[0m\u001b[0;34m\u001b[0m\u001b[0;34m\u001b[0m\u001b[0m\n\u001b[1;32m      5\u001b[0m \u001b[0;31m# F1Normal= temp2*100\u001b[0m\u001b[0;34m\u001b[0m\u001b[0;34m\u001b[0m\u001b[0;34m\u001b[0m\u001b[0m\n",
      "\u001b[0;31mNameError\u001b[0m: name 'metrics' is not defined"
     ]
    }
   ],
   "source": [
    "temp1 = metrics.f1_score(y_val,pred,average=None)[1]\n",
    "temp2 = metrics.f1_score(y_val,pred,average=None)[0]\n",
    "\n",
    "# F1Fraud= temp1*100\n",
    "# F1Normal= temp2*100\n",
    "\n",
    "\n",
    "F1Fraud = str(round(temp1, 2)*100)\n",
    "F1Normal = str(round(temp2, 2)*100)\n",
    "\n",
    "\n",
    "print(F1Fraud,F1Normal,sep=\"\\n\")"
   ]
  },
  {
   "cell_type": "code",
   "execution_count": 8,
   "metadata": {},
   "outputs": [
    {
     "name": "stdout",
     "output_type": "stream",
     "text": [
      "{'f1_fraud': 39, 'f1_normal': 59, 'model': 'SVM'}\n"
     ]
    }
   ],
   "source": [
    "import json\n",
    "\n",
    "f1_fraud = 39\n",
    "f1_normal = 59\n",
    "data = {\n",
    "    'f1_fraud': f1_fraud,\n",
    "    'f1_normal': f1_normal,\n",
    "    'model': 'SVM'\n",
    "}\n",
    "\n",
    "\n",
    "with open(\"data_file.json\", \"w\") as write_file:\n",
    "    json.dump(data, write_file)\n",
    "    \n",
    "with open(\"data_file.json\", \"r\") as read_file:\n",
    "    data = json.load(read_file)\n",
    "    \n",
    "print(data)"
   ]
  },
  {
   "cell_type": "code",
   "execution_count": null,
   "metadata": {},
   "outputs": [],
   "source": []
  }
 ],
 "metadata": {
  "kernelspec": {
   "display_name": "Python 3",
   "language": "python",
   "name": "python3"
  },
  "language_info": {
   "codemirror_mode": {
    "name": "ipython",
    "version": 3
   },
   "file_extension": ".py",
   "mimetype": "text/x-python",
   "name": "python",
   "nbconvert_exporter": "python",
   "pygments_lexer": "ipython3",
   "version": "3.7.1"
  }
 },
 "nbformat": 4,
 "nbformat_minor": 2
}
